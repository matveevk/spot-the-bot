{
  "nbformat": 4,
  "nbformat_minor": 0,
  "metadata": {
    "kernelspec": {
      "display_name": "Python 3",
      "language": "python",
      "name": "python3"
    },
    "language_info": {
      "codemirror_mode": {
        "name": "ipython",
        "version": 3
      },
      "file_extension": ".py",
      "mimetype": "text/x-python",
      "name": "python",
      "nbconvert_exporter": "python",
      "pygments_lexer": "ipython3",
      "version": "3.7.6"
    },
    "colab": {
      "name": "MyTextGen.ipynb",
      "provenance": [],
      "collapsed_sections": [],
      "toc_visible": true
    }
  },
  "cells": [
    {
      "cell_type": "markdown",
      "metadata": {
        "id": "J3v-AqBP25Gk"
      },
      "source": [
        "# Char-based text generation with LSTM"
      ]
    },
    {
      "cell_type": "code",
      "metadata": {
        "id": "Lr1W8QZo25Gr"
      },
      "source": [
        "from collections import Counter\n",
        "\n",
        "import torch\n",
        "import torch.nn as nn\n",
        "import torch.nn.functional as F\n",
        "import numpy as np\n",
        "import pandas as pd\n",
        "import re"
      ],
      "execution_count": null,
      "outputs": []
    },
    {
      "cell_type": "code",
      "metadata": {
        "colab": {
          "base_uri": "https://localhost:8080/"
        },
        "id": "N9xD1i3K3r_T",
        "outputId": "787dcba1-ccee-4f77-e544-34742a4f1b3c"
      },
      "source": [
        "from google.colab import drive\n",
        "drive.mount('/content/drive')"
      ],
      "execution_count": null,
      "outputs": [
        {
          "output_type": "stream",
          "text": [
            "Mounted at /content/drive\n"
          ],
          "name": "stdout"
        }
      ]
    },
    {
      "cell_type": "code",
      "metadata": {
        "colab": {
          "base_uri": "https://localhost:8080/"
        },
        "id": "eK8sCB48PwZJ",
        "outputId": "5174f7dc-6926-458e-90fb-843a4f2007a8"
      },
      "source": [
        "from sqlalchemy import create_engine as ce\n",
        "from sqlalchemy import inspect\n",
        "from pathlib import Path\n",
        "\n",
        "# database from https://www.kaggle.com/raynardj/starter-classic-english-literature\n",
        "\n",
        "DATA= Path('/content/drive/MyDrive/EnglishLiterature/books.db')\n",
        "\n",
        "engine = ce('sqlite:///'+str(DATA))\n",
        "inspector = inspect(engine)\n",
        "inspector.get_table_names()"
      ],
      "execution_count": null,
      "outputs": [
        {
          "output_type": "execute_result",
          "data": {
            "text/plain": [
              "['authors', 'book_file', 'book_original', 'books', 'text_files']"
            ]
          },
          "metadata": {
            "tags": []
          },
          "execution_count": 3
        }
      ]
    },
    {
      "cell_type": "code",
      "metadata": {
        "colab": {
          "base_uri": "https://localhost:8080/",
          "height": 948
        },
        "id": "Fag0RXV4P6RX",
        "outputId": "fbd45730-4c58-4444-df9a-6fc4c46a92f8"
      },
      "source": [
        "books_df = pd.read_sql('books', con=engine)\n",
        "authors_df = pd.read_sql('authors', con=engine)\n",
        "authors_df = pd.read_sql('authors', con=engine)\n",
        "text_files = pd.read_sql('text_files', con=engine)\n",
        "\n",
        "# authors_df.death[authors_df.death < 10000].max()\n",
        "# text_files.fmt.value_counts()\n",
        "authors_df[authors_df.born < 10000].sort_values(by='born', ascending=False).head(30)"
      ],
      "execution_count": null,
      "outputs": [
        {
          "output_type": "execute_result",
          "data": {
            "text/html": [
              "<div>\n",
              "<style scoped>\n",
              "    .dataframe tbody tr th:only-of-type {\n",
              "        vertical-align: middle;\n",
              "    }\n",
              "\n",
              "    .dataframe tbody tr th {\n",
              "        vertical-align: top;\n",
              "    }\n",
              "\n",
              "    .dataframe thead th {\n",
              "        text-align: right;\n",
              "    }\n",
              "</style>\n",
              "<table border=\"1\" class=\"dataframe\">\n",
              "  <thead>\n",
              "    <tr style=\"text-align: right;\">\n",
              "      <th></th>\n",
              "      <th>index</th>\n",
              "      <th>author</th>\n",
              "      <th>born</th>\n",
              "      <th>death</th>\n",
              "    </tr>\n",
              "  </thead>\n",
              "  <tbody>\n",
              "    <tr>\n",
              "      <th>82</th>\n",
              "      <td>82</td>\n",
              "      <td>F.scott Fitzgerald</td>\n",
              "      <td>1896</td>\n",
              "      <td>1940</td>\n",
              "    </tr>\n",
              "    <tr>\n",
              "      <th>84</th>\n",
              "      <td>84</td>\n",
              "      <td>Frances Hodgson Burnett</td>\n",
              "      <td>1894</td>\n",
              "      <td>1924</td>\n",
              "    </tr>\n",
              "    <tr>\n",
              "      <th>4</th>\n",
              "      <td>4</td>\n",
              "      <td>Alan Seeger</td>\n",
              "      <td>1888</td>\n",
              "      <td>1916</td>\n",
              "    </tr>\n",
              "    <tr>\n",
              "      <th>173</th>\n",
              "      <td>173</td>\n",
              "      <td>Katherine Mansfield</td>\n",
              "      <td>1888</td>\n",
              "      <td>1923</td>\n",
              "    </tr>\n",
              "    <tr>\n",
              "      <th>230</th>\n",
              "      <td>230</td>\n",
              "      <td>Rupert C.brooke</td>\n",
              "      <td>1887</td>\n",
              "      <td>1915</td>\n",
              "    </tr>\n",
              "    <tr>\n",
              "      <th>168</th>\n",
              "      <td>168</td>\n",
              "      <td>Joyce Kilmer</td>\n",
              "      <td>1886</td>\n",
              "      <td>19187</td>\n",
              "    </tr>\n",
              "    <tr>\n",
              "      <th>134</th>\n",
              "      <td>134</td>\n",
              "      <td>Hugh Lofting</td>\n",
              "      <td>1886</td>\n",
              "      <td>1947</td>\n",
              "    </tr>\n",
              "    <tr>\n",
              "      <th>236</th>\n",
              "      <td>236</td>\n",
              "      <td>Sara Teasdale</td>\n",
              "      <td>1884</td>\n",
              "      <td>1933</td>\n",
              "    </tr>\n",
              "    <tr>\n",
              "      <th>160</th>\n",
              "      <td>160</td>\n",
              "      <td>John Maynard Keynes</td>\n",
              "      <td>1883</td>\n",
              "      <td>1946</td>\n",
              "    </tr>\n",
              "    <tr>\n",
              "      <th>117</th>\n",
              "      <td>117</td>\n",
              "      <td>Hendrik Van Loon</td>\n",
              "      <td>1882</td>\n",
              "      <td>1944</td>\n",
              "    </tr>\n",
              "    <tr>\n",
              "      <th>143</th>\n",
              "      <td>143</td>\n",
              "      <td>James Joyce</td>\n",
              "      <td>1882</td>\n",
              "      <td>1941</td>\n",
              "    </tr>\n",
              "    <tr>\n",
              "      <th>269</th>\n",
              "      <td>269</td>\n",
              "      <td>Virginia Woolf</td>\n",
              "      <td>1882</td>\n",
              "      <td>1941</td>\n",
              "    </tr>\n",
              "    <tr>\n",
              "      <th>183</th>\n",
              "      <td>183</td>\n",
              "      <td>Lytton Strachey</td>\n",
              "      <td>1880</td>\n",
              "      <td>1932</td>\n",
              "    </tr>\n",
              "    <tr>\n",
              "      <th>238</th>\n",
              "      <td>238</td>\n",
              "      <td>Sarojini Naidu</td>\n",
              "      <td>1879</td>\n",
              "      <td>1949</td>\n",
              "    </tr>\n",
              "    <tr>\n",
              "      <th>266</th>\n",
              "      <td>266</td>\n",
              "      <td>Vachel Lindsay</td>\n",
              "      <td>1879</td>\n",
              "      <td>1931</td>\n",
              "    </tr>\n",
              "    <tr>\n",
              "      <th>57</th>\n",
              "      <td>57</td>\n",
              "      <td>Don Marquis</td>\n",
              "      <td>1878</td>\n",
              "      <td>1937</td>\n",
              "    </tr>\n",
              "    <tr>\n",
              "      <th>239</th>\n",
              "      <td>239</td>\n",
              "      <td>Sherwood Anderson</td>\n",
              "      <td>1876</td>\n",
              "      <td>1941</td>\n",
              "    </tr>\n",
              "    <tr>\n",
              "      <th>139</th>\n",
              "      <td>139</td>\n",
              "      <td>Jack London</td>\n",
              "      <td>1876</td>\n",
              "      <td>1916</td>\n",
              "    </tr>\n",
              "    <tr>\n",
              "      <th>152</th>\n",
              "      <td>152</td>\n",
              "      <td>John Buchan</td>\n",
              "      <td>1875</td>\n",
              "      <td>1940</td>\n",
              "    </tr>\n",
              "    <tr>\n",
              "      <th>97</th>\n",
              "      <td>97</td>\n",
              "      <td>G.k.chesterton</td>\n",
              "      <td>1874</td>\n",
              "      <td>1936</td>\n",
              "    </tr>\n",
              "    <tr>\n",
              "      <th>12</th>\n",
              "      <td>12</td>\n",
              "      <td>Amy Lowell</td>\n",
              "      <td>1874</td>\n",
              "      <td>1925</td>\n",
              "    </tr>\n",
              "    <tr>\n",
              "      <th>176</th>\n",
              "      <td>176</td>\n",
              "      <td>L.maud Montgomery</td>\n",
              "      <td>1874</td>\n",
              "      <td>1942</td>\n",
              "    </tr>\n",
              "    <tr>\n",
              "      <th>27</th>\n",
              "      <td>27</td>\n",
              "      <td>B.m.bower</td>\n",
              "      <td>1874</td>\n",
              "      <td>1940</td>\n",
              "    </tr>\n",
              "    <tr>\n",
              "      <th>276</th>\n",
              "      <td>276</td>\n",
              "      <td>Willa Cather</td>\n",
              "      <td>1873</td>\n",
              "      <td>1947</td>\n",
              "    </tr>\n",
              "    <tr>\n",
              "      <th>245</th>\n",
              "      <td>245</td>\n",
              "      <td>Stewart Edward White</td>\n",
              "      <td>1873</td>\n",
              "      <td>1946</td>\n",
              "    </tr>\n",
              "    <tr>\n",
              "      <th>291</th>\n",
              "      <td>291</td>\n",
              "      <td>Zane Gray</td>\n",
              "      <td>1872</td>\n",
              "      <td>1939</td>\n",
              "    </tr>\n",
              "    <tr>\n",
              "      <th>138</th>\n",
              "      <td>138</td>\n",
              "      <td>J.m.synge</td>\n",
              "      <td>1871</td>\n",
              "      <td>1909</td>\n",
              "    </tr>\n",
              "    <tr>\n",
              "      <th>244</th>\n",
              "      <td>244</td>\n",
              "      <td>Stephen Crane</td>\n",
              "      <td>1871</td>\n",
              "      <td>1900</td>\n",
              "    </tr>\n",
              "    <tr>\n",
              "      <th>247</th>\n",
              "      <td>247</td>\n",
              "      <td>Theodore Dreiser</td>\n",
              "      <td>1871</td>\n",
              "      <td>1945</td>\n",
              "    </tr>\n",
              "    <tr>\n",
              "      <th>89</th>\n",
              "      <td>89</td>\n",
              "      <td>Frank Norris</td>\n",
              "      <td>1870</td>\n",
              "      <td>1902</td>\n",
              "    </tr>\n",
              "  </tbody>\n",
              "</table>\n",
              "</div>"
            ],
            "text/plain": [
              "     index                   author  born  death\n",
              "82      82       F.scott Fitzgerald  1896   1940\n",
              "84      84  Frances Hodgson Burnett  1894   1924\n",
              "4        4              Alan Seeger  1888   1916\n",
              "173    173      Katherine Mansfield  1888   1923\n",
              "230    230          Rupert C.brooke  1887   1915\n",
              "168    168             Joyce Kilmer  1886  19187\n",
              "134    134             Hugh Lofting  1886   1947\n",
              "236    236            Sara Teasdale  1884   1933\n",
              "160    160    John Maynard Keynes    1883   1946\n",
              "117    117         Hendrik Van Loon  1882   1944\n",
              "143    143              James Joyce  1882   1941\n",
              "269    269           Virginia Woolf  1882   1941\n",
              "183    183          Lytton Strachey  1880   1932\n",
              "238    238           Sarojini Naidu  1879   1949\n",
              "266    266           Vachel Lindsay  1879   1931\n",
              "57      57              Don Marquis  1878   1937\n",
              "239    239        Sherwood Anderson  1876   1941\n",
              "139    139              Jack London  1876   1916\n",
              "152    152              John Buchan  1875   1940\n",
              "97      97           G.k.chesterton  1874   1936\n",
              "12      12               Amy Lowell  1874   1925\n",
              "176    176        L.maud Montgomery  1874   1942\n",
              "27      27                B.m.bower  1874   1940\n",
              "276    276             Willa Cather  1873   1947\n",
              "245    245     Stewart Edward White  1873   1946\n",
              "291    291                Zane Gray  1872   1939\n",
              "138    138                J.m.synge  1871   1909\n",
              "244    244            Stephen Crane  1871   1900\n",
              "247    247         Theodore Dreiser  1871   1945\n",
              "89      89             Frank Norris  1870   1902"
            ]
          },
          "metadata": {
            "tags": []
          },
          "execution_count": 4
        }
      ]
    },
    {
      "cell_type": "code",
      "metadata": {
        "id": "p2lPk51HQv2r"
      },
      "source": [
        "from sqlalchemy.ext.declarative import declarative_base\n",
        "from sqlalchemy import Column, Integer, String, Text, ForeignKey\n",
        "from sqlalchemy.orm import relationship\n",
        "Base = declarative_base()\n",
        "\n",
        "def getSession(engine):\n",
        "    from sqlalchemy.orm import sessionmaker\n",
        "    return sessionmaker()(bind=engine)\n",
        "\n",
        "class authorModel(Base):\n",
        "    __tablename__ = 'authors'\n",
        "    index = Column(Integer, primary_key = True)\n",
        "    author = Column(Text)\n",
        "    born = Column(Integer)\n",
        "    death = Column(Integer)\n",
        "    \n",
        "    def __repr__(self):\n",
        "        return \"<Author: %s, %s to %s>\"%(self.author,self.born_year,self.death_year)\n",
        "    \n",
        "    @property\n",
        "    def born_year(self):\n",
        "        if self.born < 9999: return self.born\n",
        "        else: return \"No Record\"\n",
        "\n",
        "    @property\n",
        "    def death_year(self):\n",
        "        if self.death < 9999: return self.death\n",
        "        else: return \"No Record\"\n",
        "\n",
        "class chapterModel(Base):\n",
        "    __tablename__ = \"text_files\"\n",
        "    index = Column(Integer, primary_key = True)\n",
        "    fmt = Column(Text) # Format\n",
        "    text = Column(Text) # Text content\n",
        "    \n",
        "    def __repr__(self):\n",
        "        return \"book file:%s\"%(self.index)\n",
        "    \n",
        "class bookModel(Base):\n",
        "    __tablename__ = \"books\"\n",
        "    book_id = Column(Integer, primary_key = True)\n",
        "    bookname = Column(Text)\n",
        "    cate1 = Column(Text)\n",
        "    author_id = Column(Integer,ForeignKey(authorModel.index))\n",
        "    author = relationship(authorModel)\n",
        "    \n",
        "    def __repr__(self):\n",
        "        return \"<Book: %s>\"%(self.bookname)\n",
        "    \n",
        "class bookChapterModel(Base):\n",
        "    __tablename__ = \"book_file\"\n",
        "    index = Column(Integer, primary_key = True)\n",
        "    file_id = Column(Integer,ForeignKey(chapterModel.index))\n",
        "    book_id = Column(Integer,ForeignKey(bookModel.book_id))\n",
        "    file = relationship(chapterModel)\n",
        "    book = relationship(bookModel)\n",
        "    chapter = Column(Text())\n",
        "\n",
        "    def __repr__(self):\n",
        "        return \"Book:%s with File:%s, Chapter:%s\"%(self.book,self.file,self.chapter)\n",
        "    \n",
        "bookModel.maps = relationship(bookChapterModel)\n",
        "bookModel.chapters = relationship(chapterModel, secondary = \"book_file\")\n",
        "chapterModel.books = relationship(bookModel, secondary = \"book_file\")\n",
        "chapterModel.maps = relationship(bookChapterModel)\n",
        "authorModel.books = relationship(bookModel)"
      ],
      "execution_count": null,
      "outputs": []
    },
    {
      "cell_type": "code",
      "metadata": {
        "colab": {
          "base_uri": "https://localhost:8080/"
        },
        "id": "lz7J_gw0RRQ3",
        "outputId": "365ace4c-d70e-4691-cb1a-f54b4a3a0686"
      },
      "source": [
        "sess = getSession(engine)\n",
        "sess.query(authorModel).all()[:5]"
      ],
      "execution_count": null,
      "outputs": [
        {
          "output_type": "execute_result",
          "data": {
            "text/plain": [
              "[<Author: Adam Ferguson, 1723 to 1816>,\n",
              " <Author: Adam Smith  , 1723 to 1790>,\n",
              " <Author: Aeschylus, 525 to No Record>,\n",
              " <Author: Aesop, No Record to No Record>,\n",
              " <Author: Alan Seeger, 1888 to 1916>]"
            ]
          },
          "metadata": {
            "tags": []
          },
          "execution_count": 38
        }
      ]
    },
    {
      "cell_type": "code",
      "metadata": {
        "colab": {
          "base_uri": "https://localhost:8080/"
        },
        "id": "ZHBBFKvJW22E",
        "outputId": "aff7e18b-0882-474f-ee4b-015cea0b9529"
      },
      "source": [
        "def searchAuthor(kw):\n",
        "    return authors_df[authors_df.author.str.contains(kw)]\n",
        "\n",
        "def searchBookByAuthor(kw):\n",
        "    author_result = list(searchAuthor(kw).index)\n",
        "    return books_df[books_df.author_id.isin(author_result)]\n",
        "\n",
        "NAME = 'Jack London'  # 'Leo Tolstoy'  # 'Zane Gray'\n",
        "\n",
        "print(searchBookByAuthor(NAME))\n",
        "print([text_files.iloc[i].fmt for i in searchBookByAuthor(NAME).book_id])\n",
        "\n",
        "for book_id in searchBookByAuthor(NAME).book_id:\n",
        "    if text_files.iloc[book_id].fmt == 'txt':\n",
        "        print(len(text_files.iloc[book_id].text.split()))"
      ],
      "execution_count": null,
      "outputs": [
        {
          "output_type": "stream",
          "text": [
            "      book_id  ...               cate1\n",
            "53         53  ...  English Literature\n",
            "114       114  ...  English Literature\n",
            "126       126  ...  English Literature\n",
            "277       277  ...  English Literature\n",
            "281       281  ...  English Literature\n",
            "336       336  ...  English Literature\n",
            "353       353  ...  English Literature\n",
            "376       376  ...  English Literature\n",
            "629       629  ...  English Literature\n",
            "638       638  ...  English Literature\n",
            "655       655  ...  English Literature\n",
            "709       709  ...  English Literature\n",
            "763       763  ...  English Literature\n",
            "774       774  ...  English Literature\n",
            "814       814  ...  English Literature\n",
            "816       816  ...  English Literature\n",
            "868       868  ...  English Literature\n",
            "878       878  ...  English Literature\n",
            "929       929  ...  English Literature\n",
            "942       942  ...  English Literature\n",
            "957       957  ...  English Literature\n",
            "986       986  ...  English Literature\n",
            "1065     1065  ...  English Literature\n",
            "1077     1077  ...  English Literature\n",
            "\n",
            "[24 rows x 4 columns]\n",
            "['txt', 'txt', 'txt', 'txt', 'txt', 'txt', 'txt', 'txt', 'txt', 'txt', 'txt', 'txt', 'txt', 'txt', 'html', 'txt', 'html', 'html', 'html', 'html', 'html', 'html', 'html', 'html']\n",
            "15508\n",
            "107096\n",
            "55719\n",
            "22874\n",
            "35115\n",
            "2021\n",
            "4256\n",
            "2030\n",
            "23974\n",
            "82270\n",
            "37181\n",
            "14457\n",
            "38158\n",
            "12255\n",
            "46455\n"
          ],
          "name": "stdout"
        }
      ]
    },
    {
      "cell_type": "code",
      "metadata": {
        "colab": {
          "base_uri": "https://localhost:8080/"
        },
        "id": "Y4bI7qTqmrrC",
        "outputId": "c547c09b-0f45-499d-e587-6741e25a5cbc"
      },
      "source": [
        "\n",
        "text_sample = ''\n",
        "for book_id in searchBookByAuthor(NAME).book_id:\n",
        "    if text_files.iloc[book_id].fmt == 'txt':\n",
        "        # print(text_files.iloc[book_id].text)\n",
        "        text_sample += re.sub(r'\\n\\s*\\n', '\\n', text_files.iloc[book_id].text)\n",
        "\n",
        "text_sample = re.sub(r' +', ' ', text_sample)\n",
        "print(text_sample[:1000])\n",
        "\n",
        "# test_author = sess.query(authorModel).filter_by(index=64).first()\n",
        "# test_author"
      ],
      "execution_count": null,
      "outputs": [
        {
          "output_type": "stream",
          "text": [
            "\n",
            " 420 BC\n",
            " THE CLOUDS\n",
            " by Aristophanes\n",
            " anonymous translator\n",
            " CHARACTERS IN THE PLAY\n",
            " STREPSIADES\n",
            " PHIDIPPIDES\n",
            " SERVANT OF STREPSIADES\n",
            " DISCIPLES OF SOCRATES\n",
            " SOCRATES\n",
            " JUST DISCOURSE\n",
            " UNJUST DISCOURSE\n",
            " PASIAS, a Money-lender\n",
            " AMYNIAS, another Money-lender\n",
            " CHORUS OF CLOUDS\n",
            "CLOUDS\n",
            " (SCENE:-In the background are two houses, that of Strepsiades and\n",
            " that of Socrates, the Thoughtery. The latter is small and dingy;\n",
            " the in, terior of the former is shown and two beds are seen, each\n",
            " occupied.)\n",
            " STREPSIADES (sitting up)\n",
            " GREAT gods! will these nights never end? will daylight never come?\n",
            "I heard the cock crow long ago and my slaves are snoring still! Ah! Ah!\n",
            "It wasn't like this formerly. Curses on the war! has it not done\n",
            "me ills enough? Now I may not even chastise my own slaves. Again\n",
            "there's this brave lad, who never wakes the whole long night, but,\n",
            "wrapped in his five coverlets, farts away to his heart's content.\n",
            "(He lies down) Come! let me nestle in well and snore too, if it be\n",
            "possible...\n"
          ],
          "name": "stdout"
        }
      ]
    },
    {
      "cell_type": "code",
      "metadata": {
        "colab": {
          "base_uri": "https://localhost:8080/"
        },
        "id": "5PlyT7UzaO2t",
        "outputId": "9f1c7956-eb16-4d25-e2fb-9d9d1b30a3cd"
      },
      "source": [
        "len(text_sample.split())"
      ],
      "execution_count": null,
      "outputs": [
        {
          "output_type": "execute_result",
          "data": {
            "text/plain": [
              "499369"
            ]
          },
          "metadata": {
            "tags": []
          },
          "execution_count": 144
        }
      ]
    },
    {
      "cell_type": "code",
      "metadata": {
        "id": "NZw0dCxY25Gr",
        "colab": {
          "base_uri": "https://localhost:8080/"
        },
        "outputId": "4db72a14-dd38-442d-dadc-969a38a46228"
      },
      "source": [
        "# TRAIN_TEXT_FILE_PATH = '/content/drive/MyDrive/EnglishLiterature/books.db'\n",
        "\n",
        "# with open(TRAIN_TEXT_FILE_PATH) as text_file:\n",
        "#     text_sample = text_file.readlines()\n",
        "# text_sample = ' '.join(text_sample)\n",
        "\n",
        "text_sample = '\\n '.join(text_sample.split('\\n'))\n",
        "\n",
        "def text_to_seq(text_sample):\n",
        "    char_counts = Counter(text_sample)\n",
        "    char_counts = sorted(char_counts.items(), key = lambda x: x[1], reverse=True)\n",
        "\n",
        "    sorted_chars = [char for char, _ in char_counts]\n",
        "    print(sorted_chars)\n",
        "    char_to_idx = {char: index for index, char in enumerate(sorted_chars)}\n",
        "    idx_to_char = {v: k for k, v in char_to_idx.items()}\n",
        "    sequence = np.array([char_to_idx[char] for char in text_sample])\n",
        "    \n",
        "    return sequence, char_to_idx, idx_to_char\n",
        "\n",
        "sequence, char_to_idx, idx_to_char = text_to_seq(text_sample)"
      ],
      "execution_count": null,
      "outputs": [
        {
          "output_type": "stream",
          "text": [
            "[' ', 'e', 't', 'a', 'o', 'n', 'i', 's', 'h', 'r', 'd', 'l', 'u', '\\n', 'c', 'm', 'f', 'w', 'g', 'y', ',', 'p', 'b', '.', 'v', 'k', '\"', 'I', '-', 'T', 'A', 'S', \"'\", ';', 'H', 'E', 'M', 'C', 'x', 'P', 'B', 'L', '!', 'O', 'W', 'D', '?', 'R', 'G', 'q', 'F', 'N', 'j', 'Y', 'z', ':', 'U', 'J', 'K', 'V', '_', '(', ')', '1', '|', 'Z', '8', '/', '0', '\\\\', '2', '[', ']', '3', 'X', 'Q', '7', '9', '>', '<', '4', '5', '6', '*', '=', '+', '^', '#', '&', '{', '}', '`']\n"
          ],
          "name": "stdout"
        }
      ]
    },
    {
      "cell_type": "code",
      "metadata": {
        "id": "WbP6mNQd25Gs"
      },
      "source": [
        "SEQ_LEN = 256\n",
        "BATCH_SIZE = 16\n",
        "\n",
        "def get_batch(sequence):\n",
        "    trains = []\n",
        "    targets = []\n",
        "    for _ in range(BATCH_SIZE):\n",
        "        batch_start = np.random.randint(0, len(sequence) - SEQ_LEN)\n",
        "        chunk = sequence[batch_start: batch_start + SEQ_LEN]\n",
        "        train = torch.LongTensor(chunk[:-1]).view(-1, 1)\n",
        "        target = torch.LongTensor(chunk[1:]).view(-1, 1)\n",
        "        trains.append(train)\n",
        "        targets.append(target)\n",
        "    return torch.stack(trains, dim=0), torch.stack(targets, dim=0)"
      ],
      "execution_count": null,
      "outputs": []
    },
    {
      "cell_type": "code",
      "metadata": {
        "id": "5Sgommwm25Gs"
      },
      "source": [
        "def evaluate(model, char_to_idx, idx_to_char, start_text=' ', prediction_len=200, temp=0.3):\n",
        "    hidden = model.init_hidden()\n",
        "    idx_input = [char_to_idx[char] for char in start_text]\n",
        "    train = torch.LongTensor(idx_input).view(-1, 1, 1).to(device)\n",
        "    predicted_text = start_text\n",
        "    \n",
        "    _, hidden = model(train, hidden)\n",
        "        \n",
        "    inp = train[-1].view(-1, 1, 1)\n",
        "    \n",
        "    for i in range(prediction_len):\n",
        "        output, hidden = model(inp.to(device), hidden)\n",
        "        output_logits = output.cpu().data.view(-1)\n",
        "        p_next = F.softmax(output_logits / temp, dim=-1).detach().cpu().data.numpy()        \n",
        "        top_index = np.random.choice(len(char_to_idx), p=p_next)\n",
        "        inp = torch.LongTensor([top_index]).view(-1, 1, 1).to(device)\n",
        "        predicted_char = idx_to_char[top_index]\n",
        "        predicted_text += predicted_char\n",
        "    \n",
        "    return predicted_text"
      ],
      "execution_count": null,
      "outputs": []
    },
    {
      "cell_type": "code",
      "metadata": {
        "id": "NUeLbv2625Gt"
      },
      "source": [
        "class TextRNN(nn.Module):\n",
        "    \n",
        "    def __init__(self, input_size, hidden_size, embedding_size, n_layers=1):\n",
        "        super(TextRNN, self).__init__()\n",
        "        \n",
        "        self.input_size = input_size\n",
        "        self.hidden_size = hidden_size\n",
        "        self.embedding_size = embedding_size\n",
        "        self.n_layers = n_layers\n",
        "\n",
        "        self.encoder = nn.Embedding(self.input_size, self.embedding_size)\n",
        "        self.lstm = nn.LSTM(self.embedding_size, self.hidden_size, self.n_layers)\n",
        "        self.dropout = nn.Dropout(0.2)\n",
        "        self.fc = nn.Linear(self.hidden_size, self.input_size)\n",
        "        \n",
        "    def forward(self, x, hidden):\n",
        "        x = self.encoder(x).squeeze(2)\n",
        "        out, (ht1, ct1) = self.lstm(x, hidden)\n",
        "        out = self.dropout(out)\n",
        "        x = self.fc(out)\n",
        "        return x, (ht1, ct1)\n",
        "    \n",
        "    def init_hidden(self, batch_size=1):\n",
        "        return (torch.zeros(self.n_layers, batch_size, self.hidden_size, requires_grad=True).to(device),\n",
        "               torch.zeros(self.n_layers, batch_size, self.hidden_size, requires_grad=True).to(device))"
      ],
      "execution_count": null,
      "outputs": []
    },
    {
      "cell_type": "code",
      "metadata": {
        "id": "KZh3XgJ025Gt",
        "colab": {
          "base_uri": "https://localhost:8080/",
          "height": 1000
        },
        "outputId": "1162a1a3-da91-4c73-d8eb-27ad2bd0c94a"
      },
      "source": [
        "device = torch.device('cuda') if torch.cuda.is_available() else torch.device('cpu')\n",
        "model = TextRNN(input_size=len(idx_to_char), hidden_size=128, embedding_size=128, n_layers=2)\n",
        "model.to(device)\n",
        "\n",
        "criterion = nn.CrossEntropyLoss()\n",
        "optimizer = torch.optim.Adam(model.parameters(), lr=1e-2, amsgrad=True)\n",
        "scheduler = torch.optim.lr_scheduler.ReduceLROnPlateau(\n",
        "    optimizer, \n",
        "    patience=5, \n",
        "    verbose=True, \n",
        "    factor=0.5\n",
        ")\n",
        "\n",
        "n_epochs = 5000\n",
        "loss_avg = []\n",
        "\n",
        "for epoch in range(n_epochs):\n",
        "    model.train()\n",
        "    train, target = get_batch(sequence)\n",
        "    train = train.permute(1, 0, 2).to(device)\n",
        "    target = target.permute(1, 0, 2).to(device)\n",
        "    hidden = model.init_hidden(BATCH_SIZE)\n",
        "\n",
        "    output, hidden = model(train, hidden)\n",
        "    loss = criterion(output.permute(1, 2, 0), target.squeeze(-1).permute(1, 0))\n",
        "    \n",
        "    loss.backward()\n",
        "    optimizer.step()\n",
        "    optimizer.zero_grad()\n",
        "    \n",
        "    loss_avg.append(loss.item())\n",
        "    if len(loss_avg) >= 50:\n",
        "        mean_loss = np.mean(loss_avg)\n",
        "        print(f'Loss: {mean_loss}')\n",
        "        scheduler.step(mean_loss)\n",
        "        loss_avg = []\n",
        "        model.eval()\n",
        "        predicted_text = evaluate(model, char_to_idx, idx_to_char)\n",
        "        print(predicted_text)"
      ],
      "execution_count": null,
      "outputs": [
        {
          "output_type": "stream",
          "text": [
            "Loss: 2.7397478246688842\n",
            " of the the the the the the the the here the she the the of of in the and the and and and san be and on the the the mere and and the the bere the the the and of a the and the and the the and of the sar\n",
            "Loss: 2.1498679971694945\n",
            " hour farcan, the the rest of the dead the more and and the sot the protien that the sone the moress of the the prother the pard a brother the to the porite of the mong of the seer the as the of the pr\n",
            "Loss: 2.017552065849304\n",
            " And the see the for the pother the man the some and the and the some and the scanger of the sears of the so the beat of the song to the seppent with the seare of the seeper the stant his to the some a\n",
            "Loss: 1.9384882354736328\n",
            " were consile of the men and the presting to the cander a spear the for the conce the some the poing to have the conting of the seart in the some the carred the to the concentry of the his compers of t\n",
            "Loss: 1.8877447032928467\n",
            " To me and comperious the sent to the said the to more to the pool and the so the proper the stand the seat the concerions of the partion of the some and the some the pool of the strons the consult of \n",
            "Loss: 1.847822539806366\n",
            " of the sent the could be a speemed the could stranged the see the could the have a strange of the ground the could as the stranger of the could her a contions of the man the strack and the strange the\n",
            "Loss: 1.8144582056999206\n",
            " To the days of the constice of the face to the work of the state of the was a sack of the can the polition of the stear a ward of the state of the constity of the suppers, and the see the words of the\n",
            "Loss: 1.7892813301086425\n",
            " the goved the was man in the seemed the proving of the man considen the sunce the consies of the signed the some some one to the more the some said the been the such the man the part to a said the sta\n",
            "Loss: 1.7599545168876647\n",
            " But the stands of the things of the that was in the sense and the hands of a present the became that the tate which the probited to be a same a struck and the strange the said the day and the stands a\n",
            "Loss: 1.7453923892974854\n",
            " of the stood which the say the stoped the singer and and bean which was the case and the brother the say of the strong the say in the stranger of the stussed the and so the stand the came to be and so\n",
            "Loss: 1.7148615980148316\n",
            " The stread him to the say to the sander to the second with the passion of the took to the sack of the more and the man to the dead to the such the have the proper to some state of the words of the som\n",
            "Loss: 1.7224801397323608\n",
            " The strange of the world contrated the since the strange the sent of the word the stopped the are the are some with the sent which with a little of the strange and the little she is was which the and \n",
            "Loss: 1.6963105082511902\n",
            " The man be with the stranger of the end the see the strange the man the can to the contrance of the faminess of the man of the man the strange the more the strange the secured the flear the presition,\n",
            "Loss: 1.682513589859009\n",
            " Rouget the dear state of the that the suppose the served the serve the taken the are see the should be with the considerse of the see the people of the said the finess the see the street the world wit\n",
            "Loss: 1.6784248328208924\n",
            " And the solith the start of the constitution of the restrise of the solish to learn to the seemed the without was a strange that the start of the true and the same many consideration of the stand to t\n",
            "Loss: 1.6663817954063416\n",
            " The say to the strange to the great the compressed to his heart of the end of the man in the present to the see the man the great see the composed the stranger of the sight of the tood in the played y\n",
            "Loss: 1.649547336101532\n",
            " A Bere to see the the constituted the forth of the soldier of the slad of the reath of the soldier of the little for the son to the should the soldiers of the face of the stread to the same to the pre\n",
            "Loss: 1.6432880020141603\n",
            " To and some forth of the same and sent to a could some was not the see the seemed and some was the man son to second of the father of the sole to the count of the silence of the sole remark the stains\n"
          ],
          "name": "stdout"
        },
        {
          "output_type": "error",
          "ename": "KeyboardInterrupt",
          "evalue": "ignored",
          "traceback": [
            "\u001b[0;31m---------------------------------------------------------------------------\u001b[0m",
            "\u001b[0;31mKeyboardInterrupt\u001b[0m                         Traceback (most recent call last)",
            "\u001b[0;32m<ipython-input-149-b53c375fedd7>\u001b[0m in \u001b[0;36m<module>\u001b[0;34m()\u001b[0m\n\u001b[1;32m     25\u001b[0m     \u001b[0mloss\u001b[0m \u001b[0;34m=\u001b[0m \u001b[0mcriterion\u001b[0m\u001b[0;34m(\u001b[0m\u001b[0moutput\u001b[0m\u001b[0;34m.\u001b[0m\u001b[0mpermute\u001b[0m\u001b[0;34m(\u001b[0m\u001b[0;36m1\u001b[0m\u001b[0;34m,\u001b[0m \u001b[0;36m2\u001b[0m\u001b[0;34m,\u001b[0m \u001b[0;36m0\u001b[0m\u001b[0;34m)\u001b[0m\u001b[0;34m,\u001b[0m \u001b[0mtarget\u001b[0m\u001b[0;34m.\u001b[0m\u001b[0msqueeze\u001b[0m\u001b[0;34m(\u001b[0m\u001b[0;34m-\u001b[0m\u001b[0;36m1\u001b[0m\u001b[0;34m)\u001b[0m\u001b[0;34m.\u001b[0m\u001b[0mpermute\u001b[0m\u001b[0;34m(\u001b[0m\u001b[0;36m1\u001b[0m\u001b[0;34m,\u001b[0m \u001b[0;36m0\u001b[0m\u001b[0;34m)\u001b[0m\u001b[0;34m)\u001b[0m\u001b[0;34m\u001b[0m\u001b[0;34m\u001b[0m\u001b[0m\n\u001b[1;32m     26\u001b[0m \u001b[0;34m\u001b[0m\u001b[0m\n\u001b[0;32m---> 27\u001b[0;31m     \u001b[0mloss\u001b[0m\u001b[0;34m.\u001b[0m\u001b[0mbackward\u001b[0m\u001b[0;34m(\u001b[0m\u001b[0;34m)\u001b[0m\u001b[0;34m\u001b[0m\u001b[0;34m\u001b[0m\u001b[0m\n\u001b[0m\u001b[1;32m     28\u001b[0m     \u001b[0moptimizer\u001b[0m\u001b[0;34m.\u001b[0m\u001b[0mstep\u001b[0m\u001b[0;34m(\u001b[0m\u001b[0;34m)\u001b[0m\u001b[0;34m\u001b[0m\u001b[0;34m\u001b[0m\u001b[0m\n\u001b[1;32m     29\u001b[0m     \u001b[0moptimizer\u001b[0m\u001b[0;34m.\u001b[0m\u001b[0mzero_grad\u001b[0m\u001b[0;34m(\u001b[0m\u001b[0;34m)\u001b[0m\u001b[0;34m\u001b[0m\u001b[0;34m\u001b[0m\u001b[0m\n",
            "\u001b[0;32m/usr/local/lib/python3.7/dist-packages/torch/tensor.py\u001b[0m in \u001b[0;36mbackward\u001b[0;34m(self, gradient, retain_graph, create_graph, inputs)\u001b[0m\n\u001b[1;32m    243\u001b[0m                 \u001b[0mcreate_graph\u001b[0m\u001b[0;34m=\u001b[0m\u001b[0mcreate_graph\u001b[0m\u001b[0;34m,\u001b[0m\u001b[0;34m\u001b[0m\u001b[0;34m\u001b[0m\u001b[0m\n\u001b[1;32m    244\u001b[0m                 inputs=inputs)\n\u001b[0;32m--> 245\u001b[0;31m         \u001b[0mtorch\u001b[0m\u001b[0;34m.\u001b[0m\u001b[0mautograd\u001b[0m\u001b[0;34m.\u001b[0m\u001b[0mbackward\u001b[0m\u001b[0;34m(\u001b[0m\u001b[0mself\u001b[0m\u001b[0;34m,\u001b[0m \u001b[0mgradient\u001b[0m\u001b[0;34m,\u001b[0m \u001b[0mretain_graph\u001b[0m\u001b[0;34m,\u001b[0m \u001b[0mcreate_graph\u001b[0m\u001b[0;34m,\u001b[0m \u001b[0minputs\u001b[0m\u001b[0;34m=\u001b[0m\u001b[0minputs\u001b[0m\u001b[0;34m)\u001b[0m\u001b[0;34m\u001b[0m\u001b[0;34m\u001b[0m\u001b[0m\n\u001b[0m\u001b[1;32m    246\u001b[0m \u001b[0;34m\u001b[0m\u001b[0m\n\u001b[1;32m    247\u001b[0m     \u001b[0;32mdef\u001b[0m \u001b[0mregister_hook\u001b[0m\u001b[0;34m(\u001b[0m\u001b[0mself\u001b[0m\u001b[0;34m,\u001b[0m \u001b[0mhook\u001b[0m\u001b[0;34m)\u001b[0m\u001b[0;34m:\u001b[0m\u001b[0;34m\u001b[0m\u001b[0;34m\u001b[0m\u001b[0m\n",
            "\u001b[0;32m/usr/local/lib/python3.7/dist-packages/torch/autograd/__init__.py\u001b[0m in \u001b[0;36mbackward\u001b[0;34m(tensors, grad_tensors, retain_graph, create_graph, grad_variables, inputs)\u001b[0m\n\u001b[1;32m    145\u001b[0m     Variable._execution_engine.run_backward(\n\u001b[1;32m    146\u001b[0m         \u001b[0mtensors\u001b[0m\u001b[0;34m,\u001b[0m \u001b[0mgrad_tensors_\u001b[0m\u001b[0;34m,\u001b[0m \u001b[0mretain_graph\u001b[0m\u001b[0;34m,\u001b[0m \u001b[0mcreate_graph\u001b[0m\u001b[0;34m,\u001b[0m \u001b[0minputs\u001b[0m\u001b[0;34m,\u001b[0m\u001b[0;34m\u001b[0m\u001b[0;34m\u001b[0m\u001b[0m\n\u001b[0;32m--> 147\u001b[0;31m         allow_unreachable=True, accumulate_grad=True)  # allow_unreachable flag\n\u001b[0m\u001b[1;32m    148\u001b[0m \u001b[0;34m\u001b[0m\u001b[0m\n\u001b[1;32m    149\u001b[0m \u001b[0;34m\u001b[0m\u001b[0m\n",
            "\u001b[0;31mKeyboardInterrupt\u001b[0m: "
          ]
        }
      ]
    },
    {
      "cell_type": "code",
      "metadata": {
        "id": "PZ9CnVvE25Gt",
        "colab": {
          "base_uri": "https://localhost:8080/"
        },
        "outputId": "9a23286e-1040-4b13-cb94-6f529d512c0d"
      },
      "source": [
        "model.eval()\n",
        "\n",
        "for len_ in (500, 800, 1000, 2000, 3000, 5000, 10000, 20000):\n",
        "    predicted_text = evaluate(\n",
        "        model, \n",
        "        char_to_idx, \n",
        "        idx_to_char, \n",
        "        temp=0.3, \n",
        "        prediction_len=len_, \n",
        "        start_text='. '\n",
        "    )\n",
        "    with open('drive/MyDrive/2021coursework/bot_generated_texts/bot_london_len_{}.txt'.format(len_), 'w') as f:\n",
        "        print(predicted_text, file=f)\n",
        "    print(predicted_text)\n",
        "    print()"
      ],
      "execution_count": null,
      "outputs": [
        {
          "output_type": "stream",
          "text": [
            ". It was a considers, and all the late of the Come, the enderstanded the property of the belied of the property of the way and saw he was the little property of the compless the decried the property, and the world with the present was a man was and the sides and been not that should not a species and stander of the true into the first real did not the same the had not no property of the truth and subbit of the place of the place in the way and shall be seemed to strange and strange of the arms of \n",
            "\n",
            ". PHIDIPPIDES\n",
            "  What she said a dispeared of the sapposes of the same and shall the bange to the same to him the compless in the person. The species of the contrative in the brother the property of the disposition of the strange the rade of the bed and spective and man the present of the property of the stream, and the spection of the stright of a man and shall go that he had been distersters to the man in the little stander to seemed the man the subject in the present of the subbit of the property the day and desire to the present of the face of the light of the trouble of the place him and start of the species of the with a song to the man was can in the present of a spocked to the first too into the hand his brother with a came to the real of the taintage in the could not the compless wit\n",
            "\n",
            ". The commoney and the man to the way between the property.\n",
            " So the man in the thing to the common of the face of the man which the proposition of the strange in the proposition, and the winders of the reconting and find the stander of the real been a can been to the property of the strange of the dear and dispected by the loved the real of the man disting of the stander of the man and seemed the man and say in the cates in the proposition of the face of persent to the with the desire in the steep of the hand, and the strange the day some way and seems the strange the granders stood and the dispossible the seemed the little deceived the strange the compless of the definite and the could be a spreaded the chared and the trance be seemed of the specting the devil of the long the great has been seemed to the could be the disposed the arms of the compless the which man to the words with the circle to the spaces of the man and supposes had have species of the subject of the man with the part \n",
            "\n",
            ". STREPSIADES\n",
            "  What he had been seemed the treat of the bitter and man some provincess of the real of the subgies of the family with a spoke the same in the same that the song and man in the hands of the great shall be the proposition of your and see the little provinces of the solved to the dispected to the proposition of the persice and man the same of the subject of the standers of the compless the faint the what a read of the greaters of the subject of the same to sides to the little care of the sense of the sons and the rained the sense of the enderst of the man to the endured the damp to the property of the case of the present of the son of the property of the hands and his first suppose of the single of the strange to be stander and such a paler from the shade to his man to shall the was printing and real of the subject and and became the arms of the strange the change of the from the present the real proposition of the disposed the space were the was and could not a property of the sappeared the real and with the same and proposition and second and the subject of the same of the considers in a contrains, and the saudies the propers of the place and say with the words the day and the side of the present of a said the old stood of the were and shall be said the became proposition of the ranged to the specting the tarred of the true to the man of the sides and properting to the subbed to the can and the prospect for his ender the stander of the tall the became to the propositions of the come and the desport of the serves of the man space of the contranded and strange the come to the strange to the seemed by the property of the considers of the hand of the man with the experience of the brother the man with the way of the minds in the distances. The could be him the complain to the real of the find to the man in the property of the despect of the man were disposition of the sand of the table and the stready and being the faint to the passed the same to his seemed\n",
            "\n",
            ". The same that he have seemed to see this arms and song to the same to the same the man and stander of the compless of the same proposition of the first and the realish of the same to the disposed himself in she was the come in the man species and little could not a man the compartation of the arms of the from the more had been the steads the hands and spire of the princess the picting and speeper of the change the considers, and been and the find stander of the tooders and real of the formers of the same the painter of the sack of the old been in the armal took a something to the man and the stander in the raised a present of the man and the can been a considerly the could be property of the distorianing of the little beant the reading the part in the send of the specting to be slander of the property of the subject in the silence of the enderstanded to the passed and been the standed the arms of the sign to the brother was reparation of the species of the destrick and suppose many and come the passed to the can been a come to be a property of the property of the subject of the property of the respoltic to the seen and the sign better and the same and his more became and the man to the first and song of the are man the property the contrain to still the send of the one of the stander of the sight by the more to be a prospect the world, and the first with a thing to the prince of the great care and began to the sacriated the property of the passed to be present to say the brother disposed and between the considers of the man of the last be see the than the seen and the face to the was been the wander the stream and the stout in the could not a man and the world by the sides of his bed of the face of the shadest to the table and the realing to the change and for this property of a present of the stander of the prison the proposite and the draws of the and first thing face in the time the craces of the arming that the streams of the rade to the light of the strange of the hand the property of the back and the hands of the same to fire had beaution of the complared the contraries and one had been all the scarce of the dispainter of the baster and the bring the class of the sides and stander and began the servant was man of the same with the sides and the rain at the compless from the same and can be a considers, and his point with the first been seemed to say that it and can not all the silently the seen and strange of the arms, and the old standing of the compless of the cried the strange and some trance of the old have the back to the fable and the man in a considers of the man was a possessions of the come of the single and species and the stander was a part and his prospecting to the first through the shanders of the could the little than the real of the Come the substances of the instances of the monting of the praised the same and could be been say the man to the could not to the strange of the some of the old dispartices of the common to the s\n",
            "\n",
            ". POLUS. The some man in the species the man in the man to the could be light the companity of the same of the thing the same the first than the composite of the little and formed to the arms of the man to the compless of the happering and the little proper of his brother of the face of the contrative of the same to the property to the contrades, and the considers of the classed the sander and between been the brother to be that he was sing of the same that the seemed the are not such the words and present of the senter that the present of the man in the part of the same of the days of the seen the same like the face of a present to the strange of the come to the man and intermined the comportions of contrades of the little shall the strange and the same became and day and shall be strange the way and such a strange of the dispiration of the bed spaces of the compless shall be been seemed to the old suppose of the son of the are the strange of the sacriated that be said the contration of the same despect of the sides of the arms of the property to the could have see the distance of the with money of the winders of the most and seemed to say the proports of the experiences of the granding of the brother princess in the day the command of the propertial bring of the had the more of the strange and strange to the will not a man of the way was the proposition of the passed the despect of the faces and the strange of his seemed to the want that the discreased of the lay the intered his brother to make a possession in the ender the state of the send him the great shall be say the song of the grand of the man in the rain and like the contrative to the same the real of the most to the crack the subject of the little not a strange and the can considered to spected and seemed the great strange the old been a song to come of the defered to see the same and passed the same had not a man than the man in the had the hands and the strange to the came to the waits of the deceived the lamp in the brother stooders in the considered the words and the man with the are the came the compless and the town and man to the same to a most suppose of the property and some provised to the side of the raise and real of the are his considered the disting of the words and the destrick of the salders, the sir of the more disposition of the prospect to the first been the day to the same to the slame of the provincies of the same and contried to the subject of the song that the considers of the with a strange to the days and the day of the reading in the same the like a street of a devil property of the sole and say the presented the became for a way and some disting be such the should be part of the same and the hands the little man of the last contrative as a strange the strange the hand of the find the first and the will be a painter in the better four first real time the property with the part of the name of the schilippe of the exprison of the man to the great come of the way and the man and the man the subbed the man such a strange to the present of the subject in the has the barriage and the expeared to the man to the same to the new had be present of the song the hand to the subject of the man staint of the sland of man in the road of the world of the degree of the shall the strange of the passed to the come with the staintly the contrained the subject of the will be the considers with a bitter with the old see the common the told of the words in the subject of the search and son to the strange to the old come to the arms of the way of the streaded to the same to the man in the specied the faint which man and the expered to the that he say the second of the compless of the faint the same into the present for the sing and believe the law the death of the extrained the bright and began to the place and the back a spread of the life of the world of the propers of the sides of the come the way of the present and woman of the could be a baster by the sides of the steads with the way. The man in the see the words and the distance of the present the song to the land of the first one and said a provincess of the sides of the reading the compless to such a body of the sides of the days and see a scall the supposes and seemed to the song the real and property of the property of the species of the town the present of man the little would be a provision of the soul of the rights of the hands the with the comportion of the passions of the man and the hand and dispected to the present with the comports of the same to see the could searted the passed and the some for a some man in the same that the compless conteral of the same back in the hands and the seemed a strange of the arming of the same that he had been the compless and the sense of the first appeared by the true of the specting the species of the back the stander of the searted with the common it is a swift and the was have the same in the common of the brother to the bright of the present \n",
            "\n",
            ". STRANGER. I said the see the same of the seemed to the strange his lated by the dispain to the first of the reading and the back of the can seemed by the world, which he had seemed the house of the staint and the passed the saw his proceeding and the real of the commonstance of the sacring the man and the forming and the true man in the senting of the considers passed the stending to the property of the tried the come to the granders to say of the way to a dispossible in the brothers with the served to the stander to the shall be with the sort of the same man the two say the great had a strange in the dabber with the certain the subject of the compless the property of the persons of the strange and been a man with real been the spreated and began to the strange interest in the same man and the strange of the from the prospect of the stander of the considers, and the day be come and man with the same and seemed to make the disparticular provision of the sound and face to strange of the arming to the words the little been and stend of the standers, and the man had not that he say to the strange and which say the present to the man to the strange that the hands in the sense of the staintly the bed and the true and the way of the man to the soldier the complarate of the first strange and the same and the first that the top with the same to seemed him to be formed to the glance of his present the stopped and the same as a can to him of the spocked with the faint for the dispected to his commanding and the town the thing of the tongue was and man and first and come with the compless and the latter and the had the step of the hands with a part the stander with a man of the strange him and specied the shall be her princess of the train to the father had and the real of the came in the standers of the subbits of the words to the subject of the son with the change of the propertice of the present the pricting to real and some come to the great first treeders of the first the present that the subbit of the same than the hand to the same of the strick in the sense of the proposition of the present of the same to the which been the was and was to be the passed the real of the hand and the senside the seemed the can and strange to the commonsions in the words the disposed to say the side the same to be man said the words to the suppose of the armanting the seemed to the same the face and seemed in the man and the said to the strange and the compless so the faint the same the armary to come to the man the been and strange and the tried the come man in the song to be the little life of the searching the little reading of the like the cannot and still come of the compless and the little had some might and became of the last had have to standers with a find in the presented the subbing of the brother to be a street of the hand to the sard and been a man and the space better the first on the subject of the strange of him of the complarates and the sir. The compless to be saying and the great the prospecting dispart of the care to the green and the serve for the can be come the sapposes of the instances of the commonstituted the subbition of the propertical and the specting and the present and the pricting the hands the sacrison of the man to say the real better fitter of the way to be a considers, and the one and shouted it was a near the hand and the point that the doctor of the man of the way to the second and stood and the same in the first still the part in the than a subject that the can been the comport of the same to the first and the first contrain of the great one to the swind the great with the eyes of the great not the are and proper to the come to the same in the mind the town and subject to the way of the strange a more to the pracess and stander of the truth of the strange with the same of the back of the did the words the subject of the strange and the words and come was a subject of the send to himself the same for the could be better a sack and the room of the strange the descoing to partice of the light, and the same of the armart of the first in the stopped the man be specess of the way the real disposed the great the same the man in the considers of the same the hands with the countless and the something his present of the fance to the commander come of the hands of seemed to the stander man in the hand the same and some and the sides of the seculian and the present of the with a stander of the passed the same and began had seemed in the disparted in his arms, and himself to the proper to please of the part of the perceived the true between a man to the stander of the complay to the come and standing and the strange and stood in the shand the way in the sole disposed the stander of the strange him of the providenting to the property, and the service of the randing of the stander with the will not a minders of the will be the hand to his present of the except that the true to the man seemed the sight from the head the property and the see a despect of the endure of the same and his said to the brother with a come of the trees the proved to the could be him to the first beaution of the hands of the sons to the send of the real the man to the transpecting him, and the serve the first to be the comperied of the present of a considers of the compless to be and man had speek that he was the was heart the property of the comparted the realish of the are the man into the strick in the reals and was a sway say, and the servent of the father with the days of the sides of the property and the first to be the words and see with the case of the expect to the hand the subject that the said the than the man the laid a man to the real of the considers that with the standers of the words the man stander of the grand of his spection of the send and the with the man to the partical present of the send and the salm of the world with the subject to the disting of the moment and the song from the threated the compless such and the subject and the room of the place the present of the face and light in the dependers and the possessed the some of the same and the with the property of the real of the man in the way and steep the strange of the top and still the same property of the world of the real of the strange to the little seemed and sing and been a strange of the same to shall be the providented to the passed the same to the rulary of the dispossible to the words the same from the printing to the that the present of the armal town and seemed the dark that the slack of the face and the contrain of the solution of the servant to the commanding to the words the sand and the strange the subject of the considers was a princess that the little been been the can be a mother that a species and save the specise of the second of the first the companity of the commanders and the suber and began the share to the common the table and striggless and the spected the property. The little sides of his arms, and the man of the subject and spected to the man to the subject to the proposition of the prince of the greated the come by the stander of the come of the proper and property of the comporation of the endured a considered the face in the creased the far of the contrially with the man with the conduction of the contrance of the man had a disposed and the find to the disposition of the present to the contrated the proper of the spected the property and the can stearted the same and promise of the strange the hands to the little been the define to the subject of a came to the rain of the disting of the strained the with the property of the all that he say the man to the lands and the endured to give the minders of the hand of the came to the presently stander of the strange of the man to the seemed a painter by the concerning to be see the pointing her and the same the distingled to have spread of the dear to standers and the from the contrade of the conduct in the seemed to the face of the face of the came the hands of the same and the same be presently to the said the same and the last a sides of the compless of the man had asked the man to strights of the day, the from the slace in the souls of the days of the same and streaged the circle of the secret of the species and suppering the property and was and not the present of the hands\n",
            " the properting to the property of the words and the stander of the failly cried to the strange the side of his send the present of the stander of the days that the respect to the subbit of the same to be shall be proposition of a sand the specting that the more and did the same for his felt and the could be a strange to the sides of the trance of the distantly the sented to be supposes of the break to the staint the same had to see a spreters to the world with the subject to the real in the subject of the same descoing and the same and the dispart in the change with the and the expecting of the man and read his property of the will came and find the stander of the sides and spiritual of the secrice of the space of the same the town to the subject of the father the strange and the provincies to the tooder and down in the day of the real of the stopped the top and the girders of the light of the words of the complessed to the present and decie her the dispected of the brother than the man with the property of the replace of the sacring the became and the arming to be a strange to his confidence that the present, and face and the man was a grand and was not the same had a deal both of the brother property, he said the depress had been seemed the side and the was a proceeded to the reals to the strange the part to the strange the prisoned the come of the sight of the property of the find in the are and the species of the rooms of the painter the shall be proper and the could be the sent to the dispossible of the portening to be a sprang of the face in a thing have specied the little been some of the proposition of\n",
            "\n",
            ". The see the same the day and subject of the armation of the distance of the lamp of the contrance and not to the man and the property of the way of the three of the supper some men and say her came to see the proper and the little been the seemed was a said the send of the money of the great to such a can believe the same and man was three of the contrance of the sides of the face of the hand of the old compless and the harming and proper the cried to the land of the\n",
            " considers of the became the standers of the could not her to be should have some be man to the man and present in the sides to the compless and and supposes to shall be seemed the barned to be such a shall be a sides of the little and same that had seemed in the extrange with the comparated to the position of the sense of the compless and the seculation of the moment the news and the passed the way of the find the great cannot have not a strange and the little to the old come suddenly the supper of the words of the man to his proper with the single and the little and the town to the disting and the break of the beant and sing can been here the possessed to the same to will be a same to the strange the disting to say to the stander of the same his tried him of the deal of the salm to the send of the send and the considence of the words with the man was man to the outhor to face and the find to the property with the little had a streaked the same of the endured the seemed the provision of the can in the never present in the light the strick of the interminition of the sole with the that he had been in the enough a face and became of the without the man and been with a bed to seemed the secret, and stander to the spected the same things of the can and the man to the sight to the real the dear with the servent to be the specise of the standers of the subbition of the day and the property of the man to the commanding to the same to the proper and the man of his present the same the same with the student of the suppiness and best that the last as the eyes of the subject of the armary that the part the considers of the light the strange of the real and the bright to the property of the commonsions of a time with the compless and the considers in the with been that your seemed to the same way of the complain of the man to the contration of the stander and the back the proposition of the simple in the song that a same to be and present the little been and say to the send the same senters come of the endured the subject of the considers, and the prince of the faith and prince of the trance of the sack of his break the hand of the same and his seemed to the man and the man of the with one of the species with the brother of the man of the property of the considers of the regarded the send to the passed the strange of the old provincies of the change in the present of the words the month of the same the came the subbit disposition of the transsed the randers, the subject of the old have the can say the man as the same to the deterded and the town to the soped the old praised the same on the prospecting still the latter to the man in the could not a place of the sons of the little and with the subbit of the brother to the face and say the words the commanding the destance of the some say the subject to the compless of the respect to the subbit that the house and strange the property and specess to the arming to the contrary to be part the considers was the cried the considers, and a came the proposition of the song of the thing the last to the three man of the days of the space that the song of the stander of the man of the cried by the strange of the sign and sides of the first and say the send of his sight of the little had been the whand of the princess with the thing the prospect to be was been to see the man to the contration of the lay and stander of his brother than the subbed to the seen the princess of the more than the come of the same of the armal and real of the winder in the man in the back of the came of the song of the can the can has some been all the proposition of the brother stander of the time and dispart to the ways of the propiness to the same and was to stander and the arms and seemed the little can be heart the sides of the late of the strange of the rain of the than with the subbit of the sides of the norse of the complain of the man the distance of the fainted the long in the first instance of a read of the race of the property of the man to the sort of the soldier to the day and been stainted the present to the hand with the man in the proceeded by the proposition of the reconts of the man had been steps the crack of the passed the companied stander and the commander to be of the scarcess of the proposition of the sards and sight had a can been a seemed and single in the can come of the dispossible of the same and the same for the last to the common a little interest had not a strange of the same the strange of the property of the old been the straight of the came in the pricter and the man the considers and still the man the table and stander of the subject to the procept and passed the property of the secret of the present of the can shall be present the made the great his face of the man the little never princess of the man to be say the straight and say the was a man be and strange and his strange and man of the spected to the arming with the prospect of the seemed and the subbed to the sides and species of the arms, and some man to the same and stander of the compless to be to the stairto the greated and starming the man to the send the streading the part and the compless in the proportion of the face of the Rose\n",
            " The thing the day and shall strange the little arms of the same her sides of the commander and the speciated the man the space and same to the last be a day to be a strange and suppose of his returned and body and seemed the stander to the same the sond to the sapposes of the soldiers of the part the rest in the same that had little not a married the expered a recold and interesting from the man was the compless with the man the distinite the compless of the presently from the compless of the arms of the hands the definess with the deet to stander of the expered of the day, and the moment of a man was and said the same and first to the old been a find the more to be to the possate and subject of the considered the enderstions of the interest of the words and the earl the sway of the had the case the great in the break of the soldier in the back the bed the tramparated it in the long to the man the subject of the spiritically between and the great had been the first to son and strange to the prospect that the still and seemed the examples of the old scanded the been the suppose of the way of the life of the send of the come to the suddenly the compless the same and the sland and some of the see the thing his barness of the man to say to the still a present to the thing and the with any and come than in the same with the brother to the day and the proceeded to the had the life and such and the was and struck the same of the same the considers of the story and man were in the commonsion of the want to be supperied and the hands of the real of the provinces of the brother with the first of the with the sacring staint, and to make a man to the disposition of the struck of a commanding to the subject of the way of the considers, and with the space the still the words the\n",
            " to be her than the which proved to descient of the reals the tain to see the practices of the definite the brothers and shall be and intervalting and the present to the considers and the were one of the same to the endured the with the compless the present of the little present to make a strange to the strange in the some and property of the thing of the trampless the despect with the considers, and the spection of the subject to the with the old the Council have a descoing and his and present of the little realish and start of the find of the seemed and his expressions of his bring to the dispection of the way of the stranger of the cragine of the face of the had the man well and would be a passed to be her silent the subject of the same and street of the considers, and the more of the propose of a shall not a man was a simple was a present in the sight of the old the strange at the same and the can been a purple of the faint of the present and the truth the reals and stander and the deal been to be and sent to speek the spiritual to be to the recoted his arms, and the little stander of the subbing the true man said the proposition of the strange and such a seemed and the same man the same and the song of the such a shall not to have some profished the are for the strange his faces of the been and some and was a specied by the same to the comportance of the failly and her formers in the come to be a strange of a sons of a subject of the according to the subject of the stright of the strange in the commonsions of the can be make it was little stood sleep of the man to the spreat to the complain of a considers of the disting that the strange of the man flower in the pracess of the proposition of the complain of the same and send and the sight of the man to the same that he said to the little who and the specied the trouble and see the commonsions of the strong to the considered the dispartic of the face and come to the man and his subbed to stander of the hand to his find the arms of the man to the face and dispossess, and the fire the proposition of the same the country and that the dispecting of a property, and the little single and the things of the man to the great the passed the was and the strange to say in the trance of the great see the stand the strange of the massed to the came to such a present to be a remain of the simple with the schilippe to the servent to the great the old side the property of the property of the reason of the strange in the same the same with the send of the man and the same of the granders to the first and began the days present and said the compless and the sappeared the stander and the same and the sign and find his had the same to spected the way of the subbing the same and strange of the servent and strange to the read to the come the compless to shadows of the sides of the could be and say and subjects of the town in the same him and better provincess in the second of the exact of the dispain of the man the secrets of the proceeded the sides of the words the subbit of the man in the real to the steep strange of the passed to the same been a standers of the sards the shall the present of the comperied and shall stander of the subject and subbits of the little the properties and the arms of the subject in the present the property of the come of the same to seemed to be man and stander of the came the deceived a song the can been the proposed and the day and the little first and a strange\n",
            " in the considers of the hands of the come to the providenting to start of the far and seemed and scrick to the face and intervance, and the real of the hands and sides of the ordered by the light of the present and seemed the first than the change and him the provincess of the subject of the Countrance of the day with the hands of the can be seemed to the not little have the words of the stands of the proper and the handly the sides of the prospect of the common some interver and the subject in the streaded and the man to the one devil that the command of the taint of the exact to shall the commonsions of the same of the stander of the subject of the told of the harming to the spection of the hands and the properting to the great the\n",
            " little than the strange and shall not some and still not and the first of the little better the streaded to see the proportions of the way of the property of the little provedies and been a came that the remained to the complace the distersted the commandon of the provision of the distance of the some amples of the cannot and the property of the strange the difficult in the same his passed to the back the species of the trace of the both the send and the with the distance of the prospect to the strange his bed and man the crature of the common the man in the sour of the strange to say, by a street of the great flunders of the man been to see the same and the strange to the subject to the resting to the stander of the man with the space and send on the seemed the except of the start some and his dear of the same that is a suberience of the reals and the proposite of the specting to the enderstance of the sense of the way and the subject of the subject to see him to the said to the steart the same shall stand of the proper to the day the strange to seemed and could not the are some things in the present of the land of the far the could be man the present to be was a sway in the stander and the back the seemed the sides of the property of the old seemed a steep of the days of the hand had a considers, and her with the could never a property of the man to the come some than the brother some better the staint that it was the procears to the cannot the single had the subject to the present of the reduct of the real in the man with the sides of the life and the steading the present to her first to despect of the experience of the side and seems the same to proposite to the lady to said the real of the considers of the old stander of the spected the little stander of the sides of the brother and strange and see the man of the sards with the man the song and present of the tooder the was a princess of the hands of the send to the has the species and strange the great sack man been face of the standers of the depending and shall his space the little the same standing of a strange to seems the read by the property of the little man to the man had been a considers of the provinced to the strange that the subject of the song of the little princess of the eyes, and give the come of the desired to the could be property and shall be the present to the spected by the little been the disposition with the great present to the suppose of the grand to the sacring the warm of the little better in the man to be her had every been a seemed from the man and sentice of the present of the man with the fire his little strange to the way of the common a place and some the come himself the old hand the from the same of the same the arming come the could be passed the strange the south the old sing and say and the father the true in the considers of the little presently the dispected the hands and the same and the lady and the fight his beautiful not a comparty of the cried to the sway the subbit of the words the proper and the little to seemed to the can been a face of the present to the first and supposes of the man of the was a sprayer of the considers and the same of the law not a single and the proper and a could not a man with the prospect the sway a possesses of the strange himself the subject of the girds of the secrets of the barred to the want to be propositian of the come the little came the strange of the desire that the cried the way man staint the was a man and supposed to the subject of any man was a little than a person and seemed to the same of the new and the strange the strange and strange the considers of the disposition of the way of the subject of the town the present of the distor of the table to the arming the song the strange and standers to be all his tall a strange and the old been the life that the words the passed the first and the arms of the many in the considers of the family of the steps the simple man of the subject to the sacriage and say the salded in the strange of the little and strange to the stail of the present of the sight of the face of a man in the first to be a considers of a man be and the commander. The ganger of the trance to be some was a point last like the way standers of the bready to the bitter and the every man, and specess and dispressed the winders, and with a contrative of the more of the converses, and a subject of the courteness of the little some and man and his face of the species of the strange and the stright the day and see the granders man of the street and received by the considers of the great man with the earther and with the seemed the little street and the specting and the find the days, and strange to say the proposition of the property to the could be a considers the commonsions of his more than the desire and brother of the seemed and property of the back and the sir, and stage of the present of the seemed to the could not shall be come to the single of the stander and specting and the tarming to the first between the arming and with the could be provised to the sights of the fame of the sour of the strange the man to the received the man the subjection of the proposition of the man and the side to see the villing to the same thing the property of the little and light to be a princess and despect of the subject of the contrain of the hand of the interestry and the strange the rest to the man in the hand and the strange in the serve the little come the species and the sappeared the taint of the properting and be with the space of the old still the some one and property of the enderstation of a barred to be a brother to so little dark the hands, and the compless of the wind the face of the soldier of the sole of the first between the long the the happering and the man in the want of the lady of the change of the lame to the strange of the precession of the same and the traper\n",
            " the contried the day of the stander and the secright to the same to the property of the brother into the same that he had made the come of the contrained and him, and the could be a part. The sland to the come the present of the subbles of the country of the contradisting the words and song to the intered the province of the dear to spected the children of the provincies, and the same was to the little and says and the stander to the barness in the strange and the man and the proposition of the staint of the little and the proper of the old remessed the sway and spread to be the rabbit the man and some and such a passion of the send the strange in the property and property that the prison the endured the sensible the hand to the same and the break the last sort of the cried to the chimstance of the arms of the man and the old position of the stander and the strange in the standers of the side of the expenting to the contrained the species of the strange of the disposition of the privation of the contrain to the considers of the stack and creased to the strange of the hands the are not to the song the been and her and considers had not the man into the armality that that the contrain of the man were a sing of the endertation of her bed by the came of the commanders of the stready and sack, and been not a strange of the could be a sappeared the last in the granders of the descoing of the son of the distance. The subject and face and the failly of the way of the great the sides of the same to the present of a compless contration of the was to the sole second of the subject and some and strange of the counting and said the same present of the same and the little believe a subbit to the precess of the song and some been side and his could be a subject to the right of the send the hand of the way of the man of the prospect of the specting to the property of the stander and the first than the disposition of the standing and the ways of the passed and the dispartic in the earned to the except of the same him and fire to the provincies of the property of the hands the life and been the was provinced the contrated by the hands with a propertice of the subgers of the provision of the way, but which loved the destrick of the reals the same man in the did not the can stander to present of the spected the man to\n",
            "\n"
          ],
          "name": "stdout"
        }
      ]
    },
    {
      "cell_type": "code",
      "metadata": {
        "colab": {
          "base_uri": "https://localhost:8080/",
          "height": 547
        },
        "id": "B-5woFlNdI1O",
        "outputId": "e45e57ac-01e9-45e4-e77f-d926e73ad7a9"
      },
      "source": [
        "model_path = 'model'\n",
        "torch.save(model.state_dict(), model)"
      ],
      "execution_count": null,
      "outputs": [
        {
          "output_type": "error",
          "ename": "AttributeError",
          "evalue": "ignored",
          "traceback": [
            "\u001b[0;31m---------------------------------------------------------------------------\u001b[0m",
            "\u001b[0;31mAttributeError\u001b[0m                            Traceback (most recent call last)",
            "\u001b[0;32m/usr/local/lib/python3.7/dist-packages/torch/serialization.py\u001b[0m in \u001b[0;36msave\u001b[0;34m(obj, f, pickle_module, pickle_protocol, _use_new_zipfile_serialization)\u001b[0m\n\u001b[1;32m    371\u001b[0m             \u001b[0;32mwith\u001b[0m \u001b[0m_open_zipfile_writer\u001b[0m\u001b[0;34m(\u001b[0m\u001b[0mopened_file\u001b[0m\u001b[0;34m)\u001b[0m \u001b[0;32mas\u001b[0m \u001b[0mopened_zipfile\u001b[0m\u001b[0;34m:\u001b[0m\u001b[0;34m\u001b[0m\u001b[0;34m\u001b[0m\u001b[0m\n\u001b[0;32m--> 372\u001b[0;31m                 \u001b[0m_save\u001b[0m\u001b[0;34m(\u001b[0m\u001b[0mobj\u001b[0m\u001b[0;34m,\u001b[0m \u001b[0mopened_zipfile\u001b[0m\u001b[0;34m,\u001b[0m \u001b[0mpickle_module\u001b[0m\u001b[0;34m,\u001b[0m \u001b[0mpickle_protocol\u001b[0m\u001b[0;34m)\u001b[0m\u001b[0;34m\u001b[0m\u001b[0;34m\u001b[0m\u001b[0m\n\u001b[0m\u001b[1;32m    373\u001b[0m                 \u001b[0;32mreturn\u001b[0m\u001b[0;34m\u001b[0m\u001b[0;34m\u001b[0m\u001b[0m\n",
            "\u001b[0;32m/usr/local/lib/python3.7/dist-packages/torch/serialization.py\u001b[0m in \u001b[0;36m_save\u001b[0;34m(obj, zip_file, pickle_module, pickle_protocol)\u001b[0m\n\u001b[1;32m    477\u001b[0m     \u001b[0mdata_value\u001b[0m \u001b[0;34m=\u001b[0m \u001b[0mdata_buf\u001b[0m\u001b[0;34m.\u001b[0m\u001b[0mgetvalue\u001b[0m\u001b[0;34m(\u001b[0m\u001b[0;34m)\u001b[0m\u001b[0;34m\u001b[0m\u001b[0;34m\u001b[0m\u001b[0m\n\u001b[0;32m--> 478\u001b[0;31m     \u001b[0mzip_file\u001b[0m\u001b[0;34m.\u001b[0m\u001b[0mwrite_record\u001b[0m\u001b[0;34m(\u001b[0m\u001b[0;34m'data.pkl'\u001b[0m\u001b[0;34m,\u001b[0m \u001b[0mdata_value\u001b[0m\u001b[0;34m,\u001b[0m \u001b[0mlen\u001b[0m\u001b[0;34m(\u001b[0m\u001b[0mdata_value\u001b[0m\u001b[0;34m)\u001b[0m\u001b[0;34m)\u001b[0m\u001b[0;34m\u001b[0m\u001b[0;34m\u001b[0m\u001b[0m\n\u001b[0m\u001b[1;32m    479\u001b[0m \u001b[0;34m\u001b[0m\u001b[0m\n",
            "\u001b[0;32m/usr/local/lib/python3.7/dist-packages/torch/nn/modules/module.py\u001b[0m in \u001b[0;36m__getattr__\u001b[0;34m(self, name)\u001b[0m\n\u001b[1;32m    947\u001b[0m         raise AttributeError(\"'{}' object has no attribute '{}'\".format(\n\u001b[0;32m--> 948\u001b[0;31m             type(self).__name__, name))\n\u001b[0m\u001b[1;32m    949\u001b[0m \u001b[0;34m\u001b[0m\u001b[0m\n",
            "\u001b[0;31mAttributeError\u001b[0m: 'TextRNN' object has no attribute 'write'",
            "\nDuring handling of the above exception, another exception occurred:\n",
            "\u001b[0;31mAttributeError\u001b[0m                            Traceback (most recent call last)",
            "\u001b[0;32m/usr/local/lib/python3.7/dist-packages/torch/serialization.py\u001b[0m in \u001b[0;36msave\u001b[0;34m(obj, f, pickle_module, pickle_protocol, _use_new_zipfile_serialization)\u001b[0m\n\u001b[1;32m    372\u001b[0m                 \u001b[0m_save\u001b[0m\u001b[0;34m(\u001b[0m\u001b[0mobj\u001b[0m\u001b[0;34m,\u001b[0m \u001b[0mopened_zipfile\u001b[0m\u001b[0;34m,\u001b[0m \u001b[0mpickle_module\u001b[0m\u001b[0;34m,\u001b[0m \u001b[0mpickle_protocol\u001b[0m\u001b[0;34m)\u001b[0m\u001b[0;34m\u001b[0m\u001b[0;34m\u001b[0m\u001b[0m\n\u001b[0;32m--> 373\u001b[0;31m                 \u001b[0;32mreturn\u001b[0m\u001b[0;34m\u001b[0m\u001b[0;34m\u001b[0m\u001b[0m\n\u001b[0m\u001b[1;32m    374\u001b[0m         \u001b[0m_legacy_save\u001b[0m\u001b[0;34m(\u001b[0m\u001b[0mobj\u001b[0m\u001b[0;34m,\u001b[0m \u001b[0mopened_file\u001b[0m\u001b[0;34m,\u001b[0m \u001b[0mpickle_module\u001b[0m\u001b[0;34m,\u001b[0m \u001b[0mpickle_protocol\u001b[0m\u001b[0;34m)\u001b[0m\u001b[0;34m\u001b[0m\u001b[0;34m\u001b[0m\u001b[0m\n",
            "\u001b[0;32m/usr/local/lib/python3.7/dist-packages/torch/serialization.py\u001b[0m in \u001b[0;36m__exit__\u001b[0;34m(self, *args)\u001b[0m\n\u001b[1;32m    258\u001b[0m     \u001b[0;32mdef\u001b[0m \u001b[0m__exit__\u001b[0m\u001b[0;34m(\u001b[0m\u001b[0mself\u001b[0m\u001b[0;34m,\u001b[0m \u001b[0;34m*\u001b[0m\u001b[0margs\u001b[0m\u001b[0;34m)\u001b[0m \u001b[0;34m->\u001b[0m \u001b[0;32mNone\u001b[0m\u001b[0;34m:\u001b[0m\u001b[0;34m\u001b[0m\u001b[0;34m\u001b[0m\u001b[0m\n\u001b[0;32m--> 259\u001b[0;31m         \u001b[0mself\u001b[0m\u001b[0;34m.\u001b[0m\u001b[0mfile_like\u001b[0m\u001b[0;34m.\u001b[0m\u001b[0mwrite_end_of_file\u001b[0m\u001b[0;34m(\u001b[0m\u001b[0;34m)\u001b[0m\u001b[0;34m\u001b[0m\u001b[0;34m\u001b[0m\u001b[0m\n\u001b[0m\u001b[1;32m    260\u001b[0m         \u001b[0mself\u001b[0m\u001b[0;34m.\u001b[0m\u001b[0mbuffer\u001b[0m\u001b[0;34m.\u001b[0m\u001b[0mflush\u001b[0m\u001b[0;34m(\u001b[0m\u001b[0;34m)\u001b[0m\u001b[0;34m\u001b[0m\u001b[0;34m\u001b[0m\u001b[0m\n",
            "\u001b[0;32m/usr/local/lib/python3.7/dist-packages/torch/nn/modules/module.py\u001b[0m in \u001b[0;36m__getattr__\u001b[0;34m(self, name)\u001b[0m\n\u001b[1;32m    947\u001b[0m         raise AttributeError(\"'{}' object has no attribute '{}'\".format(\n\u001b[0;32m--> 948\u001b[0;31m             type(self).__name__, name))\n\u001b[0m\u001b[1;32m    949\u001b[0m \u001b[0;34m\u001b[0m\u001b[0m\n",
            "\u001b[0;31mAttributeError\u001b[0m: 'TextRNN' object has no attribute 'write'",
            "\nDuring handling of the above exception, another exception occurred:\n",
            "\u001b[0;31mAttributeError\u001b[0m                            Traceback (most recent call last)",
            "\u001b[0;32m<ipython-input-158-1bb5155be73c>\u001b[0m in \u001b[0;36m<module>\u001b[0;34m()\u001b[0m\n\u001b[1;32m      1\u001b[0m \u001b[0mmodel_path\u001b[0m \u001b[0;34m=\u001b[0m \u001b[0;34m'model'\u001b[0m\u001b[0;34m\u001b[0m\u001b[0;34m\u001b[0m\u001b[0m\n\u001b[0;32m----> 2\u001b[0;31m \u001b[0mtorch\u001b[0m\u001b[0;34m.\u001b[0m\u001b[0msave\u001b[0m\u001b[0;34m(\u001b[0m\u001b[0mmodel\u001b[0m\u001b[0;34m.\u001b[0m\u001b[0mstate_dict\u001b[0m\u001b[0;34m(\u001b[0m\u001b[0;34m)\u001b[0m\u001b[0;34m,\u001b[0m \u001b[0mmodel\u001b[0m\u001b[0;34m)\u001b[0m\u001b[0;34m\u001b[0m\u001b[0;34m\u001b[0m\u001b[0m\n\u001b[0m",
            "\u001b[0;32m/usr/local/lib/python3.7/dist-packages/torch/serialization.py\u001b[0m in \u001b[0;36msave\u001b[0;34m(obj, f, pickle_module, pickle_protocol, _use_new_zipfile_serialization)\u001b[0m\n\u001b[1;32m    372\u001b[0m                 \u001b[0m_save\u001b[0m\u001b[0;34m(\u001b[0m\u001b[0mobj\u001b[0m\u001b[0;34m,\u001b[0m \u001b[0mopened_zipfile\u001b[0m\u001b[0;34m,\u001b[0m \u001b[0mpickle_module\u001b[0m\u001b[0;34m,\u001b[0m \u001b[0mpickle_protocol\u001b[0m\u001b[0;34m)\u001b[0m\u001b[0;34m\u001b[0m\u001b[0;34m\u001b[0m\u001b[0m\n\u001b[1;32m    373\u001b[0m                 \u001b[0;32mreturn\u001b[0m\u001b[0;34m\u001b[0m\u001b[0;34m\u001b[0m\u001b[0m\n\u001b[0;32m--> 374\u001b[0;31m         \u001b[0m_legacy_save\u001b[0m\u001b[0;34m(\u001b[0m\u001b[0mobj\u001b[0m\u001b[0;34m,\u001b[0m \u001b[0mopened_file\u001b[0m\u001b[0;34m,\u001b[0m \u001b[0mpickle_module\u001b[0m\u001b[0;34m,\u001b[0m \u001b[0mpickle_protocol\u001b[0m\u001b[0;34m)\u001b[0m\u001b[0;34m\u001b[0m\u001b[0;34m\u001b[0m\u001b[0m\n\u001b[0m\u001b[1;32m    375\u001b[0m \u001b[0;34m\u001b[0m\u001b[0m\n\u001b[1;32m    376\u001b[0m \u001b[0;34m\u001b[0m\u001b[0m\n",
            "\u001b[0;32m/usr/local/lib/python3.7/dist-packages/torch/serialization.py\u001b[0m in \u001b[0;36m__exit__\u001b[0;34m(self, *args)\u001b[0m\n\u001b[1;32m    223\u001b[0m \u001b[0;32mclass\u001b[0m \u001b[0m_open_buffer_writer\u001b[0m\u001b[0;34m(\u001b[0m\u001b[0m_opener\u001b[0m\u001b[0;34m)\u001b[0m\u001b[0;34m:\u001b[0m\u001b[0;34m\u001b[0m\u001b[0;34m\u001b[0m\u001b[0m\n\u001b[1;32m    224\u001b[0m     \u001b[0;32mdef\u001b[0m \u001b[0m__exit__\u001b[0m\u001b[0;34m(\u001b[0m\u001b[0mself\u001b[0m\u001b[0;34m,\u001b[0m \u001b[0;34m*\u001b[0m\u001b[0margs\u001b[0m\u001b[0;34m)\u001b[0m\u001b[0;34m:\u001b[0m\u001b[0;34m\u001b[0m\u001b[0;34m\u001b[0m\u001b[0m\n\u001b[0;32m--> 225\u001b[0;31m         \u001b[0mself\u001b[0m\u001b[0;34m.\u001b[0m\u001b[0mfile_like\u001b[0m\u001b[0;34m.\u001b[0m\u001b[0mflush\u001b[0m\u001b[0;34m(\u001b[0m\u001b[0;34m)\u001b[0m\u001b[0;34m\u001b[0m\u001b[0;34m\u001b[0m\u001b[0m\n\u001b[0m\u001b[1;32m    226\u001b[0m \u001b[0;34m\u001b[0m\u001b[0m\n\u001b[1;32m    227\u001b[0m \u001b[0;34m\u001b[0m\u001b[0m\n",
            "\u001b[0;32m/usr/local/lib/python3.7/dist-packages/torch/nn/modules/module.py\u001b[0m in \u001b[0;36m__getattr__\u001b[0;34m(self, name)\u001b[0m\n\u001b[1;32m    946\u001b[0m                 \u001b[0;32mreturn\u001b[0m \u001b[0mmodules\u001b[0m\u001b[0;34m[\u001b[0m\u001b[0mname\u001b[0m\u001b[0;34m]\u001b[0m\u001b[0;34m\u001b[0m\u001b[0;34m\u001b[0m\u001b[0m\n\u001b[1;32m    947\u001b[0m         raise AttributeError(\"'{}' object has no attribute '{}'\".format(\n\u001b[0;32m--> 948\u001b[0;31m             type(self).__name__, name))\n\u001b[0m\u001b[1;32m    949\u001b[0m \u001b[0;34m\u001b[0m\u001b[0m\n\u001b[1;32m    950\u001b[0m     \u001b[0;32mdef\u001b[0m \u001b[0m__setattr__\u001b[0m\u001b[0;34m(\u001b[0m\u001b[0mself\u001b[0m\u001b[0;34m,\u001b[0m \u001b[0mname\u001b[0m\u001b[0;34m:\u001b[0m \u001b[0mstr\u001b[0m\u001b[0;34m,\u001b[0m \u001b[0mvalue\u001b[0m\u001b[0;34m:\u001b[0m \u001b[0mUnion\u001b[0m\u001b[0;34m[\u001b[0m\u001b[0mTensor\u001b[0m\u001b[0;34m,\u001b[0m \u001b[0;34m'Module'\u001b[0m\u001b[0;34m]\u001b[0m\u001b[0;34m)\u001b[0m \u001b[0;34m->\u001b[0m \u001b[0;32mNone\u001b[0m\u001b[0;34m:\u001b[0m\u001b[0;34m\u001b[0m\u001b[0;34m\u001b[0m\u001b[0m\n",
            "\u001b[0;31mAttributeError\u001b[0m: 'TextRNN' object has no attribute 'flush'"
          ]
        }
      ]
    },
    {
      "cell_type": "code",
      "metadata": {
        "id": "rl0iykaUo3z5"
      },
      "source": [
        "# load model\n",
        "the_model = TheModelClass(*args, **kwargs)\n",
        "the_model.load_state_dict(torch.load(PATH))"
      ],
      "execution_count": null,
      "outputs": []
    }
  ]
}