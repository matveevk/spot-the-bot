{
  "nbformat": 4,
  "nbformat_minor": 0,
  "metadata": {
    "colab": {
      "name": "autoencoder-for-word-embeddings.ipynb",
      "provenance": [],
      "collapsed_sections": [],
      "mount_file_id": "1wnWS8SAU-x8_0aMlD8IO52wiFTVi1foN",
      "authorship_tag": "ABX9TyMV9opYFu99sAEh12Kyc5++"
    },
    "kernelspec": {
      "display_name": "Python 3",
      "name": "python3"
    },
    "language_info": {
      "name": "python"
    },
    "widgets": {
      "application/vnd.jupyter.widget-state+json": {
        "57c26648cc3746369e83421fa346a7c1": {
          "model_module": "@jupyter-widgets/controls",
          "model_name": "HBoxModel",
          "state": {
            "_view_name": "HBoxView",
            "_dom_classes": [],
            "_model_name": "HBoxModel",
            "_view_module": "@jupyter-widgets/controls",
            "_model_module_version": "1.5.0",
            "_view_count": null,
            "_view_module_version": "1.5.0",
            "box_style": "",
            "layout": "IPY_MODEL_3d8f4df98df44d4b9f886562ca5fc3d6",
            "_model_module": "@jupyter-widgets/controls",
            "children": [
              "IPY_MODEL_1ae0fd6b11504e28a47f6bb403116fef",
              "IPY_MODEL_11a67aa02126482396f973f778f5c11f"
            ]
          }
        },
        "3d8f4df98df44d4b9f886562ca5fc3d6": {
          "model_module": "@jupyter-widgets/base",
          "model_name": "LayoutModel",
          "state": {
            "_view_name": "LayoutView",
            "grid_template_rows": null,
            "right": null,
            "justify_content": null,
            "_view_module": "@jupyter-widgets/base",
            "overflow": null,
            "_model_module_version": "1.2.0",
            "_view_count": null,
            "flex_flow": null,
            "width": null,
            "min_width": null,
            "border": null,
            "align_items": null,
            "bottom": null,
            "_model_module": "@jupyter-widgets/base",
            "top": null,
            "grid_column": null,
            "overflow_y": null,
            "overflow_x": null,
            "grid_auto_flow": null,
            "grid_area": null,
            "grid_template_columns": null,
            "flex": null,
            "_model_name": "LayoutModel",
            "justify_items": null,
            "grid_row": null,
            "max_height": null,
            "align_content": null,
            "visibility": null,
            "align_self": null,
            "height": null,
            "min_height": null,
            "padding": null,
            "grid_auto_rows": null,
            "grid_gap": null,
            "max_width": null,
            "order": null,
            "_view_module_version": "1.2.0",
            "grid_template_areas": null,
            "object_position": null,
            "object_fit": null,
            "grid_auto_columns": null,
            "margin": null,
            "display": null,
            "left": null
          }
        },
        "1ae0fd6b11504e28a47f6bb403116fef": {
          "model_module": "@jupyter-widgets/controls",
          "model_name": "FloatProgressModel",
          "state": {
            "_view_name": "ProgressView",
            "style": "IPY_MODEL_92c2d5025fcf4488b19a91cbfe9a0511",
            "_dom_classes": [],
            "description": "Downloading: 100%",
            "_model_name": "FloatProgressModel",
            "bar_style": "success",
            "max": 231508,
            "_view_module": "@jupyter-widgets/controls",
            "_model_module_version": "1.5.0",
            "value": 231508,
            "_view_count": null,
            "_view_module_version": "1.5.0",
            "orientation": "horizontal",
            "min": 0,
            "description_tooltip": null,
            "_model_module": "@jupyter-widgets/controls",
            "layout": "IPY_MODEL_4a0f39d7eea84dc5a40a0b5c2e61bb2c"
          }
        },
        "11a67aa02126482396f973f778f5c11f": {
          "model_module": "@jupyter-widgets/controls",
          "model_name": "HTMLModel",
          "state": {
            "_view_name": "HTMLView",
            "style": "IPY_MODEL_0f7e36f70689422f98650e2af32697c2",
            "_dom_classes": [],
            "description": "",
            "_model_name": "HTMLModel",
            "placeholder": "​",
            "_view_module": "@jupyter-widgets/controls",
            "_model_module_version": "1.5.0",
            "value": " 232k/232k [00:00&lt;00:00, 439kB/s]",
            "_view_count": null,
            "_view_module_version": "1.5.0",
            "description_tooltip": null,
            "_model_module": "@jupyter-widgets/controls",
            "layout": "IPY_MODEL_c26360871b294238b98e8684306add11"
          }
        },
        "92c2d5025fcf4488b19a91cbfe9a0511": {
          "model_module": "@jupyter-widgets/controls",
          "model_name": "ProgressStyleModel",
          "state": {
            "_view_name": "StyleView",
            "_model_name": "ProgressStyleModel",
            "description_width": "initial",
            "_view_module": "@jupyter-widgets/base",
            "_model_module_version": "1.5.0",
            "_view_count": null,
            "_view_module_version": "1.2.0",
            "bar_color": null,
            "_model_module": "@jupyter-widgets/controls"
          }
        },
        "4a0f39d7eea84dc5a40a0b5c2e61bb2c": {
          "model_module": "@jupyter-widgets/base",
          "model_name": "LayoutModel",
          "state": {
            "_view_name": "LayoutView",
            "grid_template_rows": null,
            "right": null,
            "justify_content": null,
            "_view_module": "@jupyter-widgets/base",
            "overflow": null,
            "_model_module_version": "1.2.0",
            "_view_count": null,
            "flex_flow": null,
            "width": null,
            "min_width": null,
            "border": null,
            "align_items": null,
            "bottom": null,
            "_model_module": "@jupyter-widgets/base",
            "top": null,
            "grid_column": null,
            "overflow_y": null,
            "overflow_x": null,
            "grid_auto_flow": null,
            "grid_area": null,
            "grid_template_columns": null,
            "flex": null,
            "_model_name": "LayoutModel",
            "justify_items": null,
            "grid_row": null,
            "max_height": null,
            "align_content": null,
            "visibility": null,
            "align_self": null,
            "height": null,
            "min_height": null,
            "padding": null,
            "grid_auto_rows": null,
            "grid_gap": null,
            "max_width": null,
            "order": null,
            "_view_module_version": "1.2.0",
            "grid_template_areas": null,
            "object_position": null,
            "object_fit": null,
            "grid_auto_columns": null,
            "margin": null,
            "display": null,
            "left": null
          }
        },
        "0f7e36f70689422f98650e2af32697c2": {
          "model_module": "@jupyter-widgets/controls",
          "model_name": "DescriptionStyleModel",
          "state": {
            "_view_name": "StyleView",
            "_model_name": "DescriptionStyleModel",
            "description_width": "",
            "_view_module": "@jupyter-widgets/base",
            "_model_module_version": "1.5.0",
            "_view_count": null,
            "_view_module_version": "1.2.0",
            "_model_module": "@jupyter-widgets/controls"
          }
        },
        "c26360871b294238b98e8684306add11": {
          "model_module": "@jupyter-widgets/base",
          "model_name": "LayoutModel",
          "state": {
            "_view_name": "LayoutView",
            "grid_template_rows": null,
            "right": null,
            "justify_content": null,
            "_view_module": "@jupyter-widgets/base",
            "overflow": null,
            "_model_module_version": "1.2.0",
            "_view_count": null,
            "flex_flow": null,
            "width": null,
            "min_width": null,
            "border": null,
            "align_items": null,
            "bottom": null,
            "_model_module": "@jupyter-widgets/base",
            "top": null,
            "grid_column": null,
            "overflow_y": null,
            "overflow_x": null,
            "grid_auto_flow": null,
            "grid_area": null,
            "grid_template_columns": null,
            "flex": null,
            "_model_name": "LayoutModel",
            "justify_items": null,
            "grid_row": null,
            "max_height": null,
            "align_content": null,
            "visibility": null,
            "align_self": null,
            "height": null,
            "min_height": null,
            "padding": null,
            "grid_auto_rows": null,
            "grid_gap": null,
            "max_width": null,
            "order": null,
            "_view_module_version": "1.2.0",
            "grid_template_areas": null,
            "object_position": null,
            "object_fit": null,
            "grid_auto_columns": null,
            "margin": null,
            "display": null,
            "left": null
          }
        },
        "1d9726af9ac74293af4fbbd6100d0926": {
          "model_module": "@jupyter-widgets/controls",
          "model_name": "HBoxModel",
          "state": {
            "_view_name": "HBoxView",
            "_dom_classes": [],
            "_model_name": "HBoxModel",
            "_view_module": "@jupyter-widgets/controls",
            "_model_module_version": "1.5.0",
            "_view_count": null,
            "_view_module_version": "1.5.0",
            "box_style": "",
            "layout": "IPY_MODEL_29499dcca940423b8ed657f55c197ac9",
            "_model_module": "@jupyter-widgets/controls",
            "children": [
              "IPY_MODEL_ebce659c96bf450094c40db9cfa5b042",
              "IPY_MODEL_3700fef1e5ec4a3083a1160688279b3d"
            ]
          }
        },
        "29499dcca940423b8ed657f55c197ac9": {
          "model_module": "@jupyter-widgets/base",
          "model_name": "LayoutModel",
          "state": {
            "_view_name": "LayoutView",
            "grid_template_rows": null,
            "right": null,
            "justify_content": null,
            "_view_module": "@jupyter-widgets/base",
            "overflow": null,
            "_model_module_version": "1.2.0",
            "_view_count": null,
            "flex_flow": null,
            "width": null,
            "min_width": null,
            "border": null,
            "align_items": null,
            "bottom": null,
            "_model_module": "@jupyter-widgets/base",
            "top": null,
            "grid_column": null,
            "overflow_y": null,
            "overflow_x": null,
            "grid_auto_flow": null,
            "grid_area": null,
            "grid_template_columns": null,
            "flex": null,
            "_model_name": "LayoutModel",
            "justify_items": null,
            "grid_row": null,
            "max_height": null,
            "align_content": null,
            "visibility": null,
            "align_self": null,
            "height": null,
            "min_height": null,
            "padding": null,
            "grid_auto_rows": null,
            "grid_gap": null,
            "max_width": null,
            "order": null,
            "_view_module_version": "1.2.0",
            "grid_template_areas": null,
            "object_position": null,
            "object_fit": null,
            "grid_auto_columns": null,
            "margin": null,
            "display": null,
            "left": null
          }
        },
        "ebce659c96bf450094c40db9cfa5b042": {
          "model_module": "@jupyter-widgets/controls",
          "model_name": "FloatProgressModel",
          "state": {
            "_view_name": "ProgressView",
            "style": "IPY_MODEL_5e68da8d07714a6582983c870946de47",
            "_dom_classes": [],
            "description": "Downloading: 100%",
            "_model_name": "FloatProgressModel",
            "bar_style": "success",
            "max": 28,
            "_view_module": "@jupyter-widgets/controls",
            "_model_module_version": "1.5.0",
            "value": 28,
            "_view_count": null,
            "_view_module_version": "1.5.0",
            "orientation": "horizontal",
            "min": 0,
            "description_tooltip": null,
            "_model_module": "@jupyter-widgets/controls",
            "layout": "IPY_MODEL_85c58811601c47d9bbd00c3b42332a18"
          }
        },
        "3700fef1e5ec4a3083a1160688279b3d": {
          "model_module": "@jupyter-widgets/controls",
          "model_name": "HTMLModel",
          "state": {
            "_view_name": "HTMLView",
            "style": "IPY_MODEL_c358974e8f8d46c1a698982c6219c1e8",
            "_dom_classes": [],
            "description": "",
            "_model_name": "HTMLModel",
            "placeholder": "​",
            "_view_module": "@jupyter-widgets/controls",
            "_model_module_version": "1.5.0",
            "value": " 28.0/28.0 [00:00&lt;00:00, 69.3B/s]",
            "_view_count": null,
            "_view_module_version": "1.5.0",
            "description_tooltip": null,
            "_model_module": "@jupyter-widgets/controls",
            "layout": "IPY_MODEL_049af2628402453b93598f76201a9c9c"
          }
        },
        "5e68da8d07714a6582983c870946de47": {
          "model_module": "@jupyter-widgets/controls",
          "model_name": "ProgressStyleModel",
          "state": {
            "_view_name": "StyleView",
            "_model_name": "ProgressStyleModel",
            "description_width": "initial",
            "_view_module": "@jupyter-widgets/base",
            "_model_module_version": "1.5.0",
            "_view_count": null,
            "_view_module_version": "1.2.0",
            "bar_color": null,
            "_model_module": "@jupyter-widgets/controls"
          }
        },
        "85c58811601c47d9bbd00c3b42332a18": {
          "model_module": "@jupyter-widgets/base",
          "model_name": "LayoutModel",
          "state": {
            "_view_name": "LayoutView",
            "grid_template_rows": null,
            "right": null,
            "justify_content": null,
            "_view_module": "@jupyter-widgets/base",
            "overflow": null,
            "_model_module_version": "1.2.0",
            "_view_count": null,
            "flex_flow": null,
            "width": null,
            "min_width": null,
            "border": null,
            "align_items": null,
            "bottom": null,
            "_model_module": "@jupyter-widgets/base",
            "top": null,
            "grid_column": null,
            "overflow_y": null,
            "overflow_x": null,
            "grid_auto_flow": null,
            "grid_area": null,
            "grid_template_columns": null,
            "flex": null,
            "_model_name": "LayoutModel",
            "justify_items": null,
            "grid_row": null,
            "max_height": null,
            "align_content": null,
            "visibility": null,
            "align_self": null,
            "height": null,
            "min_height": null,
            "padding": null,
            "grid_auto_rows": null,
            "grid_gap": null,
            "max_width": null,
            "order": null,
            "_view_module_version": "1.2.0",
            "grid_template_areas": null,
            "object_position": null,
            "object_fit": null,
            "grid_auto_columns": null,
            "margin": null,
            "display": null,
            "left": null
          }
        },
        "c358974e8f8d46c1a698982c6219c1e8": {
          "model_module": "@jupyter-widgets/controls",
          "model_name": "DescriptionStyleModel",
          "state": {
            "_view_name": "StyleView",
            "_model_name": "DescriptionStyleModel",
            "description_width": "",
            "_view_module": "@jupyter-widgets/base",
            "_model_module_version": "1.5.0",
            "_view_count": null,
            "_view_module_version": "1.2.0",
            "_model_module": "@jupyter-widgets/controls"
          }
        },
        "049af2628402453b93598f76201a9c9c": {
          "model_module": "@jupyter-widgets/base",
          "model_name": "LayoutModel",
          "state": {
            "_view_name": "LayoutView",
            "grid_template_rows": null,
            "right": null,
            "justify_content": null,
            "_view_module": "@jupyter-widgets/base",
            "overflow": null,
            "_model_module_version": "1.2.0",
            "_view_count": null,
            "flex_flow": null,
            "width": null,
            "min_width": null,
            "border": null,
            "align_items": null,
            "bottom": null,
            "_model_module": "@jupyter-widgets/base",
            "top": null,
            "grid_column": null,
            "overflow_y": null,
            "overflow_x": null,
            "grid_auto_flow": null,
            "grid_area": null,
            "grid_template_columns": null,
            "flex": null,
            "_model_name": "LayoutModel",
            "justify_items": null,
            "grid_row": null,
            "max_height": null,
            "align_content": null,
            "visibility": null,
            "align_self": null,
            "height": null,
            "min_height": null,
            "padding": null,
            "grid_auto_rows": null,
            "grid_gap": null,
            "max_width": null,
            "order": null,
            "_view_module_version": "1.2.0",
            "grid_template_areas": null,
            "object_position": null,
            "object_fit": null,
            "grid_auto_columns": null,
            "margin": null,
            "display": null,
            "left": null
          }
        },
        "53f61ce015f2453bbd2867cd20e5304b": {
          "model_module": "@jupyter-widgets/controls",
          "model_name": "HBoxModel",
          "state": {
            "_view_name": "HBoxView",
            "_dom_classes": [],
            "_model_name": "HBoxModel",
            "_view_module": "@jupyter-widgets/controls",
            "_model_module_version": "1.5.0",
            "_view_count": null,
            "_view_module_version": "1.5.0",
            "box_style": "",
            "layout": "IPY_MODEL_ea10fec575884332ba41b922542334f3",
            "_model_module": "@jupyter-widgets/controls",
            "children": [
              "IPY_MODEL_5f8fdfc5fdd54431a81a942503d6851a",
              "IPY_MODEL_1de4de3ed5264ba8a7ba86573a105fce"
            ]
          }
        },
        "ea10fec575884332ba41b922542334f3": {
          "model_module": "@jupyter-widgets/base",
          "model_name": "LayoutModel",
          "state": {
            "_view_name": "LayoutView",
            "grid_template_rows": null,
            "right": null,
            "justify_content": null,
            "_view_module": "@jupyter-widgets/base",
            "overflow": null,
            "_model_module_version": "1.2.0",
            "_view_count": null,
            "flex_flow": null,
            "width": null,
            "min_width": null,
            "border": null,
            "align_items": null,
            "bottom": null,
            "_model_module": "@jupyter-widgets/base",
            "top": null,
            "grid_column": null,
            "overflow_y": null,
            "overflow_x": null,
            "grid_auto_flow": null,
            "grid_area": null,
            "grid_template_columns": null,
            "flex": null,
            "_model_name": "LayoutModel",
            "justify_items": null,
            "grid_row": null,
            "max_height": null,
            "align_content": null,
            "visibility": null,
            "align_self": null,
            "height": null,
            "min_height": null,
            "padding": null,
            "grid_auto_rows": null,
            "grid_gap": null,
            "max_width": null,
            "order": null,
            "_view_module_version": "1.2.0",
            "grid_template_areas": null,
            "object_position": null,
            "object_fit": null,
            "grid_auto_columns": null,
            "margin": null,
            "display": null,
            "left": null
          }
        },
        "5f8fdfc5fdd54431a81a942503d6851a": {
          "model_module": "@jupyter-widgets/controls",
          "model_name": "FloatProgressModel",
          "state": {
            "_view_name": "ProgressView",
            "style": "IPY_MODEL_e1dbdae4de854982b5448826fbfc53f5",
            "_dom_classes": [],
            "description": "Downloading: 100%",
            "_model_name": "FloatProgressModel",
            "bar_style": "success",
            "max": 466062,
            "_view_module": "@jupyter-widgets/controls",
            "_model_module_version": "1.5.0",
            "value": 466062,
            "_view_count": null,
            "_view_module_version": "1.5.0",
            "orientation": "horizontal",
            "min": 0,
            "description_tooltip": null,
            "_model_module": "@jupyter-widgets/controls",
            "layout": "IPY_MODEL_9d8dc259aec24acab9b8388b0105ee46"
          }
        },
        "1de4de3ed5264ba8a7ba86573a105fce": {
          "model_module": "@jupyter-widgets/controls",
          "model_name": "HTMLModel",
          "state": {
            "_view_name": "HTMLView",
            "style": "IPY_MODEL_6ba9e6f336ee4e75b1f53ac6a38cdeca",
            "_dom_classes": [],
            "description": "",
            "_model_name": "HTMLModel",
            "placeholder": "​",
            "_view_module": "@jupyter-widgets/controls",
            "_model_module_version": "1.5.0",
            "value": " 466k/466k [00:00&lt;00:00, 3.49MB/s]",
            "_view_count": null,
            "_view_module_version": "1.5.0",
            "description_tooltip": null,
            "_model_module": "@jupyter-widgets/controls",
            "layout": "IPY_MODEL_fba17b7abb0648339603886bb84bd202"
          }
        },
        "e1dbdae4de854982b5448826fbfc53f5": {
          "model_module": "@jupyter-widgets/controls",
          "model_name": "ProgressStyleModel",
          "state": {
            "_view_name": "StyleView",
            "_model_name": "ProgressStyleModel",
            "description_width": "initial",
            "_view_module": "@jupyter-widgets/base",
            "_model_module_version": "1.5.0",
            "_view_count": null,
            "_view_module_version": "1.2.0",
            "bar_color": null,
            "_model_module": "@jupyter-widgets/controls"
          }
        },
        "9d8dc259aec24acab9b8388b0105ee46": {
          "model_module": "@jupyter-widgets/base",
          "model_name": "LayoutModel",
          "state": {
            "_view_name": "LayoutView",
            "grid_template_rows": null,
            "right": null,
            "justify_content": null,
            "_view_module": "@jupyter-widgets/base",
            "overflow": null,
            "_model_module_version": "1.2.0",
            "_view_count": null,
            "flex_flow": null,
            "width": null,
            "min_width": null,
            "border": null,
            "align_items": null,
            "bottom": null,
            "_model_module": "@jupyter-widgets/base",
            "top": null,
            "grid_column": null,
            "overflow_y": null,
            "overflow_x": null,
            "grid_auto_flow": null,
            "grid_area": null,
            "grid_template_columns": null,
            "flex": null,
            "_model_name": "LayoutModel",
            "justify_items": null,
            "grid_row": null,
            "max_height": null,
            "align_content": null,
            "visibility": null,
            "align_self": null,
            "height": null,
            "min_height": null,
            "padding": null,
            "grid_auto_rows": null,
            "grid_gap": null,
            "max_width": null,
            "order": null,
            "_view_module_version": "1.2.0",
            "grid_template_areas": null,
            "object_position": null,
            "object_fit": null,
            "grid_auto_columns": null,
            "margin": null,
            "display": null,
            "left": null
          }
        },
        "6ba9e6f336ee4e75b1f53ac6a38cdeca": {
          "model_module": "@jupyter-widgets/controls",
          "model_name": "DescriptionStyleModel",
          "state": {
            "_view_name": "StyleView",
            "_model_name": "DescriptionStyleModel",
            "description_width": "",
            "_view_module": "@jupyter-widgets/base",
            "_model_module_version": "1.5.0",
            "_view_count": null,
            "_view_module_version": "1.2.0",
            "_model_module": "@jupyter-widgets/controls"
          }
        },
        "fba17b7abb0648339603886bb84bd202": {
          "model_module": "@jupyter-widgets/base",
          "model_name": "LayoutModel",
          "state": {
            "_view_name": "LayoutView",
            "grid_template_rows": null,
            "right": null,
            "justify_content": null,
            "_view_module": "@jupyter-widgets/base",
            "overflow": null,
            "_model_module_version": "1.2.0",
            "_view_count": null,
            "flex_flow": null,
            "width": null,
            "min_width": null,
            "border": null,
            "align_items": null,
            "bottom": null,
            "_model_module": "@jupyter-widgets/base",
            "top": null,
            "grid_column": null,
            "overflow_y": null,
            "overflow_x": null,
            "grid_auto_flow": null,
            "grid_area": null,
            "grid_template_columns": null,
            "flex": null,
            "_model_name": "LayoutModel",
            "justify_items": null,
            "grid_row": null,
            "max_height": null,
            "align_content": null,
            "visibility": null,
            "align_self": null,
            "height": null,
            "min_height": null,
            "padding": null,
            "grid_auto_rows": null,
            "grid_gap": null,
            "max_width": null,
            "order": null,
            "_view_module_version": "1.2.0",
            "grid_template_areas": null,
            "object_position": null,
            "object_fit": null,
            "grid_auto_columns": null,
            "margin": null,
            "display": null,
            "left": null
          }
        },
        "c630022d69f84dd789d0fb6c10fbe188": {
          "model_module": "@jupyter-widgets/controls",
          "model_name": "HBoxModel",
          "state": {
            "_view_name": "HBoxView",
            "_dom_classes": [],
            "_model_name": "HBoxModel",
            "_view_module": "@jupyter-widgets/controls",
            "_model_module_version": "1.5.0",
            "_view_count": null,
            "_view_module_version": "1.5.0",
            "box_style": "",
            "layout": "IPY_MODEL_05ad1f3872024407a3877d63fb127ea7",
            "_model_module": "@jupyter-widgets/controls",
            "children": [
              "IPY_MODEL_8a9d164baba94cff977e3de48facd39d",
              "IPY_MODEL_c541331e44d34e1da33798f53b88522d"
            ]
          }
        },
        "05ad1f3872024407a3877d63fb127ea7": {
          "model_module": "@jupyter-widgets/base",
          "model_name": "LayoutModel",
          "state": {
            "_view_name": "LayoutView",
            "grid_template_rows": null,
            "right": null,
            "justify_content": null,
            "_view_module": "@jupyter-widgets/base",
            "overflow": null,
            "_model_module_version": "1.2.0",
            "_view_count": null,
            "flex_flow": null,
            "width": null,
            "min_width": null,
            "border": null,
            "align_items": null,
            "bottom": null,
            "_model_module": "@jupyter-widgets/base",
            "top": null,
            "grid_column": null,
            "overflow_y": null,
            "overflow_x": null,
            "grid_auto_flow": null,
            "grid_area": null,
            "grid_template_columns": null,
            "flex": null,
            "_model_name": "LayoutModel",
            "justify_items": null,
            "grid_row": null,
            "max_height": null,
            "align_content": null,
            "visibility": null,
            "align_self": null,
            "height": null,
            "min_height": null,
            "padding": null,
            "grid_auto_rows": null,
            "grid_gap": null,
            "max_width": null,
            "order": null,
            "_view_module_version": "1.2.0",
            "grid_template_areas": null,
            "object_position": null,
            "object_fit": null,
            "grid_auto_columns": null,
            "margin": null,
            "display": null,
            "left": null
          }
        },
        "8a9d164baba94cff977e3de48facd39d": {
          "model_module": "@jupyter-widgets/controls",
          "model_name": "FloatProgressModel",
          "state": {
            "_view_name": "ProgressView",
            "style": "IPY_MODEL_c5dc60d80a75484c9e77f177fe97507d",
            "_dom_classes": [],
            "description": "Downloading: 100%",
            "_model_name": "FloatProgressModel",
            "bar_style": "success",
            "max": 570,
            "_view_module": "@jupyter-widgets/controls",
            "_model_module_version": "1.5.0",
            "value": 570,
            "_view_count": null,
            "_view_module_version": "1.5.0",
            "orientation": "horizontal",
            "min": 0,
            "description_tooltip": null,
            "_model_module": "@jupyter-widgets/controls",
            "layout": "IPY_MODEL_3c2d8e605abe4288877bb653bc2c77e1"
          }
        },
        "c541331e44d34e1da33798f53b88522d": {
          "model_module": "@jupyter-widgets/controls",
          "model_name": "HTMLModel",
          "state": {
            "_view_name": "HTMLView",
            "style": "IPY_MODEL_7bb9e383b2f94d738bd85e30780976cd",
            "_dom_classes": [],
            "description": "",
            "_model_name": "HTMLModel",
            "placeholder": "​",
            "_view_module": "@jupyter-widgets/controls",
            "_model_module_version": "1.5.0",
            "value": " 570/570 [00:00&lt;00:00, 1.32kB/s]",
            "_view_count": null,
            "_view_module_version": "1.5.0",
            "description_tooltip": null,
            "_model_module": "@jupyter-widgets/controls",
            "layout": "IPY_MODEL_c68323d712984a5fb1b5ab82f0496a96"
          }
        },
        "c5dc60d80a75484c9e77f177fe97507d": {
          "model_module": "@jupyter-widgets/controls",
          "model_name": "ProgressStyleModel",
          "state": {
            "_view_name": "StyleView",
            "_model_name": "ProgressStyleModel",
            "description_width": "initial",
            "_view_module": "@jupyter-widgets/base",
            "_model_module_version": "1.5.0",
            "_view_count": null,
            "_view_module_version": "1.2.0",
            "bar_color": null,
            "_model_module": "@jupyter-widgets/controls"
          }
        },
        "3c2d8e605abe4288877bb653bc2c77e1": {
          "model_module": "@jupyter-widgets/base",
          "model_name": "LayoutModel",
          "state": {
            "_view_name": "LayoutView",
            "grid_template_rows": null,
            "right": null,
            "justify_content": null,
            "_view_module": "@jupyter-widgets/base",
            "overflow": null,
            "_model_module_version": "1.2.0",
            "_view_count": null,
            "flex_flow": null,
            "width": null,
            "min_width": null,
            "border": null,
            "align_items": null,
            "bottom": null,
            "_model_module": "@jupyter-widgets/base",
            "top": null,
            "grid_column": null,
            "overflow_y": null,
            "overflow_x": null,
            "grid_auto_flow": null,
            "grid_area": null,
            "grid_template_columns": null,
            "flex": null,
            "_model_name": "LayoutModel",
            "justify_items": null,
            "grid_row": null,
            "max_height": null,
            "align_content": null,
            "visibility": null,
            "align_self": null,
            "height": null,
            "min_height": null,
            "padding": null,
            "grid_auto_rows": null,
            "grid_gap": null,
            "max_width": null,
            "order": null,
            "_view_module_version": "1.2.0",
            "grid_template_areas": null,
            "object_position": null,
            "object_fit": null,
            "grid_auto_columns": null,
            "margin": null,
            "display": null,
            "left": null
          }
        },
        "7bb9e383b2f94d738bd85e30780976cd": {
          "model_module": "@jupyter-widgets/controls",
          "model_name": "DescriptionStyleModel",
          "state": {
            "_view_name": "StyleView",
            "_model_name": "DescriptionStyleModel",
            "description_width": "",
            "_view_module": "@jupyter-widgets/base",
            "_model_module_version": "1.5.0",
            "_view_count": null,
            "_view_module_version": "1.2.0",
            "_model_module": "@jupyter-widgets/controls"
          }
        },
        "c68323d712984a5fb1b5ab82f0496a96": {
          "model_module": "@jupyter-widgets/base",
          "model_name": "LayoutModel",
          "state": {
            "_view_name": "LayoutView",
            "grid_template_rows": null,
            "right": null,
            "justify_content": null,
            "_view_module": "@jupyter-widgets/base",
            "overflow": null,
            "_model_module_version": "1.2.0",
            "_view_count": null,
            "flex_flow": null,
            "width": null,
            "min_width": null,
            "border": null,
            "align_items": null,
            "bottom": null,
            "_model_module": "@jupyter-widgets/base",
            "top": null,
            "grid_column": null,
            "overflow_y": null,
            "overflow_x": null,
            "grid_auto_flow": null,
            "grid_area": null,
            "grid_template_columns": null,
            "flex": null,
            "_model_name": "LayoutModel",
            "justify_items": null,
            "grid_row": null,
            "max_height": null,
            "align_content": null,
            "visibility": null,
            "align_self": null,
            "height": null,
            "min_height": null,
            "padding": null,
            "grid_auto_rows": null,
            "grid_gap": null,
            "max_width": null,
            "order": null,
            "_view_module_version": "1.2.0",
            "grid_template_areas": null,
            "object_position": null,
            "object_fit": null,
            "grid_auto_columns": null,
            "margin": null,
            "display": null,
            "left": null
          }
        },
        "f39e2a0bc26d427aaa5970e2c364b21f": {
          "model_module": "@jupyter-widgets/controls",
          "model_name": "HBoxModel",
          "state": {
            "_view_name": "HBoxView",
            "_dom_classes": [],
            "_model_name": "HBoxModel",
            "_view_module": "@jupyter-widgets/controls",
            "_model_module_version": "1.5.0",
            "_view_count": null,
            "_view_module_version": "1.5.0",
            "box_style": "",
            "layout": "IPY_MODEL_f2a3449b691a49f68e1fcfb98315c397",
            "_model_module": "@jupyter-widgets/controls",
            "children": [
              "IPY_MODEL_397c7d800d4f42089495928473c7ebc5",
              "IPY_MODEL_8b6399dff6124c199d626a937e780a08"
            ]
          }
        },
        "f2a3449b691a49f68e1fcfb98315c397": {
          "model_module": "@jupyter-widgets/base",
          "model_name": "LayoutModel",
          "state": {
            "_view_name": "LayoutView",
            "grid_template_rows": null,
            "right": null,
            "justify_content": null,
            "_view_module": "@jupyter-widgets/base",
            "overflow": null,
            "_model_module_version": "1.2.0",
            "_view_count": null,
            "flex_flow": null,
            "width": null,
            "min_width": null,
            "border": null,
            "align_items": null,
            "bottom": null,
            "_model_module": "@jupyter-widgets/base",
            "top": null,
            "grid_column": null,
            "overflow_y": null,
            "overflow_x": null,
            "grid_auto_flow": null,
            "grid_area": null,
            "grid_template_columns": null,
            "flex": null,
            "_model_name": "LayoutModel",
            "justify_items": null,
            "grid_row": null,
            "max_height": null,
            "align_content": null,
            "visibility": null,
            "align_self": null,
            "height": null,
            "min_height": null,
            "padding": null,
            "grid_auto_rows": null,
            "grid_gap": null,
            "max_width": null,
            "order": null,
            "_view_module_version": "1.2.0",
            "grid_template_areas": null,
            "object_position": null,
            "object_fit": null,
            "grid_auto_columns": null,
            "margin": null,
            "display": null,
            "left": null
          }
        },
        "397c7d800d4f42089495928473c7ebc5": {
          "model_module": "@jupyter-widgets/controls",
          "model_name": "FloatProgressModel",
          "state": {
            "_view_name": "ProgressView",
            "style": "IPY_MODEL_37609810470a43e6b01e86bc6e3dd4b4",
            "_dom_classes": [],
            "description": "Downloading: 100%",
            "_model_name": "FloatProgressModel",
            "bar_style": "success",
            "max": 440473133,
            "_view_module": "@jupyter-widgets/controls",
            "_model_module_version": "1.5.0",
            "value": 440473133,
            "_view_count": null,
            "_view_module_version": "1.5.0",
            "orientation": "horizontal",
            "min": 0,
            "description_tooltip": null,
            "_model_module": "@jupyter-widgets/controls",
            "layout": "IPY_MODEL_1d667c0b913e4cc1a345b1624f4c74f2"
          }
        },
        "8b6399dff6124c199d626a937e780a08": {
          "model_module": "@jupyter-widgets/controls",
          "model_name": "HTMLModel",
          "state": {
            "_view_name": "HTMLView",
            "style": "IPY_MODEL_be26f75a6ff747f9a78cec9a730c3f4d",
            "_dom_classes": [],
            "description": "",
            "_model_name": "HTMLModel",
            "placeholder": "​",
            "_view_module": "@jupyter-widgets/controls",
            "_model_module_version": "1.5.0",
            "value": " 440M/440M [00:17&lt;00:00, 25.9MB/s]",
            "_view_count": null,
            "_view_module_version": "1.5.0",
            "description_tooltip": null,
            "_model_module": "@jupyter-widgets/controls",
            "layout": "IPY_MODEL_b483506c5480460bac64d8dec2f22b6b"
          }
        },
        "37609810470a43e6b01e86bc6e3dd4b4": {
          "model_module": "@jupyter-widgets/controls",
          "model_name": "ProgressStyleModel",
          "state": {
            "_view_name": "StyleView",
            "_model_name": "ProgressStyleModel",
            "description_width": "initial",
            "_view_module": "@jupyter-widgets/base",
            "_model_module_version": "1.5.0",
            "_view_count": null,
            "_view_module_version": "1.2.0",
            "bar_color": null,
            "_model_module": "@jupyter-widgets/controls"
          }
        },
        "1d667c0b913e4cc1a345b1624f4c74f2": {
          "model_module": "@jupyter-widgets/base",
          "model_name": "LayoutModel",
          "state": {
            "_view_name": "LayoutView",
            "grid_template_rows": null,
            "right": null,
            "justify_content": null,
            "_view_module": "@jupyter-widgets/base",
            "overflow": null,
            "_model_module_version": "1.2.0",
            "_view_count": null,
            "flex_flow": null,
            "width": null,
            "min_width": null,
            "border": null,
            "align_items": null,
            "bottom": null,
            "_model_module": "@jupyter-widgets/base",
            "top": null,
            "grid_column": null,
            "overflow_y": null,
            "overflow_x": null,
            "grid_auto_flow": null,
            "grid_area": null,
            "grid_template_columns": null,
            "flex": null,
            "_model_name": "LayoutModel",
            "justify_items": null,
            "grid_row": null,
            "max_height": null,
            "align_content": null,
            "visibility": null,
            "align_self": null,
            "height": null,
            "min_height": null,
            "padding": null,
            "grid_auto_rows": null,
            "grid_gap": null,
            "max_width": null,
            "order": null,
            "_view_module_version": "1.2.0",
            "grid_template_areas": null,
            "object_position": null,
            "object_fit": null,
            "grid_auto_columns": null,
            "margin": null,
            "display": null,
            "left": null
          }
        },
        "be26f75a6ff747f9a78cec9a730c3f4d": {
          "model_module": "@jupyter-widgets/controls",
          "model_name": "DescriptionStyleModel",
          "state": {
            "_view_name": "StyleView",
            "_model_name": "DescriptionStyleModel",
            "description_width": "",
            "_view_module": "@jupyter-widgets/base",
            "_model_module_version": "1.5.0",
            "_view_count": null,
            "_view_module_version": "1.2.0",
            "_model_module": "@jupyter-widgets/controls"
          }
        },
        "b483506c5480460bac64d8dec2f22b6b": {
          "model_module": "@jupyter-widgets/base",
          "model_name": "LayoutModel",
          "state": {
            "_view_name": "LayoutView",
            "grid_template_rows": null,
            "right": null,
            "justify_content": null,
            "_view_module": "@jupyter-widgets/base",
            "overflow": null,
            "_model_module_version": "1.2.0",
            "_view_count": null,
            "flex_flow": null,
            "width": null,
            "min_width": null,
            "border": null,
            "align_items": null,
            "bottom": null,
            "_model_module": "@jupyter-widgets/base",
            "top": null,
            "grid_column": null,
            "overflow_y": null,
            "overflow_x": null,
            "grid_auto_flow": null,
            "grid_area": null,
            "grid_template_columns": null,
            "flex": null,
            "_model_name": "LayoutModel",
            "justify_items": null,
            "grid_row": null,
            "max_height": null,
            "align_content": null,
            "visibility": null,
            "align_self": null,
            "height": null,
            "min_height": null,
            "padding": null,
            "grid_auto_rows": null,
            "grid_gap": null,
            "max_width": null,
            "order": null,
            "_view_module_version": "1.2.0",
            "grid_template_areas": null,
            "object_position": null,
            "object_fit": null,
            "grid_auto_columns": null,
            "margin": null,
            "display": null,
            "left": null
          }
        },
        "97790f627edf459a916d0047ff1472df": {
          "model_module": "@jupyter-widgets/controls",
          "model_name": "HBoxModel",
          "state": {
            "_view_name": "HBoxView",
            "_dom_classes": [],
            "_model_name": "HBoxModel",
            "_view_module": "@jupyter-widgets/controls",
            "_model_module_version": "1.5.0",
            "_view_count": null,
            "_view_module_version": "1.5.0",
            "box_style": "",
            "layout": "IPY_MODEL_71b31006e6f14b53a25dd49bf1a3d432",
            "_model_module": "@jupyter-widgets/controls",
            "children": [
              "IPY_MODEL_1f32986151c941ce9f3790bfae2b6b5a",
              "IPY_MODEL_fe5581366d4045d0aa466d2c65b97f73"
            ]
          }
        },
        "71b31006e6f14b53a25dd49bf1a3d432": {
          "model_module": "@jupyter-widgets/base",
          "model_name": "LayoutModel",
          "state": {
            "_view_name": "LayoutView",
            "grid_template_rows": null,
            "right": null,
            "justify_content": null,
            "_view_module": "@jupyter-widgets/base",
            "overflow": null,
            "_model_module_version": "1.2.0",
            "_view_count": null,
            "flex_flow": null,
            "width": null,
            "min_width": null,
            "border": null,
            "align_items": null,
            "bottom": null,
            "_model_module": "@jupyter-widgets/base",
            "top": null,
            "grid_column": null,
            "overflow_y": null,
            "overflow_x": null,
            "grid_auto_flow": null,
            "grid_area": null,
            "grid_template_columns": null,
            "flex": null,
            "_model_name": "LayoutModel",
            "justify_items": null,
            "grid_row": null,
            "max_height": null,
            "align_content": null,
            "visibility": null,
            "align_self": null,
            "height": null,
            "min_height": null,
            "padding": null,
            "grid_auto_rows": null,
            "grid_gap": null,
            "max_width": null,
            "order": null,
            "_view_module_version": "1.2.0",
            "grid_template_areas": null,
            "object_position": null,
            "object_fit": null,
            "grid_auto_columns": null,
            "margin": null,
            "display": null,
            "left": null
          }
        },
        "1f32986151c941ce9f3790bfae2b6b5a": {
          "model_module": "@jupyter-widgets/controls",
          "model_name": "FloatProgressModel",
          "state": {
            "_view_name": "ProgressView",
            "style": "IPY_MODEL_76ecfecd946247e8a5ef35d914413797",
            "_dom_classes": [],
            "description": "Downloading: 100%",
            "_model_name": "FloatProgressModel",
            "bar_style": "success",
            "max": 231508,
            "_view_module": "@jupyter-widgets/controls",
            "_model_module_version": "1.5.0",
            "value": 231508,
            "_view_count": null,
            "_view_module_version": "1.5.0",
            "orientation": "horizontal",
            "min": 0,
            "description_tooltip": null,
            "_model_module": "@jupyter-widgets/controls",
            "layout": "IPY_MODEL_f781f9761bd64c4b8aae5feeea698f85"
          }
        },
        "fe5581366d4045d0aa466d2c65b97f73": {
          "model_module": "@jupyter-widgets/controls",
          "model_name": "HTMLModel",
          "state": {
            "_view_name": "HTMLView",
            "style": "IPY_MODEL_66cb68b1831c47aa83166924933d6e9c",
            "_dom_classes": [],
            "description": "",
            "_model_name": "HTMLModel",
            "placeholder": "​",
            "_view_module": "@jupyter-widgets/controls",
            "_model_module_version": "1.5.0",
            "value": " 232k/232k [00:03&lt;00:00, 71.1kB/s]",
            "_view_count": null,
            "_view_module_version": "1.5.0",
            "description_tooltip": null,
            "_model_module": "@jupyter-widgets/controls",
            "layout": "IPY_MODEL_042c73dd7a0c4160abde49ff564a86ae"
          }
        },
        "76ecfecd946247e8a5ef35d914413797": {
          "model_module": "@jupyter-widgets/controls",
          "model_name": "ProgressStyleModel",
          "state": {
            "_view_name": "StyleView",
            "_model_name": "ProgressStyleModel",
            "description_width": "initial",
            "_view_module": "@jupyter-widgets/base",
            "_model_module_version": "1.5.0",
            "_view_count": null,
            "_view_module_version": "1.2.0",
            "bar_color": null,
            "_model_module": "@jupyter-widgets/controls"
          }
        },
        "f781f9761bd64c4b8aae5feeea698f85": {
          "model_module": "@jupyter-widgets/base",
          "model_name": "LayoutModel",
          "state": {
            "_view_name": "LayoutView",
            "grid_template_rows": null,
            "right": null,
            "justify_content": null,
            "_view_module": "@jupyter-widgets/base",
            "overflow": null,
            "_model_module_version": "1.2.0",
            "_view_count": null,
            "flex_flow": null,
            "width": null,
            "min_width": null,
            "border": null,
            "align_items": null,
            "bottom": null,
            "_model_module": "@jupyter-widgets/base",
            "top": null,
            "grid_column": null,
            "overflow_y": null,
            "overflow_x": null,
            "grid_auto_flow": null,
            "grid_area": null,
            "grid_template_columns": null,
            "flex": null,
            "_model_name": "LayoutModel",
            "justify_items": null,
            "grid_row": null,
            "max_height": null,
            "align_content": null,
            "visibility": null,
            "align_self": null,
            "height": null,
            "min_height": null,
            "padding": null,
            "grid_auto_rows": null,
            "grid_gap": null,
            "max_width": null,
            "order": null,
            "_view_module_version": "1.2.0",
            "grid_template_areas": null,
            "object_position": null,
            "object_fit": null,
            "grid_auto_columns": null,
            "margin": null,
            "display": null,
            "left": null
          }
        },
        "66cb68b1831c47aa83166924933d6e9c": {
          "model_module": "@jupyter-widgets/controls",
          "model_name": "DescriptionStyleModel",
          "state": {
            "_view_name": "StyleView",
            "_model_name": "DescriptionStyleModel",
            "description_width": "",
            "_view_module": "@jupyter-widgets/base",
            "_model_module_version": "1.5.0",
            "_view_count": null,
            "_view_module_version": "1.2.0",
            "_model_module": "@jupyter-widgets/controls"
          }
        },
        "042c73dd7a0c4160abde49ff564a86ae": {
          "model_module": "@jupyter-widgets/base",
          "model_name": "LayoutModel",
          "state": {
            "_view_name": "LayoutView",
            "grid_template_rows": null,
            "right": null,
            "justify_content": null,
            "_view_module": "@jupyter-widgets/base",
            "overflow": null,
            "_model_module_version": "1.2.0",
            "_view_count": null,
            "flex_flow": null,
            "width": null,
            "min_width": null,
            "border": null,
            "align_items": null,
            "bottom": null,
            "_model_module": "@jupyter-widgets/base",
            "top": null,
            "grid_column": null,
            "overflow_y": null,
            "overflow_x": null,
            "grid_auto_flow": null,
            "grid_area": null,
            "grid_template_columns": null,
            "flex": null,
            "_model_name": "LayoutModel",
            "justify_items": null,
            "grid_row": null,
            "max_height": null,
            "align_content": null,
            "visibility": null,
            "align_self": null,
            "height": null,
            "min_height": null,
            "padding": null,
            "grid_auto_rows": null,
            "grid_gap": null,
            "max_width": null,
            "order": null,
            "_view_module_version": "1.2.0",
            "grid_template_areas": null,
            "object_position": null,
            "object_fit": null,
            "grid_auto_columns": null,
            "margin": null,
            "display": null,
            "left": null
          }
        },
        "5e5cc74191334deda1bd52c0225252a3": {
          "model_module": "@jupyter-widgets/controls",
          "model_name": "HBoxModel",
          "state": {
            "_view_name": "HBoxView",
            "_dom_classes": [],
            "_model_name": "HBoxModel",
            "_view_module": "@jupyter-widgets/controls",
            "_model_module_version": "1.5.0",
            "_view_count": null,
            "_view_module_version": "1.5.0",
            "box_style": "",
            "layout": "IPY_MODEL_d7bb9c82e8344f0ea697259320a4d8cd",
            "_model_module": "@jupyter-widgets/controls",
            "children": [
              "IPY_MODEL_4b0bb56a4ba94d639bb798229dc33e93",
              "IPY_MODEL_c305d4ad5aee4be3849c119ad2500e7a"
            ]
          }
        },
        "d7bb9c82e8344f0ea697259320a4d8cd": {
          "model_module": "@jupyter-widgets/base",
          "model_name": "LayoutModel",
          "state": {
            "_view_name": "LayoutView",
            "grid_template_rows": null,
            "right": null,
            "justify_content": null,
            "_view_module": "@jupyter-widgets/base",
            "overflow": null,
            "_model_module_version": "1.2.0",
            "_view_count": null,
            "flex_flow": null,
            "width": null,
            "min_width": null,
            "border": null,
            "align_items": null,
            "bottom": null,
            "_model_module": "@jupyter-widgets/base",
            "top": null,
            "grid_column": null,
            "overflow_y": null,
            "overflow_x": null,
            "grid_auto_flow": null,
            "grid_area": null,
            "grid_template_columns": null,
            "flex": null,
            "_model_name": "LayoutModel",
            "justify_items": null,
            "grid_row": null,
            "max_height": null,
            "align_content": null,
            "visibility": null,
            "align_self": null,
            "height": null,
            "min_height": null,
            "padding": null,
            "grid_auto_rows": null,
            "grid_gap": null,
            "max_width": null,
            "order": null,
            "_view_module_version": "1.2.0",
            "grid_template_areas": null,
            "object_position": null,
            "object_fit": null,
            "grid_auto_columns": null,
            "margin": null,
            "display": null,
            "left": null
          }
        },
        "4b0bb56a4ba94d639bb798229dc33e93": {
          "model_module": "@jupyter-widgets/controls",
          "model_name": "FloatProgressModel",
          "state": {
            "_view_name": "ProgressView",
            "style": "IPY_MODEL_f8a78f20c1f7475e923ba057aae5ccad",
            "_dom_classes": [],
            "description": "Downloading: 100%",
            "_model_name": "FloatProgressModel",
            "bar_style": "success",
            "max": 383,
            "_view_module": "@jupyter-widgets/controls",
            "_model_module_version": "1.5.0",
            "value": 383,
            "_view_count": null,
            "_view_module_version": "1.5.0",
            "orientation": "horizontal",
            "min": 0,
            "description_tooltip": null,
            "_model_module": "@jupyter-widgets/controls",
            "layout": "IPY_MODEL_ef7a04ace4d54beda8066b3ef28c49e9"
          }
        },
        "c305d4ad5aee4be3849c119ad2500e7a": {
          "model_module": "@jupyter-widgets/controls",
          "model_name": "HTMLModel",
          "state": {
            "_view_name": "HTMLView",
            "style": "IPY_MODEL_dfad00ba7f07401eb4108b9af87e5f8f",
            "_dom_classes": [],
            "description": "",
            "_model_name": "HTMLModel",
            "placeholder": "​",
            "_view_module": "@jupyter-widgets/controls",
            "_model_module_version": "1.5.0",
            "value": " 383/383 [00:01&lt;00:00, 261B/s]",
            "_view_count": null,
            "_view_module_version": "1.5.0",
            "description_tooltip": null,
            "_model_module": "@jupyter-widgets/controls",
            "layout": "IPY_MODEL_a1308b1da01447f7a1e2586391ea433f"
          }
        },
        "f8a78f20c1f7475e923ba057aae5ccad": {
          "model_module": "@jupyter-widgets/controls",
          "model_name": "ProgressStyleModel",
          "state": {
            "_view_name": "StyleView",
            "_model_name": "ProgressStyleModel",
            "description_width": "initial",
            "_view_module": "@jupyter-widgets/base",
            "_model_module_version": "1.5.0",
            "_view_count": null,
            "_view_module_version": "1.2.0",
            "bar_color": null,
            "_model_module": "@jupyter-widgets/controls"
          }
        },
        "ef7a04ace4d54beda8066b3ef28c49e9": {
          "model_module": "@jupyter-widgets/base",
          "model_name": "LayoutModel",
          "state": {
            "_view_name": "LayoutView",
            "grid_template_rows": null,
            "right": null,
            "justify_content": null,
            "_view_module": "@jupyter-widgets/base",
            "overflow": null,
            "_model_module_version": "1.2.0",
            "_view_count": null,
            "flex_flow": null,
            "width": null,
            "min_width": null,
            "border": null,
            "align_items": null,
            "bottom": null,
            "_model_module": "@jupyter-widgets/base",
            "top": null,
            "grid_column": null,
            "overflow_y": null,
            "overflow_x": null,
            "grid_auto_flow": null,
            "grid_area": null,
            "grid_template_columns": null,
            "flex": null,
            "_model_name": "LayoutModel",
            "justify_items": null,
            "grid_row": null,
            "max_height": null,
            "align_content": null,
            "visibility": null,
            "align_self": null,
            "height": null,
            "min_height": null,
            "padding": null,
            "grid_auto_rows": null,
            "grid_gap": null,
            "max_width": null,
            "order": null,
            "_view_module_version": "1.2.0",
            "grid_template_areas": null,
            "object_position": null,
            "object_fit": null,
            "grid_auto_columns": null,
            "margin": null,
            "display": null,
            "left": null
          }
        },
        "dfad00ba7f07401eb4108b9af87e5f8f": {
          "model_module": "@jupyter-widgets/controls",
          "model_name": "DescriptionStyleModel",
          "state": {
            "_view_name": "StyleView",
            "_model_name": "DescriptionStyleModel",
            "description_width": "",
            "_view_module": "@jupyter-widgets/base",
            "_model_module_version": "1.5.0",
            "_view_count": null,
            "_view_module_version": "1.2.0",
            "_model_module": "@jupyter-widgets/controls"
          }
        },
        "a1308b1da01447f7a1e2586391ea433f": {
          "model_module": "@jupyter-widgets/base",
          "model_name": "LayoutModel",
          "state": {
            "_view_name": "LayoutView",
            "grid_template_rows": null,
            "right": null,
            "justify_content": null,
            "_view_module": "@jupyter-widgets/base",
            "overflow": null,
            "_model_module_version": "1.2.0",
            "_view_count": null,
            "flex_flow": null,
            "width": null,
            "min_width": null,
            "border": null,
            "align_items": null,
            "bottom": null,
            "_model_module": "@jupyter-widgets/base",
            "top": null,
            "grid_column": null,
            "overflow_y": null,
            "overflow_x": null,
            "grid_auto_flow": null,
            "grid_area": null,
            "grid_template_columns": null,
            "flex": null,
            "_model_name": "LayoutModel",
            "justify_items": null,
            "grid_row": null,
            "max_height": null,
            "align_content": null,
            "visibility": null,
            "align_self": null,
            "height": null,
            "min_height": null,
            "padding": null,
            "grid_auto_rows": null,
            "grid_gap": null,
            "max_width": null,
            "order": null,
            "_view_module_version": "1.2.0",
            "grid_template_areas": null,
            "object_position": null,
            "object_fit": null,
            "grid_auto_columns": null,
            "margin": null,
            "display": null,
            "left": null
          }
        },
        "13a30dfeed4d4d3e816526b78bdff439": {
          "model_module": "@jupyter-widgets/controls",
          "model_name": "HBoxModel",
          "state": {
            "_view_name": "HBoxView",
            "_dom_classes": [],
            "_model_name": "HBoxModel",
            "_view_module": "@jupyter-widgets/controls",
            "_model_module_version": "1.5.0",
            "_view_count": null,
            "_view_module_version": "1.5.0",
            "box_style": "",
            "layout": "IPY_MODEL_2556c6ec582a47b19f5869ab29a9541b",
            "_model_module": "@jupyter-widgets/controls",
            "children": [
              "IPY_MODEL_abf70cf7fef04d879dec31de7bf83ac7",
              "IPY_MODEL_70df5b7a0a774d419b75a296727b7c4a"
            ]
          }
        },
        "2556c6ec582a47b19f5869ab29a9541b": {
          "model_module": "@jupyter-widgets/base",
          "model_name": "LayoutModel",
          "state": {
            "_view_name": "LayoutView",
            "grid_template_rows": null,
            "right": null,
            "justify_content": null,
            "_view_module": "@jupyter-widgets/base",
            "overflow": null,
            "_model_module_version": "1.2.0",
            "_view_count": null,
            "flex_flow": null,
            "width": null,
            "min_width": null,
            "border": null,
            "align_items": null,
            "bottom": null,
            "_model_module": "@jupyter-widgets/base",
            "top": null,
            "grid_column": null,
            "overflow_y": null,
            "overflow_x": null,
            "grid_auto_flow": null,
            "grid_area": null,
            "grid_template_columns": null,
            "flex": null,
            "_model_name": "LayoutModel",
            "justify_items": null,
            "grid_row": null,
            "max_height": null,
            "align_content": null,
            "visibility": null,
            "align_self": null,
            "height": null,
            "min_height": null,
            "padding": null,
            "grid_auto_rows": null,
            "grid_gap": null,
            "max_width": null,
            "order": null,
            "_view_module_version": "1.2.0",
            "grid_template_areas": null,
            "object_position": null,
            "object_fit": null,
            "grid_auto_columns": null,
            "margin": null,
            "display": null,
            "left": null
          }
        },
        "abf70cf7fef04d879dec31de7bf83ac7": {
          "model_module": "@jupyter-widgets/controls",
          "model_name": "FloatProgressModel",
          "state": {
            "_view_name": "ProgressView",
            "style": "IPY_MODEL_ced069ce3a934543962084f729de7a20",
            "_dom_classes": [],
            "description": "Downloading: 100%",
            "_model_name": "FloatProgressModel",
            "bar_style": "success",
            "max": 25710911,
            "_view_module": "@jupyter-widgets/controls",
            "_model_module_version": "1.5.0",
            "value": 25710911,
            "_view_count": null,
            "_view_module_version": "1.5.0",
            "orientation": "horizontal",
            "min": 0,
            "description_tooltip": null,
            "_model_module": "@jupyter-widgets/controls",
            "layout": "IPY_MODEL_0daf3b56284649f4b7eb21ec36d3ebc2"
          }
        },
        "70df5b7a0a774d419b75a296727b7c4a": {
          "model_module": "@jupyter-widgets/controls",
          "model_name": "HTMLModel",
          "state": {
            "_view_name": "HTMLView",
            "style": "IPY_MODEL_3452c95abcfc40deac100b4f9d363daf",
            "_dom_classes": [],
            "description": "",
            "_model_name": "HTMLModel",
            "placeholder": "​",
            "_view_module": "@jupyter-widgets/controls",
            "_model_module_version": "1.5.0",
            "value": " 25.7M/25.7M [00:01&lt;00:00, 21.6MB/s]",
            "_view_count": null,
            "_view_module_version": "1.5.0",
            "description_tooltip": null,
            "_model_module": "@jupyter-widgets/controls",
            "layout": "IPY_MODEL_b826096d2f0b4e91abd86b48180714dd"
          }
        },
        "ced069ce3a934543962084f729de7a20": {
          "model_module": "@jupyter-widgets/controls",
          "model_name": "ProgressStyleModel",
          "state": {
            "_view_name": "StyleView",
            "_model_name": "ProgressStyleModel",
            "description_width": "initial",
            "_view_module": "@jupyter-widgets/base",
            "_model_module_version": "1.5.0",
            "_view_count": null,
            "_view_module_version": "1.2.0",
            "bar_color": null,
            "_model_module": "@jupyter-widgets/controls"
          }
        },
        "0daf3b56284649f4b7eb21ec36d3ebc2": {
          "model_module": "@jupyter-widgets/base",
          "model_name": "LayoutModel",
          "state": {
            "_view_name": "LayoutView",
            "grid_template_rows": null,
            "right": null,
            "justify_content": null,
            "_view_module": "@jupyter-widgets/base",
            "overflow": null,
            "_model_module_version": "1.2.0",
            "_view_count": null,
            "flex_flow": null,
            "width": null,
            "min_width": null,
            "border": null,
            "align_items": null,
            "bottom": null,
            "_model_module": "@jupyter-widgets/base",
            "top": null,
            "grid_column": null,
            "overflow_y": null,
            "overflow_x": null,
            "grid_auto_flow": null,
            "grid_area": null,
            "grid_template_columns": null,
            "flex": null,
            "_model_name": "LayoutModel",
            "justify_items": null,
            "grid_row": null,
            "max_height": null,
            "align_content": null,
            "visibility": null,
            "align_self": null,
            "height": null,
            "min_height": null,
            "padding": null,
            "grid_auto_rows": null,
            "grid_gap": null,
            "max_width": null,
            "order": null,
            "_view_module_version": "1.2.0",
            "grid_template_areas": null,
            "object_position": null,
            "object_fit": null,
            "grid_auto_columns": null,
            "margin": null,
            "display": null,
            "left": null
          }
        },
        "3452c95abcfc40deac100b4f9d363daf": {
          "model_module": "@jupyter-widgets/controls",
          "model_name": "DescriptionStyleModel",
          "state": {
            "_view_name": "StyleView",
            "_model_name": "DescriptionStyleModel",
            "description_width": "",
            "_view_module": "@jupyter-widgets/base",
            "_model_module_version": "1.5.0",
            "_view_count": null,
            "_view_module_version": "1.2.0",
            "_model_module": "@jupyter-widgets/controls"
          }
        },
        "b826096d2f0b4e91abd86b48180714dd": {
          "model_module": "@jupyter-widgets/base",
          "model_name": "LayoutModel",
          "state": {
            "_view_name": "LayoutView",
            "grid_template_rows": null,
            "right": null,
            "justify_content": null,
            "_view_module": "@jupyter-widgets/base",
            "overflow": null,
            "_model_module_version": "1.2.0",
            "_view_count": null,
            "flex_flow": null,
            "width": null,
            "min_width": null,
            "border": null,
            "align_items": null,
            "bottom": null,
            "_model_module": "@jupyter-widgets/base",
            "top": null,
            "grid_column": null,
            "overflow_y": null,
            "overflow_x": null,
            "grid_auto_flow": null,
            "grid_area": null,
            "grid_template_columns": null,
            "flex": null,
            "_model_name": "LayoutModel",
            "justify_items": null,
            "grid_row": null,
            "max_height": null,
            "align_content": null,
            "visibility": null,
            "align_self": null,
            "height": null,
            "min_height": null,
            "padding": null,
            "grid_auto_rows": null,
            "grid_gap": null,
            "max_width": null,
            "order": null,
            "_view_module_version": "1.2.0",
            "grid_template_areas": null,
            "object_position": null,
            "object_fit": null,
            "grid_auto_columns": null,
            "margin": null,
            "display": null,
            "left": null
          }
        },
        "a5e286e291cc4923832a10b7394cfe05": {
          "model_module": "@jupyter-widgets/controls",
          "model_name": "HBoxModel",
          "state": {
            "_view_name": "HBoxView",
            "_dom_classes": [],
            "_model_name": "HBoxModel",
            "_view_module": "@jupyter-widgets/controls",
            "_model_module_version": "1.5.0",
            "_view_count": null,
            "_view_module_version": "1.5.0",
            "box_style": "",
            "layout": "IPY_MODEL_b6848bad515249a6b55769270060919b",
            "_model_module": "@jupyter-widgets/controls",
            "children": [
              "IPY_MODEL_72d3d645990a429b9a239ec57fecaf71",
              "IPY_MODEL_500c5d417663410eb4941fd5d001618a"
            ]
          }
        },
        "b6848bad515249a6b55769270060919b": {
          "model_module": "@jupyter-widgets/base",
          "model_name": "LayoutModel",
          "state": {
            "_view_name": "LayoutView",
            "grid_template_rows": null,
            "right": null,
            "justify_content": null,
            "_view_module": "@jupyter-widgets/base",
            "overflow": null,
            "_model_module_version": "1.2.0",
            "_view_count": null,
            "flex_flow": null,
            "width": null,
            "min_width": null,
            "border": null,
            "align_items": null,
            "bottom": null,
            "_model_module": "@jupyter-widgets/base",
            "top": null,
            "grid_column": null,
            "overflow_y": null,
            "overflow_x": null,
            "grid_auto_flow": null,
            "grid_area": null,
            "grid_template_columns": null,
            "flex": null,
            "_model_name": "LayoutModel",
            "justify_items": null,
            "grid_row": null,
            "max_height": null,
            "align_content": null,
            "visibility": null,
            "align_self": null,
            "height": null,
            "min_height": null,
            "padding": null,
            "grid_auto_rows": null,
            "grid_gap": null,
            "max_width": null,
            "order": null,
            "_view_module_version": "1.2.0",
            "grid_template_areas": null,
            "object_position": null,
            "object_fit": null,
            "grid_auto_columns": null,
            "margin": null,
            "display": null,
            "left": null
          }
        },
        "72d3d645990a429b9a239ec57fecaf71": {
          "model_module": "@jupyter-widgets/controls",
          "model_name": "FloatProgressModel",
          "state": {
            "_view_name": "ProgressView",
            "style": "IPY_MODEL_9825c87c51ce4b059b48c7624cfe10cd",
            "_dom_classes": [],
            "description": "100%",
            "_model_name": "FloatProgressModel",
            "bar_style": "success",
            "max": 30522,
            "_view_module": "@jupyter-widgets/controls",
            "_model_module_version": "1.5.0",
            "value": 30522,
            "_view_count": null,
            "_view_module_version": "1.5.0",
            "orientation": "horizontal",
            "min": 0,
            "description_tooltip": null,
            "_model_module": "@jupyter-widgets/controls",
            "layout": "IPY_MODEL_19aa6a65e0da4fd8b2fa6f8292d86626"
          }
        },
        "500c5d417663410eb4941fd5d001618a": {
          "model_module": "@jupyter-widgets/controls",
          "model_name": "HTMLModel",
          "state": {
            "_view_name": "HTMLView",
            "style": "IPY_MODEL_9576e28b834d45cc8ac3c560c544d31d",
            "_dom_classes": [],
            "description": "",
            "_model_name": "HTMLModel",
            "placeholder": "​",
            "_view_module": "@jupyter-widgets/controls",
            "_model_module_version": "1.5.0",
            "value": " 30522/30522 [06:31&lt;00:00, 77.93it/s]",
            "_view_count": null,
            "_view_module_version": "1.5.0",
            "description_tooltip": null,
            "_model_module": "@jupyter-widgets/controls",
            "layout": "IPY_MODEL_793be8eeb7a34f0db746d2752ae0ea46"
          }
        },
        "9825c87c51ce4b059b48c7624cfe10cd": {
          "model_module": "@jupyter-widgets/controls",
          "model_name": "ProgressStyleModel",
          "state": {
            "_view_name": "StyleView",
            "_model_name": "ProgressStyleModel",
            "description_width": "initial",
            "_view_module": "@jupyter-widgets/base",
            "_model_module_version": "1.5.0",
            "_view_count": null,
            "_view_module_version": "1.2.0",
            "bar_color": null,
            "_model_module": "@jupyter-widgets/controls"
          }
        },
        "19aa6a65e0da4fd8b2fa6f8292d86626": {
          "model_module": "@jupyter-widgets/base",
          "model_name": "LayoutModel",
          "state": {
            "_view_name": "LayoutView",
            "grid_template_rows": null,
            "right": null,
            "justify_content": null,
            "_view_module": "@jupyter-widgets/base",
            "overflow": null,
            "_model_module_version": "1.2.0",
            "_view_count": null,
            "flex_flow": null,
            "width": null,
            "min_width": null,
            "border": null,
            "align_items": null,
            "bottom": null,
            "_model_module": "@jupyter-widgets/base",
            "top": null,
            "grid_column": null,
            "overflow_y": null,
            "overflow_x": null,
            "grid_auto_flow": null,
            "grid_area": null,
            "grid_template_columns": null,
            "flex": null,
            "_model_name": "LayoutModel",
            "justify_items": null,
            "grid_row": null,
            "max_height": null,
            "align_content": null,
            "visibility": null,
            "align_self": null,
            "height": null,
            "min_height": null,
            "padding": null,
            "grid_auto_rows": null,
            "grid_gap": null,
            "max_width": null,
            "order": null,
            "_view_module_version": "1.2.0",
            "grid_template_areas": null,
            "object_position": null,
            "object_fit": null,
            "grid_auto_columns": null,
            "margin": null,
            "display": null,
            "left": null
          }
        },
        "9576e28b834d45cc8ac3c560c544d31d": {
          "model_module": "@jupyter-widgets/controls",
          "model_name": "DescriptionStyleModel",
          "state": {
            "_view_name": "StyleView",
            "_model_name": "DescriptionStyleModel",
            "description_width": "",
            "_view_module": "@jupyter-widgets/base",
            "_model_module_version": "1.5.0",
            "_view_count": null,
            "_view_module_version": "1.2.0",
            "_model_module": "@jupyter-widgets/controls"
          }
        },
        "793be8eeb7a34f0db746d2752ae0ea46": {
          "model_module": "@jupyter-widgets/base",
          "model_name": "LayoutModel",
          "state": {
            "_view_name": "LayoutView",
            "grid_template_rows": null,
            "right": null,
            "justify_content": null,
            "_view_module": "@jupyter-widgets/base",
            "overflow": null,
            "_model_module_version": "1.2.0",
            "_view_count": null,
            "flex_flow": null,
            "width": null,
            "min_width": null,
            "border": null,
            "align_items": null,
            "bottom": null,
            "_model_module": "@jupyter-widgets/base",
            "top": null,
            "grid_column": null,
            "overflow_y": null,
            "overflow_x": null,
            "grid_auto_flow": null,
            "grid_area": null,
            "grid_template_columns": null,
            "flex": null,
            "_model_name": "LayoutModel",
            "justify_items": null,
            "grid_row": null,
            "max_height": null,
            "align_content": null,
            "visibility": null,
            "align_self": null,
            "height": null,
            "min_height": null,
            "padding": null,
            "grid_auto_rows": null,
            "grid_gap": null,
            "max_width": null,
            "order": null,
            "_view_module_version": "1.2.0",
            "grid_template_areas": null,
            "object_position": null,
            "object_fit": null,
            "grid_auto_columns": null,
            "margin": null,
            "display": null,
            "left": null
          }
        }
      }
    }
  },
  "cells": [
    {
      "cell_type": "code",
      "metadata": {
        "id": "MFgo9YxQaJcP",
        "colab": {
          "base_uri": "https://localhost:8080/"
        },
        "outputId": "02bbe4d5-0531-422b-c51d-f923dcaab892"
      },
      "source": [
        "!pip3 install transformers"
      ],
      "execution_count": null,
      "outputs": [
        {
          "output_type": "stream",
          "text": [
            "Collecting transformers\n",
            "\u001b[?25l  Downloading https://files.pythonhosted.org/packages/d5/43/cfe4ee779bbd6a678ac6a97c5a5cdeb03c35f9eaebbb9720b036680f9a2d/transformers-4.6.1-py3-none-any.whl (2.2MB)\n",
            "\u001b[K     |████████████████████████████████| 2.3MB 2.9MB/s \n",
            "\u001b[?25hRequirement already satisfied: regex!=2019.12.17 in /usr/local/lib/python3.7/dist-packages (from transformers) (2019.12.20)\n",
            "Requirement already satisfied: numpy>=1.17 in /usr/local/lib/python3.7/dist-packages (from transformers) (1.19.5)\n",
            "Collecting tokenizers<0.11,>=0.10.1\n",
            "\u001b[?25l  Downloading https://files.pythonhosted.org/packages/d4/e2/df3543e8ffdab68f5acc73f613de9c2b155ac47f162e725dcac87c521c11/tokenizers-0.10.3-cp37-cp37m-manylinux_2_5_x86_64.manylinux1_x86_64.manylinux_2_12_x86_64.manylinux2010_x86_64.whl (3.3MB)\n",
            "\u001b[K     |████████████████████████████████| 3.3MB 21.2MB/s \n",
            "\u001b[?25hCollecting huggingface-hub==0.0.8\n",
            "  Downloading https://files.pythonhosted.org/packages/a1/88/7b1e45720ecf59c6c6737ff332f41c955963090a18e72acbcbeac6b25e86/huggingface_hub-0.0.8-py3-none-any.whl\n",
            "Requirement already satisfied: requests in /usr/local/lib/python3.7/dist-packages (from transformers) (2.23.0)\n",
            "Requirement already satisfied: tqdm>=4.27 in /usr/local/lib/python3.7/dist-packages (from transformers) (4.41.1)\n",
            "Requirement already satisfied: filelock in /usr/local/lib/python3.7/dist-packages (from transformers) (3.0.12)\n",
            "Requirement already satisfied: packaging in /usr/local/lib/python3.7/dist-packages (from transformers) (20.9)\n",
            "Collecting sacremoses\n",
            "\u001b[?25l  Downloading https://files.pythonhosted.org/packages/75/ee/67241dc87f266093c533a2d4d3d69438e57d7a90abb216fa076e7d475d4a/sacremoses-0.0.45-py3-none-any.whl (895kB)\n",
            "\u001b[K     |████████████████████████████████| 901kB 42.4MB/s \n",
            "\u001b[?25hRequirement already satisfied: importlib-metadata; python_version < \"3.8\" in /usr/local/lib/python3.7/dist-packages (from transformers) (4.0.1)\n",
            "Requirement already satisfied: idna<3,>=2.5 in /usr/local/lib/python3.7/dist-packages (from requests->transformers) (2.10)\n",
            "Requirement already satisfied: urllib3!=1.25.0,!=1.25.1,<1.26,>=1.21.1 in /usr/local/lib/python3.7/dist-packages (from requests->transformers) (1.24.3)\n",
            "Requirement already satisfied: chardet<4,>=3.0.2 in /usr/local/lib/python3.7/dist-packages (from requests->transformers) (3.0.4)\n",
            "Requirement already satisfied: certifi>=2017.4.17 in /usr/local/lib/python3.7/dist-packages (from requests->transformers) (2020.12.5)\n",
            "Requirement already satisfied: pyparsing>=2.0.2 in /usr/local/lib/python3.7/dist-packages (from packaging->transformers) (2.4.7)\n",
            "Requirement already satisfied: click in /usr/local/lib/python3.7/dist-packages (from sacremoses->transformers) (7.1.2)\n",
            "Requirement already satisfied: six in /usr/local/lib/python3.7/dist-packages (from sacremoses->transformers) (1.15.0)\n",
            "Requirement already satisfied: joblib in /usr/local/lib/python3.7/dist-packages (from sacremoses->transformers) (1.0.1)\n",
            "Requirement already satisfied: typing-extensions>=3.6.4; python_version < \"3.8\" in /usr/local/lib/python3.7/dist-packages (from importlib-metadata; python_version < \"3.8\"->transformers) (3.7.4.3)\n",
            "Requirement already satisfied: zipp>=0.5 in /usr/local/lib/python3.7/dist-packages (from importlib-metadata; python_version < \"3.8\"->transformers) (3.4.1)\n",
            "Installing collected packages: tokenizers, huggingface-hub, sacremoses, transformers\n",
            "Successfully installed huggingface-hub-0.0.8 sacremoses-0.0.45 tokenizers-0.10.3 transformers-4.6.1\n"
          ],
          "name": "stdout"
        }
      ]
    },
    {
      "cell_type": "code",
      "metadata": {
        "id": "BSzbo8UmZkSi"
      },
      "source": [
        "import matplotlib.pyplot as plt\n",
        "import numpy as np\n",
        "import torch\n",
        "\n",
        "from scipy import spatial\n",
        "from scipy.spatial.distance import cosine\n",
        "from sklearn.decomposition import PCA\n",
        "from tqdm.notebook import tqdm\n",
        "from transformers import (\n",
        "    BertModel, BertConfig, BertTokenizer, TrainingArguments, \n",
        "    Trainer, LineByLineTextDataset, DataCollatorForLanguageModeling,\n",
        "    DataCollatorWithPadding, DataCollator, BertForMaskedLM, BertForPreTraining\n",
        ")"
      ],
      "execution_count": null,
      "outputs": []
    },
    {
      "cell_type": "markdown",
      "metadata": {
        "id": "a4Ejo_Y_Ztoy"
      },
      "source": [
        ""
      ]
    },
    {
      "cell_type": "markdown",
      "metadata": {
        "id": "4lLQ2rUhZum7"
      },
      "source": [
        "# Достаём эмбеддинги из предобученного BERT"
      ]
    },
    {
      "cell_type": "markdown",
      "metadata": {
        "id": "Do_UvyvCgvNZ"
      },
      "source": [
        "## Загружаем модель"
      ]
    },
    {
      "cell_type": "code",
      "metadata": {
        "colab": {
          "base_uri": "https://localhost:8080/",
          "height": 339,
          "referenced_widgets": [
            "57c26648cc3746369e83421fa346a7c1",
            "3d8f4df98df44d4b9f886562ca5fc3d6",
            "1ae0fd6b11504e28a47f6bb403116fef",
            "11a67aa02126482396f973f778f5c11f",
            "92c2d5025fcf4488b19a91cbfe9a0511",
            "4a0f39d7eea84dc5a40a0b5c2e61bb2c",
            "0f7e36f70689422f98650e2af32697c2",
            "c26360871b294238b98e8684306add11",
            "1d9726af9ac74293af4fbbd6100d0926",
            "29499dcca940423b8ed657f55c197ac9",
            "ebce659c96bf450094c40db9cfa5b042",
            "3700fef1e5ec4a3083a1160688279b3d",
            "5e68da8d07714a6582983c870946de47",
            "85c58811601c47d9bbd00c3b42332a18",
            "c358974e8f8d46c1a698982c6219c1e8",
            "049af2628402453b93598f76201a9c9c",
            "53f61ce015f2453bbd2867cd20e5304b",
            "ea10fec575884332ba41b922542334f3",
            "5f8fdfc5fdd54431a81a942503d6851a",
            "1de4de3ed5264ba8a7ba86573a105fce",
            "e1dbdae4de854982b5448826fbfc53f5",
            "9d8dc259aec24acab9b8388b0105ee46",
            "6ba9e6f336ee4e75b1f53ac6a38cdeca",
            "fba17b7abb0648339603886bb84bd202",
            "c630022d69f84dd789d0fb6c10fbe188",
            "05ad1f3872024407a3877d63fb127ea7",
            "8a9d164baba94cff977e3de48facd39d",
            "c541331e44d34e1da33798f53b88522d",
            "c5dc60d80a75484c9e77f177fe97507d",
            "3c2d8e605abe4288877bb653bc2c77e1",
            "7bb9e383b2f94d738bd85e30780976cd",
            "c68323d712984a5fb1b5ab82f0496a96",
            "f39e2a0bc26d427aaa5970e2c364b21f",
            "f2a3449b691a49f68e1fcfb98315c397",
            "397c7d800d4f42089495928473c7ebc5",
            "8b6399dff6124c199d626a937e780a08",
            "37609810470a43e6b01e86bc6e3dd4b4",
            "1d667c0b913e4cc1a345b1624f4c74f2",
            "be26f75a6ff747f9a78cec9a730c3f4d",
            "b483506c5480460bac64d8dec2f22b6b"
          ]
        },
        "id": "tpeaN4WRZrSJ",
        "outputId": "42e92191-8f1f-4843-cbbe-4552d5377f52"
      },
      "source": [
        "tokenizer = BertTokenizer.from_pretrained('bert-base-uncased')\n",
        "config = BertConfig.from_pretrained('bert-base-uncased', output_hidden_states=True)\n",
        "model = BertModel.from_pretrained('bert-base-uncased', config=config)"
      ],
      "execution_count": null,
      "outputs": [
        {
          "output_type": "display_data",
          "data": {
            "application/vnd.jupyter.widget-view+json": {
              "model_id": "57c26648cc3746369e83421fa346a7c1",
              "version_minor": 0,
              "version_major": 2
            },
            "text/plain": [
              "HBox(children=(FloatProgress(value=0.0, description='Downloading', max=231508.0, style=ProgressStyle(descripti…"
            ]
          },
          "metadata": {
            "tags": []
          }
        },
        {
          "output_type": "stream",
          "text": [
            "\n"
          ],
          "name": "stdout"
        },
        {
          "output_type": "display_data",
          "data": {
            "application/vnd.jupyter.widget-view+json": {
              "model_id": "1d9726af9ac74293af4fbbd6100d0926",
              "version_minor": 0,
              "version_major": 2
            },
            "text/plain": [
              "HBox(children=(FloatProgress(value=0.0, description='Downloading', max=28.0, style=ProgressStyle(description_w…"
            ]
          },
          "metadata": {
            "tags": []
          }
        },
        {
          "output_type": "stream",
          "text": [
            "\n"
          ],
          "name": "stdout"
        },
        {
          "output_type": "display_data",
          "data": {
            "application/vnd.jupyter.widget-view+json": {
              "model_id": "53f61ce015f2453bbd2867cd20e5304b",
              "version_minor": 0,
              "version_major": 2
            },
            "text/plain": [
              "HBox(children=(FloatProgress(value=0.0, description='Downloading', max=466062.0, style=ProgressStyle(descripti…"
            ]
          },
          "metadata": {
            "tags": []
          }
        },
        {
          "output_type": "stream",
          "text": [
            "\n"
          ],
          "name": "stdout"
        },
        {
          "output_type": "display_data",
          "data": {
            "application/vnd.jupyter.widget-view+json": {
              "model_id": "c630022d69f84dd789d0fb6c10fbe188",
              "version_minor": 0,
              "version_major": 2
            },
            "text/plain": [
              "HBox(children=(FloatProgress(value=0.0, description='Downloading', max=570.0, style=ProgressStyle(description_…"
            ]
          },
          "metadata": {
            "tags": []
          }
        },
        {
          "output_type": "stream",
          "text": [
            "\n"
          ],
          "name": "stdout"
        },
        {
          "output_type": "display_data",
          "data": {
            "application/vnd.jupyter.widget-view+json": {
              "model_id": "f39e2a0bc26d427aaa5970e2c364b21f",
              "version_minor": 0,
              "version_major": 2
            },
            "text/plain": [
              "HBox(children=(FloatProgress(value=0.0, description='Downloading', max=440473133.0, style=ProgressStyle(descri…"
            ]
          },
          "metadata": {
            "tags": []
          }
        },
        {
          "output_type": "stream",
          "text": [
            "\n"
          ],
          "name": "stdout"
        },
        {
          "output_type": "stream",
          "text": [
            "Some weights of the model checkpoint at bert-base-uncased were not used when initializing BertModel: ['cls.seq_relationship.weight', 'cls.predictions.bias', 'cls.predictions.transform.dense.bias', 'cls.predictions.transform.LayerNorm.weight', 'cls.seq_relationship.bias', 'cls.predictions.transform.dense.weight', 'cls.predictions.decoder.weight', 'cls.predictions.transform.LayerNorm.bias']\n",
            "- This IS expected if you are initializing BertModel from the checkpoint of a model trained on another task or with another architecture (e.g. initializing a BertForSequenceClassification model from a BertForPreTraining model).\n",
            "- This IS NOT expected if you are initializing BertModel from the checkpoint of a model that you expect to be exactly identical (initializing a BertForSequenceClassification model from a BertForSequenceClassification model).\n"
          ],
          "name": "stderr"
        }
      ]
    },
    {
      "cell_type": "code",
      "metadata": {
        "colab": {
          "base_uri": "https://localhost:8080/",
          "height": 240,
          "referenced_widgets": [
            "97790f627edf459a916d0047ff1472df",
            "71b31006e6f14b53a25dd49bf1a3d432",
            "1f32986151c941ce9f3790bfae2b6b5a",
            "fe5581366d4045d0aa466d2c65b97f73",
            "76ecfecd946247e8a5ef35d914413797",
            "f781f9761bd64c4b8aae5feeea698f85",
            "66cb68b1831c47aa83166924933d6e9c",
            "042c73dd7a0c4160abde49ff564a86ae",
            "5e5cc74191334deda1bd52c0225252a3",
            "d7bb9c82e8344f0ea697259320a4d8cd",
            "4b0bb56a4ba94d639bb798229dc33e93",
            "c305d4ad5aee4be3849c119ad2500e7a",
            "f8a78f20c1f7475e923ba057aae5ccad",
            "ef7a04ace4d54beda8066b3ef28c49e9",
            "dfad00ba7f07401eb4108b9af87e5f8f",
            "a1308b1da01447f7a1e2586391ea433f",
            "13a30dfeed4d4d3e816526b78bdff439",
            "2556c6ec582a47b19f5869ab29a9541b",
            "abf70cf7fef04d879dec31de7bf83ac7",
            "70df5b7a0a774d419b75a296727b7c4a",
            "ced069ce3a934543962084f729de7a20",
            "0daf3b56284649f4b7eb21ec36d3ebc2",
            "3452c95abcfc40deac100b4f9d363daf",
            "b826096d2f0b4e91abd86b48180714dd"
          ]
        },
        "id": "_OFqpIhbcL-U",
        "outputId": "98105292-45da-455e-de67-507b7140d910"
      },
      "source": [
        "tokenizer = BertTokenizer.from_pretrained('google/bert_uncased_L-12_H-128_A-2')\n",
        "config = BertConfig.from_pretrained('google/bert_uncased_L-12_H-128_A-2', output_hidden_states=True)\n",
        "model = BertModel.from_pretrained('google/bert_uncased_L-12_H-128_A-2', config=config)"
      ],
      "execution_count": null,
      "outputs": [
        {
          "output_type": "display_data",
          "data": {
            "application/vnd.jupyter.widget-view+json": {
              "model_id": "97790f627edf459a916d0047ff1472df",
              "version_minor": 0,
              "version_major": 2
            },
            "text/plain": [
              "HBox(children=(FloatProgress(value=0.0, description='Downloading', max=231508.0, style=ProgressStyle(descripti…"
            ]
          },
          "metadata": {
            "tags": []
          }
        },
        {
          "output_type": "stream",
          "text": [
            "\n"
          ],
          "name": "stdout"
        },
        {
          "output_type": "display_data",
          "data": {
            "application/vnd.jupyter.widget-view+json": {
              "model_id": "5e5cc74191334deda1bd52c0225252a3",
              "version_minor": 0,
              "version_major": 2
            },
            "text/plain": [
              "HBox(children=(FloatProgress(value=0.0, description='Downloading', max=383.0, style=ProgressStyle(description_…"
            ]
          },
          "metadata": {
            "tags": []
          }
        },
        {
          "output_type": "stream",
          "text": [
            "\n"
          ],
          "name": "stdout"
        },
        {
          "output_type": "display_data",
          "data": {
            "application/vnd.jupyter.widget-view+json": {
              "model_id": "13a30dfeed4d4d3e816526b78bdff439",
              "version_minor": 0,
              "version_major": 2
            },
            "text/plain": [
              "HBox(children=(FloatProgress(value=0.0, description='Downloading', max=25710911.0, style=ProgressStyle(descrip…"
            ]
          },
          "metadata": {
            "tags": []
          }
        },
        {
          "output_type": "stream",
          "text": [
            "\n"
          ],
          "name": "stdout"
        },
        {
          "output_type": "stream",
          "text": [
            "Some weights of the model checkpoint at google/bert_uncased_L-12_H-128_A-2 were not used when initializing BertModel: ['cls.predictions.transform.dense.weight', 'cls.predictions.transform.LayerNorm.weight', 'cls.seq_relationship.weight', 'cls.seq_relationship.bias', 'cls.predictions.decoder.weight', 'cls.predictions.transform.dense.bias', 'cls.predictions.bias', 'cls.predictions.decoder.bias', 'cls.predictions.transform.LayerNorm.bias']\n",
            "- This IS expected if you are initializing BertModel from the checkpoint of a model trained on another task or with another architecture (e.g. initializing a BertForSequenceClassification model from a BertForPreTraining model).\n",
            "- This IS NOT expected if you are initializing BertModel from the checkpoint of a model that you expect to be exactly identical (initializing a BertForSequenceClassification model from a BertForSequenceClassification model).\n"
          ],
          "name": "stderr"
        }
      ]
    },
    {
      "cell_type": "markdown",
      "metadata": {
        "id": "fo8sTLEcgxw_"
      },
      "source": [
        "## Функции для эмбеддингов"
      ]
    },
    {
      "cell_type": "code",
      "metadata": {
        "colab": {
          "base_uri": "https://localhost:8080/"
        },
        "id": "mXGOBkybbToZ",
        "outputId": "e874f818-77b0-49af-c70b-c5bae8eaca5c"
      },
      "source": [
        "text = 'perfect weather'\n",
        "def get_ids_tokens(text, tokenizer=tokenizer):\n",
        "    tokens = tokenizer.tokenize('[CLS] ' + text + ' [SEP]')\n",
        "    ids = tokenizer.encode(text)\n",
        "    return ids, tokens\n",
        "\n",
        "get_ids_tokens(text)"
      ],
      "execution_count": null,
      "outputs": [
        {
          "output_type": "execute_result",
          "data": {
            "text/plain": [
              "([101, 3819, 4633, 102], ['[CLS]', 'perfect', 'weather', '[SEP]'])"
            ]
          },
          "metadata": {
            "tags": []
          },
          "execution_count": 5
        }
      ]
    },
    {
      "cell_type": "code",
      "metadata": {
        "colab": {
          "base_uri": "https://localhost:8080/"
        },
        "id": "sw2suP2ieTeM",
        "outputId": "bd225649-8998-431a-ee1e-6cc849af56b5"
      },
      "source": [
        "def get_embeddings_from_last(text, tokenizer=tokenizer, model=model):\n",
        "    \"\"\"Вытягивает векторные представления для слов в тексте как крайние hidden states\"\"\"\n",
        "    encoded_input = tokenizer(text, return_tensors='pt')\n",
        "    word_embeddings = model(**encoded_input)[2][-1][0].detach().numpy()[1:-1]\n",
        "    return word_embeddings\n",
        "\n",
        "get_embeddings_from_last('hello there guys').shape"
      ],
      "execution_count": null,
      "outputs": [
        {
          "output_type": "execute_result",
          "data": {
            "text/plain": [
              "(3, 128)"
            ]
          },
          "metadata": {
            "tags": []
          },
          "execution_count": 11
        }
      ]
    },
    {
      "cell_type": "code",
      "metadata": {
        "colab": {
          "base_uri": "https://localhost:8080/"
        },
        "id": "4V6EADeLe2xH",
        "outputId": "bd65d1d9-6726-40f1-c2a5-209d2efb4cfc"
      },
      "source": [
        "k, q, m, w = get_embeddings_from_last(\"king queen man woman\")\n",
        "spatial.distance.cosine(k - m + w, q)"
      ],
      "execution_count": null,
      "outputs": [
        {
          "output_type": "execute_result",
          "data": {
            "text/plain": [
              "0.1589096188545227"
            ]
          },
          "metadata": {
            "tags": []
          },
          "execution_count": 7
        }
      ]
    },
    {
      "cell_type": "code",
      "metadata": {
        "id": "U-RDp-mZbcfF"
      },
      "source": [
        "def get_embeddings(text, tokenizer=tokenizer, model=model):\n",
        "    \"\"\"Вытягивает векторные представления для слов в тексте на основе 4 крайних hidden states\"\"\"\n",
        "    encoded_input = tokenizer(text, return_tensors='pt')\n",
        "    four_last_hidden = model(**encoded_input)[2][-4:]\n",
        "    four_last_hidden = np.asarray([hidden[0].detach().numpy() for hidden in four_last_hidden])\n",
        "    word_embeddings = four_last_hidden[:, 1:-1].sum(axis=0)\n",
        "    return word_embeddings\n",
        "\n",
        "# get_embeddings(\"king queen man woman\")"
      ],
      "execution_count": null,
      "outputs": []
    },
    {
      "cell_type": "code",
      "metadata": {
        "colab": {
          "base_uri": "https://localhost:8080/",
          "height": 132
        },
        "id": "sEcM0xX_bos-",
        "outputId": "47a8da78-4826-4aff-b7ef-4a5664b98a48"
      },
      "source": [
        "|k, q, m, w = get_embeddings(\"king queen man woman\")\n",
        "spatial.distance.cosine(k - m + w, q)"
      ],
      "execution_count": null,
      "outputs": [
        {
          "output_type": "error",
          "ename": "SyntaxError",
          "evalue": "ignored",
          "traceback": [
            "\u001b[0;36m  File \u001b[0;32m\"<ipython-input-9-d7cc72b80bec>\"\u001b[0;36m, line \u001b[0;32m1\u001b[0m\n\u001b[0;31m    |k, q, m, w = get_embeddings(\"king queen man woman\")\u001b[0m\n\u001b[0m    ^\u001b[0m\n\u001b[0;31mSyntaxError\u001b[0m\u001b[0;31m:\u001b[0m invalid syntax\n"
          ]
        }
      ]
    },
    {
      "cell_type": "markdown",
      "metadata": {
        "id": "6dduFNYjfM7q"
      },
      "source": [
        "Как предлагается в статье, в качестве эмбеддинга будем брать четыре hidden state'а вместо одного последнего."
      ]
    },
    {
      "cell_type": "markdown",
      "metadata": {
        "id": "82avV-phgrNK"
      },
      "source": [
        "## Сохраняем эмбеддинги для всех слов в словаре"
      ]
    },
    {
      "cell_type": "code",
      "metadata": {
        "colab": {
          "base_uri": "https://localhost:8080/",
          "height": 67,
          "referenced_widgets": [
            "a5e286e291cc4923832a10b7394cfe05",
            "b6848bad515249a6b55769270060919b",
            "72d3d645990a429b9a239ec57fecaf71",
            "500c5d417663410eb4941fd5d001618a",
            "9825c87c51ce4b059b48c7624cfe10cd",
            "19aa6a65e0da4fd8b2fa6f8292d86626",
            "9576e28b834d45cc8ac3c560c544d31d",
            "793be8eeb7a34f0db746d2752ae0ea46"
          ]
        },
        "id": "DjnawChxHWq0",
        "outputId": "34241e8a-5691-4ebc-bac3-a8027df0b116"
      },
      "source": [
        "all_embeddings = []  # list of all embeddings in vocabulary\n",
        "\n",
        "for word in tqdm(tokenizer.ids_to_tokens.values()):\n",
        "    all_embeddings.append(get_embeddings(word)[0])"
      ],
      "execution_count": null,
      "outputs": [
        {
          "output_type": "display_data",
          "data": {
            "application/vnd.jupyter.widget-view+json": {
              "model_id": "a5e286e291cc4923832a10b7394cfe05",
              "version_minor": 0,
              "version_major": 2
            },
            "text/plain": [
              "HBox(children=(FloatProgress(value=0.0, max=30522.0), HTML(value='')))"
            ]
          },
          "metadata": {
            "tags": []
          }
        },
        {
          "output_type": "stream",
          "text": [
            "\n"
          ],
          "name": "stdout"
        }
      ]
    },
    {
      "cell_type": "code",
      "metadata": {
        "id": "_6YmbZUDjEnb"
      },
      "source": [
        "# np.save('bert-base-uncased-embeddings.npy', np.asarray(all_embeddings))\n",
        "# np.save('drive/MyDrive/Coursework2021/bert_base_uncased_vocab_embeddings.npy', np.asarray(all_embeddings))\n",
        "\n",
        "np.save('bert-base-uncased-embeddings.npy', np.asarray(all_embeddings))\n",
        "np.save('drive/MyDrive/Coursework2021/bert_uncased_L-12_H-128_A-2_vocab_embeddings.npy', np.asarray(all_embeddings))"
      ],
      "execution_count": null,
      "outputs": []
    },
    {
      "cell_type": "code",
      "metadata": {
        "id": "ZA-_Uo0Qr3Yu"
      },
      "source": [
        "# with open('bert_base_uncased_tokens.txt', 'w') as f:\n",
        "#     for token in tokenizer.ids_to_tokens.values():\n",
        "#         print(token, file=f)\n",
        "# with open('drive/MyDrive/Coursework2021/bert_base_uncased_vocab.txt', 'w') as f:\n",
        "#     for token in tokenizer.ids_to_tokens.values():\n",
        "#         print(token, file=f)\n",
        "\n",
        "with open('bert_base_uncased_tokens.txt', 'w') as f:\n",
        "    for token in tokenizer.ids_to_tokens.values():\n",
        "        print(token, file=f)\n",
        "with open('drive/MyDrive/Coursework2021/bert_uncased_L-12_H-128_A-2_vocab.txt', 'w') as f:\n",
        "    for token in tokenizer.ids_to_tokens.values():\n",
        "        print(token, file=f)"
      ],
      "execution_count": null,
      "outputs": []
    },
    {
      "cell_type": "code",
      "metadata": {
        "id": "RSNblk8MjaKO"
      },
      "source": [
        "embeddings = np.load('bert-base-uncased-embeddings.npy')\n",
        "assert (all_embeddings == embeddings).mean() == 1"
      ],
      "execution_count": null,
      "outputs": []
    },
    {
      "cell_type": "markdown",
      "metadata": {
        "id": "2V0L46l1gk7I"
      },
      "source": [
        "# Строим автоенкодер\n",
        "\n",
        "TODO: сэмплировать обучающую выборку по частотности."
      ]
    },
    {
      "cell_type": "code",
      "metadata": {
        "id": "vTvZJLU4k6_J"
      },
      "source": [
        "all_embeddings = np.load('drive/MyDrive/Coursework2021/bert-base-uncased-embeddings.npy')\n",
        "with open('drive/MyDrive/Coursework2021/bert-base-uncased-tokens.txt', 'r') as f:\n",
        "    all_tokens = f.read().split('\\n')"
      ],
      "execution_count": null,
      "outputs": []
    },
    {
      "cell_type": "code",
      "metadata": {
        "id": "YslT_EQpuJ4i"
      },
      "source": [
        "from keras.callbacks import ModelCheckpoint\n",
        "from keras.layers import Input, Dense\n",
        "from keras.models import Model, Sequential\n",
        "\n",
        "ORIGINAL_DIM = 768\n",
        "TARGET_DIM = 30\n",
        "\n",
        "encoder = Sequential([\n",
        "    Input(shape=(ORIGINAL_DIM,)),\n",
        "    Dense(90, activation='tanh'),\n",
        "    # Dense(32, activation='relu'),\n",
        "    Dense(TARGET_DIM, activation='tanh')\n",
        "])\n",
        "\n",
        "decoder = Sequential([\n",
        "    Input(shape=(TARGET_DIM,)),\n",
        "    # Dense(32, activation='relu'),\n",
        "    Dense(90, activation='tanh'),\n",
        "    Dense(ORIGINAL_DIM, activation=None)\n",
        "])\n",
        "\n",
        "autoencoder = Model(inputs=encoder.input, outputs=decoder(encoder.output))\n",
        "autoencoder.compile(loss='mse', optimizer='adam')"
      ],
      "execution_count": null,
      "outputs": []
    },
    {
      "cell_type": "code",
      "metadata": {
        "colab": {
          "base_uri": "https://localhost:8080/"
        },
        "id": "hWxTjT7o2Zc9",
        "outputId": "50b52393-67e1-47c6-812c-faed79dec737"
      },
      "source": [
        "autoencoder.count_params()"
      ],
      "execution_count": null,
      "outputs": [
        {
          "output_type": "execute_result",
          "data": {
            "text/plain": [
              "144618"
            ]
          },
          "metadata": {
            "tags": []
          },
          "execution_count": 133
        }
      ]
    },
    {
      "cell_type": "code",
      "metadata": {
        "id": "pxvKn0Op1ek6"
      },
      "source": [
        "model_history = autoencoder.fit(all_embeddings, all_embeddings, epochs=50, batch_size=64, verbose=False)\n",
        "# model_history = autoencoder.fit(get_embeddings('king queen man woman'), get_embeddings('king queen man woman'), epochs=1000, batch_size=32, verbose=False)"
      ],
      "execution_count": null,
      "outputs": []
    },
    {
      "cell_type": "code",
      "metadata": {
        "colab": {
          "base_uri": "https://localhost:8080/",
          "height": 295
        },
        "id": "5LpfjlKP1wJy",
        "outputId": "fac492dc-13c1-484a-b225-19b22f8527c6"
      },
      "source": [
        "plt.plot(model_history.history[\"loss\"])\n",
        "plt.title(\"Loss vs. Epoch\")\n",
        "plt.ylabel(\"Loss\")\n",
        "plt.xlabel(\"Epoch\")\n",
        "plt.grid(True)"
      ],
      "execution_count": null,
      "outputs": [
        {
          "output_type": "display_data",
          "data": {
            "image/png": "[encoded data removed]",
            "text/plain": [
              "<Figure size 432x288 with 1 Axes>"
            ]
          },
          "metadata": {
            "tags": [],
            "needs_background": "light"
          }
        }
      ]
    },
    {
      "cell_type": "code",
      "metadata": {
        "colab": {
          "base_uri": "https://localhost:8080/"
        },
        "id": "1WpXPlz02Y1g",
        "outputId": "32648dd9-2884-4687-f973-7c0908fabd86"
      },
      "source": [
        "reduced_embeddings = encoder(all_embeddings)\n",
        "\n",
        "def reduce_embedding(word, autoencoder=autoencoder):\n",
        "    return encoder(get_embeddings(word)).numpy()[0]\n",
        "    # return encoder(all_embeddings[all_tokens.index(word)].reshape(1, 768)).numpy()[0]\n",
        "\n",
        "spatial.distance.cosine(reduce_embedding('king') - reduce_embedding('man') + reduce_embedding('woman'), reduce_embedding('queen'))"
      ],
      "execution_count": null,
      "outputs": [
        {
          "output_type": "execute_result",
          "data": {
            "text/plain": [
              "0.10244959592819214"
            ]
          },
          "metadata": {
            "tags": []
          },
          "execution_count": 125
        }
      ]
    },
    {
      "cell_type": "markdown",
      "metadata": {
        "id": "APusw0VIJQK7"
      },
      "source": [
        "Должно быть 0."
      ]
    },
    {
      "cell_type": "code",
      "metadata": {
        "colab": {
          "base_uri": "https://localhost:8080/"
        },
        "id": "mg4hOnXmWUEo",
        "outputId": "da353e9b-3c17-4c6e-fdf8-89a64e92b83a"
      },
      "source": [
        "spatial.distance.cosine(reduce_embedding('king') - reduce_embedding('man') + reduce_embedding('raining'), reduce_embedding('queen'))"
      ],
      "execution_count": null,
      "outputs": [
        {
          "output_type": "execute_result",
          "data": {
            "text/plain": [
              "0.15001028776168823"
            ]
          },
          "metadata": {
            "tags": []
          },
          "execution_count": 126
        }
      ]
    },
    {
      "cell_type": "markdown",
      "metadata": {
        "id": "G0ELVrC9WX5T"
      },
      "source": [
        "Должно быть 1."
      ]
    },
    {
      "cell_type": "code",
      "metadata": {
        "colab": {
          "base_uri": "https://localhost:8080/"
        },
        "id": "X8oU7Y_J4feu",
        "outputId": "6fb3595c-2b6c-42b8-f83c-b009f9acf44d"
      },
      "source": [
        "reduced_embeddings.numpy().mean(axis=0)"
      ],
      "execution_count": null,
      "outputs": [
        {
          "output_type": "execute_result",
          "data": {
            "text/plain": [
              "array([-0.01662267,  0.9999345 , -0.55297816, -0.02291703,  0.16634402,\n",
              "       -0.924784  , -0.11784021, -0.11145473,  0.17365946, -0.99895155,\n",
              "       -1.        , -1.        ,  0.9348011 ,  0.6295178 , -0.01060687,\n",
              "        0.19058064, -0.06295379,  0.09374467,  0.12911892,  0.9348011 ,\n",
              "        0.7446825 ,  0.30369976, -0.12631159, -0.9999345 ,  0.08297139,\n",
              "        0.79676825, -0.13369876, -0.09985589,  0.6179805 ,  0.3636957 ],\n",
              "      dtype=float32)"
            ]
          },
          "metadata": {
            "tags": []
          },
          "execution_count": 127
        }
      ]
    },
    {
      "cell_type": "markdown",
      "metadata": {
        "id": "j-mgKSqVWki9"
      },
      "source": [
        "Треть элементов в векторах даже не сдвинулись с нуля."
      ]
    },
    {
      "cell_type": "code",
      "metadata": {
        "colab": {
          "base_uri": "https://localhost:8080/"
        },
        "id": "j5rPBb3LD_NV",
        "outputId": "0cc05cdb-80c2-48ba-c8a4-1b3dfba75eac"
      },
      "source": [
        "# Checking property of king - man + woman = queen\n",
        "\n",
        "property_check = {}\n",
        "\n",
        "for word in ['king', 'queen', 'man', 'woman']:\n",
        "    embs = get_embeddings(f'i can see a {word} over there')\n",
        "    property_check[word] = embs[4]\n",
        "\n",
        "_a = lambda x: property_check[x]\n",
        "\n",
        "spatial.distance.cosine(_a('king') - _a('man') + _a('woman'), _a('queen'))"
      ],
      "execution_count": null,
      "outputs": [
        {
          "output_type": "execute_result",
          "data": {
            "text/plain": [
              "0.09832602739334106"
            ]
          },
          "metadata": {
            "tags": []
          },
          "execution_count": 128
        }
      ]
    },
    {
      "cell_type": "markdown",
      "metadata": {
        "id": "g3UyrwDjJT1J"
      },
      "source": [
        "# Проверяю воспроизводимость BERT\n",
        "\n",
        "Верно ли вообще, что king - man + woman = queen?"
      ]
    },
    {
      "cell_type": "code",
      "metadata": {
        "colab": {
          "base_uri": "https://localhost:8080/"
        },
        "id": "Kes9j50kJhCH",
        "outputId": "9c4ccdad-a329-4eb6-a354-7f617ad956a5"
      },
      "source": [
        "a = get_embeddings_from_last('king')\n",
        "b = get_embeddings_from_last('queen')\n",
        "np.mean((a - b) ** 2, axis=1)\n",
        "spatial.distance.cosine(a[-1], b[-1])"
      ],
      "execution_count": null,
      "outputs": [
        {
          "output_type": "execute_result",
          "data": {
            "text/plain": [
              "0.13561415672302246"
            ]
          },
          "metadata": {
            "tags": []
          },
          "execution_count": 72
        }
      ]
    },
    {
      "cell_type": "code",
      "metadata": {
        "colab": {
          "base_uri": "https://localhost:8080/"
        },
        "id": "NQ7w7BhoJktc",
        "outputId": "4ab6392e-7d24-49df-bc1e-4e9e65ff3d26"
      },
      "source": [
        "embs = []\n",
        "for word in ['boy', 'beauty', 'guy', 'woman']:\n",
        "    embs.append(get_embeddings_from_last(f'the {word} passed a law'))\n",
        "\n",
        "print('boy vs guy in same context:', cosine(embs[2][1], embs[0][1]))\n",
        "print('boy vs beauty in same context:', cosine(embs[0][1], embs[1][1]))"
      ],
      "execution_count": null,
      "outputs": [
        {
          "output_type": "stream",
          "text": [
            "boy vs guy in same context: 0.3710305690765381\n",
            "boy vs beauty in same context: 0.3971129059791565\n"
          ],
          "name": "stdout"
        }
      ]
    },
    {
      "cell_type": "code",
      "metadata": {
        "colab": {
          "base_uri": "https://localhost:8080/"
        },
        "id": "Rt9Lgd8rNd7I",
        "outputId": "c6ed7024-ecac-4f70-891b-9b7fd99a0004"
      },
      "source": [
        "embs = []\n",
        "\n",
        "print('boy vs guy in no context:', cosine(get_embeddings_from_last('guy'), get_embeddings_from_last('boy')))\n",
        "print('boy vs beauty in no context:', cosine(get_embeddings_from_last('beauty'), get_embeddings_from_last('boy')))"
      ],
      "execution_count": null,
      "outputs": [
        {
          "output_type": "stream",
          "text": [
            "boy vs guy in no context: 0.19427704811096191\n",
            "boy vs beauty in no context: 0.37730830907821655\n"
          ],
          "name": "stdout"
        }
      ]
    },
    {
      "cell_type": "code",
      "metadata": {
        "colab": {
          "base_uri": "https://localhost:8080/"
        },
        "id": "N2ItJShhNvdE",
        "outputId": "a44b2472-6f37-43f2-a72e-9305907c78f2"
      },
      "source": [
        "embs = []\n",
        "for word in ['boy', 'beauty', 'guy', 'woman']:\n",
        "    embs.append(get_embeddings_from_last(f'i ate the {word}'))\n",
        "\n",
        "print('boy vs guy in same context:', cosine(embs[2][3], embs[0][3]))\n",
        "print('boy vs beauty in same context:', cosine(embs[0][3], embs[1][3]))"
      ],
      "execution_count": null,
      "outputs": [
        {
          "output_type": "stream",
          "text": [
            "boy vs guy in same context: 0.24570775032043457\n",
            "boy vs beauty in same context: 0.3332405686378479\n"
          ],
          "name": "stdout"
        }
      ]
    },
    {
      "cell_type": "code",
      "metadata": {
        "colab": {
          "base_uri": "https://localhost:8080/"
        },
        "id": "NBihWkfdODzt",
        "outputId": "ecbb3357-e687-4a48-e707-7ed0d0efe08d"
      },
      "source": [
        "def cosine(u, v):\n",
        "    return spatial.distance.cosine(u, v), np.mean((u - v) ** 2) ** 0.5\n",
        "\n",
        "embs = {}\n",
        "\n",
        "for word in ['king', 'queen', 'man', 'woman']:\n",
        "    embs[word] = []\n",
        "    embs[word].append(get_embeddings(f'{word}'))\n",
        "    embs[word].append(get_embeddings(f'{word} is the best'))\n",
        "    embs[word].append(get_embeddings(f'we know the {word}'))\n",
        "    embs[word].append(get_embeddings(f'{word} {word}'))\n",
        "\n",
        "print('VARIOUS DISTANCES BETWEEN KING AND QUEEN:')\n",
        "print(cosine(embs['king'][0][0], embs['queen'][0][0]))\n",
        "print(cosine(embs['king'][1][0], embs['queen'][1][0]))\n",
        "print(cosine(embs['king'][2][-1], embs['queen'][2][-1]))\n",
        "print(cosine(embs['king'][3][0], embs['queen'][3][0]))\n",
        "print()\n",
        "\n",
        "print('VARIOUS DISTANCES BETWEEN KING-QUEEN+MAN AND WOMAN (SAME CONTEXT):')\n",
        "print(cosine(embs['king'][0][0] - embs['man'][0][0] + embs['woman'][0][0], embs['queen'][0][0]))\n",
        "print(cosine(embs['king'][1][0] - embs['man'][1][0] + embs['woman'][1][0], embs['queen'][1][0]))\n",
        "print(cosine(embs['king'][2][-1] - embs['man'][2][-1] + embs['woman'][2][-1], embs['queen'][2][-1]))\n",
        "print(cosine(embs['king'][3][0] - embs['man'][3][0] + embs['woman'][3][0], embs['queen'][3][0]))\n",
        "print()\n",
        "\n",
        "print('VARIOUS DISTANCES BETWEEN KING-QUEEN+MAN AND WOMAN (DIFFERENT CONTEXT):')\n",
        "print(cosine(embs['king'][0][0] - embs['man'][1][0] + embs['woman'][2][-1], embs['queen'][3][0]))\n",
        "# print(cosine(embs['king'][1][0] - embs['man'][1][0] + embs['woman'][1][0], embs['queen'][1][0]))\n",
        "# print(cosine(embs['king'][2][-1] - embs['man'][2][-1] + embs['woman'][2][-1], embs['queen'][2][-1]))\n",
        "# print(cosine(embs['king'][3][0] - embs['man'][3][0] + embs['woman'][3][0], embs['queen'][3][0]))\n",
        "print()\n",
        "\n",
        "print('NON-ZERO DISTANCES BETWEEN SAME WORDS (DEPEND ON CONTEXT)')\n",
        "for word in ['king', 'queen', 'man', 'woman']:\n",
        "    print(cosine(embs[word][0][0], embs[word][1][0]))\n",
        "    print(cosine(embs[word][1][0], embs[word][2][-1]))\n",
        "    print(cosine(embs[word][2][-1], embs[word][3][0]))\n",
        "    print(cosine(embs[word][3][0], embs[word][3][1]))\n",
        "    print(cosine(embs[word][3][0], embs[word][0][0]))\n",
        "    print()"
      ],
      "execution_count": null,
      "outputs": [
        {
          "output_type": "stream",
          "text": [
            "VARIOUS DISTANCES BETWEEN KING AND QUEEN:\n",
            "(0.11764466762542725, 1.105831019483693)\n",
            "(0.16463828086853027, 1.3402670589187504)\n",
            "(0.11030858755111694, 1.0856982180205963)\n",
            "(0.1686956286430359, 1.4168673354498114)\n",
            "\n",
            "VARIOUS DISTANCES BETWEEN KING-QUEEN+MAN AND WOMAN (SAME CONTEXT):\n",
            "(0.2166770100593567, 1.5660456292238996)\n",
            "(0.16117733716964722, 1.348344091051062)\n",
            "(0.11721783876419067, 1.1732443882994747)\n",
            "(0.2791459560394287, 2.060554627318059)\n",
            "\n",
            "VARIOUS DISTANCES BETWEEN KING-QUEEN+MAN AND WOMAN (DIFFERENT CONTEXT):\n",
            "(0.6227806210517883, 3.3543426435916883)\n",
            "\n",
            "NON-ZERO DISTANCES BETWEEN SAME WORDS (DEPEND ON CONTEXT)\n",
            "(0.4145054221153259, 2.08452658495257)\n",
            "(0.37392497062683105, 1.9949899745870912)\n",
            "(0.34623342752456665, 1.9753107019677871)\n",
            "(0.2657058835029602, 1.7919402985505226)\n",
            "(0.26635509729385376, 1.7236887633668536)\n",
            "\n",
            "(0.4855496883392334, 2.291434455435265)\n",
            "(0.44787508249282837, 2.213693579154562)\n",
            "(0.4431809186935425, 2.2443184645183987)\n",
            "(0.3137674331665039, 1.9529077027559183)\n",
            "(0.3183577060699463, 1.8935267351437375)\n",
            "\n",
            "(0.5341031551361084, 2.5665567432331104)\n",
            "(0.45843690633773804, 2.2881307430658944)\n",
            "(0.4995381832122803, 2.5174061410903126)\n",
            "(0.2896524667739868, 2.0180039671905208)\n",
            "(0.3382722735404968, 2.138814452831605)\n",
            "\n",
            "(0.416665256023407, 2.1720754407423053)\n",
            "(0.43337053060531616, 2.178946420347821)\n",
            "(0.3775777816772461, 2.123119644279564)\n",
            "(0.2566436529159546, 1.8157978310454526)\n",
            "(0.2689697742462158, 1.816743749622214)\n",
            "\n"
          ],
          "name": "stdout"
        }
      ]
    },
    {
      "cell_type": "code",
      "metadata": {
        "colab": {
          "base_uri": "https://localhost:8080/"
        },
        "id": "S_0e_a7oRQGu",
        "outputId": "21135bb2-d8ed-49c3-f96c-15667a7e1789"
      },
      "source": [
        "print('WORD GREEN IN DIFFERENT CONTEXTS')\n",
        "print(cosine(get_embeddings_from_last('green sofa')[0], get_embeddings_from_last('green chair')[0]))\n",
        "print(cosine(get_embeddings_from_last('green sofa')[0], get_embeddings_from_last('green box')[0]))\n",
        "print(cosine(get_embeddings_from_last('green box')[0], get_embeddings_from_last('light green')[1]))"
      ],
      "execution_count": null,
      "outputs": [
        {
          "output_type": "stream",
          "text": [
            "WORD GREEN IN DIFFERENT CONTEXTS\n",
            "0.12123119831085205\n",
            "0.44215917587280273\n",
            "0.6706148087978363\n"
          ],
          "name": "stdout"
        }
      ]
    },
    {
      "cell_type": "code",
      "metadata": {
        "colab": {
          "base_uri": "https://localhost:8080/"
        },
        "id": "emj1nEc0SyOs",
        "outputId": "b9d7c878-aa16-494d-81ff-03a4f15a2d75"
      },
      "source": [
        "print('WORD GREEN IN DIFFERENT CONTEXTS (sum of four hidden)')\n",
        "print(cosine(get_embeddings('green sofa')[0], get_embeddings('green chair')[0]))\n",
        "print(cosine(get_embeddings('green sofa')[0], get_embeddings('green box')[0]))\n",
        "print(cosine(get_embeddings('green box')[0], get_embeddings('light green')[1]))"
      ],
      "execution_count": null,
      "outputs": [
        {
          "output_type": "stream",
          "text": [
            "WORD GREEN IN DIFFERENT CONTEXTS (sum of four hidden)\n",
            "0.098857581615448\n",
            "0.3535335659980774\n",
            "0.48835980892181396\n"
          ],
          "name": "stdout"
        }
      ]
    },
    {
      "cell_type": "code",
      "metadata": {
        "colab": {
          "base_uri": "https://localhost:8080/"
        },
        "id": "xAAGPQyWXs4c",
        "outputId": "d436eb1b-1090-4a6f-d014-3064e8868630"
      },
      "source": [
        "def cosine(u, v):\n",
        "    return spatial.distance.cosine(u, v), np.mean((u - v) ** 2) ** 0.5\n",
        "\n",
        "embs = {}\n",
        "\n",
        "for word in ['king', 'queen', 'man', 'woman']:\n",
        "    embs[word] = []\n",
        "    embs[word].append(encoder(get_embeddings(f'{word}')).numpy()[0])\n",
        "    embs[word].append(encoder(get_embeddings(f'{word} is the best')).numpy()[0])\n",
        "    embs[word].append(encoder(get_embeddings(f'we know the {word}')).numpy()[-1])\n",
        "    embs[word].append(encoder(get_embeddings(f'{word} {word}')).numpy()[0])\n",
        "\n",
        "print('VARIOUS DISTANCES BETWEEN KING AND QUEEN:')\n",
        "print(cosine(embs['king'][0], embs['queen'][0]))\n",
        "print(cosine(embs['king'][1], embs['queen'][1]))\n",
        "print(cosine(embs['king'][2], embs['queen'][2]))\n",
        "print(cosine(embs['king'][3], embs['queen'][3]))\n",
        "print()\n",
        "\n",
        "print('VARIOUS DISTANCES BETWEEN KING-QUEEN+MAN AND WOMAN (SAME CONTEXT):')\n",
        "print(cosine(embs['king'][0] - embs['man'][0] + embs['woman'][0], embs['queen'][0]))\n",
        "print(cosine(embs['king'][1] - embs['man'][1] + embs['woman'][1], embs['queen'][1]))\n",
        "print(cosine(embs['king'][2] - embs['man'][2] + embs['woman'][2], embs['queen'][2]))\n",
        "print(cosine(embs['king'][3] - embs['man'][3] + embs['woman'][3], embs['queen'][3]))\n",
        "print()\n",
        "\n",
        "print('VARIOUS DISTANCES BETWEEN KING-QUEEN+MAN AND WOMAN (DIFFERENT CONTEXT):')\n",
        "print(cosine(embs['king'][0] - embs['man'][1] + embs['woman'][2], embs['queen'][3]))\n",
        "# print(cosine(embs['king'][1][0] - embs['man'][1][0] + embs['woman'][1][0], embs['queen'][1][0]))\n",
        "# print(cosine(embs['king'][2][-1] - embs['man'][2][-1] + embs['woman'][2][-1], embs['queen'][2][-1]))\n",
        "# print(cosine(embs['king'][3][0] - embs['man'][3][0] + embs['woman'][3][0], embs['queen'][3][0]))\n",
        "print()\n",
        "\n",
        "print('NON-ZERO DISTANCES BETWEEN SAME WORDS (DEPEND ON CONTEXT)')\n",
        "for word in ['king', 'queen', 'man', 'woman']:\n",
        "    print(cosine(embs[word][0], embs[word][1]))\n",
        "    print(cosine(embs[word][1], embs[word][2]))\n",
        "    print(cosine(embs[word][2], embs[word][3]))\n",
        "    print(cosine(embs[word][3], embs[word][3]))\n",
        "    print(cosine(embs[word][3], embs[word][0]))\n",
        "    print()"
      ],
      "execution_count": null,
      "outputs": [
        {
          "output_type": "stream",
          "text": [
            "VARIOUS DISTANCES BETWEEN KING AND QUEEN:\n",
            "(0.03471952676773071, 0.5911668249988083)\n",
            "(0.03196495771408081, 0.44152428728265025)\n",
            "(0.01817035675048828, 0.36047307475273216)\n",
            "(0.018519699573516846, 0.4409981250247325)\n",
            "\n",
            "VARIOUS DISTANCES BETWEEN KING-QUEEN+MAN AND WOMAN (SAME CONTEXT):\n",
            "(0.10986948013305664, 1.0321878734545216)\n",
            "(0.037877440452575684, 0.4812532548670496)\n",
            "(0.028219759464263916, 0.4522282672054851)\n",
            "(0.11279302835464478, 1.1085525472778879)\n",
            "\n",
            "VARIOUS DISTANCES BETWEEN KING-QUEEN+MAN AND WOMAN (DIFFERENT CONTEXT):\n",
            "(0.40068870782852173, 2.1788129248316785)\n",
            "\n",
            "NON-ZERO DISTANCES BETWEEN SAME WORDS (DEPEND ON CONTEXT)\n",
            "(0.24522197246551514, 1.3906634893341439)\n",
            "(0.13141494989395142, 0.9260694481737757)\n",
            "(0.13576346635818481, 1.0890955937746951)\n",
            "(0.0, 0.0)\n",
            "(0.17969214916229248, 1.2836428836606082)\n",
            "\n",
            "(0.27415257692337036, 1.5540259405791526)\n",
            "(0.19970154762268066, 1.1639237289150726)\n",
            "(0.22871029376983643, 1.4550715708745008)\n",
            "(0.0, 0.0)\n",
            "(0.2279752492904663, 1.5284181216206156)\n",
            "\n",
            "(0.3310208320617676, 1.8833333161728218)\n",
            "(0.19154906272888184, 1.0592195132317939)\n",
            "(0.28649431467056274, 1.56656651616414)\n",
            "(0.0, 0.0)\n",
            "(0.22596120834350586, 1.6264317880487755)\n",
            "\n",
            "(0.23180198669433594, 1.536550107467234)\n",
            "(0.14763647317886353, 0.9260728915900045)\n",
            "(0.12714910507202148, 1.1186105161695339)\n",
            "(0.0, 0.0)\n",
            "(0.1739645004272461, 1.372136341827577)\n",
            "\n"
          ],
          "name": "stdout"
        }
      ]
    },
    {
      "cell_type": "markdown",
      "metadata": {
        "id": "PM85jGsQXwS9"
      },
      "source": [
        "Выводы: значительно зависит от контекста. `king - man + woman = queen` в целом проходит проверку, но не очень хорошо и в разных ситуациях по-разному. Есть проблемы с пониманием, что же такое векторное представление BERT и надо ли его пихать в эту задачу."
      ]
    },
    {
      "cell_type": "code",
      "metadata": {
        "id": "JAJRh9uVYA2n"
      },
      "source": [
        "# Далее: \n",
        "# 1. Доделать автоенкодер (дообучить, изменить).\n",
        "# 2. Посмотреть равенства и для PCA, и для автоенкодера.\n",
        "# 3. Пробежать метриками по уменьшенным эмбеддингам.\n",
        "# 4. Обучить w2v."
      ],
      "execution_count": null,
      "outputs": []
    },
    {
      "cell_type": "markdown",
      "metadata": {
        "id": "-e6d7EjLbGAj"
      },
      "source": [
        "Ещё раз PCA"
      ]
    },
    {
      "cell_type": "code",
      "metadata": {
        "colab": {
          "base_uri": "https://localhost:8080/"
        },
        "id": "zBplrsdvbFNe",
        "outputId": "5ef25674-64e4-406d-a1d7-9182f37d3d7a"
      },
      "source": [
        "from sklearn.decomposition import PCA\n",
        "\n",
        "pca = PCA(30)\n",
        "reduced_embeddings_pca = pca.fit_transform(all_embeddings)\n",
        "reduced_embeddings_pca.shape"
      ],
      "execution_count": null,
      "outputs": [
        {
          "output_type": "execute_result",
          "data": {
            "text/plain": [
              "(30522, 30)"
            ]
          },
          "metadata": {
            "tags": []
          },
          "execution_count": 100
        }
      ]
    },
    {
      "cell_type": "code",
      "metadata": {
        "colab": {
          "base_uri": "https://localhost:8080/"
        },
        "id": "Mqh9r5BVd_sd",
        "outputId": "d16a2b07-2108-4e11-e55e-d702b98108e0"
      },
      "source": [
        "cosine(pca.transform(get_embeddings('king')) - pca.transform(get_embeddings('man')) + pca.transform(get_embeddings('woman')),\n",
        "       pca.transform(get_embeddings('queen')))"
      ],
      "execution_count": null,
      "outputs": [
        {
          "output_type": "execute_result",
          "data": {
            "text/plain": [
              "(0.5047992467880249, 4.7646149112048075)"
            ]
          },
          "metadata": {
            "tags": []
          },
          "execution_count": 129
        }
      ]
    }
  ]
}