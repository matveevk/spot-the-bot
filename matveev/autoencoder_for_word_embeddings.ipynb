{
  "nbformat": 4,
  "nbformat_minor": 0,
  "metadata": {
    "colab": {
      "name": "autoencoder-for-word-embeddings.ipynb",
      "provenance": [],
      "collapsed_sections": [],
      "mount_file_id": "1wnWS8SAU-x8_0aMlD8IO52wiFTVi1foN",
      "authorship_tag": "ABX9TyOxbPb7kvJ+1wHtHWc2+vJK"
    },
    "kernelspec": {
      "display_name": "Python 3",
      "name": "python3"
    },
    "language_info": {
      "name": "python"
    },
    "widgets": {
      "application/vnd.jupyter.widget-state+json": {
        "63fcd96c4a99400ba95fc7f88d7a0e85": {
          "model_module": "@jupyter-widgets/controls",
          "model_name": "HBoxModel",
          "state": {
            "_view_name": "HBoxView",
            "_dom_classes": [],
            "_model_name": "HBoxModel",
            "_view_module": "@jupyter-widgets/controls",
            "_model_module_version": "1.5.0",
            "_view_count": null,
            "_view_module_version": "1.5.0",
            "box_style": "",
            "layout": "IPY_MODEL_41a31cea046b4041bc97bd44ef8c8bd7",
            "_model_module": "@jupyter-widgets/controls",
            "children": [
              "IPY_MODEL_3d47b4bccf0e4a3ca1221db078622708",
              "IPY_MODEL_355eb73a5c3e41d3adb2b76ea7576187"
            ]
          }
        },
        "41a31cea046b4041bc97bd44ef8c8bd7": {
          "model_module": "@jupyter-widgets/base",
          "model_name": "LayoutModel",
          "state": {
            "_view_name": "LayoutView",
            "grid_template_rows": null,
            "right": null,
            "justify_content": null,
            "_view_module": "@jupyter-widgets/base",
            "overflow": null,
            "_model_module_version": "1.2.0",
            "_view_count": null,
            "flex_flow": null,
            "width": null,
            "min_width": null,
            "border": null,
            "align_items": null,
            "bottom": null,
            "_model_module": "@jupyter-widgets/base",
            "top": null,
            "grid_column": null,
            "overflow_y": null,
            "overflow_x": null,
            "grid_auto_flow": null,
            "grid_area": null,
            "grid_template_columns": null,
            "flex": null,
            "_model_name": "LayoutModel",
            "justify_items": null,
            "grid_row": null,
            "max_height": null,
            "align_content": null,
            "visibility": null,
            "align_self": null,
            "height": null,
            "min_height": null,
            "padding": null,
            "grid_auto_rows": null,
            "grid_gap": null,
            "max_width": null,
            "order": null,
            "_view_module_version": "1.2.0",
            "grid_template_areas": null,
            "object_position": null,
            "object_fit": null,
            "grid_auto_columns": null,
            "margin": null,
            "display": null,
            "left": null
          }
        },
        "3d47b4bccf0e4a3ca1221db078622708": {
          "model_module": "@jupyter-widgets/controls",
          "model_name": "FloatProgressModel",
          "state": {
            "_view_name": "ProgressView",
            "style": "IPY_MODEL_356734b3f5c04c8d8d3acf7a15a2a604",
            "_dom_classes": [],
            "description": "Downloading: 100%",
            "_model_name": "FloatProgressModel",
            "bar_style": "success",
            "max": 231508,
            "_view_module": "@jupyter-widgets/controls",
            "_model_module_version": "1.5.0",
            "value": 231508,
            "_view_count": null,
            "_view_module_version": "1.5.0",
            "orientation": "horizontal",
            "min": 0,
            "description_tooltip": null,
            "_model_module": "@jupyter-widgets/controls",
            "layout": "IPY_MODEL_18c4346a042d4619aff059b712bf8071"
          }
        },
        "355eb73a5c3e41d3adb2b76ea7576187": {
          "model_module": "@jupyter-widgets/controls",
          "model_name": "HTMLModel",
          "state": {
            "_view_name": "HTMLView",
            "style": "IPY_MODEL_6af9714d49d842a0b2329ebc517833c3",
            "_dom_classes": [],
            "description": "",
            "_model_name": "HTMLModel",
            "placeholder": "​",
            "_view_module": "@jupyter-widgets/controls",
            "_model_module_version": "1.5.0",
            "value": " 232k/232k [00:00&lt;00:00, 497kB/s]",
            "_view_count": null,
            "_view_module_version": "1.5.0",
            "description_tooltip": null,
            "_model_module": "@jupyter-widgets/controls",
            "layout": "IPY_MODEL_6f5da7f2523c4ba183d74d529fc2e1d5"
          }
        },
        "356734b3f5c04c8d8d3acf7a15a2a604": {
          "model_module": "@jupyter-widgets/controls",
          "model_name": "ProgressStyleModel",
          "state": {
            "_view_name": "StyleView",
            "_model_name": "ProgressStyleModel",
            "description_width": "initial",
            "_view_module": "@jupyter-widgets/base",
            "_model_module_version": "1.5.0",
            "_view_count": null,
            "_view_module_version": "1.2.0",
            "bar_color": null,
            "_model_module": "@jupyter-widgets/controls"
          }
        },
        "18c4346a042d4619aff059b712bf8071": {
          "model_module": "@jupyter-widgets/base",
          "model_name": "LayoutModel",
          "state": {
            "_view_name": "LayoutView",
            "grid_template_rows": null,
            "right": null,
            "justify_content": null,
            "_view_module": "@jupyter-widgets/base",
            "overflow": null,
            "_model_module_version": "1.2.0",
            "_view_count": null,
            "flex_flow": null,
            "width": null,
            "min_width": null,
            "border": null,
            "align_items": null,
            "bottom": null,
            "_model_module": "@jupyter-widgets/base",
            "top": null,
            "grid_column": null,
            "overflow_y": null,
            "overflow_x": null,
            "grid_auto_flow": null,
            "grid_area": null,
            "grid_template_columns": null,
            "flex": null,
            "_model_name": "LayoutModel",
            "justify_items": null,
            "grid_row": null,
            "max_height": null,
            "align_content": null,
            "visibility": null,
            "align_self": null,
            "height": null,
            "min_height": null,
            "padding": null,
            "grid_auto_rows": null,
            "grid_gap": null,
            "max_width": null,
            "order": null,
            "_view_module_version": "1.2.0",
            "grid_template_areas": null,
            "object_position": null,
            "object_fit": null,
            "grid_auto_columns": null,
            "margin": null,
            "display": null,
            "left": null
          }
        },
        "6af9714d49d842a0b2329ebc517833c3": {
          "model_module": "@jupyter-widgets/controls",
          "model_name": "DescriptionStyleModel",
          "state": {
            "_view_name": "StyleView",
            "_model_name": "DescriptionStyleModel",
            "description_width": "",
            "_view_module": "@jupyter-widgets/base",
            "_model_module_version": "1.5.0",
            "_view_count": null,
            "_view_module_version": "1.2.0",
            "_model_module": "@jupyter-widgets/controls"
          }
        },
        "6f5da7f2523c4ba183d74d529fc2e1d5": {
          "model_module": "@jupyter-widgets/base",
          "model_name": "LayoutModel",
          "state": {
            "_view_name": "LayoutView",
            "grid_template_rows": null,
            "right": null,
            "justify_content": null,
            "_view_module": "@jupyter-widgets/base",
            "overflow": null,
            "_model_module_version": "1.2.0",
            "_view_count": null,
            "flex_flow": null,
            "width": null,
            "min_width": null,
            "border": null,
            "align_items": null,
            "bottom": null,
            "_model_module": "@jupyter-widgets/base",
            "top": null,
            "grid_column": null,
            "overflow_y": null,
            "overflow_x": null,
            "grid_auto_flow": null,
            "grid_area": null,
            "grid_template_columns": null,
            "flex": null,
            "_model_name": "LayoutModel",
            "justify_items": null,
            "grid_row": null,
            "max_height": null,
            "align_content": null,
            "visibility": null,
            "align_self": null,
            "height": null,
            "min_height": null,
            "padding": null,
            "grid_auto_rows": null,
            "grid_gap": null,
            "max_width": null,
            "order": null,
            "_view_module_version": "1.2.0",
            "grid_template_areas": null,
            "object_position": null,
            "object_fit": null,
            "grid_auto_columns": null,
            "margin": null,
            "display": null,
            "left": null
          }
        },
        "c0cc02e0460d42b3b172882fd307b88d": {
          "model_module": "@jupyter-widgets/controls",
          "model_name": "HBoxModel",
          "state": {
            "_view_name": "HBoxView",
            "_dom_classes": [],
            "_model_name": "HBoxModel",
            "_view_module": "@jupyter-widgets/controls",
            "_model_module_version": "1.5.0",
            "_view_count": null,
            "_view_module_version": "1.5.0",
            "box_style": "",
            "layout": "IPY_MODEL_6abde7be8abb404d801dcef50ce6b3ee",
            "_model_module": "@jupyter-widgets/controls",
            "children": [
              "IPY_MODEL_74a75bac3846413aab427582a39ad29c",
              "IPY_MODEL_70ca807e58a3493da73637700718ea5f"
            ]
          }
        },
        "6abde7be8abb404d801dcef50ce6b3ee": {
          "model_module": "@jupyter-widgets/base",
          "model_name": "LayoutModel",
          "state": {
            "_view_name": "LayoutView",
            "grid_template_rows": null,
            "right": null,
            "justify_content": null,
            "_view_module": "@jupyter-widgets/base",
            "overflow": null,
            "_model_module_version": "1.2.0",
            "_view_count": null,
            "flex_flow": null,
            "width": null,
            "min_width": null,
            "border": null,
            "align_items": null,
            "bottom": null,
            "_model_module": "@jupyter-widgets/base",
            "top": null,
            "grid_column": null,
            "overflow_y": null,
            "overflow_x": null,
            "grid_auto_flow": null,
            "grid_area": null,
            "grid_template_columns": null,
            "flex": null,
            "_model_name": "LayoutModel",
            "justify_items": null,
            "grid_row": null,
            "max_height": null,
            "align_content": null,
            "visibility": null,
            "align_self": null,
            "height": null,
            "min_height": null,
            "padding": null,
            "grid_auto_rows": null,
            "grid_gap": null,
            "max_width": null,
            "order": null,
            "_view_module_version": "1.2.0",
            "grid_template_areas": null,
            "object_position": null,
            "object_fit": null,
            "grid_auto_columns": null,
            "margin": null,
            "display": null,
            "left": null
          }
        },
        "74a75bac3846413aab427582a39ad29c": {
          "model_module": "@jupyter-widgets/controls",
          "model_name": "FloatProgressModel",
          "state": {
            "_view_name": "ProgressView",
            "style": "IPY_MODEL_4a30361459a3419abce26511074062ec",
            "_dom_classes": [],
            "description": "Downloading: 100%",
            "_model_name": "FloatProgressModel",
            "bar_style": "success",
            "max": 28,
            "_view_module": "@jupyter-widgets/controls",
            "_model_module_version": "1.5.0",
            "value": 28,
            "_view_count": null,
            "_view_module_version": "1.5.0",
            "orientation": "horizontal",
            "min": 0,
            "description_tooltip": null,
            "_model_module": "@jupyter-widgets/controls",
            "layout": "IPY_MODEL_527b4ca1a7584d3fa8224b5e096693de"
          }
        },
        "70ca807e58a3493da73637700718ea5f": {
          "model_module": "@jupyter-widgets/controls",
          "model_name": "HTMLModel",
          "state": {
            "_view_name": "HTMLView",
            "style": "IPY_MODEL_3997993160aa483489038b29e4e0b3f5",
            "_dom_classes": [],
            "description": "",
            "_model_name": "HTMLModel",
            "placeholder": "​",
            "_view_module": "@jupyter-widgets/controls",
            "_model_module_version": "1.5.0",
            "value": " 28.0/28.0 [00:01&lt;00:00, 18.7B/s]",
            "_view_count": null,
            "_view_module_version": "1.5.0",
            "description_tooltip": null,
            "_model_module": "@jupyter-widgets/controls",
            "layout": "IPY_MODEL_e7009e01c8934143a11337a38efaf883"
          }
        },
        "4a30361459a3419abce26511074062ec": {
          "model_module": "@jupyter-widgets/controls",
          "model_name": "ProgressStyleModel",
          "state": {
            "_view_name": "StyleView",
            "_model_name": "ProgressStyleModel",
            "description_width": "initial",
            "_view_module": "@jupyter-widgets/base",
            "_model_module_version": "1.5.0",
            "_view_count": null,
            "_view_module_version": "1.2.0",
            "bar_color": null,
            "_model_module": "@jupyter-widgets/controls"
          }
        },
        "527b4ca1a7584d3fa8224b5e096693de": {
          "model_module": "@jupyter-widgets/base",
          "model_name": "LayoutModel",
          "state": {
            "_view_name": "LayoutView",
            "grid_template_rows": null,
            "right": null,
            "justify_content": null,
            "_view_module": "@jupyter-widgets/base",
            "overflow": null,
            "_model_module_version": "1.2.0",
            "_view_count": null,
            "flex_flow": null,
            "width": null,
            "min_width": null,
            "border": null,
            "align_items": null,
            "bottom": null,
            "_model_module": "@jupyter-widgets/base",
            "top": null,
            "grid_column": null,
            "overflow_y": null,
            "overflow_x": null,
            "grid_auto_flow": null,
            "grid_area": null,
            "grid_template_columns": null,
            "flex": null,
            "_model_name": "LayoutModel",
            "justify_items": null,
            "grid_row": null,
            "max_height": null,
            "align_content": null,
            "visibility": null,
            "align_self": null,
            "height": null,
            "min_height": null,
            "padding": null,
            "grid_auto_rows": null,
            "grid_gap": null,
            "max_width": null,
            "order": null,
            "_view_module_version": "1.2.0",
            "grid_template_areas": null,
            "object_position": null,
            "object_fit": null,
            "grid_auto_columns": null,
            "margin": null,
            "display": null,
            "left": null
          }
        },
        "3997993160aa483489038b29e4e0b3f5": {
          "model_module": "@jupyter-widgets/controls",
          "model_name": "DescriptionStyleModel",
          "state": {
            "_view_name": "StyleView",
            "_model_name": "DescriptionStyleModel",
            "description_width": "",
            "_view_module": "@jupyter-widgets/base",
            "_model_module_version": "1.5.0",
            "_view_count": null,
            "_view_module_version": "1.2.0",
            "_model_module": "@jupyter-widgets/controls"
          }
        },
        "e7009e01c8934143a11337a38efaf883": {
          "model_module": "@jupyter-widgets/base",
          "model_name": "LayoutModel",
          "state": {
            "_view_name": "LayoutView",
            "grid_template_rows": null,
            "right": null,
            "justify_content": null,
            "_view_module": "@jupyter-widgets/base",
            "overflow": null,
            "_model_module_version": "1.2.0",
            "_view_count": null,
            "flex_flow": null,
            "width": null,
            "min_width": null,
            "border": null,
            "align_items": null,
            "bottom": null,
            "_model_module": "@jupyter-widgets/base",
            "top": null,
            "grid_column": null,
            "overflow_y": null,
            "overflow_x": null,
            "grid_auto_flow": null,
            "grid_area": null,
            "grid_template_columns": null,
            "flex": null,
            "_model_name": "LayoutModel",
            "justify_items": null,
            "grid_row": null,
            "max_height": null,
            "align_content": null,
            "visibility": null,
            "align_self": null,
            "height": null,
            "min_height": null,
            "padding": null,
            "grid_auto_rows": null,
            "grid_gap": null,
            "max_width": null,
            "order": null,
            "_view_module_version": "1.2.0",
            "grid_template_areas": null,
            "object_position": null,
            "object_fit": null,
            "grid_auto_columns": null,
            "margin": null,
            "display": null,
            "left": null
          }
        },
        "f263bf5e1ab743bfba7606ddc96fafe3": {
          "model_module": "@jupyter-widgets/controls",
          "model_name": "HBoxModel",
          "state": {
            "_view_name": "HBoxView",
            "_dom_classes": [],
            "_model_name": "HBoxModel",
            "_view_module": "@jupyter-widgets/controls",
            "_model_module_version": "1.5.0",
            "_view_count": null,
            "_view_module_version": "1.5.0",
            "box_style": "",
            "layout": "IPY_MODEL_55cbfdcb1f3a4eb4b573cb6cd4fbceb8",
            "_model_module": "@jupyter-widgets/controls",
            "children": [
              "IPY_MODEL_2f559df8b2bd45dcb4c9537a2c2e7f5c",
              "IPY_MODEL_b6bf46c26a6c4135b089e423c72f7a6f"
            ]
          }
        },
        "55cbfdcb1f3a4eb4b573cb6cd4fbceb8": {
          "model_module": "@jupyter-widgets/base",
          "model_name": "LayoutModel",
          "state": {
            "_view_name": "LayoutView",
            "grid_template_rows": null,
            "right": null,
            "justify_content": null,
            "_view_module": "@jupyter-widgets/base",
            "overflow": null,
            "_model_module_version": "1.2.0",
            "_view_count": null,
            "flex_flow": null,
            "width": null,
            "min_width": null,
            "border": null,
            "align_items": null,
            "bottom": null,
            "_model_module": "@jupyter-widgets/base",
            "top": null,
            "grid_column": null,
            "overflow_y": null,
            "overflow_x": null,
            "grid_auto_flow": null,
            "grid_area": null,
            "grid_template_columns": null,
            "flex": null,
            "_model_name": "LayoutModel",
            "justify_items": null,
            "grid_row": null,
            "max_height": null,
            "align_content": null,
            "visibility": null,
            "align_self": null,
            "height": null,
            "min_height": null,
            "padding": null,
            "grid_auto_rows": null,
            "grid_gap": null,
            "max_width": null,
            "order": null,
            "_view_module_version": "1.2.0",
            "grid_template_areas": null,
            "object_position": null,
            "object_fit": null,
            "grid_auto_columns": null,
            "margin": null,
            "display": null,
            "left": null
          }
        },
        "2f559df8b2bd45dcb4c9537a2c2e7f5c": {
          "model_module": "@jupyter-widgets/controls",
          "model_name": "FloatProgressModel",
          "state": {
            "_view_name": "ProgressView",
            "style": "IPY_MODEL_bbef05130d214b79953c3c91df73c16d",
            "_dom_classes": [],
            "description": "Downloading: 100%",
            "_model_name": "FloatProgressModel",
            "bar_style": "success",
            "max": 466062,
            "_view_module": "@jupyter-widgets/controls",
            "_model_module_version": "1.5.0",
            "value": 466062,
            "_view_count": null,
            "_view_module_version": "1.5.0",
            "orientation": "horizontal",
            "min": 0,
            "description_tooltip": null,
            "_model_module": "@jupyter-widgets/controls",
            "layout": "IPY_MODEL_eed7315cdacd4efbb197aea24253741a"
          }
        },
        "b6bf46c26a6c4135b089e423c72f7a6f": {
          "model_module": "@jupyter-widgets/controls",
          "model_name": "HTMLModel",
          "state": {
            "_view_name": "HTMLView",
            "style": "IPY_MODEL_ca4adf0ba16142889604d8ecb8b2366d",
            "_dom_classes": [],
            "description": "",
            "_model_name": "HTMLModel",
            "placeholder": "​",
            "_view_module": "@jupyter-widgets/controls",
            "_model_module_version": "1.5.0",
            "value": " 466k/466k [25:01&lt;00:00, 310B/s]",
            "_view_count": null,
            "_view_module_version": "1.5.0",
            "description_tooltip": null,
            "_model_module": "@jupyter-widgets/controls",
            "layout": "IPY_MODEL_3ecce1b33be4456eb8bca20f7d419d6e"
          }
        },
        "bbef05130d214b79953c3c91df73c16d": {
          "model_module": "@jupyter-widgets/controls",
          "model_name": "ProgressStyleModel",
          "state": {
            "_view_name": "StyleView",
            "_model_name": "ProgressStyleModel",
            "description_width": "initial",
            "_view_module": "@jupyter-widgets/base",
            "_model_module_version": "1.5.0",
            "_view_count": null,
            "_view_module_version": "1.2.0",
            "bar_color": null,
            "_model_module": "@jupyter-widgets/controls"
          }
        },
        "eed7315cdacd4efbb197aea24253741a": {
          "model_module": "@jupyter-widgets/base",
          "model_name": "LayoutModel",
          "state": {
            "_view_name": "LayoutView",
            "grid_template_rows": null,
            "right": null,
            "justify_content": null,
            "_view_module": "@jupyter-widgets/base",
            "overflow": null,
            "_model_module_version": "1.2.0",
            "_view_count": null,
            "flex_flow": null,
            "width": null,
            "min_width": null,
            "border": null,
            "align_items": null,
            "bottom": null,
            "_model_module": "@jupyter-widgets/base",
            "top": null,
            "grid_column": null,
            "overflow_y": null,
            "overflow_x": null,
            "grid_auto_flow": null,
            "grid_area": null,
            "grid_template_columns": null,
            "flex": null,
            "_model_name": "LayoutModel",
            "justify_items": null,
            "grid_row": null,
            "max_height": null,
            "align_content": null,
            "visibility": null,
            "align_self": null,
            "height": null,
            "min_height": null,
            "padding": null,
            "grid_auto_rows": null,
            "grid_gap": null,
            "max_width": null,
            "order": null,
            "_view_module_version": "1.2.0",
            "grid_template_areas": null,
            "object_position": null,
            "object_fit": null,
            "grid_auto_columns": null,
            "margin": null,
            "display": null,
            "left": null
          }
        },
        "ca4adf0ba16142889604d8ecb8b2366d": {
          "model_module": "@jupyter-widgets/controls",
          "model_name": "DescriptionStyleModel",
          "state": {
            "_view_name": "StyleView",
            "_model_name": "DescriptionStyleModel",
            "description_width": "",
            "_view_module": "@jupyter-widgets/base",
            "_model_module_version": "1.5.0",
            "_view_count": null,
            "_view_module_version": "1.2.0",
            "_model_module": "@jupyter-widgets/controls"
          }
        },
        "3ecce1b33be4456eb8bca20f7d419d6e": {
          "model_module": "@jupyter-widgets/base",
          "model_name": "LayoutModel",
          "state": {
            "_view_name": "LayoutView",
            "grid_template_rows": null,
            "right": null,
            "justify_content": null,
            "_view_module": "@jupyter-widgets/base",
            "overflow": null,
            "_model_module_version": "1.2.0",
            "_view_count": null,
            "flex_flow": null,
            "width": null,
            "min_width": null,
            "border": null,
            "align_items": null,
            "bottom": null,
            "_model_module": "@jupyter-widgets/base",
            "top": null,
            "grid_column": null,
            "overflow_y": null,
            "overflow_x": null,
            "grid_auto_flow": null,
            "grid_area": null,
            "grid_template_columns": null,
            "flex": null,
            "_model_name": "LayoutModel",
            "justify_items": null,
            "grid_row": null,
            "max_height": null,
            "align_content": null,
            "visibility": null,
            "align_self": null,
            "height": null,
            "min_height": null,
            "padding": null,
            "grid_auto_rows": null,
            "grid_gap": null,
            "max_width": null,
            "order": null,
            "_view_module_version": "1.2.0",
            "grid_template_areas": null,
            "object_position": null,
            "object_fit": null,
            "grid_auto_columns": null,
            "margin": null,
            "display": null,
            "left": null
          }
        },
        "433f11d7c3ea4b46a1afeca07f17729a": {
          "model_module": "@jupyter-widgets/controls",
          "model_name": "HBoxModel",
          "state": {
            "_view_name": "HBoxView",
            "_dom_classes": [],
            "_model_name": "HBoxModel",
            "_view_module": "@jupyter-widgets/controls",
            "_model_module_version": "1.5.0",
            "_view_count": null,
            "_view_module_version": "1.5.0",
            "box_style": "",
            "layout": "IPY_MODEL_29e72cd6665341d9a924f911afa5c355",
            "_model_module": "@jupyter-widgets/controls",
            "children": [
              "IPY_MODEL_98916a5e0d29441f81fbba5aa88de7c4",
              "IPY_MODEL_3684f4feefbf4aefa70603660d64a177"
            ]
          }
        },
        "29e72cd6665341d9a924f911afa5c355": {
          "model_module": "@jupyter-widgets/base",
          "model_name": "LayoutModel",
          "state": {
            "_view_name": "LayoutView",
            "grid_template_rows": null,
            "right": null,
            "justify_content": null,
            "_view_module": "@jupyter-widgets/base",
            "overflow": null,
            "_model_module_version": "1.2.0",
            "_view_count": null,
            "flex_flow": null,
            "width": null,
            "min_width": null,
            "border": null,
            "align_items": null,
            "bottom": null,
            "_model_module": "@jupyter-widgets/base",
            "top": null,
            "grid_column": null,
            "overflow_y": null,
            "overflow_x": null,
            "grid_auto_flow": null,
            "grid_area": null,
            "grid_template_columns": null,
            "flex": null,
            "_model_name": "LayoutModel",
            "justify_items": null,
            "grid_row": null,
            "max_height": null,
            "align_content": null,
            "visibility": null,
            "align_self": null,
            "height": null,
            "min_height": null,
            "padding": null,
            "grid_auto_rows": null,
            "grid_gap": null,
            "max_width": null,
            "order": null,
            "_view_module_version": "1.2.0",
            "grid_template_areas": null,
            "object_position": null,
            "object_fit": null,
            "grid_auto_columns": null,
            "margin": null,
            "display": null,
            "left": null
          }
        },
        "98916a5e0d29441f81fbba5aa88de7c4": {
          "model_module": "@jupyter-widgets/controls",
          "model_name": "FloatProgressModel",
          "state": {
            "_view_name": "ProgressView",
            "style": "IPY_MODEL_9827b774ed484b77be0de09acf47a63c",
            "_dom_classes": [],
            "description": "Downloading: 100%",
            "_model_name": "FloatProgressModel",
            "bar_style": "success",
            "max": 570,
            "_view_module": "@jupyter-widgets/controls",
            "_model_module_version": "1.5.0",
            "value": 570,
            "_view_count": null,
            "_view_module_version": "1.5.0",
            "orientation": "horizontal",
            "min": 0,
            "description_tooltip": null,
            "_model_module": "@jupyter-widgets/controls",
            "layout": "IPY_MODEL_a4824798e95f416fb845c20d62a72c62"
          }
        },
        "3684f4feefbf4aefa70603660d64a177": {
          "model_module": "@jupyter-widgets/controls",
          "model_name": "HTMLModel",
          "state": {
            "_view_name": "HTMLView",
            "style": "IPY_MODEL_c7e8f4e1bc4a483aa95e06e805bd4018",
            "_dom_classes": [],
            "description": "",
            "_model_name": "HTMLModel",
            "placeholder": "​",
            "_view_module": "@jupyter-widgets/controls",
            "_model_module_version": "1.5.0",
            "value": " 570/570 [00:01&lt;00:00, 500B/s]",
            "_view_count": null,
            "_view_module_version": "1.5.0",
            "description_tooltip": null,
            "_model_module": "@jupyter-widgets/controls",
            "layout": "IPY_MODEL_d0e751847dd64f4d989e042a91aae677"
          }
        },
        "9827b774ed484b77be0de09acf47a63c": {
          "model_module": "@jupyter-widgets/controls",
          "model_name": "ProgressStyleModel",
          "state": {
            "_view_name": "StyleView",
            "_model_name": "ProgressStyleModel",
            "description_width": "initial",
            "_view_module": "@jupyter-widgets/base",
            "_model_module_version": "1.5.0",
            "_view_count": null,
            "_view_module_version": "1.2.0",
            "bar_color": null,
            "_model_module": "@jupyter-widgets/controls"
          }
        },
        "a4824798e95f416fb845c20d62a72c62": {
          "model_module": "@jupyter-widgets/base",
          "model_name": "LayoutModel",
          "state": {
            "_view_name": "LayoutView",
            "grid_template_rows": null,
            "right": null,
            "justify_content": null,
            "_view_module": "@jupyter-widgets/base",
            "overflow": null,
            "_model_module_version": "1.2.0",
            "_view_count": null,
            "flex_flow": null,
            "width": null,
            "min_width": null,
            "border": null,
            "align_items": null,
            "bottom": null,
            "_model_module": "@jupyter-widgets/base",
            "top": null,
            "grid_column": null,
            "overflow_y": null,
            "overflow_x": null,
            "grid_auto_flow": null,
            "grid_area": null,
            "grid_template_columns": null,
            "flex": null,
            "_model_name": "LayoutModel",
            "justify_items": null,
            "grid_row": null,
            "max_height": null,
            "align_content": null,
            "visibility": null,
            "align_self": null,
            "height": null,
            "min_height": null,
            "padding": null,
            "grid_auto_rows": null,
            "grid_gap": null,
            "max_width": null,
            "order": null,
            "_view_module_version": "1.2.0",
            "grid_template_areas": null,
            "object_position": null,
            "object_fit": null,
            "grid_auto_columns": null,
            "margin": null,
            "display": null,
            "left": null
          }
        },
        "c7e8f4e1bc4a483aa95e06e805bd4018": {
          "model_module": "@jupyter-widgets/controls",
          "model_name": "DescriptionStyleModel",
          "state": {
            "_view_name": "StyleView",
            "_model_name": "DescriptionStyleModel",
            "description_width": "",
            "_view_module": "@jupyter-widgets/base",
            "_model_module_version": "1.5.0",
            "_view_count": null,
            "_view_module_version": "1.2.0",
            "_model_module": "@jupyter-widgets/controls"
          }
        },
        "d0e751847dd64f4d989e042a91aae677": {
          "model_module": "@jupyter-widgets/base",
          "model_name": "LayoutModel",
          "state": {
            "_view_name": "LayoutView",
            "grid_template_rows": null,
            "right": null,
            "justify_content": null,
            "_view_module": "@jupyter-widgets/base",
            "overflow": null,
            "_model_module_version": "1.2.0",
            "_view_count": null,
            "flex_flow": null,
            "width": null,
            "min_width": null,
            "border": null,
            "align_items": null,
            "bottom": null,
            "_model_module": "@jupyter-widgets/base",
            "top": null,
            "grid_column": null,
            "overflow_y": null,
            "overflow_x": null,
            "grid_auto_flow": null,
            "grid_area": null,
            "grid_template_columns": null,
            "flex": null,
            "_model_name": "LayoutModel",
            "justify_items": null,
            "grid_row": null,
            "max_height": null,
            "align_content": null,
            "visibility": null,
            "align_self": null,
            "height": null,
            "min_height": null,
            "padding": null,
            "grid_auto_rows": null,
            "grid_gap": null,
            "max_width": null,
            "order": null,
            "_view_module_version": "1.2.0",
            "grid_template_areas": null,
            "object_position": null,
            "object_fit": null,
            "grid_auto_columns": null,
            "margin": null,
            "display": null,
            "left": null
          }
        },
        "cd5a73b3ca0545a99a29320806351c4f": {
          "model_module": "@jupyter-widgets/controls",
          "model_name": "HBoxModel",
          "state": {
            "_view_name": "HBoxView",
            "_dom_classes": [],
            "_model_name": "HBoxModel",
            "_view_module": "@jupyter-widgets/controls",
            "_model_module_version": "1.5.0",
            "_view_count": null,
            "_view_module_version": "1.5.0",
            "box_style": "",
            "layout": "IPY_MODEL_44f21b776343461e8d7e15910d8748d2",
            "_model_module": "@jupyter-widgets/controls",
            "children": [
              "IPY_MODEL_ca28deea4bce43d0b45d1f111d568b4c",
              "IPY_MODEL_0a13999725f34aa2b64e4a1336f42e64"
            ]
          }
        },
        "44f21b776343461e8d7e15910d8748d2": {
          "model_module": "@jupyter-widgets/base",
          "model_name": "LayoutModel",
          "state": {
            "_view_name": "LayoutView",
            "grid_template_rows": null,
            "right": null,
            "justify_content": null,
            "_view_module": "@jupyter-widgets/base",
            "overflow": null,
            "_model_module_version": "1.2.0",
            "_view_count": null,
            "flex_flow": null,
            "width": null,
            "min_width": null,
            "border": null,
            "align_items": null,
            "bottom": null,
            "_model_module": "@jupyter-widgets/base",
            "top": null,
            "grid_column": null,
            "overflow_y": null,
            "overflow_x": null,
            "grid_auto_flow": null,
            "grid_area": null,
            "grid_template_columns": null,
            "flex": null,
            "_model_name": "LayoutModel",
            "justify_items": null,
            "grid_row": null,
            "max_height": null,
            "align_content": null,
            "visibility": null,
            "align_self": null,
            "height": null,
            "min_height": null,
            "padding": null,
            "grid_auto_rows": null,
            "grid_gap": null,
            "max_width": null,
            "order": null,
            "_view_module_version": "1.2.0",
            "grid_template_areas": null,
            "object_position": null,
            "object_fit": null,
            "grid_auto_columns": null,
            "margin": null,
            "display": null,
            "left": null
          }
        },
        "ca28deea4bce43d0b45d1f111d568b4c": {
          "model_module": "@jupyter-widgets/controls",
          "model_name": "FloatProgressModel",
          "state": {
            "_view_name": "ProgressView",
            "style": "IPY_MODEL_410fc22e2162451d9997c2321d3d204c",
            "_dom_classes": [],
            "description": "Downloading: 100%",
            "_model_name": "FloatProgressModel",
            "bar_style": "success",
            "max": 440473133,
            "_view_module": "@jupyter-widgets/controls",
            "_model_module_version": "1.5.0",
            "value": 440473133,
            "_view_count": null,
            "_view_module_version": "1.5.0",
            "orientation": "horizontal",
            "min": 0,
            "description_tooltip": null,
            "_model_module": "@jupyter-widgets/controls",
            "layout": "IPY_MODEL_86893419f5a241a1b4b7dd24bb923a60"
          }
        },
        "0a13999725f34aa2b64e4a1336f42e64": {
          "model_module": "@jupyter-widgets/controls",
          "model_name": "HTMLModel",
          "state": {
            "_view_name": "HTMLView",
            "style": "IPY_MODEL_5053e3b93a8242ea828e58b3e808aa6f",
            "_dom_classes": [],
            "description": "",
            "_model_name": "HTMLModel",
            "placeholder": "​",
            "_view_module": "@jupyter-widgets/controls",
            "_model_module_version": "1.5.0",
            "value": " 440M/440M [00:11&lt;00:00, 39.3MB/s]",
            "_view_count": null,
            "_view_module_version": "1.5.0",
            "description_tooltip": null,
            "_model_module": "@jupyter-widgets/controls",
            "layout": "IPY_MODEL_30a1a3594e5c4129bdbaf7250fd9833e"
          }
        },
        "410fc22e2162451d9997c2321d3d204c": {
          "model_module": "@jupyter-widgets/controls",
          "model_name": "ProgressStyleModel",
          "state": {
            "_view_name": "StyleView",
            "_model_name": "ProgressStyleModel",
            "description_width": "initial",
            "_view_module": "@jupyter-widgets/base",
            "_model_module_version": "1.5.0",
            "_view_count": null,
            "_view_module_version": "1.2.0",
            "bar_color": null,
            "_model_module": "@jupyter-widgets/controls"
          }
        },
        "86893419f5a241a1b4b7dd24bb923a60": {
          "model_module": "@jupyter-widgets/base",
          "model_name": "LayoutModel",
          "state": {
            "_view_name": "LayoutView",
            "grid_template_rows": null,
            "right": null,
            "justify_content": null,
            "_view_module": "@jupyter-widgets/base",
            "overflow": null,
            "_model_module_version": "1.2.0",
            "_view_count": null,
            "flex_flow": null,
            "width": null,
            "min_width": null,
            "border": null,
            "align_items": null,
            "bottom": null,
            "_model_module": "@jupyter-widgets/base",
            "top": null,
            "grid_column": null,
            "overflow_y": null,
            "overflow_x": null,
            "grid_auto_flow": null,
            "grid_area": null,
            "grid_template_columns": null,
            "flex": null,
            "_model_name": "LayoutModel",
            "justify_items": null,
            "grid_row": null,
            "max_height": null,
            "align_content": null,
            "visibility": null,
            "align_self": null,
            "height": null,
            "min_height": null,
            "padding": null,
            "grid_auto_rows": null,
            "grid_gap": null,
            "max_width": null,
            "order": null,
            "_view_module_version": "1.2.0",
            "grid_template_areas": null,
            "object_position": null,
            "object_fit": null,
            "grid_auto_columns": null,
            "margin": null,
            "display": null,
            "left": null
          }
        },
        "5053e3b93a8242ea828e58b3e808aa6f": {
          "model_module": "@jupyter-widgets/controls",
          "model_name": "DescriptionStyleModel",
          "state": {
            "_view_name": "StyleView",
            "_model_name": "DescriptionStyleModel",
            "description_width": "",
            "_view_module": "@jupyter-widgets/base",
            "_model_module_version": "1.5.0",
            "_view_count": null,
            "_view_module_version": "1.2.0",
            "_model_module": "@jupyter-widgets/controls"
          }
        },
        "30a1a3594e5c4129bdbaf7250fd9833e": {
          "model_module": "@jupyter-widgets/base",
          "model_name": "LayoutModel",
          "state": {
            "_view_name": "LayoutView",
            "grid_template_rows": null,
            "right": null,
            "justify_content": null,
            "_view_module": "@jupyter-widgets/base",
            "overflow": null,
            "_model_module_version": "1.2.0",
            "_view_count": null,
            "flex_flow": null,
            "width": null,
            "min_width": null,
            "border": null,
            "align_items": null,
            "bottom": null,
            "_model_module": "@jupyter-widgets/base",
            "top": null,
            "grid_column": null,
            "overflow_y": null,
            "overflow_x": null,
            "grid_auto_flow": null,
            "grid_area": null,
            "grid_template_columns": null,
            "flex": null,
            "_model_name": "LayoutModel",
            "justify_items": null,
            "grid_row": null,
            "max_height": null,
            "align_content": null,
            "visibility": null,
            "align_self": null,
            "height": null,
            "min_height": null,
            "padding": null,
            "grid_auto_rows": null,
            "grid_gap": null,
            "max_width": null,
            "order": null,
            "_view_module_version": "1.2.0",
            "grid_template_areas": null,
            "object_position": null,
            "object_fit": null,
            "grid_auto_columns": null,
            "margin": null,
            "display": null,
            "left": null
          }
        },
        "a5e286e291cc4923832a10b7394cfe05": {
          "model_module": "@jupyter-widgets/controls",
          "model_name": "HBoxModel",
          "state": {
            "_view_name": "HBoxView",
            "_dom_classes": [],
            "_model_name": "HBoxModel",
            "_view_module": "@jupyter-widgets/controls",
            "_model_module_version": "1.5.0",
            "_view_count": null,
            "_view_module_version": "1.5.0",
            "box_style": "",
            "layout": "IPY_MODEL_b6848bad515249a6b55769270060919b",
            "_model_module": "@jupyter-widgets/controls",
            "children": [
              "IPY_MODEL_72d3d645990a429b9a239ec57fecaf71",
              "IPY_MODEL_500c5d417663410eb4941fd5d001618a"
            ]
          }
        },
        "b6848bad515249a6b55769270060919b": {
          "model_module": "@jupyter-widgets/base",
          "model_name": "LayoutModel",
          "state": {
            "_view_name": "LayoutView",
            "grid_template_rows": null,
            "right": null,
            "justify_content": null,
            "_view_module": "@jupyter-widgets/base",
            "overflow": null,
            "_model_module_version": "1.2.0",
            "_view_count": null,
            "flex_flow": null,
            "width": null,
            "min_width": null,
            "border": null,
            "align_items": null,
            "bottom": null,
            "_model_module": "@jupyter-widgets/base",
            "top": null,
            "grid_column": null,
            "overflow_y": null,
            "overflow_x": null,
            "grid_auto_flow": null,
            "grid_area": null,
            "grid_template_columns": null,
            "flex": null,
            "_model_name": "LayoutModel",
            "justify_items": null,
            "grid_row": null,
            "max_height": null,
            "align_content": null,
            "visibility": null,
            "align_self": null,
            "height": null,
            "min_height": null,
            "padding": null,
            "grid_auto_rows": null,
            "grid_gap": null,
            "max_width": null,
            "order": null,
            "_view_module_version": "1.2.0",
            "grid_template_areas": null,
            "object_position": null,
            "object_fit": null,
            "grid_auto_columns": null,
            "margin": null,
            "display": null,
            "left": null
          }
        },
        "72d3d645990a429b9a239ec57fecaf71": {
          "model_module": "@jupyter-widgets/controls",
          "model_name": "FloatProgressModel",
          "state": {
            "_view_name": "ProgressView",
            "style": "IPY_MODEL_9825c87c51ce4b059b48c7624cfe10cd",
            "_dom_classes": [],
            "description": "100%",
            "_model_name": "FloatProgressModel",
            "bar_style": "success",
            "max": 30522,
            "_view_module": "@jupyter-widgets/controls",
            "_model_module_version": "1.5.0",
            "value": 30522,
            "_view_count": null,
            "_view_module_version": "1.5.0",
            "orientation": "horizontal",
            "min": 0,
            "description_tooltip": null,
            "_model_module": "@jupyter-widgets/controls",
            "layout": "IPY_MODEL_19aa6a65e0da4fd8b2fa6f8292d86626"
          }
        },
        "500c5d417663410eb4941fd5d001618a": {
          "model_module": "@jupyter-widgets/controls",
          "model_name": "HTMLModel",
          "state": {
            "_view_name": "HTMLView",
            "style": "IPY_MODEL_9576e28b834d45cc8ac3c560c544d31d",
            "_dom_classes": [],
            "description": "",
            "_model_name": "HTMLModel",
            "placeholder": "​",
            "_view_module": "@jupyter-widgets/controls",
            "_model_module_version": "1.5.0",
            "value": " 30522/30522 [06:31&lt;00:00, 77.93it/s]",
            "_view_count": null,
            "_view_module_version": "1.5.0",
            "description_tooltip": null,
            "_model_module": "@jupyter-widgets/controls",
            "layout": "IPY_MODEL_793be8eeb7a34f0db746d2752ae0ea46"
          }
        },
        "9825c87c51ce4b059b48c7624cfe10cd": {
          "model_module": "@jupyter-widgets/controls",
          "model_name": "ProgressStyleModel",
          "state": {
            "_view_name": "StyleView",
            "_model_name": "ProgressStyleModel",
            "description_width": "initial",
            "_view_module": "@jupyter-widgets/base",
            "_model_module_version": "1.5.0",
            "_view_count": null,
            "_view_module_version": "1.2.0",
            "bar_color": null,
            "_model_module": "@jupyter-widgets/controls"
          }
        },
        "19aa6a65e0da4fd8b2fa6f8292d86626": {
          "model_module": "@jupyter-widgets/base",
          "model_name": "LayoutModel",
          "state": {
            "_view_name": "LayoutView",
            "grid_template_rows": null,
            "right": null,
            "justify_content": null,
            "_view_module": "@jupyter-widgets/base",
            "overflow": null,
            "_model_module_version": "1.2.0",
            "_view_count": null,
            "flex_flow": null,
            "width": null,
            "min_width": null,
            "border": null,
            "align_items": null,
            "bottom": null,
            "_model_module": "@jupyter-widgets/base",
            "top": null,
            "grid_column": null,
            "overflow_y": null,
            "overflow_x": null,
            "grid_auto_flow": null,
            "grid_area": null,
            "grid_template_columns": null,
            "flex": null,
            "_model_name": "LayoutModel",
            "justify_items": null,
            "grid_row": null,
            "max_height": null,
            "align_content": null,
            "visibility": null,
            "align_self": null,
            "height": null,
            "min_height": null,
            "padding": null,
            "grid_auto_rows": null,
            "grid_gap": null,
            "max_width": null,
            "order": null,
            "_view_module_version": "1.2.0",
            "grid_template_areas": null,
            "object_position": null,
            "object_fit": null,
            "grid_auto_columns": null,
            "margin": null,
            "display": null,
            "left": null
          }
        },
        "9576e28b834d45cc8ac3c560c544d31d": {
          "model_module": "@jupyter-widgets/controls",
          "model_name": "DescriptionStyleModel",
          "state": {
            "_view_name": "StyleView",
            "_model_name": "DescriptionStyleModel",
            "description_width": "",
            "_view_module": "@jupyter-widgets/base",
            "_model_module_version": "1.5.0",
            "_view_count": null,
            "_view_module_version": "1.2.0",
            "_model_module": "@jupyter-widgets/controls"
          }
        },
        "793be8eeb7a34f0db746d2752ae0ea46": {
          "model_module": "@jupyter-widgets/base",
          "model_name": "LayoutModel",
          "state": {
            "_view_name": "LayoutView",
            "grid_template_rows": null,
            "right": null,
            "justify_content": null,
            "_view_module": "@jupyter-widgets/base",
            "overflow": null,
            "_model_module_version": "1.2.0",
            "_view_count": null,
            "flex_flow": null,
            "width": null,
            "min_width": null,
            "border": null,
            "align_items": null,
            "bottom": null,
            "_model_module": "@jupyter-widgets/base",
            "top": null,
            "grid_column": null,
            "overflow_y": null,
            "overflow_x": null,
            "grid_auto_flow": null,
            "grid_area": null,
            "grid_template_columns": null,
            "flex": null,
            "_model_name": "LayoutModel",
            "justify_items": null,
            "grid_row": null,
            "max_height": null,
            "align_content": null,
            "visibility": null,
            "align_self": null,
            "height": null,
            "min_height": null,
            "padding": null,
            "grid_auto_rows": null,
            "grid_gap": null,
            "max_width": null,
            "order": null,
            "_view_module_version": "1.2.0",
            "grid_template_areas": null,
            "object_position": null,
            "object_fit": null,
            "grid_auto_columns": null,
            "margin": null,
            "display": null,
            "left": null
          }
        },
        "a36c91f77da340a485722d3b323c5c7e": {
          "model_module": "@jupyter-widgets/controls",
          "model_name": "HBoxModel",
          "state": {
            "_view_name": "HBoxView",
            "_dom_classes": [],
            "_model_name": "HBoxModel",
            "_view_module": "@jupyter-widgets/controls",
            "_model_module_version": "1.5.0",
            "_view_count": null,
            "_view_module_version": "1.5.0",
            "box_style": "",
            "layout": "IPY_MODEL_4b5d8477aeb04616b9f9c7289090549b",
            "_model_module": "@jupyter-widgets/controls",
            "children": [
              "IPY_MODEL_440e0b62e2f640d3a3de94752aeee0af",
              "IPY_MODEL_e19d9e054f5d44d1acb447bf2dcbcc6b"
            ]
          }
        },
        "4b5d8477aeb04616b9f9c7289090549b": {
          "model_module": "@jupyter-widgets/base",
          "model_name": "LayoutModel",
          "state": {
            "_view_name": "LayoutView",
            "grid_template_rows": null,
            "right": null,
            "justify_content": null,
            "_view_module": "@jupyter-widgets/base",
            "overflow": null,
            "_model_module_version": "1.2.0",
            "_view_count": null,
            "flex_flow": null,
            "width": null,
            "min_width": null,
            "border": null,
            "align_items": null,
            "bottom": null,
            "_model_module": "@jupyter-widgets/base",
            "top": null,
            "grid_column": null,
            "overflow_y": null,
            "overflow_x": null,
            "grid_auto_flow": null,
            "grid_area": null,
            "grid_template_columns": null,
            "flex": null,
            "_model_name": "LayoutModel",
            "justify_items": null,
            "grid_row": null,
            "max_height": null,
            "align_content": null,
            "visibility": null,
            "align_self": null,
            "height": null,
            "min_height": null,
            "padding": null,
            "grid_auto_rows": null,
            "grid_gap": null,
            "max_width": null,
            "order": null,
            "_view_module_version": "1.2.0",
            "grid_template_areas": null,
            "object_position": null,
            "object_fit": null,
            "grid_auto_columns": null,
            "margin": null,
            "display": null,
            "left": null
          }
        },
        "440e0b62e2f640d3a3de94752aeee0af": {
          "model_module": "@jupyter-widgets/controls",
          "model_name": "FloatProgressModel",
          "state": {
            "_view_name": "ProgressView",
            "style": "IPY_MODEL_d4fe313156134e87a98606bca1fdcb55",
            "_dom_classes": [],
            "description": "100%",
            "_model_name": "FloatProgressModel",
            "bar_style": "success",
            "max": 5,
            "_view_module": "@jupyter-widgets/controls",
            "_model_module_version": "1.5.0",
            "value": 5,
            "_view_count": null,
            "_view_module_version": "1.5.0",
            "orientation": "horizontal",
            "min": 0,
            "description_tooltip": null,
            "_model_module": "@jupyter-widgets/controls",
            "layout": "IPY_MODEL_5581534df14c4eb1845d5df9ea5a8831"
          }
        },
        "e19d9e054f5d44d1acb447bf2dcbcc6b": {
          "model_module": "@jupyter-widgets/controls",
          "model_name": "HTMLModel",
          "state": {
            "_view_name": "HTMLView",
            "style": "IPY_MODEL_2d1a74c2a72c4b5a9ace33470086d941",
            "_dom_classes": [],
            "description": "",
            "_model_name": "HTMLModel",
            "placeholder": "​",
            "_view_module": "@jupyter-widgets/controls",
            "_model_module_version": "1.5.0",
            "value": " 5/5 [27:51&lt;00:00, 334.36s/it]",
            "_view_count": null,
            "_view_module_version": "1.5.0",
            "description_tooltip": null,
            "_model_module": "@jupyter-widgets/controls",
            "layout": "IPY_MODEL_ef037826a1b246a09c28a885ead9d1fb"
          }
        },
        "d4fe313156134e87a98606bca1fdcb55": {
          "model_module": "@jupyter-widgets/controls",
          "model_name": "ProgressStyleModel",
          "state": {
            "_view_name": "StyleView",
            "_model_name": "ProgressStyleModel",
            "description_width": "initial",
            "_view_module": "@jupyter-widgets/base",
            "_model_module_version": "1.5.0",
            "_view_count": null,
            "_view_module_version": "1.2.0",
            "bar_color": null,
            "_model_module": "@jupyter-widgets/controls"
          }
        },
        "5581534df14c4eb1845d5df9ea5a8831": {
          "model_module": "@jupyter-widgets/base",
          "model_name": "LayoutModel",
          "state": {
            "_view_name": "LayoutView",
            "grid_template_rows": null,
            "right": null,
            "justify_content": null,
            "_view_module": "@jupyter-widgets/base",
            "overflow": null,
            "_model_module_version": "1.2.0",
            "_view_count": null,
            "flex_flow": null,
            "width": null,
            "min_width": null,
            "border": null,
            "align_items": null,
            "bottom": null,
            "_model_module": "@jupyter-widgets/base",
            "top": null,
            "grid_column": null,
            "overflow_y": null,
            "overflow_x": null,
            "grid_auto_flow": null,
            "grid_area": null,
            "grid_template_columns": null,
            "flex": null,
            "_model_name": "LayoutModel",
            "justify_items": null,
            "grid_row": null,
            "max_height": null,
            "align_content": null,
            "visibility": null,
            "align_self": null,
            "height": null,
            "min_height": null,
            "padding": null,
            "grid_auto_rows": null,
            "grid_gap": null,
            "max_width": null,
            "order": null,
            "_view_module_version": "1.2.0",
            "grid_template_areas": null,
            "object_position": null,
            "object_fit": null,
            "grid_auto_columns": null,
            "margin": null,
            "display": null,
            "left": null
          }
        },
        "2d1a74c2a72c4b5a9ace33470086d941": {
          "model_module": "@jupyter-widgets/controls",
          "model_name": "DescriptionStyleModel",
          "state": {
            "_view_name": "StyleView",
            "_model_name": "DescriptionStyleModel",
            "description_width": "",
            "_view_module": "@jupyter-widgets/base",
            "_model_module_version": "1.5.0",
            "_view_count": null,
            "_view_module_version": "1.2.0",
            "_model_module": "@jupyter-widgets/controls"
          }
        },
        "ef037826a1b246a09c28a885ead9d1fb": {
          "model_module": "@jupyter-widgets/base",
          "model_name": "LayoutModel",
          "state": {
            "_view_name": "LayoutView",
            "grid_template_rows": null,
            "right": null,
            "justify_content": null,
            "_view_module": "@jupyter-widgets/base",
            "overflow": null,
            "_model_module_version": "1.2.0",
            "_view_count": null,
            "flex_flow": null,
            "width": null,
            "min_width": null,
            "border": null,
            "align_items": null,
            "bottom": null,
            "_model_module": "@jupyter-widgets/base",
            "top": null,
            "grid_column": null,
            "overflow_y": null,
            "overflow_x": null,
            "grid_auto_flow": null,
            "grid_area": null,
            "grid_template_columns": null,
            "flex": null,
            "_model_name": "LayoutModel",
            "justify_items": null,
            "grid_row": null,
            "max_height": null,
            "align_content": null,
            "visibility": null,
            "align_self": null,
            "height": null,
            "min_height": null,
            "padding": null,
            "grid_auto_rows": null,
            "grid_gap": null,
            "max_width": null,
            "order": null,
            "_view_module_version": "1.2.0",
            "grid_template_areas": null,
            "object_position": null,
            "object_fit": null,
            "grid_auto_columns": null,
            "margin": null,
            "display": null,
            "left": null
          }
        }
      }
    }
  },
  "cells": [
    {
      "cell_type": "code",
      "metadata": {
        "id": "MFgo9YxQaJcP",
        "colab": {
          "base_uri": "https://localhost:8080/"
        },
        "outputId": "1de14323-2b98-4a99-ea3b-8fc4255b34aa"
      },
      "source": [
        "!pip3 install transformers"
      ],
      "execution_count": null,
      "outputs": [
        {
          "output_type": "stream",
          "text": [
            "Requirement already satisfied: transformers in /usr/local/lib/python3.7/dist-packages (4.6.1)\n",
            "Requirement already satisfied: sacremoses in /usr/local/lib/python3.7/dist-packages (from transformers) (0.0.45)\n",
            "Requirement already satisfied: tqdm>=4.27 in /usr/local/lib/python3.7/dist-packages (from transformers) (4.41.1)\n",
            "Requirement already satisfied: tokenizers<0.11,>=0.10.1 in /usr/local/lib/python3.7/dist-packages (from transformers) (0.10.3)\n",
            "Requirement already satisfied: filelock in /usr/local/lib/python3.7/dist-packages (from transformers) (3.0.12)\n",
            "Requirement already satisfied: regex!=2019.12.17 in /usr/local/lib/python3.7/dist-packages (from transformers) (2019.12.20)\n",
            "Requirement already satisfied: importlib-metadata; python_version < \"3.8\" in /usr/local/lib/python3.7/dist-packages (from transformers) (4.0.1)\n",
            "Requirement already satisfied: numpy>=1.17 in /usr/local/lib/python3.7/dist-packages (from transformers) (1.19.5)\n",
            "Requirement already satisfied: requests in /usr/local/lib/python3.7/dist-packages (from transformers) (2.23.0)\n",
            "Requirement already satisfied: huggingface-hub==0.0.8 in /usr/local/lib/python3.7/dist-packages (from transformers) (0.0.8)\n",
            "Requirement already satisfied: packaging in /usr/local/lib/python3.7/dist-packages (from transformers) (20.9)\n",
            "Requirement already satisfied: joblib in /usr/local/lib/python3.7/dist-packages (from sacremoses->transformers) (1.0.1)\n",
            "Requirement already satisfied: click in /usr/local/lib/python3.7/dist-packages (from sacremoses->transformers) (7.1.2)\n",
            "Requirement already satisfied: six in /usr/local/lib/python3.7/dist-packages (from sacremoses->transformers) (1.15.0)\n",
            "Requirement already satisfied: typing-extensions>=3.6.4; python_version < \"3.8\" in /usr/local/lib/python3.7/dist-packages (from importlib-metadata; python_version < \"3.8\"->transformers) (3.7.4.3)\n",
            "Requirement already satisfied: zipp>=0.5 in /usr/local/lib/python3.7/dist-packages (from importlib-metadata; python_version < \"3.8\"->transformers) (3.4.1)\n",
            "Requirement already satisfied: urllib3!=1.25.0,!=1.25.1,<1.26,>=1.21.1 in /usr/local/lib/python3.7/dist-packages (from requests->transformers) (1.24.3)\n",
            "Requirement already satisfied: chardet<4,>=3.0.2 in /usr/local/lib/python3.7/dist-packages (from requests->transformers) (3.0.4)\n",
            "Requirement already satisfied: idna<3,>=2.5 in /usr/local/lib/python3.7/dist-packages (from requests->transformers) (2.10)\n",
            "Requirement already satisfied: certifi>=2017.4.17 in /usr/local/lib/python3.7/dist-packages (from requests->transformers) (2020.12.5)\n",
            "Requirement already satisfied: pyparsing>=2.0.2 in /usr/local/lib/python3.7/dist-packages (from packaging->transformers) (2.4.7)\n"
          ],
          "name": "stdout"
        }
      ]
    },
    {
      "cell_type": "code",
      "metadata": {
        "id": "BSzbo8UmZkSi"
      },
      "source": [
        "import matplotlib.pyplot as plt\n",
        "import numpy as np\n",
        "import torch\n",
        "\n",
        "from scipy import spatial\n",
        "from scipy.spatial.distance import cosine\n",
        "from sklearn.decomposition import PCA\n",
        "from tqdm.notebook import tqdm\n",
        "from transformers import (\n",
        "    BertModel, BertConfig, BertTokenizer, TrainingArguments, \n",
        "    Trainer, LineByLineTextDataset, DataCollatorForLanguageModeling,\n",
        "    DataCollatorWithPadding, DataCollator, BertForMaskedLM, BertForPreTraining\n",
        ")"
      ],
      "execution_count": null,
      "outputs": []
    },
    {
      "cell_type": "markdown",
      "metadata": {
        "id": "a4Ejo_Y_Ztoy"
      },
      "source": [
        ""
      ]
    },
    {
      "cell_type": "markdown",
      "metadata": {
        "id": "4lLQ2rUhZum7"
      },
      "source": [
        "# Достаём эмбеддинги из предобученного BERT"
      ]
    },
    {
      "cell_type": "markdown",
      "metadata": {
        "id": "Do_UvyvCgvNZ"
      },
      "source": [
        "## Загружаем модель"
      ]
    },
    {
      "cell_type": "code",
      "metadata": {
        "colab": {
          "base_uri": "https://localhost:8080/",
          "height": 336,
          "referenced_widgets": [
            "63fcd96c4a99400ba95fc7f88d7a0e85",
            "41a31cea046b4041bc97bd44ef8c8bd7",
            "3d47b4bccf0e4a3ca1221db078622708",
            "355eb73a5c3e41d3adb2b76ea7576187",
            "356734b3f5c04c8d8d3acf7a15a2a604",
            "18c4346a042d4619aff059b712bf8071",
            "6af9714d49d842a0b2329ebc517833c3",
            "6f5da7f2523c4ba183d74d529fc2e1d5",
            "c0cc02e0460d42b3b172882fd307b88d",
            "6abde7be8abb404d801dcef50ce6b3ee",
            "74a75bac3846413aab427582a39ad29c",
            "70ca807e58a3493da73637700718ea5f",
            "4a30361459a3419abce26511074062ec",
            "527b4ca1a7584d3fa8224b5e096693de",
            "3997993160aa483489038b29e4e0b3f5",
            "e7009e01c8934143a11337a38efaf883",
            "f263bf5e1ab743bfba7606ddc96fafe3",
            "55cbfdcb1f3a4eb4b573cb6cd4fbceb8",
            "2f559df8b2bd45dcb4c9537a2c2e7f5c",
            "b6bf46c26a6c4135b089e423c72f7a6f",
            "bbef05130d214b79953c3c91df73c16d",
            "eed7315cdacd4efbb197aea24253741a",
            "ca4adf0ba16142889604d8ecb8b2366d",
            "3ecce1b33be4456eb8bca20f7d419d6e",
            "433f11d7c3ea4b46a1afeca07f17729a",
            "29e72cd6665341d9a924f911afa5c355",
            "98916a5e0d29441f81fbba5aa88de7c4",
            "3684f4feefbf4aefa70603660d64a177",
            "9827b774ed484b77be0de09acf47a63c",
            "a4824798e95f416fb845c20d62a72c62",
            "c7e8f4e1bc4a483aa95e06e805bd4018",
            "d0e751847dd64f4d989e042a91aae677",
            "cd5a73b3ca0545a99a29320806351c4f",
            "44f21b776343461e8d7e15910d8748d2",
            "ca28deea4bce43d0b45d1f111d568b4c",
            "0a13999725f34aa2b64e4a1336f42e64",
            "410fc22e2162451d9997c2321d3d204c",
            "86893419f5a241a1b4b7dd24bb923a60",
            "5053e3b93a8242ea828e58b3e808aa6f",
            "30a1a3594e5c4129bdbaf7250fd9833e"
          ]
        },
        "id": "tpeaN4WRZrSJ",
        "outputId": "0b15fe1f-6843-4f8f-bf95-e838030ca751"
      },
      "source": [
        "tokenizer = BertTokenizer.from_pretrained('bert-base-uncased')\n",
        "config = BertConfig.from_pretrained('bert-base-uncased', output_hidden_states=True)\n",
        "model = BertModel.from_pretrained('bert-base-uncased', config=config)"
      ],
      "execution_count": null,
      "outputs": [
        {
          "output_type": "display_data",
          "data": {
            "application/vnd.jupyter.widget-view+json": {
              "model_id": "63fcd96c4a99400ba95fc7f88d7a0e85",
              "version_minor": 0,
              "version_major": 2
            },
            "text/plain": [
              "HBox(children=(FloatProgress(value=0.0, description='Downloading', max=231508.0, style=ProgressStyle(descripti…"
            ]
          },
          "metadata": {
            "tags": []
          }
        },
        {
          "output_type": "stream",
          "text": [
            "\n"
          ],
          "name": "stdout"
        },
        {
          "output_type": "display_data",
          "data": {
            "application/vnd.jupyter.widget-view+json": {
              "model_id": "c0cc02e0460d42b3b172882fd307b88d",
              "version_minor": 0,
              "version_major": 2
            },
            "text/plain": [
              "HBox(children=(FloatProgress(value=0.0, description='Downloading', max=28.0, style=ProgressStyle(description_w…"
            ]
          },
          "metadata": {
            "tags": []
          }
        },
        {
          "output_type": "stream",
          "text": [
            "\n"
          ],
          "name": "stdout"
        },
        {
          "output_type": "display_data",
          "data": {
            "application/vnd.jupyter.widget-view+json": {
              "model_id": "f263bf5e1ab743bfba7606ddc96fafe3",
              "version_minor": 0,
              "version_major": 2
            },
            "text/plain": [
              "HBox(children=(FloatProgress(value=0.0, description='Downloading', max=466062.0, style=ProgressStyle(descripti…"
            ]
          },
          "metadata": {
            "tags": []
          }
        },
        {
          "output_type": "stream",
          "text": [
            "\n"
          ],
          "name": "stdout"
        },
        {
          "output_type": "display_data",
          "data": {
            "application/vnd.jupyter.widget-view+json": {
              "model_id": "433f11d7c3ea4b46a1afeca07f17729a",
              "version_minor": 0,
              "version_major": 2
            },
            "text/plain": [
              "HBox(children=(FloatProgress(value=0.0, description='Downloading', max=570.0, style=ProgressStyle(description_…"
            ]
          },
          "metadata": {
            "tags": []
          }
        },
        {
          "output_type": "stream",
          "text": [
            "\n"
          ],
          "name": "stdout"
        },
        {
          "output_type": "display_data",
          "data": {
            "application/vnd.jupyter.widget-view+json": {
              "model_id": "cd5a73b3ca0545a99a29320806351c4f",
              "version_minor": 0,
              "version_major": 2
            },
            "text/plain": [
              "HBox(children=(FloatProgress(value=0.0, description='Downloading', max=440473133.0, style=ProgressStyle(descri…"
            ]
          },
          "metadata": {
            "tags": []
          }
        },
        {
          "output_type": "stream",
          "text": [
            "\n"
          ],
          "name": "stdout"
        },
        {
          "output_type": "stream",
          "text": [
            "Some weights of the model checkpoint at bert-base-uncased were not used when initializing BertModel: ['cls.predictions.transform.dense.bias', 'cls.seq_relationship.bias', 'cls.predictions.decoder.weight', 'cls.predictions.transform.dense.weight', 'cls.predictions.transform.LayerNorm.weight', 'cls.predictions.bias', 'cls.predictions.transform.LayerNorm.bias', 'cls.seq_relationship.weight']\n",
            "- This IS expected if you are initializing BertModel from the checkpoint of a model trained on another task or with another architecture (e.g. initializing a BertForSequenceClassification model from a BertForPreTraining model).\n",
            "- This IS NOT expected if you are initializing BertModel from the checkpoint of a model that you expect to be exactly identical (initializing a BertForSequenceClassification model from a BertForSequenceClassification model).\n"
          ],
          "name": "stderr"
        }
      ]
    },
    {
      "cell_type": "code",
      "metadata": {
        "colab": {
          "base_uri": "https://localhost:8080/"
        },
        "id": "_OFqpIhbcL-U",
        "outputId": "5361d8c3-d2fa-4da3-b8d3-97714249a001"
      },
      "source": [
        "tokenizer = BertTokenizer.from_pretrained('google/bert_uncased_L-12_H-128_A-2')\n",
        "config = BertConfig.from_pretrained('google/bert_uncased_L-12_H-128_A-2', output_hidden_states=True)\n",
        "model = BertModel.from_pretrained('google/bert_uncased_L-12_H-128_A-2', config=config)"
      ],
      "execution_count": null,
      "outputs": [
        {
          "output_type": "stream",
          "text": [
            "Some weights of the model checkpoint at google/bert_uncased_L-12_H-128_A-2 were not used when initializing BertModel: ['cls.seq_relationship.weight', 'cls.predictions.transform.LayerNorm.weight', 'cls.predictions.decoder.weight', 'cls.predictions.transform.dense.bias', 'cls.seq_relationship.bias', 'cls.predictions.decoder.bias', 'cls.predictions.transform.LayerNorm.bias', 'cls.predictions.transform.dense.weight', 'cls.predictions.bias']\n",
            "- This IS expected if you are initializing BertModel from the checkpoint of a model trained on another task or with another architecture (e.g. initializing a BertForSequenceClassification model from a BertForPreTraining model).\n",
            "- This IS NOT expected if you are initializing BertModel from the checkpoint of a model that you expect to be exactly identical (initializing a BertForSequenceClassification model from a BertForSequenceClassification model).\n"
          ],
          "name": "stderr"
        }
      ]
    },
    {
      "cell_type": "markdown",
      "metadata": {
        "id": "fo8sTLEcgxw_"
      },
      "source": [
        "## Функции для эмбеддингов"
      ]
    },
    {
      "cell_type": "code",
      "metadata": {
        "colab": {
          "base_uri": "https://localhost:8080/"
        },
        "id": "mXGOBkybbToZ",
        "outputId": "9625661a-6647-4971-9749-b894eeb1dbfa"
      },
      "source": [
        "text = 'perfect weather'\n",
        "def get_ids_tokens(text, tokenizer=tokenizer):\n",
        "    tokens = tokenizer.tokenize('[CLS] ' + text + ' [SEP]')\n",
        "    ids = tokenizer.encode(text)\n",
        "    return ids, tokens\n",
        "\n",
        "get_ids_tokens(text)"
      ],
      "execution_count": null,
      "outputs": [
        {
          "output_type": "execute_result",
          "data": {
            "text/plain": [
              "([101, 3819, 4633, 102], ['[CLS]', 'perfect', 'weather', '[SEP]'])"
            ]
          },
          "metadata": {
            "tags": []
          },
          "execution_count": 4
        }
      ]
    },
    {
      "cell_type": "code",
      "metadata": {
        "colab": {
          "base_uri": "https://localhost:8080/"
        },
        "id": "sw2suP2ieTeM",
        "outputId": "a142f35f-f664-40e6-f923-1153d30c8b41"
      },
      "source": [
        "def get_embeddings_from_last(text, tokenizer=tokenizer, model=model):\n",
        "    \"\"\"Вытягивает векторные представления для слов в тексте как крайние hidden states\"\"\"\n",
        "    encoded_input = tokenizer(text, return_tensors='pt')\n",
        "    word_embeddings = model(**encoded_input)[2][-1][0].detach().numpy()[1:-1]\n",
        "    return word_embeddings\n",
        "\n",
        "get_embeddings_from_last('hello there guys').shape"
      ],
      "execution_count": null,
      "outputs": [
        {
          "output_type": "execute_result",
          "data": {
            "text/plain": [
              "(3, 128)"
            ]
          },
          "metadata": {
            "tags": []
          },
          "execution_count": 5
        }
      ]
    },
    {
      "cell_type": "code",
      "metadata": {
        "colab": {
          "base_uri": "https://localhost:8080/"
        },
        "id": "4V6EADeLe2xH",
        "outputId": "b2a29e25-812a-495a-a72a-a416ab81e986"
      },
      "source": [
        "k, q, m, w = get_embeddings_from_last(\"king queen man woman\")\n",
        "spatial.distance.cosine(k - m + w, q)"
      ],
      "execution_count": null,
      "outputs": [
        {
          "output_type": "execute_result",
          "data": {
            "text/plain": [
              "0.1589096188545227"
            ]
          },
          "metadata": {
            "tags": []
          },
          "execution_count": 6
        }
      ]
    },
    {
      "cell_type": "code",
      "metadata": {
        "id": "U-RDp-mZbcfF"
      },
      "source": [
        "def get_embeddings(text, tokenizer=tokenizer, model=model):\n",
        "    \"\"\"Вытягивает векторные представления для слов в тексте на основе 4 крайних hidden states\"\"\"\n",
        "    encoded_input = tokenizer(text, return_tensors='pt')\n",
        "    four_last_hidden = model(**encoded_input)[2][-4:]\n",
        "    four_last_hidden = np.asarray([hidden[0].detach().numpy() for hidden in four_last_hidden])\n",
        "    word_embeddings = four_last_hidden[:, 1:-1].sum(axis=0)\n",
        "    return word_embeddings\n",
        "\n",
        "# get_embeddings(\"king queen man woman\")"
      ],
      "execution_count": null,
      "outputs": []
    },
    {
      "cell_type": "code",
      "metadata": {
        "colab": {
          "base_uri": "https://localhost:8080/",
          "height": 130
        },
        "id": "sEcM0xX_bos-",
        "outputId": "7ebf5a09-662b-4ac6-9d6d-ccf6bdd7ed4b"
      },
      "source": [
        "|k, q, m, w = get_embeddings(\"king queen man woman\")\n",
        "spatial.distance.cosine(k - m + w, q)"
      ],
      "execution_count": null,
      "outputs": [
        {
          "output_type": "error",
          "ename": "SyntaxError",
          "evalue": "ignored",
          "traceback": [
            "\u001b[0;36m  File \u001b[0;32m\"<ipython-input-9-d7cc72b80bec>\"\u001b[0;36m, line \u001b[0;32m1\u001b[0m\n\u001b[0;31m    |k, q, m, w = get_embeddings(\"king queen man woman\")\u001b[0m\n\u001b[0m    ^\u001b[0m\n\u001b[0;31mSyntaxError\u001b[0m\u001b[0;31m:\u001b[0m invalid syntax\n"
          ]
        }
      ]
    },
    {
      "cell_type": "markdown",
      "metadata": {
        "id": "6dduFNYjfM7q"
      },
      "source": [
        "Как предлагается в статье, в качестве эмбеддинга будем брать четыре hidden state'а вместо одного последнего."
      ]
    },
    {
      "cell_type": "markdown",
      "metadata": {
        "id": "82avV-phgrNK"
      },
      "source": [
        "## Сохраняем эмбеддинги для всех слов в словаре"
      ]
    },
    {
      "cell_type": "code",
      "metadata": {
        "colab": {
          "base_uri": "https://localhost:8080/",
          "height": 67,
          "referenced_widgets": [
            "a5e286e291cc4923832a10b7394cfe05",
            "b6848bad515249a6b55769270060919b",
            "72d3d645990a429b9a239ec57fecaf71",
            "500c5d417663410eb4941fd5d001618a",
            "9825c87c51ce4b059b48c7624cfe10cd",
            "19aa6a65e0da4fd8b2fa6f8292d86626",
            "9576e28b834d45cc8ac3c560c544d31d",
            "793be8eeb7a34f0db746d2752ae0ea46"
          ]
        },
        "id": "DjnawChxHWq0",
        "outputId": "34241e8a-5691-4ebc-bac3-a8027df0b116"
      },
      "source": [
        "all_embeddings = []  # list of all embeddings in vocabulary\n",
        "\n",
        "for word in tqdm(tokenizer.ids_to_tokens.values()):\n",
        "    all_embeddings.append(get_embeddings(word)[0])"
      ],
      "execution_count": null,
      "outputs": [
        {
          "output_type": "display_data",
          "data": {
            "application/vnd.jupyter.widget-view+json": {
              "model_id": "a5e286e291cc4923832a10b7394cfe05",
              "version_minor": 0,
              "version_major": 2
            },
            "text/plain": [
              "HBox(children=(FloatProgress(value=0.0, max=30522.0), HTML(value='')))"
            ]
          },
          "metadata": {
            "tags": []
          }
        },
        {
          "output_type": "stream",
          "text": [
            "\n"
          ],
          "name": "stdout"
        }
      ]
    },
    {
      "cell_type": "code",
      "metadata": {
        "id": "_6YmbZUDjEnb"
      },
      "source": [
        "# np.save('bert-base-uncased-embeddings.npy', np.asarray(all_embeddings))\n",
        "# np.save('drive/MyDrive/Coursework2021/bert_base_uncased_vocab_embeddings.npy', np.asarray(all_embeddings))\n",
        "\n",
        "np.save('bert-base-uncased-embeddings.npy', np.asarray(all_embeddings))\n",
        "np.save('drive/MyDrive/Coursework2021/bert_uncased_L-12_H-128_A-2_vocab_embeddings.npy', np.asarray(all_embeddings))"
      ],
      "execution_count": null,
      "outputs": []
    },
    {
      "cell_type": "code",
      "metadata": {
        "id": "ZA-_Uo0Qr3Yu"
      },
      "source": [
        "# # with open('bert_base_uncased_tokens.txt', 'w') as f:\n",
        "# #     for token in tokenizer.ids_to_tokens.values():\n",
        "# #         print(token, file=f)\n",
        "# # with open('drive/MyDrive/Coursework2021/bert_base_uncased_vocab.txt', 'w') as f:\n",
        "# #     for token in tokenizer.ids_to_tokens.values():\n",
        "# #         print(token, file=f)\n",
        "\n",
        "# with open('bert_base_uncased_tokens.txt', 'w') as f:\n",
        "#     for token in tokenizer.ids_to_tokens.values():\n",
        "#         print(token, file=f)\n",
        "# with open('drive/MyDrive/Coursework2021/bert_uncased_L-12_H-128_A-2_vocab.txt', 'w') as f:\n",
        "#     for token in tokenizer.ids_to_tokens.values():\n",
        "#         print(token, file=f)"
      ],
      "execution_count": null,
      "outputs": []
    },
    {
      "cell_type": "code",
      "metadata": {
        "id": "RSNblk8MjaKO",
        "colab": {
          "base_uri": "https://localhost:8080/",
          "height": 304
        },
        "outputId": "6153504d-9f88-48b9-858d-0ea20240ae70"
      },
      "source": [
        "embeddings = np.load('bert-base-uncased-embeddings.npy')\n",
        "assert (all_embeddings == embeddings).mean() == 1"
      ],
      "execution_count": null,
      "outputs": [
        {
          "output_type": "error",
          "ename": "FileNotFoundError",
          "evalue": "ignored",
          "traceback": [
            "\u001b[0;31m---------------------------------------------------------------------------\u001b[0m",
            "\u001b[0;31mFileNotFoundError\u001b[0m                         Traceback (most recent call last)",
            "\u001b[0;32m<ipython-input-8-2282949d3f45>\u001b[0m in \u001b[0;36m<module>\u001b[0;34m()\u001b[0m\n\u001b[0;32m----> 1\u001b[0;31m \u001b[0membeddings\u001b[0m \u001b[0;34m=\u001b[0m \u001b[0mnp\u001b[0m\u001b[0;34m.\u001b[0m\u001b[0mload\u001b[0m\u001b[0;34m(\u001b[0m\u001b[0;34m'bert-base-uncased-embeddings.npy'\u001b[0m\u001b[0;34m)\u001b[0m\u001b[0;34m\u001b[0m\u001b[0;34m\u001b[0m\u001b[0m\n\u001b[0m\u001b[1;32m      2\u001b[0m \u001b[0;32massert\u001b[0m \u001b[0;34m(\u001b[0m\u001b[0mall_embeddings\u001b[0m \u001b[0;34m==\u001b[0m \u001b[0membeddings\u001b[0m\u001b[0;34m)\u001b[0m\u001b[0;34m.\u001b[0m\u001b[0mmean\u001b[0m\u001b[0;34m(\u001b[0m\u001b[0;34m)\u001b[0m \u001b[0;34m==\u001b[0m \u001b[0;36m1\u001b[0m\u001b[0;34m\u001b[0m\u001b[0;34m\u001b[0m\u001b[0m\n",
            "\u001b[0;32m/usr/local/lib/python3.7/dist-packages/numpy/lib/npyio.py\u001b[0m in \u001b[0;36mload\u001b[0;34m(file, mmap_mode, allow_pickle, fix_imports, encoding)\u001b[0m\n\u001b[1;32m    414\u001b[0m             \u001b[0mown_fid\u001b[0m \u001b[0;34m=\u001b[0m \u001b[0;32mFalse\u001b[0m\u001b[0;34m\u001b[0m\u001b[0;34m\u001b[0m\u001b[0m\n\u001b[1;32m    415\u001b[0m         \u001b[0;32melse\u001b[0m\u001b[0;34m:\u001b[0m\u001b[0;34m\u001b[0m\u001b[0;34m\u001b[0m\u001b[0m\n\u001b[0;32m--> 416\u001b[0;31m             \u001b[0mfid\u001b[0m \u001b[0;34m=\u001b[0m \u001b[0mstack\u001b[0m\u001b[0;34m.\u001b[0m\u001b[0menter_context\u001b[0m\u001b[0;34m(\u001b[0m\u001b[0mopen\u001b[0m\u001b[0;34m(\u001b[0m\u001b[0mos_fspath\u001b[0m\u001b[0;34m(\u001b[0m\u001b[0mfile\u001b[0m\u001b[0;34m)\u001b[0m\u001b[0;34m,\u001b[0m \u001b[0;34m\"rb\"\u001b[0m\u001b[0;34m)\u001b[0m\u001b[0;34m)\u001b[0m\u001b[0;34m\u001b[0m\u001b[0;34m\u001b[0m\u001b[0m\n\u001b[0m\u001b[1;32m    417\u001b[0m             \u001b[0mown_fid\u001b[0m \u001b[0;34m=\u001b[0m \u001b[0;32mTrue\u001b[0m\u001b[0;34m\u001b[0m\u001b[0;34m\u001b[0m\u001b[0m\n\u001b[1;32m    418\u001b[0m \u001b[0;34m\u001b[0m\u001b[0m\n",
            "\u001b[0;31mFileNotFoundError\u001b[0m: [Errno 2] No such file or directory: 'bert-base-uncased-embeddings.npy'"
          ]
        }
      ]
    },
    {
      "cell_type": "markdown",
      "metadata": {
        "id": "2V0L46l1gk7I"
      },
      "source": [
        "# Строим автоенкодер\n",
        "\n",
        "TODO: сэмплировать обучающую выборку по частотности."
      ]
    },
    {
      "cell_type": "code",
      "metadata": {
        "id": "vTvZJLU4k6_J"
      },
      "source": [
        "all_embeddings = np.load('drive/MyDrive/Coursework2021/bert_uncased_L-12_H-128_A-2_vocab_embeddings.npy')\n",
        "with open('drive/MyDrive/Coursework2021/bert_uncased_L-12_H-128_A-2_vocab.txt', 'r') as f:\n",
        "    all_tokens = f.read().split('\\n')[:-1]"
      ],
      "execution_count": null,
      "outputs": []
    },
    {
      "cell_type": "code",
      "metadata": {
        "id": "YslT_EQpuJ4i"
      },
      "source": [
        "from keras.callbacks import ModelCheckpoint\n",
        "from keras.layers import InputLayer, Dense\n",
        "from keras.models import Model, Sequential\n",
        "\n",
        "ORIGINAL_DIM = 128\n",
        "TARGET_DIM = 64\n",
        "\n",
        "encoder = Sequential([\n",
        "    InputLayer(input_shape=(ORIGINAL_DIM,)),\n",
        "    Dense(90, activation='LeakyReLU'),\n",
        "    # Dense(32, activation='relu'),\n",
        "    Dense(TARGET_DIM, activation='LeakyReLU')\n",
        "])\n",
        "\n",
        "decoder = Sequential([\n",
        "    InputLayer(input_shape=(TARGET_DIM,)),\n",
        "    # Dense(32, activation='relu'),\n",
        "    Dense(90, activation='LeakyReLU'),\n",
        "    Dense(ORIGINAL_DIM, activation=None)\n",
        "])\n",
        "\n",
        "autoencoder = Model(inputs=encoder.input, outputs=decoder(encoder.output))\n",
        "autoencoder.compile(loss='mse', optimizer='adam')"
      ],
      "execution_count": null,
      "outputs": []
    },
    {
      "cell_type": "code",
      "metadata": {
        "colab": {
          "base_uri": "https://localhost:8080/"
        },
        "id": "hWxTjT7o2Zc9",
        "outputId": "ee2b2d55-277f-4725-8421-f62eea615819"
      },
      "source": [
        "autoencoder.count_params()"
      ],
      "execution_count": null,
      "outputs": [
        {
          "output_type": "execute_result",
          "data": {
            "text/plain": [
              "34932"
            ]
          },
          "metadata": {
            "tags": []
          },
          "execution_count": 189
        }
      ]
    },
    {
      "cell_type": "code",
      "metadata": {
        "id": "pxvKn0Op1ek6",
        "colab": {
          "base_uri": "https://localhost:8080/",
          "height": 1000
        },
        "outputId": "2c1ff545-0688-4e21-c186-b18256894fee"
      },
      "source": [
        "model_history = autoencoder.fit(all_embeddings, all_embeddings, epochs=50, batch_size=32, verbose=True, validation_split=0.1, shuffle=True)\n",
        "# model_history = autoencoder.fit(get_embeddings('king queen man woman'), get_embeddings('king queen man woman'), epochs=1000, batch_size=32, verbose=False)"
      ],
      "execution_count": null,
      "outputs": [
        {
          "output_type": "stream",
          "text": [
            "Epoch 1/50\n",
            "859/859 [==============================] - 2s 2ms/step - loss: 3.5574 - val_loss: 0.6818\n",
            "Epoch 2/50\n",
            "859/859 [==============================] - 2s 2ms/step - loss: 0.6002 - val_loss: 0.4728\n",
            "Epoch 3/50\n",
            "859/859 [==============================] - 1s 2ms/step - loss: 0.3816 - val_loss: 0.3722\n",
            "Epoch 4/50\n",
            "859/859 [==============================] - 1s 2ms/step - loss: 0.3014 - val_loss: 0.3498\n",
            "Epoch 5/50\n",
            "859/859 [==============================] - 2s 2ms/step - loss: 0.2532 - val_loss: 0.2999\n",
            "Epoch 6/50\n",
            "859/859 [==============================] - 2s 2ms/step - loss: 0.2270 - val_loss: 0.2782\n",
            "Epoch 7/50\n",
            "859/859 [==============================] - 2s 2ms/step - loss: 0.2039 - val_loss: 0.2366\n",
            "Epoch 8/50\n",
            "859/859 [==============================] - 2s 2ms/step - loss: 0.1929 - val_loss: 0.2072\n",
            "Epoch 9/50\n",
            "859/859 [==============================] - 1s 2ms/step - loss: 0.1781 - val_loss: 0.1949\n",
            "Epoch 10/50\n",
            "859/859 [==============================] - 2s 2ms/step - loss: 0.1702 - val_loss: 0.1818\n",
            "Epoch 11/50\n",
            "859/859 [==============================] - 2s 2ms/step - loss: 0.1592 - val_loss: 0.1817\n",
            "Epoch 12/50\n",
            "859/859 [==============================] - 2s 2ms/step - loss: 0.1526 - val_loss: 0.1782\n",
            "Epoch 13/50\n",
            "859/859 [==============================] - 2s 2ms/step - loss: 0.1483 - val_loss: 0.1797\n",
            "Epoch 14/50\n",
            "859/859 [==============================] - 2s 2ms/step - loss: 0.1453 - val_loss: 0.1786\n",
            "Epoch 15/50\n",
            "859/859 [==============================] - 2s 2ms/step - loss: 0.1403 - val_loss: 0.1743\n",
            "Epoch 16/50\n",
            "859/859 [==============================] - 1s 2ms/step - loss: 0.1383 - val_loss: 0.1780\n",
            "Epoch 17/50\n",
            "859/859 [==============================] - 1s 2ms/step - loss: 0.1374 - val_loss: 0.1731\n",
            "Epoch 18/50\n",
            "859/859 [==============================] - 1s 2ms/step - loss: 0.1337 - val_loss: 0.1614\n",
            "Epoch 19/50\n",
            "859/859 [==============================] - 1s 2ms/step - loss: 0.1341 - val_loss: 0.1605\n",
            "Epoch 20/50\n",
            "859/859 [==============================] - 1s 2ms/step - loss: 0.1331 - val_loss: 0.1595\n",
            "Epoch 21/50\n",
            "859/859 [==============================] - 2s 2ms/step - loss: 0.1320 - val_loss: 0.1537\n",
            "Epoch 22/50\n",
            "859/859 [==============================] - 2s 2ms/step - loss: 0.1309 - val_loss: 0.1520\n",
            "Epoch 23/50\n",
            "859/859 [==============================] - 2s 2ms/step - loss: 0.1296 - val_loss: 0.1522\n",
            "Epoch 24/50\n",
            "859/859 [==============================] - 2s 2ms/step - loss: 0.1322 - val_loss: 0.1607\n",
            "Epoch 25/50\n",
            "859/859 [==============================] - 2s 2ms/step - loss: 0.1291 - val_loss: 0.1508\n",
            "Epoch 26/50\n",
            "859/859 [==============================] - 2s 2ms/step - loss: 0.1290 - val_loss: 0.1629\n",
            "Epoch 27/50\n",
            "859/859 [==============================] - 2s 2ms/step - loss: 0.1282 - val_loss: 0.1565\n",
            "Epoch 28/50\n",
            "859/859 [==============================] - 2s 2ms/step - loss: 0.1283 - val_loss: 0.1490\n",
            "Epoch 29/50\n",
            "859/859 [==============================] - 2s 2ms/step - loss: 0.1285 - val_loss: 0.1532\n",
            "Epoch 30/50\n",
            "859/859 [==============================] - 2s 2ms/step - loss: 0.1286 - val_loss: 0.1516\n",
            "Epoch 31/50\n",
            "859/859 [==============================] - 2s 2ms/step - loss: 0.1273 - val_loss: 0.1493\n",
            "Epoch 32/50\n",
            "859/859 [==============================] - 2s 2ms/step - loss: 0.1272 - val_loss: 0.1487\n",
            "Epoch 33/50\n",
            "859/859 [==============================] - 2s 2ms/step - loss: 0.1274 - val_loss: 0.1501\n",
            "Epoch 34/50\n",
            "859/859 [==============================] - 1s 2ms/step - loss: 0.1277 - val_loss: 0.1475\n",
            "Epoch 35/50\n",
            "859/859 [==============================] - 2s 2ms/step - loss: 0.1277 - val_loss: 0.1427\n",
            "Epoch 36/50\n",
            "859/859 [==============================] - 1s 2ms/step - loss: 0.1259 - val_loss: 0.1476\n",
            "Epoch 37/50\n",
            "859/859 [==============================] - 2s 2ms/step - loss: 0.1257 - val_loss: 0.1472\n",
            "Epoch 38/50\n",
            "859/859 [==============================] - 1s 2ms/step - loss: 0.1250 - val_loss: 0.1556\n",
            "Epoch 39/50\n",
            "859/859 [==============================] - 2s 2ms/step - loss: 0.1255 - val_loss: 0.1462\n",
            "Epoch 40/50\n",
            "859/859 [==============================] - 1s 2ms/step - loss: 0.1258 - val_loss: 0.1474\n",
            "Epoch 41/50\n",
            "859/859 [==============================] - 1s 2ms/step - loss: 0.1263 - val_loss: 0.1490\n",
            "Epoch 42/50\n",
            "859/859 [==============================] - 2s 2ms/step - loss: 0.1245 - val_loss: 0.1478\n",
            "Epoch 43/50\n",
            "689/859 [=======================>......] - ETA: 0s - loss: 0.1249"
          ],
          "name": "stdout"
        },
        {
          "output_type": "error",
          "ename": "KeyboardInterrupt",
          "evalue": "ignored",
          "traceback": [
            "\u001b[0;31m---------------------------------------------------------------------------\u001b[0m",
            "\u001b[0;31mKeyboardInterrupt\u001b[0m                         Traceback (most recent call last)",
            "\u001b[0;32m<ipython-input-190-991635263b6e>\u001b[0m in \u001b[0;36m<module>\u001b[0;34m()\u001b[0m\n\u001b[0;32m----> 1\u001b[0;31m \u001b[0mmodel_history\u001b[0m \u001b[0;34m=\u001b[0m \u001b[0mautoencoder\u001b[0m\u001b[0;34m.\u001b[0m\u001b[0mfit\u001b[0m\u001b[0;34m(\u001b[0m\u001b[0mall_embeddings\u001b[0m\u001b[0;34m,\u001b[0m \u001b[0mall_embeddings\u001b[0m\u001b[0;34m,\u001b[0m \u001b[0mepochs\u001b[0m\u001b[0;34m=\u001b[0m\u001b[0;36m50\u001b[0m\u001b[0;34m,\u001b[0m \u001b[0mbatch_size\u001b[0m\u001b[0;34m=\u001b[0m\u001b[0;36m32\u001b[0m\u001b[0;34m,\u001b[0m \u001b[0mverbose\u001b[0m\u001b[0;34m=\u001b[0m\u001b[0;32mTrue\u001b[0m\u001b[0;34m,\u001b[0m \u001b[0mvalidation_split\u001b[0m\u001b[0;34m=\u001b[0m\u001b[0;36m0.1\u001b[0m\u001b[0;34m,\u001b[0m \u001b[0mshuffle\u001b[0m\u001b[0;34m=\u001b[0m\u001b[0;32mTrue\u001b[0m\u001b[0;34m)\u001b[0m\u001b[0;34m\u001b[0m\u001b[0;34m\u001b[0m\u001b[0m\n\u001b[0m\u001b[1;32m      2\u001b[0m \u001b[0;31m# model_history = autoencoder.fit(get_embeddings('king queen man woman'), get_embeddings('king queen man woman'), epochs=1000, batch_size=32, verbose=False)\u001b[0m\u001b[0;34m\u001b[0m\u001b[0;34m\u001b[0m\u001b[0;34m\u001b[0m\u001b[0m\n",
            "\u001b[0;32m/usr/local/lib/python3.7/dist-packages/keras/engine/training.py\u001b[0m in \u001b[0;36mfit\u001b[0;34m(self, x, y, batch_size, epochs, verbose, callbacks, validation_split, validation_data, shuffle, class_weight, sample_weight, initial_epoch, steps_per_epoch, validation_steps, validation_batch_size, validation_freq, max_queue_size, workers, use_multiprocessing)\u001b[0m\n\u001b[1;32m   1156\u001b[0m                 _r=1):\n\u001b[1;32m   1157\u001b[0m               \u001b[0mcallbacks\u001b[0m\u001b[0;34m.\u001b[0m\u001b[0mon_train_batch_begin\u001b[0m\u001b[0;34m(\u001b[0m\u001b[0mstep\u001b[0m\u001b[0;34m)\u001b[0m\u001b[0;34m\u001b[0m\u001b[0;34m\u001b[0m\u001b[0m\n\u001b[0;32m-> 1158\u001b[0;31m               \u001b[0mtmp_logs\u001b[0m \u001b[0;34m=\u001b[0m \u001b[0mself\u001b[0m\u001b[0;34m.\u001b[0m\u001b[0mtrain_function\u001b[0m\u001b[0;34m(\u001b[0m\u001b[0miterator\u001b[0m\u001b[0;34m)\u001b[0m\u001b[0;34m\u001b[0m\u001b[0;34m\u001b[0m\u001b[0m\n\u001b[0m\u001b[1;32m   1159\u001b[0m               \u001b[0;32mif\u001b[0m \u001b[0mdata_handler\u001b[0m\u001b[0;34m.\u001b[0m\u001b[0mshould_sync\u001b[0m\u001b[0;34m:\u001b[0m\u001b[0;34m\u001b[0m\u001b[0;34m\u001b[0m\u001b[0m\n\u001b[1;32m   1160\u001b[0m                 \u001b[0mcontext\u001b[0m\u001b[0;34m.\u001b[0m\u001b[0masync_wait\u001b[0m\u001b[0;34m(\u001b[0m\u001b[0;34m)\u001b[0m\u001b[0;34m\u001b[0m\u001b[0;34m\u001b[0m\u001b[0m\n",
            "\u001b[0;32m/usr/local/lib/python3.7/dist-packages/tensorflow/python/eager/def_function.py\u001b[0m in \u001b[0;36m__call__\u001b[0;34m(self, *args, **kwds)\u001b[0m\n\u001b[1;32m    887\u001b[0m \u001b[0;34m\u001b[0m\u001b[0m\n\u001b[1;32m    888\u001b[0m       \u001b[0;32mwith\u001b[0m \u001b[0mOptionalXlaContext\u001b[0m\u001b[0;34m(\u001b[0m\u001b[0mself\u001b[0m\u001b[0;34m.\u001b[0m\u001b[0m_jit_compile\u001b[0m\u001b[0;34m)\u001b[0m\u001b[0;34m:\u001b[0m\u001b[0;34m\u001b[0m\u001b[0;34m\u001b[0m\u001b[0m\n\u001b[0;32m--> 889\u001b[0;31m         \u001b[0mresult\u001b[0m \u001b[0;34m=\u001b[0m \u001b[0mself\u001b[0m\u001b[0;34m.\u001b[0m\u001b[0m_call\u001b[0m\u001b[0;34m(\u001b[0m\u001b[0;34m*\u001b[0m\u001b[0margs\u001b[0m\u001b[0;34m,\u001b[0m \u001b[0;34m**\u001b[0m\u001b[0mkwds\u001b[0m\u001b[0;34m)\u001b[0m\u001b[0;34m\u001b[0m\u001b[0;34m\u001b[0m\u001b[0m\n\u001b[0m\u001b[1;32m    890\u001b[0m \u001b[0;34m\u001b[0m\u001b[0m\n\u001b[1;32m    891\u001b[0m       \u001b[0mnew_tracing_count\u001b[0m \u001b[0;34m=\u001b[0m \u001b[0mself\u001b[0m\u001b[0;34m.\u001b[0m\u001b[0mexperimental_get_tracing_count\u001b[0m\u001b[0;34m(\u001b[0m\u001b[0;34m)\u001b[0m\u001b[0;34m\u001b[0m\u001b[0;34m\u001b[0m\u001b[0m\n",
            "\u001b[0;32m/usr/local/lib/python3.7/dist-packages/tensorflow/python/eager/def_function.py\u001b[0m in \u001b[0;36m_call\u001b[0;34m(self, *args, **kwds)\u001b[0m\n\u001b[1;32m    915\u001b[0m       \u001b[0;31m# In this case we have created variables on the first call, so we run the\u001b[0m\u001b[0;34m\u001b[0m\u001b[0;34m\u001b[0m\u001b[0;34m\u001b[0m\u001b[0m\n\u001b[1;32m    916\u001b[0m       \u001b[0;31m# defunned version which is guaranteed to never create variables.\u001b[0m\u001b[0;34m\u001b[0m\u001b[0;34m\u001b[0m\u001b[0;34m\u001b[0m\u001b[0m\n\u001b[0;32m--> 917\u001b[0;31m       \u001b[0;32mreturn\u001b[0m \u001b[0mself\u001b[0m\u001b[0;34m.\u001b[0m\u001b[0m_stateless_fn\u001b[0m\u001b[0;34m(\u001b[0m\u001b[0;34m*\u001b[0m\u001b[0margs\u001b[0m\u001b[0;34m,\u001b[0m \u001b[0;34m**\u001b[0m\u001b[0mkwds\u001b[0m\u001b[0;34m)\u001b[0m  \u001b[0;31m# pylint: disable=not-callable\u001b[0m\u001b[0;34m\u001b[0m\u001b[0;34m\u001b[0m\u001b[0m\n\u001b[0m\u001b[1;32m    918\u001b[0m     \u001b[0;32melif\u001b[0m \u001b[0mself\u001b[0m\u001b[0;34m.\u001b[0m\u001b[0m_stateful_fn\u001b[0m \u001b[0;32mis\u001b[0m \u001b[0;32mnot\u001b[0m \u001b[0;32mNone\u001b[0m\u001b[0;34m:\u001b[0m\u001b[0;34m\u001b[0m\u001b[0;34m\u001b[0m\u001b[0m\n\u001b[1;32m    919\u001b[0m       \u001b[0;31m# Release the lock early so that multiple threads can perform the call\u001b[0m\u001b[0;34m\u001b[0m\u001b[0;34m\u001b[0m\u001b[0;34m\u001b[0m\u001b[0m\n",
            "\u001b[0;32m/usr/local/lib/python3.7/dist-packages/tensorflow/python/eager/function.py\u001b[0m in \u001b[0;36m__call__\u001b[0;34m(self, *args, **kwargs)\u001b[0m\n\u001b[1;32m   3022\u001b[0m        filtered_flat_args) = self._maybe_define_function(args, kwargs)\n\u001b[1;32m   3023\u001b[0m     return graph_function._call_flat(\n\u001b[0;32m-> 3024\u001b[0;31m         filtered_flat_args, captured_inputs=graph_function.captured_inputs)  # pylint: disable=protected-access\n\u001b[0m\u001b[1;32m   3025\u001b[0m \u001b[0;34m\u001b[0m\u001b[0m\n\u001b[1;32m   3026\u001b[0m   \u001b[0;34m@\u001b[0m\u001b[0mproperty\u001b[0m\u001b[0;34m\u001b[0m\u001b[0;34m\u001b[0m\u001b[0m\n",
            "\u001b[0;32m/usr/local/lib/python3.7/dist-packages/tensorflow/python/eager/function.py\u001b[0m in \u001b[0;36m_call_flat\u001b[0;34m(self, args, captured_inputs, cancellation_manager)\u001b[0m\n\u001b[1;32m   1959\u001b[0m       \u001b[0;31m# No tape is watching; skip to running the function.\u001b[0m\u001b[0;34m\u001b[0m\u001b[0;34m\u001b[0m\u001b[0;34m\u001b[0m\u001b[0m\n\u001b[1;32m   1960\u001b[0m       return self._build_call_outputs(self._inference_function.call(\n\u001b[0;32m-> 1961\u001b[0;31m           ctx, args, cancellation_manager=cancellation_manager))\n\u001b[0m\u001b[1;32m   1962\u001b[0m     forward_backward = self._select_forward_and_backward_functions(\n\u001b[1;32m   1963\u001b[0m         \u001b[0margs\u001b[0m\u001b[0;34m,\u001b[0m\u001b[0;34m\u001b[0m\u001b[0;34m\u001b[0m\u001b[0m\n",
            "\u001b[0;32m/usr/local/lib/python3.7/dist-packages/tensorflow/python/eager/function.py\u001b[0m in \u001b[0;36mcall\u001b[0;34m(self, ctx, args, cancellation_manager)\u001b[0m\n\u001b[1;32m    594\u001b[0m               \u001b[0minputs\u001b[0m\u001b[0;34m=\u001b[0m\u001b[0margs\u001b[0m\u001b[0;34m,\u001b[0m\u001b[0;34m\u001b[0m\u001b[0;34m\u001b[0m\u001b[0m\n\u001b[1;32m    595\u001b[0m               \u001b[0mattrs\u001b[0m\u001b[0;34m=\u001b[0m\u001b[0mattrs\u001b[0m\u001b[0;34m,\u001b[0m\u001b[0;34m\u001b[0m\u001b[0;34m\u001b[0m\u001b[0m\n\u001b[0;32m--> 596\u001b[0;31m               ctx=ctx)\n\u001b[0m\u001b[1;32m    597\u001b[0m         \u001b[0;32melse\u001b[0m\u001b[0;34m:\u001b[0m\u001b[0;34m\u001b[0m\u001b[0;34m\u001b[0m\u001b[0m\n\u001b[1;32m    598\u001b[0m           outputs = execute.execute_with_cancellation(\n",
            "\u001b[0;32m/usr/local/lib/python3.7/dist-packages/tensorflow/python/eager/execute.py\u001b[0m in \u001b[0;36mquick_execute\u001b[0;34m(op_name, num_outputs, inputs, attrs, ctx, name)\u001b[0m\n\u001b[1;32m     58\u001b[0m     \u001b[0mctx\u001b[0m\u001b[0;34m.\u001b[0m\u001b[0mensure_initialized\u001b[0m\u001b[0;34m(\u001b[0m\u001b[0;34m)\u001b[0m\u001b[0;34m\u001b[0m\u001b[0;34m\u001b[0m\u001b[0m\n\u001b[1;32m     59\u001b[0m     tensors = pywrap_tfe.TFE_Py_Execute(ctx._handle, device_name, op_name,\n\u001b[0;32m---> 60\u001b[0;31m                                         inputs, attrs, num_outputs)\n\u001b[0m\u001b[1;32m     61\u001b[0m   \u001b[0;32mexcept\u001b[0m \u001b[0mcore\u001b[0m\u001b[0;34m.\u001b[0m\u001b[0m_NotOkStatusException\u001b[0m \u001b[0;32mas\u001b[0m \u001b[0me\u001b[0m\u001b[0;34m:\u001b[0m\u001b[0;34m\u001b[0m\u001b[0;34m\u001b[0m\u001b[0m\n\u001b[1;32m     62\u001b[0m     \u001b[0;32mif\u001b[0m \u001b[0mname\u001b[0m \u001b[0;32mis\u001b[0m \u001b[0;32mnot\u001b[0m \u001b[0;32mNone\u001b[0m\u001b[0;34m:\u001b[0m\u001b[0;34m\u001b[0m\u001b[0;34m\u001b[0m\u001b[0m\n",
            "\u001b[0;31mKeyboardInterrupt\u001b[0m: "
          ]
        }
      ]
    },
    {
      "cell_type": "code",
      "metadata": {
        "id": "ZO5G31sRs1Ap"
      },
      "source": [
        ""
      ],
      "execution_count": null,
      "outputs": []
    },
    {
      "cell_type": "code",
      "metadata": {
        "colab": {
          "base_uri": "https://localhost:8080/",
          "height": 294
        },
        "id": "5LpfjlKP1wJy",
        "outputId": "0ad12cdf-c715-4646-c4fd-8994c383d03e"
      },
      "source": [
        "plt.plot(autoencoder.history.history[\"loss\"], label='train')\n",
        "plt.plot(autoencoder.history.history[\"val_loss\"], label='validation')\n",
        "plt.title(\"MSE vs. Epoch\")\n",
        "plt.ylabel(\"MSE\")\n",
        "plt.xlabel(\"Epoch\")\n",
        "plt.legend()\n",
        "plt.grid(True)"
      ],
      "execution_count": null,
      "outputs": [
        {
          "output_type": "display_data",
          "data": {
            "image/png": "[encoded data removed]",
            "text/plain": [
              "<Figure size 432x288 with 1 Axes>"
            ]
          },
          "metadata": {
            "tags": [],
            "needs_background": "light"
          }
        }
      ]
    },
    {
      "cell_type": "code",
      "metadata": {
        "colab": {
          "base_uri": "https://localhost:8080/"
        },
        "id": "IqEJZse5jQAX",
        "outputId": "f77ec608-1567-48f9-b5eb-d8c9f0c03b06"
      },
      "source": [
        "from sklearn.metrics import mean_absolute_percentage_error as mape\n",
        "from sklearn.metrics import mean_absolute_error as mae\n",
        "from sklearn.metrics import r2_score\n",
        "\n",
        "mape(all_embeddings, autoencoder(all_embeddings)), mae(all_embeddings, autoencoder(all_embeddings)), r2_score(all_embeddings, autoencoder(all_embeddings))"
      ],
      "execution_count": null,
      "outputs": [
        {
          "output_type": "execute_result",
          "data": {
            "text/plain": [
              "(0.83619845, 0.26635018, 0.9726335104011173)"
            ]
          },
          "metadata": {
            "tags": []
          },
          "execution_count": 62
        }
      ]
    },
    {
      "cell_type": "code",
      "metadata": {
        "colab": {
          "base_uri": "https://localhost:8080/"
        },
        "id": "f4U7dvFppX7-",
        "outputId": "f916f037-1363-43c4-f8a8-33e36e533cd6"
      },
      "source": [
        "def mape1(a, b): \n",
        "    mask = a != 0\n",
        "    return np.fabs((a - b)/a)[mask].mean()\n",
        "mape1(all_embeddings, autoencoder(all_embeddings))"
      ],
      "execution_count": null,
      "outputs": [
        {
          "output_type": "execute_result",
          "data": {
            "text/plain": [
              "0.8361991"
            ]
          },
          "metadata": {
            "tags": []
          },
          "execution_count": 63
        }
      ]
    },
    {
      "cell_type": "code",
      "metadata": {
        "colab": {
          "base_uri": "https://localhost:8080/"
        },
        "id": "p-o4AV_pwLMT",
        "outputId": "74c3f14b-af83-403b-bceb-62e0fcaa329c"
      },
      "source": [
        "len(all_tokens), all_embeddings.shape"
      ],
      "execution_count": null,
      "outputs": [
        {
          "output_type": "execute_result",
          "data": {
            "text/plain": [
              "(30523, (30522, 128))"
            ]
          },
          "metadata": {
            "tags": []
          },
          "execution_count": 104
        }
      ]
    },
    {
      "cell_type": "markdown",
      "metadata": {
        "id": "ryvbCxtNtGgZ"
      },
      "source": [
        "## Сэмплирую"
      ]
    },
    {
      "cell_type": "code",
      "metadata": {
        "colab": {
          "base_uri": "https://localhost:8080/"
        },
        "id": "bDcH2NEeqFR_",
        "outputId": "9e79ab25-e660-40f2-b790-63e696e37975"
      },
      "source": [
        "# sentences = []\n",
        "# with open('drive/MyDrive/Coursework2021/english_corpus_sentences.txt', 'r') as f:\n",
        "#     for line in f:\n",
        "#         if len(sentences) == 1000:\n",
        "#             break\n",
        "#         sentences.append(line)\n",
        "\n",
        "with open('drive/MyDrive/Coursework2021/sticked_file.txt', 'r') as f:\n",
        "    text = f.read()\n",
        "\n",
        "print(text[:500])\n",
        "print(' '.join(tokenizer.tokenize(text[:500])))"
      ],
      "execution_count": null,
      "outputs": [
        {
          "output_type": "stream",
          "text": [
            "chapter HE HE have just strike NUMBER from the cuckoo clock that hang over the mantelpiece in the dining room when victorine bring in the halve watermelon and set HE in front of mr\n",
            "bessemer be plate\n",
            "then HE go down to the front door for the damp twisted roll of the DATE TIME be paper and come back and ring the breakfast bell for the FIRST time\n",
            "as the family still hesitate to appear HE go to the bay window at the end of the room and stand there for a moment look out\n",
            "the view be wonderful\n",
            "the bess\n",
            "chapter he he have just strike number from the cuckoo clock that hang over the man ##tel ##piece in the dining room when victor ##ine bring in the hal ##ve water ##mel ##on and set he in front of mr be ##sse ##mer be plate then he go down to the front door for the damp twisted roll of the date time be paper and come back and ring the breakfast bell for the first time as the family still hesitate to appear he go to the bay window at the end of the room and stand there for a moment look out the view be wonderful the be ##ss\n"
          ],
          "name": "stdout"
        }
      ]
    },
    {
      "cell_type": "code",
      "metadata": {
        "id": "ZDaZhtF1q8oE"
      },
      "source": [
        "tokenized = tokenizer.tokenize(text)"
      ],
      "execution_count": null,
      "outputs": []
    },
    {
      "cell_type": "code",
      "metadata": {
        "id": "bulN5qJ7rGzI"
      },
      "source": [
        "from collections import Counter\n",
        "token2freq = Counter(tokenized)"
      ],
      "execution_count": null,
      "outputs": []
    },
    {
      "cell_type": "code",
      "metadata": {
        "colab": {
          "base_uri": "https://localhost:8080/"
        },
        "id": "Gta2YhkcrTmg",
        "outputId": "b510ea55-e4c0-4de9-b122-f30b7c2021bc"
      },
      "source": [
        "total_tokens = sum(list(token2freq.values()))\n",
        "total_tokens"
      ],
      "execution_count": null,
      "outputs": [
        {
          "output_type": "execute_result",
          "data": {
            "text/plain": [
              "2060298"
            ]
          },
          "metadata": {
            "tags": []
          },
          "execution_count": 111
        }
      ]
    },
    {
      "cell_type": "code",
      "metadata": {
        "colab": {
          "base_uri": "https://localhost:8080/"
        },
        "id": "fbAnKIimrh0C",
        "outputId": "0a9e0481-d441-4fe7-aeec-bd65e4aba3f9"
      },
      "source": [
        "weights = np.array([token2freq[token] / total_tokens for token in all_tokens])\n",
        "sorted(weights)[::-1][:20]"
      ],
      "execution_count": null,
      "outputs": [
        {
          "output_type": "execute_result",
          "data": {
            "text/plain": [
              "[0.11771889309216434,\n",
              " 0.052290979266106166,\n",
              " 0.04046453474206158,\n",
              " 0.02978112874933626,\n",
              " 0.026824274934985133,\n",
              " 0.023588820646333684,\n",
              " 0.02170414182802682,\n",
              " 0.015475916590706781,\n",
              " 0.014179016821838395,\n",
              " 0.012284145303252248,\n",
              " 0.009526291827687062,\n",
              " 0.007728008278414094,\n",
              " 0.007330007600842208,\n",
              " 0.007056260793341546,\n",
              " 0.006322871739913353,\n",
              " 0.0058967197949034555,\n",
              " 0.005592394886564953,\n",
              " 0.005571524119326428,\n",
              " 0.004973552369608668,\n",
              " 0.004965786502729217]"
            ]
          },
          "metadata": {
            "tags": []
          },
          "execution_count": 112
        }
      ]
    },
    {
      "cell_type": "code",
      "metadata": {
        "colab": {
          "base_uri": "https://localhost:8080/"
        },
        "id": "pVEWSyMAw6xM",
        "outputId": "baf31a31-1197-4199-b42b-7e024f98526d"
      },
      "source": [
        "weights.shape, all_embeddings.shape"
      ],
      "execution_count": null,
      "outputs": [
        {
          "output_type": "execute_result",
          "data": {
            "text/plain": [
              "((30522,), (30522, 128))"
            ]
          },
          "metadata": {
            "tags": []
          },
          "execution_count": 113
        }
      ]
    },
    {
      "cell_type": "code",
      "metadata": {
        "colab": {
          "base_uri": "https://localhost:8080/"
        },
        "id": "omVv54v0t_em",
        "outputId": "d10a3cf6-0df3-4ff1-c379-5448caadda4c"
      },
      "source": [
        "sorted(weights * all_embeddings.shape[0])[::-1][10000]"
      ],
      "execution_count": null,
      "outputs": [
        {
          "output_type": "execute_result",
          "data": {
            "text/plain": [
              "0.07407180902956756"
            ]
          },
          "metadata": {
            "tags": []
          },
          "execution_count": 81
        }
      ]
    },
    {
      "cell_type": "code",
      "metadata": {
        "colab": {
          "base_uri": "https://localhost:8080/",
          "height": 310
        },
        "id": "81lTF-CBs0Zg",
        "outputId": "213be2b6-c619-412d-f0ac-5b26f76a6e4b"
      },
      "source": [
        "model_history = autoencoder.fit(all_embeddings, all_embeddings, epochs=50, batch_size=32, verbose=True, validation_split=0.1, sample_weight=weights * all_embeddings.shape[0])"
      ],
      "execution_count": null,
      "outputs": [
        {
          "output_type": "error",
          "ename": "KeyboardInterrupt",
          "evalue": "ignored",
          "traceback": [
            "\u001b[0;31m---------------------------------------------------------------------------\u001b[0m",
            "\u001b[0;31mKeyboardInterrupt\u001b[0m                         Traceback (most recent call last)",
            "\u001b[0;32m<ipython-input-177-dc235e144e8d>\u001b[0m in \u001b[0;36m<module>\u001b[0;34m()\u001b[0m\n\u001b[0;32m----> 1\u001b[0;31m \u001b[0mmodel_history\u001b[0m \u001b[0;34m=\u001b[0m \u001b[0mautoencoder\u001b[0m\u001b[0;34m.\u001b[0m\u001b[0mfit\u001b[0m\u001b[0;34m(\u001b[0m\u001b[0mall_embeddings\u001b[0m\u001b[0;34m,\u001b[0m \u001b[0mall_embeddings\u001b[0m\u001b[0;34m,\u001b[0m \u001b[0mepochs\u001b[0m\u001b[0;34m=\u001b[0m\u001b[0;36m50\u001b[0m\u001b[0;34m,\u001b[0m \u001b[0mbatch_size\u001b[0m\u001b[0;34m=\u001b[0m\u001b[0;36m32\u001b[0m\u001b[0;34m,\u001b[0m \u001b[0mverbose\u001b[0m\u001b[0;34m=\u001b[0m\u001b[0;32mTrue\u001b[0m\u001b[0;34m,\u001b[0m \u001b[0mvalidation_split\u001b[0m\u001b[0;34m=\u001b[0m\u001b[0;36m0.1\u001b[0m\u001b[0;34m,\u001b[0m \u001b[0msample_weight\u001b[0m\u001b[0;34m=\u001b[0m\u001b[0mweights\u001b[0m \u001b[0;34m*\u001b[0m \u001b[0mall_embeddings\u001b[0m\u001b[0;34m.\u001b[0m\u001b[0mshape\u001b[0m\u001b[0;34m[\u001b[0m\u001b[0;36m0\u001b[0m\u001b[0;34m]\u001b[0m\u001b[0;34m)\u001b[0m\u001b[0;34m\u001b[0m\u001b[0;34m\u001b[0m\u001b[0m\n\u001b[0m",
            "\u001b[0;32m/usr/local/lib/python3.7/dist-packages/keras/engine/training.py\u001b[0m in \u001b[0;36mfit\u001b[0;34m(self, x, y, batch_size, epochs, verbose, callbacks, validation_split, validation_data, shuffle, class_weight, sample_weight, initial_epoch, steps_per_epoch, validation_steps, validation_batch_size, validation_freq, max_queue_size, workers, use_multiprocessing)\u001b[0m\n\u001b[1;32m   1120\u001b[0m           \u001b[0muse_multiprocessing\u001b[0m\u001b[0;34m=\u001b[0m\u001b[0muse_multiprocessing\u001b[0m\u001b[0;34m,\u001b[0m\u001b[0;34m\u001b[0m\u001b[0;34m\u001b[0m\u001b[0m\n\u001b[1;32m   1121\u001b[0m           \u001b[0mmodel\u001b[0m\u001b[0;34m=\u001b[0m\u001b[0mself\u001b[0m\u001b[0;34m,\u001b[0m\u001b[0;34m\u001b[0m\u001b[0;34m\u001b[0m\u001b[0m\n\u001b[0;32m-> 1122\u001b[0;31m           steps_per_execution=self._steps_per_execution)\n\u001b[0m\u001b[1;32m   1123\u001b[0m \u001b[0;34m\u001b[0m\u001b[0m\n\u001b[1;32m   1124\u001b[0m       \u001b[0;31m# Container that configures and calls `tf.keras.Callback`s.\u001b[0m\u001b[0;34m\u001b[0m\u001b[0;34m\u001b[0m\u001b[0;34m\u001b[0m\u001b[0m\n",
            "\u001b[0;32m/usr/local/lib/python3.7/dist-packages/keras/engine/data_adapter.py\u001b[0m in \u001b[0;36mget_data_handler\u001b[0;34m(*args, **kwargs)\u001b[0m\n\u001b[1;32m   1346\u001b[0m   \u001b[0;32mif\u001b[0m \u001b[0mgetattr\u001b[0m\u001b[0;34m(\u001b[0m\u001b[0mkwargs\u001b[0m\u001b[0;34m[\u001b[0m\u001b[0;34m\"model\"\u001b[0m\u001b[0;34m]\u001b[0m\u001b[0;34m,\u001b[0m \u001b[0;34m\"_cluster_coordinator\"\u001b[0m\u001b[0;34m,\u001b[0m \u001b[0;32mNone\u001b[0m\u001b[0;34m)\u001b[0m\u001b[0;34m:\u001b[0m\u001b[0;34m\u001b[0m\u001b[0;34m\u001b[0m\u001b[0m\n\u001b[1;32m   1347\u001b[0m     \u001b[0;32mreturn\u001b[0m \u001b[0m_ClusterCoordinatorDataHandler\u001b[0m\u001b[0;34m(\u001b[0m\u001b[0;34m*\u001b[0m\u001b[0margs\u001b[0m\u001b[0;34m,\u001b[0m \u001b[0;34m**\u001b[0m\u001b[0mkwargs\u001b[0m\u001b[0;34m)\u001b[0m\u001b[0;34m\u001b[0m\u001b[0;34m\u001b[0m\u001b[0m\n\u001b[0;32m-> 1348\u001b[0;31m   \u001b[0;32mreturn\u001b[0m \u001b[0mDataHandler\u001b[0m\u001b[0;34m(\u001b[0m\u001b[0;34m*\u001b[0m\u001b[0margs\u001b[0m\u001b[0;34m,\u001b[0m \u001b[0;34m**\u001b[0m\u001b[0mkwargs\u001b[0m\u001b[0;34m)\u001b[0m\u001b[0;34m\u001b[0m\u001b[0;34m\u001b[0m\u001b[0m\n\u001b[0m\u001b[1;32m   1349\u001b[0m \u001b[0;34m\u001b[0m\u001b[0m\n\u001b[1;32m   1350\u001b[0m \u001b[0;34m\u001b[0m\u001b[0m\n",
            "\u001b[0;32m/usr/local/lib/python3.7/dist-packages/keras/engine/data_adapter.py\u001b[0m in \u001b[0;36m__init__\u001b[0;34m(self, x, y, sample_weight, batch_size, steps_per_epoch, initial_epoch, epochs, shuffle, class_weight, max_queue_size, workers, use_multiprocessing, model, steps_per_execution, distribute)\u001b[0m\n\u001b[1;32m   1148\u001b[0m         \u001b[0muse_multiprocessing\u001b[0m\u001b[0;34m=\u001b[0m\u001b[0muse_multiprocessing\u001b[0m\u001b[0;34m,\u001b[0m\u001b[0;34m\u001b[0m\u001b[0;34m\u001b[0m\u001b[0m\n\u001b[1;32m   1149\u001b[0m         \u001b[0mdistribution_strategy\u001b[0m\u001b[0;34m=\u001b[0m\u001b[0mtf\u001b[0m\u001b[0;34m.\u001b[0m\u001b[0mdistribute\u001b[0m\u001b[0;34m.\u001b[0m\u001b[0mget_strategy\u001b[0m\u001b[0;34m(\u001b[0m\u001b[0;34m)\u001b[0m\u001b[0;34m,\u001b[0m\u001b[0;34m\u001b[0m\u001b[0;34m\u001b[0m\u001b[0m\n\u001b[0;32m-> 1150\u001b[0;31m         model=model)\n\u001b[0m\u001b[1;32m   1151\u001b[0m \u001b[0;34m\u001b[0m\u001b[0m\n\u001b[1;32m   1152\u001b[0m     \u001b[0mstrategy\u001b[0m \u001b[0;34m=\u001b[0m \u001b[0mtf\u001b[0m\u001b[0;34m.\u001b[0m\u001b[0mdistribute\u001b[0m\u001b[0;34m.\u001b[0m\u001b[0mget_strategy\u001b[0m\u001b[0;34m(\u001b[0m\u001b[0;34m)\u001b[0m\u001b[0;34m\u001b[0m\u001b[0;34m\u001b[0m\u001b[0m\n",
            "\u001b[0;32m/usr/local/lib/python3.7/dist-packages/keras/engine/data_adapter.py\u001b[0m in \u001b[0;36m__init__\u001b[0;34m(self, x, y, sample_weights, sample_weight_modes, batch_size, epochs, steps, shuffle, **kwargs)\u001b[0m\n\u001b[1;32m    235\u001b[0m     \u001b[0;31m# If sample_weights are not specified for an output use 1.0 as weights.\u001b[0m\u001b[0;34m\u001b[0m\u001b[0;34m\u001b[0m\u001b[0;34m\u001b[0m\u001b[0m\n\u001b[1;32m    236\u001b[0m     (sample_weights, _, _) = training_utils.handle_partial_sample_weights(\n\u001b[0;32m--> 237\u001b[0;31m         y, sample_weights, sample_weight_modes, check_all_flat=True)\n\u001b[0m\u001b[1;32m    238\u001b[0m \u001b[0;34m\u001b[0m\u001b[0m\n\u001b[1;32m    239\u001b[0m     \u001b[0minputs\u001b[0m \u001b[0;34m=\u001b[0m \u001b[0mpack_x_y_sample_weight\u001b[0m\u001b[0;34m(\u001b[0m\u001b[0mx\u001b[0m\u001b[0;34m,\u001b[0m \u001b[0my\u001b[0m\u001b[0;34m,\u001b[0m \u001b[0msample_weights\u001b[0m\u001b[0;34m)\u001b[0m\u001b[0;34m\u001b[0m\u001b[0;34m\u001b[0m\u001b[0m\n",
            "\u001b[0;32m/usr/local/lib/python3.7/dist-packages/keras/engine/training_utils.py\u001b[0m in \u001b[0;36mhandle_partial_sample_weights\u001b[0;34m(outputs, sample_weights, sample_weight_modes, check_all_flat)\u001b[0m\n\u001b[1;32m     75\u001b[0m       w is not None for w in sample_weights)\n\u001b[1;32m     76\u001b[0m   partial_sample_weight = any_sample_weight and any(\n\u001b[0;32m---> 77\u001b[0;31m       w is None for w in sample_weights)\n\u001b[0m\u001b[1;32m     78\u001b[0m \u001b[0;34m\u001b[0m\u001b[0m\n\u001b[1;32m     79\u001b[0m   \u001b[0;32mif\u001b[0m \u001b[0;32mnot\u001b[0m \u001b[0many_sample_weight\u001b[0m\u001b[0;34m:\u001b[0m\u001b[0;34m\u001b[0m\u001b[0;34m\u001b[0m\u001b[0m\n",
            "\u001b[0;32m/usr/local/lib/python3.7/dist-packages/keras/engine/training_utils.py\u001b[0m in \u001b[0;36m<genexpr>\u001b[0;34m(.0)\u001b[0m\n\u001b[1;32m     75\u001b[0m       w is not None for w in sample_weights)\n\u001b[1;32m     76\u001b[0m   partial_sample_weight = any_sample_weight and any(\n\u001b[0;32m---> 77\u001b[0;31m       w is None for w in sample_weights)\n\u001b[0m\u001b[1;32m     78\u001b[0m \u001b[0;34m\u001b[0m\u001b[0m\n\u001b[1;32m     79\u001b[0m   \u001b[0;32mif\u001b[0m \u001b[0;32mnot\u001b[0m \u001b[0many_sample_weight\u001b[0m\u001b[0;34m:\u001b[0m\u001b[0;34m\u001b[0m\u001b[0;34m\u001b[0m\u001b[0m\n",
            "\u001b[0;32m/usr/local/lib/python3.7/dist-packages/tensorflow/python/framework/ops.py\u001b[0m in \u001b[0;36m__next__\u001b[0;34m(self)\u001b[0m\n\u001b[1;32m   7008\u001b[0m     \u001b[0;32mif\u001b[0m \u001b[0mself\u001b[0m\u001b[0;34m.\u001b[0m\u001b[0m_index\u001b[0m \u001b[0;34m==\u001b[0m \u001b[0mself\u001b[0m\u001b[0;34m.\u001b[0m\u001b[0m_limit\u001b[0m\u001b[0;34m:\u001b[0m\u001b[0;34m\u001b[0m\u001b[0;34m\u001b[0m\u001b[0m\n\u001b[1;32m   7009\u001b[0m       \u001b[0;32mraise\u001b[0m \u001b[0mStopIteration\u001b[0m\u001b[0;34m\u001b[0m\u001b[0;34m\u001b[0m\u001b[0m\n\u001b[0;32m-> 7010\u001b[0;31m     \u001b[0mresult\u001b[0m \u001b[0;34m=\u001b[0m \u001b[0mself\u001b[0m\u001b[0;34m.\u001b[0m\u001b[0m_tensor\u001b[0m\u001b[0;34m[\u001b[0m\u001b[0mself\u001b[0m\u001b[0;34m.\u001b[0m\u001b[0m_index\u001b[0m\u001b[0;34m]\u001b[0m\u001b[0;34m\u001b[0m\u001b[0;34m\u001b[0m\u001b[0m\n\u001b[0m\u001b[1;32m   7011\u001b[0m     \u001b[0mself\u001b[0m\u001b[0;34m.\u001b[0m\u001b[0m_index\u001b[0m \u001b[0;34m+=\u001b[0m \u001b[0;36m1\u001b[0m\u001b[0;34m\u001b[0m\u001b[0;34m\u001b[0m\u001b[0m\n\u001b[1;32m   7012\u001b[0m     \u001b[0;32mreturn\u001b[0m \u001b[0mresult\u001b[0m\u001b[0;34m\u001b[0m\u001b[0;34m\u001b[0m\u001b[0m\n",
            "\u001b[0;32m/usr/local/lib/python3.7/dist-packages/tensorflow/python/util/dispatch.py\u001b[0m in \u001b[0;36mwrapper\u001b[0;34m(*args, **kwargs)\u001b[0m\n\u001b[1;32m    204\u001b[0m     \u001b[0;34m\"\"\"Call target, and fall back on dispatchers if there is a TypeError.\"\"\"\u001b[0m\u001b[0;34m\u001b[0m\u001b[0;34m\u001b[0m\u001b[0m\n\u001b[1;32m    205\u001b[0m     \u001b[0;32mtry\u001b[0m\u001b[0;34m:\u001b[0m\u001b[0;34m\u001b[0m\u001b[0;34m\u001b[0m\u001b[0m\n\u001b[0;32m--> 206\u001b[0;31m       \u001b[0;32mreturn\u001b[0m \u001b[0mtarget\u001b[0m\u001b[0;34m(\u001b[0m\u001b[0;34m*\u001b[0m\u001b[0margs\u001b[0m\u001b[0;34m,\u001b[0m \u001b[0;34m**\u001b[0m\u001b[0mkwargs\u001b[0m\u001b[0;34m)\u001b[0m\u001b[0;34m\u001b[0m\u001b[0;34m\u001b[0m\u001b[0m\n\u001b[0m\u001b[1;32m    207\u001b[0m     \u001b[0;32mexcept\u001b[0m \u001b[0;34m(\u001b[0m\u001b[0mTypeError\u001b[0m\u001b[0;34m,\u001b[0m \u001b[0mValueError\u001b[0m\u001b[0;34m)\u001b[0m\u001b[0;34m:\u001b[0m\u001b[0;34m\u001b[0m\u001b[0;34m\u001b[0m\u001b[0m\n\u001b[1;32m    208\u001b[0m       \u001b[0;31m# Note: convert_to_eager_tensor currently raises a ValueError, not a\u001b[0m\u001b[0;34m\u001b[0m\u001b[0;34m\u001b[0m\u001b[0;34m\u001b[0m\u001b[0m\n",
            "\u001b[0;32m/usr/local/lib/python3.7/dist-packages/tensorflow/python/ops/array_ops.py\u001b[0m in \u001b[0;36m_slice_helper\u001b[0;34m(tensor, slice_spec, var)\u001b[0m\n\u001b[1;32m   1025\u001b[0m     \u001b[0;32mif\u001b[0m \u001b[0mbegin\u001b[0m\u001b[0;34m:\u001b[0m\u001b[0;34m\u001b[0m\u001b[0;34m\u001b[0m\u001b[0m\n\u001b[1;32m   1026\u001b[0m       packed_begin, packed_end, packed_strides = (stack(begin), stack(end),\n\u001b[0;32m-> 1027\u001b[0;31m                                                   stack(strides))\n\u001b[0m\u001b[1;32m   1028\u001b[0m       if (packed_begin.dtype == dtypes.int64 or\n\u001b[1;32m   1029\u001b[0m           \u001b[0mpacked_end\u001b[0m\u001b[0;34m.\u001b[0m\u001b[0mdtype\u001b[0m \u001b[0;34m==\u001b[0m \u001b[0mdtypes\u001b[0m\u001b[0;34m.\u001b[0m\u001b[0mint64\u001b[0m \u001b[0;32mor\u001b[0m\u001b[0;34m\u001b[0m\u001b[0;34m\u001b[0m\u001b[0m\n",
            "\u001b[0;32m/usr/local/lib/python3.7/dist-packages/tensorflow/python/util/dispatch.py\u001b[0m in \u001b[0;36mwrapper\u001b[0;34m(*args, **kwargs)\u001b[0m\n\u001b[1;32m    204\u001b[0m     \u001b[0;34m\"\"\"Call target, and fall back on dispatchers if there is a TypeError.\"\"\"\u001b[0m\u001b[0;34m\u001b[0m\u001b[0;34m\u001b[0m\u001b[0m\n\u001b[1;32m    205\u001b[0m     \u001b[0;32mtry\u001b[0m\u001b[0;34m:\u001b[0m\u001b[0;34m\u001b[0m\u001b[0;34m\u001b[0m\u001b[0m\n\u001b[0;32m--> 206\u001b[0;31m       \u001b[0;32mreturn\u001b[0m \u001b[0mtarget\u001b[0m\u001b[0;34m(\u001b[0m\u001b[0;34m*\u001b[0m\u001b[0margs\u001b[0m\u001b[0;34m,\u001b[0m \u001b[0;34m**\u001b[0m\u001b[0mkwargs\u001b[0m\u001b[0;34m)\u001b[0m\u001b[0;34m\u001b[0m\u001b[0;34m\u001b[0m\u001b[0m\n\u001b[0m\u001b[1;32m    207\u001b[0m     \u001b[0;32mexcept\u001b[0m \u001b[0;34m(\u001b[0m\u001b[0mTypeError\u001b[0m\u001b[0;34m,\u001b[0m \u001b[0mValueError\u001b[0m\u001b[0;34m)\u001b[0m\u001b[0;34m:\u001b[0m\u001b[0;34m\u001b[0m\u001b[0;34m\u001b[0m\u001b[0m\n\u001b[1;32m    208\u001b[0m       \u001b[0;31m# Note: convert_to_eager_tensor currently raises a ValueError, not a\u001b[0m\u001b[0;34m\u001b[0m\u001b[0;34m\u001b[0m\u001b[0;34m\u001b[0m\u001b[0m\n",
            "\u001b[0;32m/usr/local/lib/python3.7/dist-packages/tensorflow/python/ops/array_ops.py\u001b[0m in \u001b[0;36mstack\u001b[0;34m(values, axis, name)\u001b[0m\n\u001b[1;32m   1410\u001b[0m     \u001b[0;32mtry\u001b[0m\u001b[0;34m:\u001b[0m\u001b[0;34m\u001b[0m\u001b[0;34m\u001b[0m\u001b[0m\n\u001b[1;32m   1411\u001b[0m       \u001b[0;31m# If the input is a constant list, it can be converted to a constant op\u001b[0m\u001b[0;34m\u001b[0m\u001b[0;34m\u001b[0m\u001b[0;34m\u001b[0m\u001b[0m\n\u001b[0;32m-> 1412\u001b[0;31m       \u001b[0;32mreturn\u001b[0m \u001b[0mops\u001b[0m\u001b[0;34m.\u001b[0m\u001b[0mconvert_to_tensor\u001b[0m\u001b[0;34m(\u001b[0m\u001b[0mvalues\u001b[0m\u001b[0;34m,\u001b[0m \u001b[0mname\u001b[0m\u001b[0;34m=\u001b[0m\u001b[0mname\u001b[0m\u001b[0;34m)\u001b[0m\u001b[0;34m\u001b[0m\u001b[0;34m\u001b[0m\u001b[0m\n\u001b[0m\u001b[1;32m   1413\u001b[0m     \u001b[0;32mexcept\u001b[0m \u001b[0;34m(\u001b[0m\u001b[0mTypeError\u001b[0m\u001b[0;34m,\u001b[0m \u001b[0mValueError\u001b[0m\u001b[0;34m)\u001b[0m\u001b[0;34m:\u001b[0m\u001b[0;34m\u001b[0m\u001b[0;34m\u001b[0m\u001b[0m\n\u001b[1;32m   1414\u001b[0m       \u001b[0;32mpass\u001b[0m  \u001b[0;31m# Input list contains non-constant tensors\u001b[0m\u001b[0;34m\u001b[0m\u001b[0;34m\u001b[0m\u001b[0m\n",
            "\u001b[0;32m/usr/local/lib/python3.7/dist-packages/tensorflow/python/profiler/trace.py\u001b[0m in \u001b[0;36mwrapped\u001b[0;34m(*args, **kwargs)\u001b[0m\n\u001b[1;32m    161\u001b[0m         \u001b[0;32mwith\u001b[0m \u001b[0mTrace\u001b[0m\u001b[0;34m(\u001b[0m\u001b[0mtrace_name\u001b[0m\u001b[0;34m,\u001b[0m \u001b[0;34m**\u001b[0m\u001b[0mtrace_kwargs\u001b[0m\u001b[0;34m)\u001b[0m\u001b[0;34m:\u001b[0m\u001b[0;34m\u001b[0m\u001b[0;34m\u001b[0m\u001b[0m\n\u001b[1;32m    162\u001b[0m           \u001b[0;32mreturn\u001b[0m \u001b[0mfunc\u001b[0m\u001b[0;34m(\u001b[0m\u001b[0;34m*\u001b[0m\u001b[0margs\u001b[0m\u001b[0;34m,\u001b[0m \u001b[0;34m**\u001b[0m\u001b[0mkwargs\u001b[0m\u001b[0;34m)\u001b[0m\u001b[0;34m\u001b[0m\u001b[0;34m\u001b[0m\u001b[0m\n\u001b[0;32m--> 163\u001b[0;31m       \u001b[0;32mreturn\u001b[0m \u001b[0mfunc\u001b[0m\u001b[0;34m(\u001b[0m\u001b[0;34m*\u001b[0m\u001b[0margs\u001b[0m\u001b[0;34m,\u001b[0m \u001b[0;34m**\u001b[0m\u001b[0mkwargs\u001b[0m\u001b[0;34m)\u001b[0m\u001b[0;34m\u001b[0m\u001b[0;34m\u001b[0m\u001b[0m\n\u001b[0m\u001b[1;32m    164\u001b[0m \u001b[0;34m\u001b[0m\u001b[0m\n\u001b[1;32m    165\u001b[0m     \u001b[0;32mreturn\u001b[0m \u001b[0mwrapped\u001b[0m\u001b[0;34m\u001b[0m\u001b[0;34m\u001b[0m\u001b[0m\n",
            "\u001b[0;32m/usr/local/lib/python3.7/dist-packages/tensorflow/python/framework/ops.py\u001b[0m in \u001b[0;36mconvert_to_tensor\u001b[0;34m(value, dtype, name, as_ref, preferred_dtype, dtype_hint, ctx, accepted_result_types)\u001b[0m\n\u001b[1;32m   1541\u001b[0m   \u001b[0;31m# See below for the reason why it's `type(value)` and not just `value`.\u001b[0m\u001b[0;34m\u001b[0m\u001b[0;34m\u001b[0m\u001b[0;34m\u001b[0m\u001b[0m\n\u001b[1;32m   1542\u001b[0m   \u001b[0;31m# https://docs.python.org/3.8/reference/datamodel.html#special-lookup\u001b[0m\u001b[0;34m\u001b[0m\u001b[0;34m\u001b[0m\u001b[0;34m\u001b[0m\u001b[0m\n\u001b[0;32m-> 1543\u001b[0;31m   \u001b[0moverload\u001b[0m \u001b[0;34m=\u001b[0m \u001b[0mgetattr\u001b[0m\u001b[0;34m(\u001b[0m\u001b[0mtype\u001b[0m\u001b[0;34m(\u001b[0m\u001b[0mvalue\u001b[0m\u001b[0;34m)\u001b[0m\u001b[0;34m,\u001b[0m \u001b[0;34m\"__tf_tensor__\"\u001b[0m\u001b[0;34m,\u001b[0m \u001b[0;32mNone\u001b[0m\u001b[0;34m)\u001b[0m\u001b[0;34m\u001b[0m\u001b[0;34m\u001b[0m\u001b[0m\n\u001b[0m\u001b[1;32m   1544\u001b[0m   \u001b[0;32mif\u001b[0m \u001b[0moverload\u001b[0m \u001b[0;32mis\u001b[0m \u001b[0;32mnot\u001b[0m \u001b[0;32mNone\u001b[0m\u001b[0;34m:\u001b[0m\u001b[0;34m\u001b[0m\u001b[0;34m\u001b[0m\u001b[0m\n\u001b[1;32m   1545\u001b[0m     \u001b[0;32mreturn\u001b[0m \u001b[0moverload\u001b[0m\u001b[0;34m(\u001b[0m\u001b[0mvalue\u001b[0m\u001b[0;34m,\u001b[0m \u001b[0mdtype\u001b[0m\u001b[0;34m,\u001b[0m \u001b[0mname\u001b[0m\u001b[0;34m)\u001b[0m\u001b[0;34m\u001b[0m\u001b[0;34m\u001b[0m\u001b[0m\n",
            "\u001b[0;31mKeyboardInterrupt\u001b[0m: "
          ]
        }
      ]
    },
    {
      "cell_type": "code",
      "metadata": {
        "colab": {
          "base_uri": "https://localhost:8080/"
        },
        "id": "JUQ9v1r3uZku",
        "outputId": "e0e2a747-1b1f-4f86-87c4-68704aacdc51"
      },
      "source": [
        "sorted_tokens = list(sorted(all_tokens, key=lambda x: token2freq[x] or 0))[::-1]\n",
        "sorted_tokens[:5]"
      ],
      "execution_count": null,
      "outputs": [
        {
          "output_type": "execute_result",
          "data": {
            "text/plain": [
              "['he', 'the', 'be', 'and', 'of']"
            ]
          },
          "metadata": {
            "tags": []
          },
          "execution_count": 122
        }
      ]
    },
    {
      "cell_type": "code",
      "metadata": {
        "colab": {
          "base_uri": "https://localhost:8080/"
        },
        "id": "dEVMFbOUvHX3",
        "outputId": "c8f32480-54aa-474e-c541-7b0efde3885a"
      },
      "source": [
        "token2embedding = dict(zip(all_tokens, all_embeddings))\n",
        "mse(autoencoder(token2embedding['he'].reshape(1, 128)).numpy()[0], token2embedding['he'])"
      ],
      "execution_count": null,
      "outputs": [
        {
          "output_type": "execute_result",
          "data": {
            "text/plain": [
              "9.290254"
            ]
          },
          "metadata": {
            "tags": []
          },
          "execution_count": 119
        }
      ]
    },
    {
      "cell_type": "code",
      "metadata": {
        "colab": {
          "base_uri": "https://localhost:8080/"
        },
        "id": "Rlju5YRDv9A2",
        "outputId": "569b8425-676b-4ea1-b8dd-7f7c7ae5a8fc"
      },
      "source": [
        "sorted_embeddings = np.asarray([token2embedding[token] for token in sorted_tokens])\n",
        "sorted_embeddings.shape"
      ],
      "execution_count": null,
      "outputs": [
        {
          "output_type": "execute_result",
          "data": {
            "text/plain": [
              "(30522, 128)"
            ]
          },
          "metadata": {
            "tags": []
          },
          "execution_count": 121
        }
      ]
    },
    {
      "cell_type": "code",
      "metadata": {
        "colab": {
          "base_uri": "https://localhost:8080/"
        },
        "id": "D541F8lsxms_",
        "outputId": "59cd6b3a-34e1-4ef8-9bf6-42096e770ef2"
      },
      "source": [
        "weights.sum()"
      ],
      "execution_count": null,
      "outputs": [
        {
          "output_type": "execute_result",
          "data": {
            "text/plain": [
              "1.0"
            ]
          },
          "metadata": {
            "tags": []
          },
          "execution_count": 128
        }
      ]
    },
    {
      "cell_type": "code",
      "metadata": {
        "colab": {
          "base_uri": "https://localhost:8080/"
        },
        "id": "gzSsfOHlu1F-",
        "outputId": "8fc28672-c5fd-4b6b-8af0-27f31063363d"
      },
      "source": [
        "np.sum(weights * np.mean((sorted_embeddings - autoencoder(sorted_embeddings)) ** 2, axis=1))"
      ],
      "execution_count": null,
      "outputs": [
        {
          "output_type": "execute_result",
          "data": {
            "text/plain": [
              "2.3368134092241215"
            ]
          },
          "metadata": {
            "tags": []
          },
          "execution_count": 129
        }
      ]
    },
    {
      "cell_type": "code",
      "metadata": {
        "colab": {
          "base_uri": "https://localhost:8080/"
        },
        "id": "bVFxwUY3tWJk",
        "outputId": "14f7a503-8a39-425b-e937-7f14d0938c77"
      },
      "source": [
        "from sklearn.metrics import mean_squared_error as mse\n",
        "mse(all_embeddings, autoencoder(all_embeddings)), mape(all_embeddings, autoencoder(all_embeddings)), mae(all_embeddings, autoencoder(all_embeddings)), r2_score(all_embeddings, autoencoder(all_embeddings))"
      ],
      "execution_count": null,
      "outputs": [
        {
          "output_type": "execute_result",
          "data": {
            "text/plain": [
              "(2.8428922, 3.7630105, 1.2740923, 0.40276765456620534)"
            ]
          },
          "metadata": {
            "tags": []
          },
          "execution_count": 73
        }
      ]
    },
    {
      "cell_type": "markdown",
      "metadata": {
        "id": "CtgXIGKzxu5k"
      },
      "source": [
        "## По-другому"
      ]
    },
    {
      "cell_type": "code",
      "metadata": {
        "colab": {
          "base_uri": "https://localhost:8080/"
        },
        "id": "e5tx5x1cxuUQ",
        "outputId": "170520a1-8ff7-4e5e-cb94-29e34bb15448"
      },
      "source": [
        "dataset = []\n",
        "sorted_scores = list(sorted(weights * total_tokens)[::-1])\n",
        "sorted_scores = np.array([max(1, int(score / 20)) for score in sorted_scores])\n",
        "np.sum(sorted_scores)"
      ],
      "execution_count": null,
      "outputs": [
        {
          "output_type": "execute_result",
          "data": {
            "text/plain": [
              "121944"
            ]
          },
          "metadata": {
            "tags": []
          },
          "execution_count": 208
        }
      ]
    },
    {
      "cell_type": "code",
      "metadata": {
        "colab": {
          "base_uri": "https://localhost:8080/"
        },
        "id": "fL0Gt6F7zuuh",
        "outputId": "c138ce7b-efb2-4dd2-a942-70445bcd7273"
      },
      "source": [
        "sampled_embeddings = []\n",
        "for emb, score in zip(sorted_embeddings, sorted_scores):\n",
        "    sampled_embeddings += [emb] * score\n",
        "sampled_embeddings = np.asarray(sampled_embeddings)\n",
        "sampled_embeddings.shape"
      ],
      "execution_count": null,
      "outputs": [
        {
          "output_type": "execute_result",
          "data": {
            "text/plain": [
              "(121944, 128)"
            ]
          },
          "metadata": {
            "tags": []
          },
          "execution_count": 209
        }
      ]
    },
    {
      "cell_type": "code",
      "metadata": {
        "colab": {
          "base_uri": "https://localhost:8080/"
        },
        "id": "sQFoioLh4nLL",
        "outputId": "8b479426-5cab-4a52-b2ca-852433d5bf8d"
      },
      "source": [
        "from sklearn.model_selection import train_test_split\n",
        "\n",
        "train_sampled_embeds, val_sampled_embeds = train_test_split(sampled_embeddings, train_size=0.8, random_state=12)\n",
        "train_sampled_embeds.shape, val_sampled_embeds.shape"
      ],
      "execution_count": null,
      "outputs": [
        {
          "output_type": "execute_result",
          "data": {
            "text/plain": [
              "((97555, 128), (24389, 128))"
            ]
          },
          "metadata": {
            "tags": []
          },
          "execution_count": 210
        }
      ]
    },
    {
      "cell_type": "code",
      "metadata": {
        "colab": {
          "base_uri": "https://localhost:8080/"
        },
        "id": "J3_MJ18ky2K8",
        "outputId": "4fd533db-e30e-445a-c022-54dac766704b"
      },
      "source": [
        "autoencoder.fit(train_sampled_embeds, train_sampled_embeds, verbose=True, validation_data=(val_sampled_embeds, val_sampled_embeds), epochs=50, shuffle=True, batch_size=32, validation_batch_size=32)"
      ],
      "execution_count": null,
      "outputs": [
        {
          "output_type": "stream",
          "text": [
            "Epoch 1/50\n",
            "3049/3049 [==============================] - 6s 2ms/step - loss: 1.9463 - val_loss: 0.2656\n",
            "Epoch 2/50\n",
            "3049/3049 [==============================] - 5s 2ms/step - loss: 0.2301 - val_loss: 0.1718\n",
            "Epoch 3/50\n",
            "3049/3049 [==============================] - 6s 2ms/step - loss: 0.1628 - val_loss: 0.1459\n",
            "Epoch 4/50\n",
            "3049/3049 [==============================] - 5s 2ms/step - loss: 0.1394 - val_loss: 0.1287\n",
            "Epoch 5/50\n",
            "3049/3049 [==============================] - 6s 2ms/step - loss: 0.1280 - val_loss: 0.1223\n",
            "Epoch 6/50\n",
            "3049/3049 [==============================] - 6s 2ms/step - loss: 0.1224 - val_loss: 0.1173\n",
            "Epoch 7/50\n",
            "3049/3049 [==============================] - 6s 2ms/step - loss: 0.1179 - val_loss: 0.1187\n",
            "Epoch 8/50\n",
            "3049/3049 [==============================] - 5s 2ms/step - loss: 0.1157 - val_loss: 0.1136\n",
            "Epoch 9/50\n",
            "3049/3049 [==============================] - 6s 2ms/step - loss: 0.1126 - val_loss: 0.1187\n",
            "Epoch 10/50\n",
            "3049/3049 [==============================] - 6s 2ms/step - loss: 0.1103 - val_loss: 0.1114\n",
            "Epoch 11/50\n",
            "3049/3049 [==============================] - 6s 2ms/step - loss: 0.1084 - val_loss: 0.1082\n",
            "Epoch 12/50\n",
            "3049/3049 [==============================] - 6s 2ms/step - loss: 0.1061 - val_loss: 0.1089\n",
            "Epoch 13/50\n",
            "3049/3049 [==============================] - 6s 2ms/step - loss: 0.1057 - val_loss: 0.1060\n",
            "Epoch 14/50\n",
            "3049/3049 [==============================] - 6s 2ms/step - loss: 0.1041 - val_loss: 0.1041\n",
            "Epoch 15/50\n",
            "3049/3049 [==============================] - 6s 2ms/step - loss: 0.1037 - val_loss: 0.1033\n",
            "Epoch 16/50\n",
            "3049/3049 [==============================] - 6s 2ms/step - loss: 0.1016 - val_loss: 0.1032\n",
            "Epoch 17/50\n",
            "3049/3049 [==============================] - 6s 2ms/step - loss: 0.1013 - val_loss: 0.1072\n",
            "Epoch 18/50\n",
            "3049/3049 [==============================] - 6s 2ms/step - loss: 0.1006 - val_loss: 0.1000\n",
            "Epoch 19/50\n",
            "3049/3049 [==============================] - 6s 2ms/step - loss: 0.0999 - val_loss: 0.1006\n",
            "Epoch 20/50\n",
            "3049/3049 [==============================] - 6s 2ms/step - loss: 0.0988 - val_loss: 0.1026\n",
            "Epoch 21/50\n",
            "3049/3049 [==============================] - 6s 2ms/step - loss: 0.0980 - val_loss: 0.0996\n",
            "Epoch 22/50\n",
            "3049/3049 [==============================] - 6s 2ms/step - loss: 0.0985 - val_loss: 0.1003\n",
            "Epoch 23/50\n",
            "3049/3049 [==============================] - 6s 2ms/step - loss: 0.0974 - val_loss: 0.1019\n",
            "Epoch 24/50\n",
            "3049/3049 [==============================] - 6s 2ms/step - loss: 0.0969 - val_loss: 0.0980\n",
            "Epoch 25/50\n",
            "3049/3049 [==============================] - 6s 2ms/step - loss: 0.0967 - val_loss: 0.0957\n",
            "Epoch 26/50\n",
            "3049/3049 [==============================] - 6s 2ms/step - loss: 0.0955 - val_loss: 0.0941\n",
            "Epoch 27/50\n",
            "3049/3049 [==============================] - 6s 2ms/step - loss: 0.0955 - val_loss: 0.0963\n",
            "Epoch 28/50\n",
            "3049/3049 [==============================] - 6s 2ms/step - loss: 0.0950 - val_loss: 0.0937\n",
            "Epoch 29/50\n",
            "3049/3049 [==============================] - 5s 2ms/step - loss: 0.0945 - val_loss: 0.0951\n",
            "Epoch 30/50\n",
            "3049/3049 [==============================] - 6s 2ms/step - loss: 0.0945 - val_loss: 0.0976\n",
            "Epoch 31/50\n",
            "3049/3049 [==============================] - 5s 2ms/step - loss: 0.0941 - val_loss: 0.0953\n",
            "Epoch 32/50\n",
            "3049/3049 [==============================] - 6s 2ms/step - loss: 0.0934 - val_loss: 0.0938\n",
            "Epoch 33/50\n",
            "3049/3049 [==============================] - 6s 2ms/step - loss: 0.0930 - val_loss: 0.0942\n",
            "Epoch 34/50\n",
            "3049/3049 [==============================] - 5s 2ms/step - loss: 0.0931 - val_loss: 0.0953\n",
            "Epoch 35/50\n",
            "3049/3049 [==============================] - 6s 2ms/step - loss: 0.0928 - val_loss: 0.0921\n",
            "Epoch 36/50\n",
            "3049/3049 [==============================] - 6s 2ms/step - loss: 0.0926 - val_loss: 0.0927\n",
            "Epoch 37/50\n",
            "3049/3049 [==============================] - 6s 2ms/step - loss: 0.0922 - val_loss: 0.0914\n",
            "Epoch 38/50\n",
            "3049/3049 [==============================] - 6s 2ms/step - loss: 0.0917 - val_loss: 0.0929\n",
            "Epoch 39/50\n",
            "3049/3049 [==============================] - 6s 2ms/step - loss: 0.0910 - val_loss: 0.0921\n",
            "Epoch 40/50\n",
            "3049/3049 [==============================] - 6s 2ms/step - loss: 0.0911 - val_loss: 0.0895\n",
            "Epoch 41/50\n",
            "3049/3049 [==============================] - 6s 2ms/step - loss: 0.0906 - val_loss: 0.0911\n",
            "Epoch 42/50\n",
            "3049/3049 [==============================] - 6s 2ms/step - loss: 0.0909 - val_loss: 0.0892\n",
            "Epoch 43/50\n",
            "3049/3049 [==============================] - 5s 2ms/step - loss: 0.0900 - val_loss: 0.0893\n",
            "Epoch 44/50\n",
            "3049/3049 [==============================] - 6s 2ms/step - loss: 0.0900 - val_loss: 0.0916\n",
            "Epoch 45/50\n",
            "3049/3049 [==============================] - 6s 2ms/step - loss: 0.0896 - val_loss: 0.0925\n",
            "Epoch 46/50\n",
            "3049/3049 [==============================] - 6s 2ms/step - loss: 0.0891 - val_loss: 0.0923\n",
            "Epoch 47/50\n",
            "3049/3049 [==============================] - 6s 2ms/step - loss: 0.0890 - val_loss: 0.0899\n",
            "Epoch 48/50\n",
            "3049/3049 [==============================] - 6s 2ms/step - loss: 0.0891 - val_loss: 0.0896\n",
            "Epoch 49/50\n",
            "3049/3049 [==============================] - 6s 2ms/step - loss: 0.0886 - val_loss: 0.0886\n",
            "Epoch 50/50\n",
            "3049/3049 [==============================] - 6s 2ms/step - loss: 0.0887 - val_loss: 0.0899\n"
          ],
          "name": "stdout"
        },
        {
          "output_type": "execute_result",
          "data": {
            "text/plain": [
              "<keras.callbacks.History at 0x7fbaba1b9e10>"
            ]
          },
          "metadata": {
            "tags": []
          },
          "execution_count": 214
        }
      ]
    },
    {
      "cell_type": "code",
      "metadata": {
        "colab": {
          "base_uri": "https://localhost:8080/"
        },
        "id": "a0CVNJfgzTSt",
        "outputId": "a2249ccb-86ae-463c-8a6b-b5fcc292974d"
      },
      "source": [
        "text_embeddings = []\n",
        "for token in tokenized[:400_000]:\n",
        "    text_embeddings.append(token2embedding[token])\n",
        "\n",
        "text_embeddings = np.asarray(text_embeddings)\n",
        "\n",
        "embs = autoencoder(text_embeddings)\n",
        "print(mse(text_embeddings, embs))\n",
        "print(mape(text_embeddings, embs))\n",
        "print(r2_score(text_embeddings, embs))"
      ],
      "execution_count": null,
      "outputs": [
        {
          "output_type": "stream",
          "text": [
            "0.07778654\n",
            "0.54310894\n",
            "0.9825532438257183\n"
          ],
          "name": "stdout"
        }
      ]
    },
    {
      "cell_type": "code",
      "metadata": {
        "id": "o8hP5F9K9aXj"
      },
      "source": [
        "def init_autoencoder(dims, activation):\n",
        "    encoder = Sequential([\n",
        "        InputLayer(input_shape=(dims[0],)),\n",
        "    ])\n",
        "    for dim in dims[1:]:\n",
        "        encoder.add(Dense(dim, activation=activation))\n",
        "    \n",
        "    decoder = Sequential([\n",
        "        InputLayer(input_shape=(dims[-1],)),   \n",
        "    ])\n",
        "    for dim in dims[-2:0:-1]:\n",
        "        decoder.add(Dense(dim, activation=activation))\n",
        "    decoder.add(Dense(dims[0], activation=None))\n",
        "    \n",
        "    autoencoder = Model(inputs=encoder.input, outputs=decoder(encoder.output))\n",
        "    autoencoder.compile(loss='mse', optimizer='adam')\n",
        "    return autoencoder"
      ],
      "execution_count": null,
      "outputs": []
    },
    {
      "cell_type": "code",
      "metadata": {
        "colab": {
          "base_uri": "https://localhost:8080/",
          "height": 66,
          "referenced_widgets": [
            "a36c91f77da340a485722d3b323c5c7e",
            "4b5d8477aeb04616b9f9c7289090549b",
            "440e0b62e2f640d3a3de94752aeee0af",
            "e19d9e054f5d44d1acb447bf2dcbcc6b",
            "d4fe313156134e87a98606bca1fdcb55",
            "5581534df14c4eb1845d5df9ea5a8831",
            "2d1a74c2a72c4b5a9ace33470086d941",
            "ef037826a1b246a09c28a885ead9d1fb"
          ]
        },
        "id": "Sg_YDKIk-1ow",
        "outputId": "0a7d8560-1f56-4f42-eaec-250e268144a0"
      },
      "source": [
        "activations = ['LeakyReLU', 'relu', 'tanh', 'sigmoid', None]\n",
        "autoencoders = []\n",
        "\n",
        "for activation in tqdm(activations):\n",
        "    autoencoder = init_autoencoder([128, 90, 64], activation)\n",
        "    autoencoder.fit(train_sampled_embeds, train_sampled_embeds, verbose=False, validation_data=(val_sampled_embeds, val_sampled_embeds), epochs=50, shuffle=True, batch_size=32, validation_batch_size=32)\n",
        "    autoencoders.append(autoencoder)"
      ],
      "execution_count": null,
      "outputs": [
        {
          "output_type": "display_data",
          "data": {
            "application/vnd.jupyter.widget-view+json": {
              "model_id": "a36c91f77da340a485722d3b323c5c7e",
              "version_minor": 0,
              "version_major": 2
            },
            "text/plain": [
              "HBox(children=(FloatProgress(value=0.0, max=5.0), HTML(value='')))"
            ]
          },
          "metadata": {
            "tags": []
          }
        },
        {
          "output_type": "stream",
          "text": [
            "\n"
          ],
          "name": "stdout"
        }
      ]
    },
    {
      "cell_type": "code",
      "metadata": {
        "colab": {
          "base_uri": "https://localhost:8080/",
          "height": 384
        },
        "id": "lesylAhJFsjL",
        "outputId": "54d2d543-af55-4f21-d3f0-bfdb8a505c21"
      },
      "source": [
        "import seaborn as sns\n",
        "plt.style.use('seaborn')\n",
        "sns.set_style(\"whitegrid\")\n",
        "\n",
        "activations = ['LeakyReLU', 'ReLU', 'Tanh', 'Sigmoid', 'Linear']\n",
        "\n",
        "fig, ax = plt.subplots(1, 5, figsize=(15, 4), sharey=True)\n",
        "plt.ylim(0, 2)\n",
        "for i, activation, autoencoder in zip(range(len(activations)), activations, autoencoders):\n",
        "    print(autoencoder.history.history['loss'][-1])\n",
        "    ax[i].plot(autoencoder.history.history['loss'][:20], label='train', c='darkred')\n",
        "    ax[i].plot(autoencoder.history.history['val_loss'][:20], label='validation', c='green')\n",
        "    ax[i].legend()\n",
        "    ax[i].set_xlabel('Эпоха', size=16)\n",
        "    ax[i].set_title(f'{activation}', size=16)\n",
        "    if i == 0:\n",
        "        ax[i].set_ylabel('MSE', size=20)\n",
        "fig.tight_layout()\n",
        "fig.savefig('drive/MyDrive/Coursework2021/simple_ae.png')"
      ],
      "execution_count": null,
      "outputs": [
        {
          "output_type": "stream",
          "text": [
            "0.08973991125822067\n",
            "0.23930180072784424\n",
            "0.1717672049999237\n",
            "0.12061691284179688\n",
            "0.1394190937280655\n"
          ],
          "name": "stdout"
        },
        {
          "output_type": "display_data",
          "data": {
            "image/png": "[encoded data removed]",
            "text/plain": [
              "<Figure size 1080x288 with 5 Axes>"
            ]
          },
          "metadata": {
            "tags": []
          }
        }
      ]
    },
    {
      "cell_type": "code",
      "metadata": {
        "colab": {
          "base_uri": "https://localhost:8080/"
        },
        "id": "aqkv25pzOwuV",
        "outputId": "59fc6c26-743a-471e-c7c8-5b30dd65847f"
      },
      "source": [
        "text_embeddings = np.asarray(text_embeddings)\n",
        "for autoencoder in autoencoders:\n",
        "    embs = autoencoder(text_embeddings)\n",
        "    print(mse(text_embeddings, embs))\n",
        "    print(mape(text_embeddings, embs))\n",
        "    print(r2_score(text_embeddings, embs))\n",
        "    print()"
      ],
      "execution_count": null,
      "outputs": [
        {
          "output_type": "stream",
          "text": [
            "0.080063954\n",
            "0.5127028\n",
            "0.9820984234071223\n",
            "\n",
            "0.22001693\n",
            "1.0042709\n",
            "0.9510615992719517\n",
            "\n",
            "0.1609012\n",
            "0.7270919\n",
            "0.964288337633161\n",
            "\n",
            "0.105519585\n",
            "0.74337566\n",
            "0.9764239745638208\n",
            "\n",
            "0.1256308\n",
            "0.8272687\n",
            "0.9717804160121999\n",
            "\n"
          ],
          "name": "stdout"
        }
      ]
    },
    {
      "cell_type": "code",
      "metadata": {
        "colab": {
          "base_uri": "https://localhost:8080/"
        },
        "id": "Ehfp98A3PBvp",
        "outputId": "11b54208-fe40-45b0-c7b4-e8b4e922f620"
      },
      "source": [
        "autoencoders[0].save('drive/MyDrive/Coursework2021/ae_simple_64.mdl')"
      ],
      "execution_count": null,
      "outputs": [
        {
          "output_type": "stream",
          "text": [
            "WARNING:absl:Found untraced functions such as leaky_re_lu_63_layer_call_fn, leaky_re_lu_63_layer_call_and_return_conditional_losses, leaky_re_lu_64_layer_call_fn, leaky_re_lu_64_layer_call_and_return_conditional_losses, leaky_re_lu_63_layer_call_fn while saving (showing 5 of 15). These functions will not be directly callable after loading.\n"
          ],
          "name": "stderr"
        },
        {
          "output_type": "stream",
          "text": [
            "INFO:tensorflow:Assets written to: drive/MyDrive/Coursework2021/ae_simple_64.mdl/assets\n"
          ],
          "name": "stdout"
        },
        {
          "output_type": "stream",
          "text": [
            "INFO:tensorflow:Assets written to: drive/MyDrive/Coursework2021/ae_simple_64.mdl/assets\n"
          ],
          "name": "stderr"
        }
      ]
    },
    {
      "cell_type": "markdown",
      "metadata": {
        "id": "Pbvie1jnPPCL"
      },
      "source": [
        "## Вторая архитектура"
      ]
    },
    {
      "cell_type": "code",
      "metadata": {
        "id": "pwD-HdAHPQxM"
      },
      "source": [
        "from typing import Optional, Sequence, List\n",
        "from keras.callbacks import History\n",
        "\n",
        "class Autoencoder(Model):\n",
        "    \"\"\"\n",
        "    Холдер для одного автоенкодера\n",
        "    \"\"\"\n",
        "    def __init__(self, input_dim: int, output_dim: int, activation: Optional[str] = None) -> None:\n",
        "        super(Autoencoder, self).__init__()\n",
        "        self.input_dim = input_dim\n",
        "        self.output_dim = output_dim\n",
        "        self.activation = activation\n",
        "        self.build_autoencoder()\n",
        "\n",
        "    def call(self, inputs):\n",
        "        return self.autoencoder(inputs)\n",
        "\n",
        "    def build_autoencoder(self) -> None:\n",
        "        self.encoder = Sequential([\n",
        "            InputLayer(input_shape=(self.input_dim,)),\n",
        "            # Dense(90, activation='tanh'),\n",
        "            # Dense(32, activation='relu'),\n",
        "            Dense(self.output_dim, activation=self.activation)\n",
        "        ])\n",
        "        self.decoder = Sequential([\n",
        "            InputLayer(input_shape=(self.output_dim,)),\n",
        "            # Dense(32, activation='relu'),\n",
        "            # Dense(90, activation='tanh'),\n",
        "            Dense(self.input_dim, activation=None)\n",
        "        ])\n",
        "        self.autoencoder = Model(inputs=self.encoder.input, outputs=self.decoder(self.encoder.output))\n",
        "        self.autoencoder.compile(loss='mse', optimizer='adam')\n",
        "\n",
        "\n",
        "class StackedAutoencoder:\n",
        "    \"\"\"\n",
        "    Ступенчатый автоенкодер: отдельно обучается каждый слой-encoder на основе результатов предыдущего слоя\n",
        "    \"\"\"\n",
        "    def __init__(self, dims: Sequence[int], activation: Optional[str] = 'tanh') -> None:\n",
        "        \"\"\":param dims: все размерности шагов (от input_dim до output_dim)\"\"\"\n",
        "        self.dims = dims\n",
        "        self.input_dim = dims[0]\n",
        "        self.output_dim = dims[-1]\n",
        "        self.autoencoders = [Autoencoder(dims[i - 1], dims[i], activation=activation) for i in range(1, len(dims))]\n",
        "\n",
        "    def fit(self, train_data: np.ndarray, val_data: Optional[np.ndarray] = None, verbose: bool = False, epochs: int = 10) -> List[History]:\n",
        "        if verbose:\n",
        "            print(f'\\nStackAutoencoder: fitting {len(self.autoencoders)} autoencoders with dimensions {self.dims}', flush=True)\n",
        "\n",
        "        train_data_reduced = train_data\n",
        "        val_data_reduced = val_data\n",
        "        self.model_histories = []\n",
        "        for i, autoencoder in enumerate(self.autoencoders):\n",
        "            autoencoder.compile(loss='mse', optimizer='adam')\n",
        "            if verbose:\n",
        "                print(f'\\tfitting autoencoder number {i} with dimensions {autoencoder.input_dim, autoencoder.output_dim}', file=sys.stderr)\n",
        "            model_history = autoencoder.fit(\n",
        "                x=train_data_reduced,\n",
        "                y=train_data_reduced,\n",
        "                epochs=epochs // 3,\n",
        "                batch_size=32,\n",
        "                validation_data=(val_data_reduced, val_data_reduced),\n",
        "                validation_batch_size=32,\n",
        "                shuffle=True,\n",
        "                verbose=False,\n",
        "                # callbacks=[tensorboard]\n",
        "            )\n",
        "            train_data_reduced = autoencoder.encoder(train_data_reduced)\n",
        "            val_data_reduced = autoencoder.encoder(val_data_reduced)\n",
        "            self.model_histories.append(model_history)\n",
        "            if verbose:\n",
        "                print(f'StackedAutoencoder: autoencoder {i} - model history\\n{model_history.history}', flush=True)\n",
        "\n",
        "        self.fine_tune(train_data, val_data, verbose, epochs)\n",
        "        return self.model_histories\n",
        "\n",
        "    def fine_tune(self, train_data: np.ndarray, val_data: Optional[np.ndarray] = None, verbose: bool = False, epochs: int = 10) -> None:\n",
        "        \"\"\"Дообучает всю цепь сразу\"\"\"\n",
        "        if verbose:\n",
        "            print(f'StackedAutoencoder: fine-tuning...')\n",
        "\n",
        "        self.autoencoder_sequence = Sequential()\n",
        "        for autoencoder in self.autoencoders:\n",
        "            self.autoencoder_sequence.add(autoencoder.encoder)\n",
        "        for autoencoder in self.autoencoders[::-1]:\n",
        "            self.autoencoder_sequence.add(autoencoder.decoder)\n",
        "\n",
        "        self.autoencoder_sequence.compile(loss='mse', optimizer='adam')\n",
        "        self.finetune_history = self.autoencoder_sequence.fit(\n",
        "            x=train_data,\n",
        "            y=train_data,\n",
        "            epochs=epochs,\n",
        "            batch_size=32,\n",
        "            validation_data=(val_data, val_data),\n",
        "            validation_batch_size=32,\n",
        "            shuffle=True,\n",
        "            verbose=False\n",
        "        )\n",
        "        if verbose:\n",
        "            print(f'StackedAutoencoder: fine-tuning history model history\\n{self.finetune_history.history}')\n",
        "\n",
        "    def encode(self, data: np.ndarray) -> np.ndarray:\n",
        "        for autoencoder in self.autoencoders:\n",
        "            data = autoencoder.encoder(data)\n",
        "        return data\n",
        "\n",
        "    def decode(self, data: np.ndarray) -> np.ndarray:\n",
        "        for autoencoder in self.autoencoders[::-1]:\n",
        "            data = autoencoder.decoder(data)\n",
        "        return data"
      ],
      "execution_count": null,
      "outputs": []
    },
    {
      "cell_type": "code",
      "metadata": {
        "id": "uotmE9__Pxa4"
      },
      "source": [
        "sa = StackedAutoencoder([128, 90, 64], activation='LeakyReLU')"
      ],
      "execution_count": null,
      "outputs": []
    },
    {
      "cell_type": "code",
      "metadata": {
        "colab": {
          "base_uri": "https://localhost:8080/"
        },
        "id": "d5X69T-wP6Sm",
        "outputId": "fa8acdff-855d-4372-976d-780c961fd482"
      },
      "source": [
        "import sys\n",
        "sa.fit(train_sampled_embeds, val_sampled_embeds, verbose=True, epochs=50)"
      ],
      "execution_count": null,
      "outputs": [
        {
          "output_type": "stream",
          "text": [
            "\n",
            "StackAutoencoder: fitting 2 autoencoders with dimensions [128, 90, 64]\n"
          ],
          "name": "stdout"
        },
        {
          "output_type": "stream",
          "text": [
            "\tfitting autoencoder number 0 with dimensions (128, 90)\n"
          ],
          "name": "stderr"
        },
        {
          "output_type": "stream",
          "text": [
            "StackedAutoencoder: autoencoder 0 - model history\n",
            "{'loss': [0.6377594470977783, 0.06030169129371643, 0.03953032195568085, 0.03488988056778908, 0.03354587405920029, 0.03284751996397972, 0.03256607800722122, 0.032345302402973175, 0.03239564225077629, 0.03210945799946785, 0.032061900943517685, 0.03198515251278877, 0.031910091638565063, 0.03175634518265724, 0.0316769964993, 0.03167802095413208], 'val_loss': [0.08819951117038727, 0.04522865638136864, 0.0370786227285862, 0.03412240743637085, 0.033562660217285156, 0.032205529510974884, 0.03376440703868866, 0.032371580600738525, 0.031387072056531906, 0.033127736300230026, 0.031649284064769745, 0.0314505472779274, 0.03134451434016228, 0.0337810292840004, 0.03141661733388901, 0.0318714939057827]}\n"
          ],
          "name": "stdout"
        },
        {
          "output_type": "stream",
          "text": [
            "\tfitting autoencoder number 1 with dimensions (90, 64)\n"
          ],
          "name": "stderr"
        },
        {
          "output_type": "stream",
          "text": [
            "StackedAutoencoder: autoencoder 1 - model history\n",
            "{'loss': [0.5222444534301758, 0.10364621132612228, 0.08927737921476364, 0.08672484755516052, 0.08574589341878891, 0.08508368581533432, 0.08478020876646042, 0.08453158289194107, 0.08441987633705139, 0.08421679586172104, 0.08407805860042572, 0.08394477516412735, 0.08380040526390076, 0.08370041847229004, 0.0835125669836998, 0.08342955261468887], 'val_loss': [0.1344284564256668, 0.08999878913164139, 0.08739802986383438, 0.08711052685976028, 0.08567249029874802, 0.08545758575201035, 0.08601657301187515, 0.08460182696580887, 0.08519443869590759, 0.08351269364356995, 0.08540146797895432, 0.0838824138045311, 0.08316695690155029, 0.0829300805926323, 0.08430264890193939, 0.08282577991485596]}\n",
            "StackedAutoencoder: fine-tuning...\n",
            "StackedAutoencoder: fine-tuning history model history\n",
            "{'loss': [0.15553033351898193, 0.1483418345451355, 0.14606934785842896, 0.14342857897281647, 0.14234405755996704, 0.14169587194919586, 0.14141224324703217, 0.14102080464363098, 0.140832781791687, 0.14061985909938812, 0.1405462622642517, 0.1405026763677597, 0.14015135169029236, 0.14040972292423248, 0.1400858759880066, 0.14020772278308868, 0.13996484875679016, 0.13992029428482056, 0.13998229801654816, 0.1397152841091156, 0.13975904881954193, 0.13975262641906738, 0.13964296877384186, 0.13964271545410156, 0.13959971070289612, 0.13943137228488922, 0.13943269848823547, 0.13947761058807373, 0.13940328359603882, 0.13933372497558594, 0.13937914371490479, 0.13928593695163727, 0.13915883004665375, 0.13935719430446625, 0.1390049159526825, 0.13916383683681488, 0.13902780413627625, 0.13903382420539856, 0.13896521925926208, 0.13891631364822388, 0.13900695741176605, 0.13898825645446777, 0.13878966867923737, 0.13898444175720215, 0.13883677124977112, 0.13889667391777039, 0.13872626423835754, 0.13864144682884216, 0.13871806859970093, 0.13866454362869263], 'val_loss': [0.1528313308954239, 0.15765371918678284, 0.14516636729240417, 0.142850860953331, 0.14140626788139343, 0.1430235207080841, 0.1405588686466217, 0.14157840609550476, 0.14162875711917877, 0.14122427999973297, 0.13900889456272125, 0.14102695882320404, 0.14037522673606873, 0.13783229887485504, 0.13928207755088806, 0.1442754864692688, 0.14367850124835968, 0.13884557783603668, 0.1370037943124771, 0.1441359966993332, 0.1427786648273468, 0.13912604749202728, 0.13794943690299988, 0.1388586312532425, 0.13840818405151367, 0.13927298784255981, 0.13884571194648743, 0.13907162845134735, 0.1413028985261917, 0.13912993669509888, 0.1396813839673996, 0.14188441634178162, 0.1401650309562683, 0.13908463716506958, 0.13880477845668793, 0.13921187818050385, 0.1397140622138977, 0.13808424770832062, 0.13908235728740692, 0.14236584305763245, 0.13926343619823456, 0.13839688897132874, 0.1394248753786087, 0.13823115825653076, 0.14318178594112396, 0.13771086931228638, 0.1396593600511551, 0.14022016525268555, 0.13763780891895294, 0.14484699070453644]}\n"
          ],
          "name": "stdout"
        },
        {
          "output_type": "execute_result",
          "data": {
            "text/plain": [
              "[<keras.callbacks.History at 0x7fbab75f4790>,\n",
              " <keras.callbacks.History at 0x7fbac01de550>]"
            ]
          },
          "metadata": {
            "tags": []
          },
          "execution_count": 330
        }
      ]
    },
    {
      "cell_type": "code",
      "metadata": {
        "colab": {
          "base_uri": "https://localhost:8080/"
        },
        "id": "GnDEORZmRH_S",
        "outputId": "58e29e60-1fe7-4d34-aed4-de301f03ad2a"
      },
      "source": [
        "sa.finetune_history.history['loss']"
      ],
      "execution_count": null,
      "outputs": [
        {
          "output_type": "execute_result",
          "data": {
            "text/plain": [
              "[0.15553033351898193,\n",
              " 0.1483418345451355,\n",
              " 0.14606934785842896,\n",
              " 0.14342857897281647,\n",
              " 0.14234405755996704,\n",
              " 0.14169587194919586,\n",
              " 0.14141224324703217,\n",
              " 0.14102080464363098,\n",
              " 0.140832781791687,\n",
              " 0.14061985909938812,\n",
              " 0.1405462622642517,\n",
              " 0.1405026763677597,\n",
              " 0.14015135169029236,\n",
              " 0.14040972292423248,\n",
              " 0.1400858759880066,\n",
              " 0.14020772278308868,\n",
              " 0.13996484875679016,\n",
              " 0.13992029428482056,\n",
              " 0.13998229801654816,\n",
              " 0.1397152841091156,\n",
              " 0.13975904881954193,\n",
              " 0.13975262641906738,\n",
              " 0.13964296877384186,\n",
              " 0.13964271545410156,\n",
              " 0.13959971070289612,\n",
              " 0.13943137228488922,\n",
              " 0.13943269848823547,\n",
              " 0.13947761058807373,\n",
              " 0.13940328359603882,\n",
              " 0.13933372497558594,\n",
              " 0.13937914371490479,\n",
              " 0.13928593695163727,\n",
              " 0.13915883004665375,\n",
              " 0.13935719430446625,\n",
              " 0.1390049159526825,\n",
              " 0.13916383683681488,\n",
              " 0.13902780413627625,\n",
              " 0.13903382420539856,\n",
              " 0.13896521925926208,\n",
              " 0.13891631364822388,\n",
              " 0.13900695741176605,\n",
              " 0.13898825645446777,\n",
              " 0.13878966867923737,\n",
              " 0.13898444175720215,\n",
              " 0.13883677124977112,\n",
              " 0.13889667391777039,\n",
              " 0.13872626423835754,\n",
              " 0.13864144682884216,\n",
              " 0.13871806859970093,\n",
              " 0.13866454362869263]"
            ]
          },
          "metadata": {
            "tags": []
          },
          "execution_count": 331
        }
      ]
    },
    {
      "cell_type": "code",
      "metadata": {
        "colab": {
          "base_uri": "https://localhost:8080/"
        },
        "id": "0K5FSrMITk8P",
        "outputId": "26393d56-9307-4de3-dc5d-d43b4451e376"
      },
      "source": [
        "text_embeddings = np.asarray(text_embeddings)\n",
        "embs = sa.decode(sa.encode(text_embeddings))\n",
        "    \n",
        "print(mse(text_embeddings, embs))\n",
        "print(mape(text_embeddings, embs))\n",
        "print(r2_score(text_embeddings, embs))\n",
        "print()"
      ],
      "execution_count": null,
      "outputs": [
        {
          "output_type": "stream",
          "text": [
            "0.13016985\n",
            "0.76163\n",
            "0.9709440745297724\n",
            "\n"
          ],
          "name": "stdout"
        }
      ]
    },
    {
      "cell_type": "code",
      "metadata": {
        "colab": {
          "base_uri": "https://localhost:8080/"
        },
        "id": "o2nJMvqEUZik",
        "outputId": "6ac0e0a2-32bd-4118-d613-fbd6ac5fa4dd"
      },
      "source": [
        "autoencoders2 = []\n",
        "\n",
        "for dims in [\n",
        "    [128, 64],\n",
        "    [128, 90, 64],\n",
        "    [128, 90, 75, 64]\n",
        "]:\n",
        "    autoencoder = init_autoencoder(dims, 'LeakyReLU')\n",
        "    autoencoder.fit(train_sampled_embeds, train_sampled_embeds, epochs=40, batch_size=32, verbose=True, shuffle=True)\n",
        "    autoencoders2.append(autoencoder)"
      ],
      "execution_count": null,
      "outputs": [
        {
          "output_type": "stream",
          "text": [
            "Epoch 1/40\n",
            "3049/3049 [==============================] - 4s 1ms/step - loss: 2.2225\n",
            "Epoch 2/40\n",
            "3049/3049 [==============================] - 4s 1ms/step - loss: 0.1794\n",
            "Epoch 3/40\n",
            "3049/3049 [==============================] - 4s 1ms/step - loss: 0.1537\n",
            "Epoch 4/40\n",
            "3049/3049 [==============================] - 4s 1ms/step - loss: 0.1497\n",
            "Epoch 5/40\n",
            "3049/3049 [==============================] - 4s 1ms/step - loss: 0.1495\n",
            "Epoch 6/40\n",
            "3049/3049 [==============================] - 4s 1ms/step - loss: 0.1485\n",
            "Epoch 7/40\n",
            "3049/3049 [==============================] - 4s 1ms/step - loss: 0.1477\n",
            "Epoch 8/40\n",
            "3049/3049 [==============================] - 4s 1ms/step - loss: 0.1469\n",
            "Epoch 9/40\n",
            "3049/3049 [==============================] - 4s 1ms/step - loss: 0.1477\n",
            "Epoch 10/40\n",
            "3049/3049 [==============================] - 4s 1ms/step - loss: 0.1470\n",
            "Epoch 11/40\n",
            "3049/3049 [==============================] - 4s 1ms/step - loss: 0.1476\n",
            "Epoch 12/40\n",
            "3049/3049 [==============================] - 4s 1ms/step - loss: 0.1466\n",
            "Epoch 13/40\n",
            "3049/3049 [==============================] - 4s 1ms/step - loss: 0.1464\n",
            "Epoch 14/40\n",
            "3049/3049 [==============================] - 4s 1ms/step - loss: 0.1467\n",
            "Epoch 15/40\n",
            "3049/3049 [==============================] - 4s 1ms/step - loss: 0.1470\n",
            "Epoch 16/40\n",
            "3049/3049 [==============================] - 4s 1ms/step - loss: 0.1457\n",
            "Epoch 17/40\n",
            "3049/3049 [==============================] - 4s 1ms/step - loss: 0.1453\n",
            "Epoch 18/40\n",
            "3049/3049 [==============================] - 4s 1ms/step - loss: 0.1463\n",
            "Epoch 19/40\n",
            "3049/3049 [==============================] - 4s 1ms/step - loss: 0.1458\n",
            "Epoch 20/40\n",
            "3049/3049 [==============================] - 4s 1ms/step - loss: 0.1455\n",
            "Epoch 21/40\n",
            "3049/3049 [==============================] - 4s 1ms/step - loss: 0.1467\n",
            "Epoch 22/40\n",
            "3049/3049 [==============================] - 4s 1ms/step - loss: 0.1460\n",
            "Epoch 23/40\n",
            "3049/3049 [==============================] - 4s 1ms/step - loss: 0.1462\n",
            "Epoch 24/40\n",
            "3049/3049 [==============================] - 4s 1ms/step - loss: 0.1461\n",
            "Epoch 25/40\n",
            "3049/3049 [==============================] - 4s 1ms/step - loss: 0.1447\n",
            "Epoch 26/40\n",
            "3049/3049 [==============================] - 4s 1ms/step - loss: 0.1440\n",
            "Epoch 27/40\n",
            "3049/3049 [==============================] - 4s 1ms/step - loss: 0.1447\n",
            "Epoch 28/40\n",
            "3049/3049 [==============================] - 4s 1ms/step - loss: 0.1445\n",
            "Epoch 29/40\n",
            "3049/3049 [==============================] - 4s 1ms/step - loss: 0.1438\n",
            "Epoch 30/40\n",
            "3049/3049 [==============================] - 4s 1ms/step - loss: 0.1442\n",
            "Epoch 31/40\n",
            "3049/3049 [==============================] - 4s 1ms/step - loss: 0.1436\n",
            "Epoch 32/40\n",
            "3049/3049 [==============================] - 4s 1ms/step - loss: 0.1442\n",
            "Epoch 33/40\n",
            "3049/3049 [==============================] - 4s 1ms/step - loss: 0.1433\n",
            "Epoch 34/40\n",
            "3049/3049 [==============================] - 4s 1ms/step - loss: 0.1434\n",
            "Epoch 35/40\n",
            "3049/3049 [==============================] - 4s 1ms/step - loss: 0.1436\n",
            "Epoch 36/40\n",
            "3049/3049 [==============================] - 4s 1ms/step - loss: 0.1442\n",
            "Epoch 37/40\n",
            "3049/3049 [==============================] - 4s 1ms/step - loss: 0.1436\n",
            "Epoch 38/40\n",
            "3049/3049 [==============================] - 4s 1ms/step - loss: 0.1432\n",
            "Epoch 39/40\n",
            "3049/3049 [==============================] - 4s 1ms/step - loss: 0.1428\n",
            "Epoch 40/40\n",
            "3049/3049 [==============================] - 4s 1ms/step - loss: 0.1442\n",
            "Epoch 1/40\n",
            "3049/3049 [==============================] - 6s 2ms/step - loss: 1.8563\n",
            "Epoch 2/40\n",
            "3049/3049 [==============================] - 5s 2ms/step - loss: 0.2401\n",
            "Epoch 3/40\n",
            "3049/3049 [==============================] - 5s 2ms/step - loss: 0.1633\n",
            "Epoch 4/40\n",
            "3049/3049 [==============================] - 5s 2ms/step - loss: 0.1382\n",
            "Epoch 5/40\n",
            "3049/3049 [==============================] - 5s 2ms/step - loss: 0.1293\n",
            "Epoch 6/40\n",
            "3049/3049 [==============================] - 5s 2ms/step - loss: 0.1247\n",
            "Epoch 7/40\n",
            "3049/3049 [==============================] - 5s 2ms/step - loss: 0.1212\n",
            "Epoch 8/40\n",
            "3049/3049 [==============================] - 5s 2ms/step - loss: 0.1174\n",
            "Epoch 9/40\n",
            "3049/3049 [==============================] - 5s 2ms/step - loss: 0.1148\n",
            "Epoch 10/40\n",
            "3049/3049 [==============================] - 5s 2ms/step - loss: 0.1132\n",
            "Epoch 11/40\n",
            "3049/3049 [==============================] - 5s 2ms/step - loss: 0.1112\n",
            "Epoch 12/40\n",
            "3049/3049 [==============================] - 5s 2ms/step - loss: 0.1094\n",
            "Epoch 13/40\n",
            "3049/3049 [==============================] - 5s 2ms/step - loss: 0.1080\n",
            "Epoch 14/40\n",
            "3049/3049 [==============================] - 5s 2ms/step - loss: 0.1068\n",
            "Epoch 15/40\n",
            "3049/3049 [==============================] - 5s 2ms/step - loss: 0.1051\n",
            "Epoch 16/40\n",
            "3049/3049 [==============================] - 5s 2ms/step - loss: 0.1042\n",
            "Epoch 17/40\n",
            "3049/3049 [==============================] - 5s 2ms/step - loss: 0.1030\n",
            "Epoch 18/40\n",
            "3049/3049 [==============================] - 5s 2ms/step - loss: 0.1016\n",
            "Epoch 19/40\n",
            "3049/3049 [==============================] - 5s 2ms/step - loss: 0.1012\n",
            "Epoch 20/40\n",
            "3049/3049 [==============================] - 5s 2ms/step - loss: 0.1004\n",
            "Epoch 21/40\n",
            "3049/3049 [==============================] - 5s 2ms/step - loss: 0.0996\n",
            "Epoch 22/40\n",
            "3049/3049 [==============================] - 5s 2ms/step - loss: 0.0988\n",
            "Epoch 23/40\n",
            "3049/3049 [==============================] - 5s 2ms/step - loss: 0.0981\n",
            "Epoch 24/40\n",
            "3049/3049 [==============================] - 5s 2ms/step - loss: 0.0975\n",
            "Epoch 25/40\n",
            "3049/3049 [==============================] - 5s 2ms/step - loss: 0.0965\n",
            "Epoch 26/40\n",
            "3049/3049 [==============================] - 5s 2ms/step - loss: 0.0963\n",
            "Epoch 27/40\n",
            "3049/3049 [==============================] - 5s 2ms/step - loss: 0.0954\n",
            "Epoch 28/40\n",
            "3049/3049 [==============================] - 5s 2ms/step - loss: 0.0959\n",
            "Epoch 29/40\n",
            "3049/3049 [==============================] - 5s 2ms/step - loss: 0.0954\n",
            "Epoch 30/40\n",
            "3049/3049 [==============================] - 5s 2ms/step - loss: 0.0949\n",
            "Epoch 31/40\n",
            "3049/3049 [==============================] - 5s 2ms/step - loss: 0.0940\n",
            "Epoch 32/40\n",
            "3049/3049 [==============================] - 5s 2ms/step - loss: 0.0943\n",
            "Epoch 33/40\n",
            "3049/3049 [==============================] - 5s 2ms/step - loss: 0.0937\n",
            "Epoch 34/40\n",
            "3049/3049 [==============================] - 5s 2ms/step - loss: 0.0933\n",
            "Epoch 35/40\n",
            "3049/3049 [==============================] - 5s 2ms/step - loss: 0.0931\n",
            "Epoch 36/40\n",
            "3049/3049 [==============================] - 5s 2ms/step - loss: 0.0929\n",
            "Epoch 37/40\n",
            "3049/3049 [==============================] - 5s 2ms/step - loss: 0.0925\n",
            "Epoch 38/40\n",
            "3049/3049 [==============================] - 5s 2ms/step - loss: 0.0923\n",
            "Epoch 39/40\n",
            "3049/3049 [==============================] - 5s 2ms/step - loss: 0.0919\n",
            "Epoch 40/40\n",
            "3049/3049 [==============================] - 5s 2ms/step - loss: 0.0923\n",
            "Epoch 1/40\n",
            "3049/3049 [==============================] - 7s 2ms/step - loss: 2.0491\n",
            "Epoch 2/40\n",
            "3049/3049 [==============================] - 6s 2ms/step - loss: 0.4559\n",
            "Epoch 3/40\n",
            "3049/3049 [==============================] - 6s 2ms/step - loss: 0.3310\n",
            "Epoch 4/40\n",
            "3049/3049 [==============================] - 6s 2ms/step - loss: 0.2684\n",
            "Epoch 5/40\n",
            "3049/3049 [==============================] - 6s 2ms/step - loss: 0.2379\n",
            "Epoch 6/40\n",
            "3049/3049 [==============================] - 6s 2ms/step - loss: 0.2091\n",
            "Epoch 7/40\n",
            "3049/3049 [==============================] - 6s 2ms/step - loss: 0.1882\n",
            "Epoch 8/40\n",
            "3049/3049 [==============================] - 6s 2ms/step - loss: 0.1756\n",
            "Epoch 9/40\n",
            "3049/3049 [==============================] - 6s 2ms/step - loss: 0.1669\n",
            "Epoch 10/40\n",
            "3049/3049 [==============================] - 6s 2ms/step - loss: 0.1580\n",
            "Epoch 11/40\n",
            "3049/3049 [==============================] - 6s 2ms/step - loss: 0.1525\n",
            "Epoch 12/40\n",
            "3049/3049 [==============================] - 6s 2ms/step - loss: 0.1474\n",
            "Epoch 13/40\n",
            "3049/3049 [==============================] - 6s 2ms/step - loss: 0.1440\n",
            "Epoch 14/40\n",
            "3049/3049 [==============================] - 6s 2ms/step - loss: 0.1390\n",
            "Epoch 15/40\n",
            "3049/3049 [==============================] - 6s 2ms/step - loss: 0.1333\n",
            "Epoch 16/40\n",
            "3049/3049 [==============================] - 6s 2ms/step - loss: 0.1270\n",
            "Epoch 17/40\n",
            "3049/3049 [==============================] - 6s 2ms/step - loss: 0.1236\n",
            "Epoch 18/40\n",
            "3049/3049 [==============================] - 6s 2ms/step - loss: 0.1188\n",
            "Epoch 19/40\n",
            "3049/3049 [==============================] - 6s 2ms/step - loss: 0.1178\n",
            "Epoch 20/40\n",
            "3049/3049 [==============================] - 6s 2ms/step - loss: 0.1138\n",
            "Epoch 21/40\n",
            "3049/3049 [==============================] - 6s 2ms/step - loss: 0.1096\n",
            "Epoch 22/40\n",
            "3049/3049 [==============================] - 6s 2ms/step - loss: 0.1088\n",
            "Epoch 23/40\n",
            "3049/3049 [==============================] - 6s 2ms/step - loss: 0.1070\n",
            "Epoch 24/40\n",
            "3049/3049 [==============================] - 6s 2ms/step - loss: 0.1050\n",
            "Epoch 25/40\n",
            "3049/3049 [==============================] - 6s 2ms/step - loss: 0.1032\n",
            "Epoch 26/40\n",
            "3049/3049 [==============================] - 6s 2ms/step - loss: 0.1020\n",
            "Epoch 27/40\n",
            "3049/3049 [==============================] - 6s 2ms/step - loss: 0.0997\n",
            "Epoch 28/40\n",
            "3049/3049 [==============================] - 6s 2ms/step - loss: 0.0991\n",
            "Epoch 29/40\n",
            "3049/3049 [==============================] - 6s 2ms/step - loss: 0.0967\n",
            "Epoch 30/40\n",
            "3049/3049 [==============================] - 6s 2ms/step - loss: 0.0966\n",
            "Epoch 31/40\n",
            "3049/3049 [==============================] - 6s 2ms/step - loss: 0.0946\n",
            "Epoch 32/40\n",
            "3049/3049 [==============================] - 6s 2ms/step - loss: 0.0940\n",
            "Epoch 33/40\n",
            "3049/3049 [==============================] - 6s 2ms/step - loss: 0.0942\n",
            "Epoch 34/40\n",
            "3049/3049 [==============================] - 6s 2ms/step - loss: 0.0941\n",
            "Epoch 35/40\n",
            "3049/3049 [==============================] - 6s 2ms/step - loss: 0.0932\n",
            "Epoch 36/40\n",
            "3049/3049 [==============================] - 6s 2ms/step - loss: 0.0925\n",
            "Epoch 37/40\n",
            "3049/3049 [==============================] - 6s 2ms/step - loss: 0.0916\n",
            "Epoch 38/40\n",
            "3049/3049 [==============================] - 6s 2ms/step - loss: 0.0907\n",
            "Epoch 39/40\n",
            "3049/3049 [==============================] - 6s 2ms/step - loss: 0.0911\n",
            "Epoch 40/40\n",
            "3049/3049 [==============================] - 6s 2ms/step - loss: 0.0907\n"
          ],
          "name": "stdout"
        }
      ]
    },
    {
      "cell_type": "code",
      "metadata": {
        "colab": {
          "base_uri": "https://localhost:8080/"
        },
        "id": "AMJxNOE9Z8z3",
        "outputId": "d8308176-0821-456f-d9e3-244108ea6729"
      },
      "source": [
        "text_embeddings = np.asarray(text_embeddings)\n",
        "for autoencoder in autoencoders2:\n",
        "    embs = autoencoder(text_embeddings)\n",
        "    print(mse(text_embeddings, embs))\n",
        "    print(mape(text_embeddings, embs))\n",
        "    print(r2_score(text_embeddings, embs))\n",
        "    print()"
      ],
      "execution_count": null,
      "outputs": [
        {
          "output_type": "stream",
          "text": [
            "0.12836432\n",
            "0.64156926\n",
            "0.970939035363211\n",
            "\n",
            "0.08077367\n",
            "0.58321095\n",
            "0.9817592012097383\n",
            "\n",
            "0.07960732\n",
            "0.4548959\n",
            "0.9822737493016518\n",
            "\n"
          ],
          "name": "stdout"
        }
      ]
    },
    {
      "cell_type": "code",
      "metadata": {
        "colab": {
          "base_uri": "https://localhost:8080/"
        },
        "id": "3o_Mt1nsXd2b",
        "outputId": "a69139f3-1118-4bac-d860-10ca0dc8054f"
      },
      "source": [
        "sae2 = StackedAutoencoder([128, 90, 75, 64], activation='LeakyReLU')\n",
        "sae2.fit(train_sampled_embeds, val_sampled_embeds, verbose=True, epochs=40)"
      ],
      "execution_count": null,
      "outputs": [
        {
          "output_type": "stream",
          "text": [
            "\n",
            "StackAutoencoder: fitting 3 autoencoders with dimensions [128, 90, 75, 64]\n"
          ],
          "name": "stdout"
        },
        {
          "output_type": "stream",
          "text": [
            "\tfitting autoencoder number 0 with dimensions (128, 90)\n"
          ],
          "name": "stderr"
        },
        {
          "output_type": "stream",
          "text": [
            "StackedAutoencoder: autoencoder 0 - model history\n",
            "{'loss': [0.6345161199569702, 0.05888711288571358, 0.03921108320355415, 0.035018835216760635, 0.03371188044548035, 0.03296903148293495, 0.03263677656650543, 0.03234387934207916, 0.03214835003018379, 0.032280974090099335, 0.03195439651608467, 0.03190453723073006, 0.03169883415102959], 'val_loss': [0.08659002929925919, 0.043954841792583466, 0.03746893256902695, 0.03447553887963295, 0.03453933075070381, 0.03304985165596008, 0.031748656183481216, 0.031223798170685768, 0.03174027428030968, 0.031433913856744766, 0.03189661726355553, 0.030723579227924347, 0.03253541141748428]}\n"
          ],
          "name": "stdout"
        },
        {
          "output_type": "stream",
          "text": [
            "\tfitting autoencoder number 1 with dimensions (90, 75)\n"
          ],
          "name": "stderr"
        },
        {
          "output_type": "stream",
          "text": [
            "StackedAutoencoder: autoencoder 1 - model history\n",
            "{'loss': [0.5854238271713257, 0.059243593364953995, 0.04069654271006584, 0.037942271679639816, 0.03705883398652077, 0.03669488802552223, 0.036533862352371216, 0.036405354738235474, 0.03629959002137184, 0.03618583828210831, 0.03613787889480591, 0.03596608713269234, 0.03592526540160179], 'val_loss': [0.09584683179855347, 0.04379307106137276, 0.0381694994866848, 0.037655528634786606, 0.03710173815488815, 0.03654732182621956, 0.035749662667512894, 0.03506165370345116, 0.036199867725372314, 0.03505988419055939, 0.03575155884027481, 0.035841573029756546, 0.03604986146092415]}\n"
          ],
          "name": "stdout"
        },
        {
          "output_type": "stream",
          "text": [
            "\tfitting autoencoder number 2 with dimensions (75, 64)\n"
          ],
          "name": "stderr"
        },
        {
          "output_type": "stream",
          "text": [
            "StackedAutoencoder: autoencoder 2 - model history\n",
            "{'loss': [0.2947773337364197, 0.0348731093108654, 0.026956694200634956, 0.025863368064165115, 0.025505416095256805, 0.025303201749920845, 0.025202220305800438, 0.025076111778616905, 0.02490535005927086, 0.024710336700081825, 0.024504639208316803, 0.024270083755254745, 0.023955082520842552], 'val_loss': [0.05187302082777023, 0.028351226821541786, 0.02609407715499401, 0.026209335774183273, 0.025880662724375725, 0.025120289996266365, 0.024994991719722748, 0.02494095265865326, 0.024737879633903503, 0.024899620562791824, 0.02401641011238098, 0.023840351030230522, 0.0238190945237875]}\n",
            "StackedAutoencoder: fine-tuning...\n",
            "StackedAutoencoder: fine-tuning history model history\n",
            "{'loss': [0.15962263941764832, 0.14714846014976501, 0.14626260101795197, 0.1454276591539383, 0.14483818411827087, 0.14474967122077942, 0.1440727710723877, 0.1439313143491745, 0.143743634223938, 0.1436990350484848, 0.14329084753990173, 0.1432003527879715, 0.14295664429664612, 0.1430707722902298, 0.142761692404747, 0.14277862012386322, 0.14251486957073212, 0.14259962737560272, 0.14227133989334106, 0.14243318140506744, 0.14221929013729095, 0.14226597547531128, 0.14216729998588562, 0.14213663339614868, 0.1418783962726593, 0.1420290768146515, 0.14182288944721222, 0.14194506406784058, 0.14172682166099548, 0.14175188541412354, 0.1414974480867386, 0.1417195200920105, 0.14145639538764954, 0.14153552055358887, 0.1413818746805191, 0.14175710082054138, 0.141158789396286, 0.1416979879140854, 0.14126388728618622, 0.14121587574481964], 'val_loss': [0.1481335312128067, 0.14421992003917694, 0.1457916647195816, 0.14423592388629913, 0.14519941806793213, 0.14328037202358246, 0.1433139145374298, 0.15661495923995972, 0.143007293343544, 0.14521336555480957, 0.14409027993679047, 0.14133940637111664, 0.14349998533725739, 0.1416681557893753, 0.15105892717838287, 0.14533521234989166, 0.14206407964229584, 0.14710529148578644, 0.1400758922100067, 0.15098120272159576, 0.14047087728977203, 0.14235562086105347, 0.14778444170951843, 0.1415088027715683, 0.13989639282226562, 0.1467871218919754, 0.14443795382976532, 0.14253616333007812, 0.1407153308391571, 0.14114005863666534, 0.1441044956445694, 0.14210696518421173, 0.1426464468240738, 0.13874636590480804, 0.14143402874469757, 0.1451730579137802, 0.14090454578399658, 0.14106400310993195, 0.14478854835033417, 0.14607490599155426]}\n"
          ],
          "name": "stdout"
        },
        {
          "output_type": "execute_result",
          "data": {
            "text/plain": [
              "[<keras.callbacks.History at 0x7fbabe7df510>,\n",
              " <keras.callbacks.History at 0x7fbabe695650>,\n",
              " <keras.callbacks.History at 0x7fbabe59ad50>]"
            ]
          },
          "metadata": {
            "tags": []
          },
          "execution_count": 338
        }
      ]
    },
    {
      "cell_type": "code",
      "metadata": {
        "colab": {
          "base_uri": "https://localhost:8080/"
        },
        "id": "JgcJPRPVZmoz",
        "outputId": "fa88357c-d570-4eca-c7b2-feb4eb510039"
      },
      "source": [
        "text_embeddings = np.asarray(text_embeddings)\n",
        "embs = sae2.decode(sae2.encode(text_embeddings))\n",
        "    \n",
        "print(mse(text_embeddings, embs))\n",
        "print(mape(text_embeddings, embs))\n",
        "print(r2_score(text_embeddings, embs))\n",
        "print()"
      ],
      "execution_count": null,
      "outputs": [
        {
          "output_type": "stream",
          "text": [
            "0.13126431\n",
            "0.8749095\n",
            "0.970527982399806\n",
            "\n"
          ],
          "name": "stdout"
        }
      ]
    },
    {
      "cell_type": "code",
      "metadata": {
        "colab": {
          "base_uri": "https://localhost:8080/"
        },
        "id": "e8PmAR-ga0HP",
        "outputId": "990776dd-a44b-4071-b314-b1b47c21e94e"
      },
      "source": [
        "# baseline\n",
        "\n",
        "from sklearn.decomposition import PCA\n",
        "\n",
        "pca = PCA(64)\n",
        "pca.fit(train_sampled_embeds)\n",
        "embs = pca.transform(text_embeddings)\n",
        "embs = pca.inverse_transform(embs)\n",
        "    \n",
        "print(mse(text_embeddings, embs))\n",
        "print(mape(text_embeddings, embs))\n",
        "print(r2_score(text_embeddings, embs))\n",
        "print()"
      ],
      "execution_count": null,
      "outputs": [
        {
          "output_type": "stream",
          "text": [
            "0.11956128\n",
            "0.76768345\n",
            "0.9730446271769997\n",
            "\n"
          ],
          "name": "stdout"
        }
      ]
    },
    {
      "cell_type": "code",
      "metadata": {
        "colab": {
          "base_uri": "https://localhost:8080/"
        },
        "id": "DK-2TlJpbN-W",
        "outputId": "adf7a409-cdc8-4d4b-bb10-6124c29e4d0d"
      },
      "source": [
        "autoencoders2[-1].save('drive/MyDrive/Coursework2021/ae_bert_uncontext64.mdl')  "
      ],
      "execution_count": null,
      "outputs": [
        {
          "output_type": "stream",
          "text": [
            "WARNING:absl:Found untraced functions such as leaky_re_lu_83_layer_call_fn, leaky_re_lu_83_layer_call_and_return_conditional_losses, leaky_re_lu_84_layer_call_fn, leaky_re_lu_84_layer_call_and_return_conditional_losses, leaky_re_lu_85_layer_call_fn while saving (showing 5 of 25). These functions will not be directly callable after loading.\n"
          ],
          "name": "stderr"
        },
        {
          "output_type": "stream",
          "text": [
            "INFO:tensorflow:Assets written to: drive/MyDrive/Coursework2021/ae_bert_uncontext64.mdl/assets\n"
          ],
          "name": "stdout"
        },
        {
          "output_type": "stream",
          "text": [
            "INFO:tensorflow:Assets written to: drive/MyDrive/Coursework2021/ae_bert_uncontext64.mdl/assets\n"
          ],
          "name": "stderr"
        }
      ]
    },
    {
      "cell_type": "code",
      "metadata": {
        "id": "eJcrlyjObc0_"
      },
      "source": [
        "all_embeddings64 = autoencoders2[-1](all_embeddings)"
      ],
      "execution_count": null,
      "outputs": []
    },
    {
      "cell_type": "code",
      "metadata": {
        "id": "25iUERNYcULe"
      },
      "source": [
        "np.save('drive/MyDrive/Coursework2021/bert_uncased_L-12_H-128_A-2_vocab_embeddings64.npy', all_embeddings64.numpy())"
      ],
      "execution_count": null,
      "outputs": []
    },
    {
      "cell_type": "code",
      "metadata": {
        "colab": {
          "base_uri": "https://localhost:8080/"
        },
        "id": "I18mRpHQcr_w",
        "outputId": "ab9b847a-5409-4290-aba7-8dcf915fbf11"
      },
      "source": [
        "autoencoder32 = init_autoencoder(dims=[128, 80, 64, 48, 32], activation='LeakyReLU')\n",
        "autoencoder32.fit(train_sampled_embeds, train_sampled_embeds, epochs=40, batch_size=32, verbose=True, shuffle=True)\n",
        "np.save('drive/MyDrive/Coursework2021/bert_uncased_L-12_H-128_A-2_vocab_embeddings32.npy', all_embeddings32.numpy())"
      ],
      "execution_count": null,
      "outputs": [
        {
          "output_type": "stream",
          "text": [
            "Epoch 1/40\n",
            "3049/3049 [==============================] - 7s 2ms/step - loss: 2.4834\n",
            "Epoch 2/40\n",
            "3049/3049 [==============================] - 6s 2ms/step - loss: 0.9141\n",
            "Epoch 3/40\n",
            "3049/3049 [==============================] - 6s 2ms/step - loss: 0.7556\n",
            "Epoch 4/40\n",
            "3049/3049 [==============================] - 6s 2ms/step - loss: 0.6642\n",
            "Epoch 5/40\n",
            "3049/3049 [==============================] - 6s 2ms/step - loss: 0.6132\n",
            "Epoch 6/40\n",
            "3049/3049 [==============================] - 6s 2ms/step - loss: 0.5873\n",
            "Epoch 7/40\n",
            "3049/3049 [==============================] - 6s 2ms/step - loss: 0.5566\n",
            "Epoch 8/40\n",
            "3049/3049 [==============================] - 7s 2ms/step - loss: 0.5391\n",
            "Epoch 9/40\n",
            "3049/3049 [==============================] - 6s 2ms/step - loss: 0.5296\n",
            "Epoch 10/40\n",
            "3049/3049 [==============================] - 6s 2ms/step - loss: 0.5200\n",
            "Epoch 11/40\n",
            "3049/3049 [==============================] - 6s 2ms/step - loss: 0.5081\n",
            "Epoch 12/40\n",
            "3049/3049 [==============================] - 6s 2ms/step - loss: 0.4933\n",
            "Epoch 13/40\n",
            "3049/3049 [==============================] - 6s 2ms/step - loss: 0.4877\n",
            "Epoch 14/40\n",
            "3049/3049 [==============================] - 6s 2ms/step - loss: 0.4830\n",
            "Epoch 15/40\n",
            "3049/3049 [==============================] - 6s 2ms/step - loss: 0.4762\n",
            "Epoch 16/40\n",
            "3049/3049 [==============================] - 6s 2ms/step - loss: 0.4707\n",
            "Epoch 17/40\n",
            "3049/3049 [==============================] - 6s 2ms/step - loss: 0.4690\n",
            "Epoch 18/40\n",
            "3049/3049 [==============================] - 6s 2ms/step - loss: 0.4606\n",
            "Epoch 19/40\n",
            "3049/3049 [==============================] - 6s 2ms/step - loss: 0.4612\n",
            "Epoch 20/40\n",
            "3049/3049 [==============================] - 6s 2ms/step - loss: 0.4574\n",
            "Epoch 21/40\n",
            "3049/3049 [==============================] - 6s 2ms/step - loss: 0.4522\n",
            "Epoch 22/40\n",
            "3049/3049 [==============================] - 6s 2ms/step - loss: 0.4472\n",
            "Epoch 23/40\n",
            "3049/3049 [==============================] - 6s 2ms/step - loss: 0.4438\n",
            "Epoch 24/40\n",
            "3049/3049 [==============================] - 6s 2ms/step - loss: 0.4404\n",
            "Epoch 25/40\n",
            "3049/3049 [==============================] - 6s 2ms/step - loss: 0.4370\n",
            "Epoch 26/40\n",
            "3049/3049 [==============================] - 6s 2ms/step - loss: 0.4333\n",
            "Epoch 27/40\n",
            "3049/3049 [==============================] - 6s 2ms/step - loss: 0.4328\n",
            "Epoch 28/40\n",
            "3049/3049 [==============================] - 6s 2ms/step - loss: 0.4290\n",
            "Epoch 29/40\n",
            "3049/3049 [==============================] - 6s 2ms/step - loss: 0.4280\n",
            "Epoch 30/40\n",
            "3049/3049 [==============================] - 6s 2ms/step - loss: 0.4288\n",
            "Epoch 31/40\n",
            "3049/3049 [==============================] - 6s 2ms/step - loss: 0.4287\n",
            "Epoch 32/40\n",
            "3049/3049 [==============================] - 6s 2ms/step - loss: 0.4277\n",
            "Epoch 33/40\n",
            "3049/3049 [==============================] - 6s 2ms/step - loss: 0.4254\n",
            "Epoch 34/40\n",
            "3049/3049 [==============================] - 6s 2ms/step - loss: 0.4261\n",
            "Epoch 35/40\n",
            "3049/3049 [==============================] - 6s 2ms/step - loss: 0.4226\n",
            "Epoch 36/40\n",
            "3049/3049 [==============================] - 6s 2ms/step - loss: 0.4205\n",
            "Epoch 37/40\n",
            "3049/3049 [==============================] - 6s 2ms/step - loss: 0.4170\n",
            "Epoch 38/40\n",
            "3049/3049 [==============================] - 6s 2ms/step - loss: 0.4177\n",
            "Epoch 39/40\n",
            "3049/3049 [==============================] - 6s 2ms/step - loss: 0.4209\n",
            "Epoch 40/40\n",
            "3049/3049 [==============================] - 6s 2ms/step - loss: 0.4163\n"
          ],
          "name": "stdout"
        }
      ]
    },
    {
      "cell_type": "code",
      "metadata": {
        "id": "xr4rMzoBc1JI"
      },
      "source": [
        "autoencoder32 = autoencoder32(all_embeddings)\n",
        "np.save('drive/MyDrive/Coursework2021/bert_uncased_L-12_H-128_A-2_vocab_embeddings32.npy', all_embeddings32.numpy())"
      ],
      "execution_count": null,
      "outputs": []
    },
    {
      "cell_type": "markdown",
      "metadata": {
        "id": "cE9BOD20pj8H"
      },
      "source": [
        "# Контекстные"
      ]
    },
    {
      "cell_type": "code",
      "metadata": {
        "id": "Bi0cbyNVplvL"
      },
      "source": [
        "train = np.load('drive/MyDrive/Coursework2021/autoencoder/embeddings_128.npy')"
      ],
      "execution_count": null,
      "outputs": []
    },
    {
      "cell_type": "code",
      "metadata": {
        "colab": {
          "base_uri": "https://localhost:8080/"
        },
        "id": "J8RLr9a3qf8w",
        "outputId": "42a85396-2b4f-4327-c446-d2eececc14f3"
      },
      "source": [
        "train.shape"
      ],
      "execution_count": null,
      "outputs": [
        {
          "output_type": "execute_result",
          "data": {
            "text/plain": [
              "(801052, 128)"
            ]
          },
          "metadata": {
            "tags": []
          },
          "execution_count": 368
        }
      ]
    },
    {
      "cell_type": "code",
      "metadata": {
        "colab": {
          "base_uri": "https://localhost:8080/"
        },
        "id": "NQhqAez-qhBR",
        "outputId": "9daa23cf-7a60-40b5-b4ca-f66e006ed10b"
      },
      "source": [
        "aec = init_autoencoder([128, 64], 'LeakyReLU')\n",
        "aec.fit(train[:100000, :], train[:100000, :], validation_split=0.1, batch_size=32, epochs=30, verbose=True)"
      ],
      "execution_count": null,
      "outputs": [
        {
          "output_type": "stream",
          "text": [
            "Epoch 1/30\n",
            "2813/2813 [==============================] - 4s 1ms/step - loss: 5.9626 - val_loss: 2.0097\n",
            "Epoch 2/30\n",
            "2813/2813 [==============================] - 4s 1ms/step - loss: 2.0395 - val_loss: 1.9675\n",
            "Epoch 3/30\n",
            "2813/2813 [==============================] - 4s 1ms/step - loss: 1.9978 - val_loss: 1.9438\n",
            "Epoch 4/30\n",
            "2813/2813 [==============================] - 4s 1ms/step - loss: 1.9904 - val_loss: 1.9446\n",
            "Epoch 5/30\n",
            "2813/2813 [==============================] - 4s 1ms/step - loss: 1.9853 - val_loss: 1.9257\n",
            "Epoch 6/30\n",
            "2813/2813 [==============================] - 4s 1ms/step - loss: 1.9787 - val_loss: 1.9299\n",
            "Epoch 7/30\n",
            "2813/2813 [==============================] - 4s 1ms/step - loss: 1.9683 - val_loss: 1.9241\n",
            "Epoch 8/30\n",
            "2813/2813 [==============================] - 4s 1ms/step - loss: 1.9640 - val_loss: 1.9199\n",
            "Epoch 9/30\n",
            "2813/2813 [==============================] - 4s 1ms/step - loss: 1.9653 - val_loss: 1.9245\n",
            "Epoch 10/30\n",
            "2813/2813 [==============================] - 4s 1ms/step - loss: 1.9616 - val_loss: 1.9170\n",
            "Epoch 11/30\n",
            "2813/2813 [==============================] - 4s 1ms/step - loss: 1.9597 - val_loss: 1.9046\n",
            "Epoch 12/30\n",
            "2813/2813 [==============================] - 4s 1ms/step - loss: 1.9600 - val_loss: 1.9104\n",
            "Epoch 13/30\n",
            "2813/2813 [==============================] - 4s 1ms/step - loss: 1.9517 - val_loss: 1.9169\n",
            "Epoch 14/30\n",
            "2813/2813 [==============================] - 4s 1ms/step - loss: 1.9532 - val_loss: 1.9141\n",
            "Epoch 15/30\n",
            "2813/2813 [==============================] - 4s 1ms/step - loss: 1.9453 - val_loss: 1.8983\n",
            "Epoch 16/30\n",
            "2813/2813 [==============================] - 4s 1ms/step - loss: 1.9454 - val_loss: 1.9002\n",
            "Epoch 17/30\n",
            "2813/2813 [==============================] - 4s 1ms/step - loss: 1.9397 - val_loss: 1.9077\n",
            "Epoch 18/30\n",
            "2813/2813 [==============================] - 4s 1ms/step - loss: 1.9397 - val_loss: 1.9037\n",
            "Epoch 19/30\n",
            "2813/2813 [==============================] - 4s 1ms/step - loss: 1.9388 - val_loss: 1.8882\n",
            "Epoch 20/30\n",
            "2813/2813 [==============================] - 4s 1ms/step - loss: 1.9399 - val_loss: 1.8927\n",
            "Epoch 21/30\n",
            "2813/2813 [==============================] - 4s 1ms/step - loss: 1.9415 - val_loss: 1.9012\n",
            "Epoch 22/30\n",
            "2813/2813 [==============================] - 4s 1ms/step - loss: 1.9343 - val_loss: 1.8826\n",
            "Epoch 23/30\n",
            "2813/2813 [==============================] - 4s 1ms/step - loss: 1.9362 - val_loss: 1.8969\n",
            "Epoch 24/30\n",
            "2813/2813 [==============================] - 4s 1ms/step - loss: 1.9314 - val_loss: 1.8849\n",
            "Epoch 25/30\n",
            "2813/2813 [==============================] - 4s 1ms/step - loss: 1.9287 - val_loss: 1.8805\n",
            "Epoch 26/30\n",
            "2813/2813 [==============================] - 4s 1ms/step - loss: 1.9275 - val_loss: 1.8912\n",
            "Epoch 27/30\n",
            "2813/2813 [==============================] - 4s 1ms/step - loss: 1.9212 - val_loss: 1.8723\n",
            "Epoch 28/30\n",
            "2813/2813 [==============================] - 4s 1ms/step - loss: 1.9249 - val_loss: 1.8819\n",
            "Epoch 29/30\n",
            "2813/2813 [==============================] - 4s 1ms/step - loss: 1.9284 - val_loss: 1.8851\n",
            "Epoch 30/30\n",
            "2813/2813 [==============================] - 4s 1ms/step - loss: 1.9224 - val_loss: 1.8814\n"
          ],
          "name": "stdout"
        },
        {
          "output_type": "execute_result",
          "data": {
            "text/plain": [
              "<keras.callbacks.History at 0x7fbaa85fb290>"
            ]
          },
          "metadata": {
            "tags": []
          },
          "execution_count": 0
        }
      ]
    },
    {
      "cell_type": "code",
      "metadata": {
        "colab": {
          "base_uri": "https://localhost:8080/"
        },
        "id": "nVQQl5dFsvkU",
        "outputId": "bd5ffaea-4fa9-4890-efc9-4dea33306f14"
      },
      "source": [
        "aec2 = init_autoencoder([128, 90, 64], 'LeakyReLU')\n",
        "aec2.fit(train[:100000, :], train[:100000, :], validation_split=0.1, batch_size=32, epochs=30, verbose=True)"
      ],
      "execution_count": null,
      "outputs": [
        {
          "output_type": "stream",
          "text": [
            "Epoch 1/30\n",
            "2813/2813 [==============================] - 177s 2ms/step - loss: 5.7013 - val_loss: 2.1400\n",
            "Epoch 2/30\n",
            "2813/2813 [==============================] - 5s 2ms/step - loss: 2.0996 - val_loss: 1.9880\n",
            "Epoch 3/30\n",
            "2813/2813 [==============================] - 5s 2ms/step - loss: 2.0143 - val_loss: 1.9469\n",
            "Epoch 4/30\n",
            "2813/2813 [==============================] - 5s 2ms/step - loss: 1.9858 - val_loss: 1.9362\n",
            "Epoch 5/30\n",
            "2813/2813 [==============================] - 5s 2ms/step - loss: 1.9699 - val_loss: 1.9352\n",
            "Epoch 6/30\n",
            "2813/2813 [==============================] - 5s 2ms/step - loss: 1.9599 - val_loss: 1.9168\n",
            "Epoch 7/30\n",
            "2813/2813 [==============================] - 5s 2ms/step - loss: 1.9580 - val_loss: 1.9168\n",
            "Epoch 8/30\n",
            "2813/2813 [==============================] - 5s 2ms/step - loss: 1.9519 - val_loss: 1.9262\n",
            "Epoch 9/30\n",
            "2813/2813 [==============================] - 5s 2ms/step - loss: 1.9424 - val_loss: 1.9146\n",
            "Epoch 10/30\n",
            "2813/2813 [==============================] - 5s 2ms/step - loss: 1.9369 - val_loss: 1.8951\n",
            "Epoch 11/30\n",
            "2813/2813 [==============================] - 5s 2ms/step - loss: 1.9293 - val_loss: 1.8775\n",
            "Epoch 12/30\n",
            "2813/2813 [==============================] - 5s 2ms/step - loss: 1.9269 - val_loss: 1.8750\n",
            "Epoch 13/30\n",
            "2813/2813 [==============================] - 5s 2ms/step - loss: 1.9159 - val_loss: 1.8799\n",
            "Epoch 14/30\n",
            "2813/2813 [==============================] - 5s 2ms/step - loss: 1.9108 - val_loss: 1.8551\n",
            "Epoch 15/30\n",
            "2813/2813 [==============================] - 5s 2ms/step - loss: 1.8937 - val_loss: 1.8659\n",
            "Epoch 16/30\n",
            "2813/2813 [==============================] - 5s 2ms/step - loss: 1.8919 - val_loss: 1.8472\n",
            "Epoch 17/30\n",
            "2813/2813 [==============================] - 5s 2ms/step - loss: 1.8833 - val_loss: 1.8549\n",
            "Epoch 18/30\n",
            "2813/2813 [==============================] - 5s 2ms/step - loss: 1.8801 - val_loss: 1.8517\n",
            "Epoch 19/30\n",
            "2813/2813 [==============================] - 5s 2ms/step - loss: 1.8822 - val_loss: 1.8637\n",
            "Epoch 20/30\n",
            "2813/2813 [==============================] - 5s 2ms/step - loss: 1.8781 - val_loss: 1.8530\n",
            "Epoch 21/30\n",
            "2813/2813 [==============================] - 5s 2ms/step - loss: 1.8774 - val_loss: 1.8485\n",
            "Epoch 22/30\n",
            "2813/2813 [==============================] - 5s 2ms/step - loss: 1.8789 - val_loss: 1.8378\n",
            "Epoch 23/30\n",
            "2813/2813 [==============================] - 5s 2ms/step - loss: 1.8773 - val_loss: 1.8529\n",
            "Epoch 24/30\n",
            "2813/2813 [==============================] - 5s 2ms/step - loss: 1.8767 - val_loss: 1.8396\n",
            "Epoch 25/30\n",
            "2813/2813 [==============================] - 5s 2ms/step - loss: 1.8677 - val_loss: 1.8464\n",
            "Epoch 26/30\n",
            "2813/2813 [==============================] - 5s 2ms/step - loss: 1.8761 - val_loss: 1.8302\n",
            "Epoch 27/30\n",
            "2813/2813 [==============================] - 5s 2ms/step - loss: 1.8771 - val_loss: 1.8382\n",
            "Epoch 28/30\n",
            "2813/2813 [==============================] - 5s 2ms/step - loss: 1.8693 - val_loss: 1.8422\n",
            "Epoch 29/30\n",
            "2813/2813 [==============================] - 5s 2ms/step - loss: 1.8739 - val_loss: 1.8448\n",
            "Epoch 30/30\n",
            "2813/2813 [==============================] - 5s 2ms/step - loss: 1.8702 - val_loss: 1.8379\n"
          ],
          "name": "stdout"
        },
        {
          "output_type": "execute_result",
          "data": {
            "text/plain": [
              "<keras.callbacks.History at 0x7fbaa1426f90>"
            ]
          },
          "metadata": {
            "tags": []
          },
          "execution_count": 379
        }
      ]
    },
    {
      "cell_type": "code",
      "metadata": {
        "colab": {
          "base_uri": "https://localhost:8080/"
        },
        "id": "0BaJXNCftnDk",
        "outputId": "34fd83d9-c77e-4e92-c384-fe0dd7451352"
      },
      "source": [
        "aec3 = init_autoencoder([128, 105, 80, 64], 'LeakyReLU')\n",
        "aec3.fit(train[:100000, :], train[:100000, :], validation_split=0.1, batch_size=32, epochs=30, verbose=True)"
      ],
      "execution_count": null,
      "outputs": [
        {
          "output_type": "stream",
          "text": [
            "Epoch 1/30\n",
            "2813/2813 [==============================] - 7s 2ms/step - loss: 6.1045 - val_loss: 2.7771\n",
            "Epoch 2/30\n",
            "2813/2813 [==============================] - 6s 2ms/step - loss: 2.7109 - val_loss: 2.3845\n",
            "Epoch 3/30\n",
            "2813/2813 [==============================] - 6s 2ms/step - loss: 2.3634 - val_loss: 2.1922\n",
            "Epoch 4/30\n",
            "2813/2813 [==============================] - 6s 2ms/step - loss: 2.2266 - val_loss: 2.0995\n",
            "Epoch 5/30\n",
            "2813/2813 [==============================] - 6s 2ms/step - loss: 2.1424 - val_loss: 2.0261\n",
            "Epoch 6/30\n",
            "2813/2813 [==============================] - 6s 2ms/step - loss: 2.0495 - val_loss: 2.0027\n",
            "Epoch 7/30\n",
            "2813/2813 [==============================] - 6s 2ms/step - loss: 2.0096 - val_loss: 1.9445\n",
            "Epoch 8/30\n",
            "2813/2813 [==============================] - 6s 2ms/step - loss: 1.9578 - val_loss: 1.8905\n",
            "Epoch 9/30\n",
            "2813/2813 [==============================] - 6s 2ms/step - loss: 1.9452 - val_loss: 1.8881\n",
            "Epoch 10/30\n",
            "2813/2813 [==============================] - 6s 2ms/step - loss: 1.9257 - val_loss: 1.8709\n",
            "Epoch 11/30\n",
            "2813/2813 [==============================] - 6s 2ms/step - loss: 1.9173 - val_loss: 1.8823\n",
            "Epoch 12/30\n",
            "2813/2813 [==============================] - 6s 2ms/step - loss: 1.8807 - val_loss: 1.8288\n",
            "Epoch 13/30\n",
            "2813/2813 [==============================] - 6s 2ms/step - loss: 1.8462 - val_loss: 1.7973\n",
            "Epoch 14/30\n",
            "2813/2813 [==============================] - 6s 2ms/step - loss: 1.8305 - val_loss: 1.7692\n",
            "Epoch 15/30\n",
            "2813/2813 [==============================] - 6s 2ms/step - loss: 1.8129 - val_loss: 1.7560\n",
            "Epoch 16/30\n",
            "2813/2813 [==============================] - 6s 2ms/step - loss: 1.7998 - val_loss: 1.7621\n",
            "Epoch 17/30\n",
            "2813/2813 [==============================] - 6s 2ms/step - loss: 1.7843 - val_loss: 1.7369\n",
            "Epoch 18/30\n",
            "2813/2813 [==============================] - 6s 2ms/step - loss: 1.7802 - val_loss: 1.7353\n",
            "Epoch 19/30\n",
            "2813/2813 [==============================] - 6s 2ms/step - loss: 1.7706 - val_loss: 1.7386\n",
            "Epoch 20/30\n",
            "2813/2813 [==============================] - 6s 2ms/step - loss: 1.7626 - val_loss: 1.7334\n",
            "Epoch 21/30\n",
            "2813/2813 [==============================] - 6s 2ms/step - loss: 1.7661 - val_loss: 1.6992\n",
            "Epoch 22/30\n",
            "2813/2813 [==============================] - 6s 2ms/step - loss: 1.7581 - val_loss: 1.7059\n",
            "Epoch 23/30\n",
            "2813/2813 [==============================] - 6s 2ms/step - loss: 1.7515 - val_loss: 1.7169\n",
            "Epoch 24/30\n",
            "2813/2813 [==============================] - 6s 2ms/step - loss: 1.7544 - val_loss: 1.7158\n",
            "Epoch 25/30\n",
            "2813/2813 [==============================] - 6s 2ms/step - loss: 1.7420 - val_loss: 1.6955\n",
            "Epoch 26/30\n",
            "2813/2813 [==============================] - 6s 2ms/step - loss: 1.7369 - val_loss: 1.7110\n",
            "Epoch 27/30\n",
            "2813/2813 [==============================] - 6s 2ms/step - loss: 1.7325 - val_loss: 1.7114\n",
            "Epoch 28/30\n",
            "2813/2813 [==============================] - 6s 2ms/step - loss: 1.7333 - val_loss: 1.7030\n",
            "Epoch 29/30\n",
            "2813/2813 [==============================] - 6s 2ms/step - loss: 1.7313 - val_loss: 1.7008\n",
            "Epoch 30/30\n",
            "2813/2813 [==============================] - 6s 2ms/step - loss: 1.7221 - val_loss: 1.6819\n"
          ],
          "name": "stdout"
        },
        {
          "output_type": "execute_result",
          "data": {
            "text/plain": [
              "<keras.callbacks.History at 0x7fbabe1e5a50>"
            ]
          },
          "metadata": {
            "tags": []
          },
          "execution_count": 380
        }
      ]
    },
    {
      "cell_type": "code",
      "metadata": {
        "id": "8S6edCP1wzDJ"
      },
      "source": [
        ""
      ],
      "execution_count": null,
      "outputs": []
    },
    {
      "cell_type": "code",
      "metadata": {
        "colab": {
          "base_uri": "https://localhost:8080/"
        },
        "id": "KNL-6zVwuLQ1",
        "outputId": "09c21bce-a70e-4c1f-aed0-9bb48c820bbb"
      },
      "source": [
        "aecs = []\n",
        "activations = ['LeakyReLU', 'ReLU', 'Tanh', 'Sigmoid', 'Linear']\n",
        "for activ in activations:\n",
        "    a = activ.lower() if activ != 'LeakyReLU' else activ\n",
        "    aa = init_autoencoder([128, 64], a)\n",
        "    aa.fit(train[:100000, :], train[:100000, :], verbose=True, validation_split=0.1, epochs=30, shuffle=True, batch_size=64)\n",
        "    aecs.append(aa)"
      ],
      "execution_count": null,
      "outputs": [
        {
          "output_type": "stream",
          "text": [
            "Epoch 1/30\n",
            "1407/1407 [==============================] - 3s 2ms/step - loss: 7.7671 - val_loss: 2.1363\n",
            "Epoch 2/30\n",
            "1407/1407 [==============================] - 2s 2ms/step - loss: 2.1162 - val_loss: 1.9943\n",
            "Epoch 3/30\n",
            "1407/1407 [==============================] - 2s 1ms/step - loss: 2.0127 - val_loss: 1.9438\n",
            "Epoch 4/30\n",
            "1407/1407 [==============================] - 2s 1ms/step - loss: 1.9877 - val_loss: 1.9700\n",
            "Epoch 5/30\n",
            "1407/1407 [==============================] - 2s 1ms/step - loss: 1.9755 - val_loss: 1.9309\n",
            "Epoch 6/30\n",
            "1407/1407 [==============================] - 2s 1ms/step - loss: 1.9715 - val_loss: 1.9502\n",
            "Epoch 7/30\n",
            "1407/1407 [==============================] - 2s 1ms/step - loss: 1.9664 - val_loss: 1.9269\n",
            "Epoch 8/30\n",
            "1407/1407 [==============================] - 2s 1ms/step - loss: 1.9625 - val_loss: 1.9272\n",
            "Epoch 9/30\n",
            "1407/1407 [==============================] - 2s 1ms/step - loss: 1.9637 - val_loss: 1.9237\n",
            "Epoch 10/30\n",
            "1407/1407 [==============================] - 2s 1ms/step - loss: 1.9567 - val_loss: 1.9260\n",
            "Epoch 11/30\n",
            "1407/1407 [==============================] - 2s 1ms/step - loss: 1.9534 - val_loss: 1.9155\n",
            "Epoch 12/30\n",
            "1407/1407 [==============================] - 2s 1ms/step - loss: 1.9602 - val_loss: 1.9154\n",
            "Epoch 13/30\n",
            "1407/1407 [==============================] - 2s 1ms/step - loss: 1.9547 - val_loss: 1.9116\n",
            "Epoch 14/30\n",
            "1407/1407 [==============================] - 2s 1ms/step - loss: 1.9488 - val_loss: 1.9022\n",
            "Epoch 15/30\n",
            "1407/1407 [==============================] - 2s 2ms/step - loss: 1.9505 - val_loss: 1.9124\n",
            "Epoch 16/30\n",
            "1407/1407 [==============================] - 2s 2ms/step - loss: 1.9534 - val_loss: 1.9061\n",
            "Epoch 17/30\n",
            "1407/1407 [==============================] - 2s 1ms/step - loss: 1.9422 - val_loss: 1.8981\n",
            "Epoch 18/30\n",
            "1407/1407 [==============================] - 2s 1ms/step - loss: 1.9435 - val_loss: 1.9124\n",
            "Epoch 19/30\n",
            "1407/1407 [==============================] - 2s 1ms/step - loss: 1.9416 - val_loss: 1.9125\n",
            "Epoch 20/30\n",
            "1407/1407 [==============================] - 2s 1ms/step - loss: 1.9411 - val_loss: 1.8968\n",
            "Epoch 21/30\n",
            "1407/1407 [==============================] - 2s 1ms/step - loss: 1.9393 - val_loss: 1.8958\n",
            "Epoch 22/30\n",
            "1407/1407 [==============================] - 2s 1ms/step - loss: 1.9385 - val_loss: 1.8957\n",
            "Epoch 23/30\n",
            "1407/1407 [==============================] - 2s 1ms/step - loss: 1.9385 - val_loss: 1.8898\n",
            "Epoch 24/30\n",
            "1407/1407 [==============================] - 2s 1ms/step - loss: 1.9351 - val_loss: 1.8938\n",
            "Epoch 25/30\n",
            "1407/1407 [==============================] - 2s 1ms/step - loss: 1.9384 - val_loss: 1.8909\n",
            "Epoch 26/30\n",
            "1407/1407 [==============================] - 2s 1ms/step - loss: 1.9320 - val_loss: 1.8928\n",
            "Epoch 27/30\n",
            "1407/1407 [==============================] - 2s 1ms/step - loss: 1.9328 - val_loss: 1.8873\n",
            "Epoch 28/30\n",
            "1407/1407 [==============================] - 2s 1ms/step - loss: 1.9328 - val_loss: 1.8860\n",
            "Epoch 29/30\n",
            "1407/1407 [==============================] - 2s 1ms/step - loss: 1.9277 - val_loss: 1.8854\n",
            "Epoch 30/30\n",
            "1407/1407 [==============================] - 2s 1ms/step - loss: 1.9257 - val_loss: 1.8811\n",
            "Epoch 1/30\n",
            "1407/1407 [==============================] - 3s 2ms/step - loss: 8.0896 - val_loss: 2.0732\n",
            "Epoch 2/30\n",
            "1407/1407 [==============================] - 2s 1ms/step - loss: 2.0895 - val_loss: 1.9710\n",
            "Epoch 3/30\n",
            "1407/1407 [==============================] - 2s 1ms/step - loss: 1.9983 - val_loss: 1.9395\n",
            "Epoch 4/30\n",
            "1407/1407 [==============================] - 2s 1ms/step - loss: 1.9789 - val_loss: 1.9251\n",
            "Epoch 5/30\n",
            "1407/1407 [==============================] - 2s 1ms/step - loss: 1.9765 - val_loss: 1.9213\n",
            "Epoch 6/30\n",
            "1407/1407 [==============================] - 2s 1ms/step - loss: 1.9698 - val_loss: 1.9258\n",
            "Epoch 7/30\n",
            "1407/1407 [==============================] - 2s 1ms/step - loss: 1.9683 - val_loss: 1.9144\n",
            "Epoch 8/30\n",
            "1407/1407 [==============================] - 2s 1ms/step - loss: 1.9627 - val_loss: 1.9425\n",
            "Epoch 9/30\n",
            "1407/1407 [==============================] - 2s 1ms/step - loss: 1.9595 - val_loss: 1.9139\n",
            "Epoch 10/30\n",
            "1407/1407 [==============================] - 2s 1ms/step - loss: 1.9630 - val_loss: 1.9140\n",
            "Epoch 11/30\n",
            "1407/1407 [==============================] - 2s 1ms/step - loss: 1.9513 - val_loss: 1.9236\n",
            "Epoch 12/30\n",
            "1407/1407 [==============================] - 2s 1ms/step - loss: 1.9569 - val_loss: 1.9094\n",
            "Epoch 13/30\n",
            "1407/1407 [==============================] - 2s 1ms/step - loss: 1.9533 - val_loss: 1.9110\n",
            "Epoch 14/30\n",
            "1407/1407 [==============================] - 2s 1ms/step - loss: 1.9490 - val_loss: 1.9103\n",
            "Epoch 15/30\n",
            "1407/1407 [==============================] - 2s 1ms/step - loss: 1.9491 - val_loss: 1.9108\n",
            "Epoch 16/30\n",
            "1407/1407 [==============================] - 2s 1ms/step - loss: 1.9439 - val_loss: 1.9238\n",
            "Epoch 17/30\n",
            "1407/1407 [==============================] - 2s 1ms/step - loss: 1.9485 - val_loss: 1.9005\n",
            "Epoch 18/30\n",
            "1407/1407 [==============================] - 2s 1ms/step - loss: 1.9470 - val_loss: 1.9099\n",
            "Epoch 19/30\n",
            "1407/1407 [==============================] - 2s 1ms/step - loss: 1.9421 - val_loss: 1.9025\n",
            "Epoch 20/30\n",
            "1407/1407 [==============================] - 2s 1ms/step - loss: 1.9404 - val_loss: 1.9022\n",
            "Epoch 21/30\n",
            "1407/1407 [==============================] - 2s 1ms/step - loss: 1.9399 - val_loss: 1.9070\n",
            "Epoch 22/30\n",
            "1407/1407 [==============================] - 2s 1ms/step - loss: 1.9375 - val_loss: 1.8930\n",
            "Epoch 23/30\n",
            "1407/1407 [==============================] - 2s 1ms/step - loss: 1.9384 - val_loss: 1.9117\n",
            "Epoch 24/30\n",
            "1407/1407 [==============================] - 2s 2ms/step - loss: 1.9395 - val_loss: 1.9057\n",
            "Epoch 25/30\n",
            "1407/1407 [==============================] - 2s 1ms/step - loss: 1.9303 - val_loss: 1.8930\n",
            "Epoch 26/30\n",
            "1407/1407 [==============================] - 2s 1ms/step - loss: 1.9311 - val_loss: 1.8791\n",
            "Epoch 27/30\n",
            "1407/1407 [==============================] - 2s 1ms/step - loss: 1.9272 - val_loss: 1.8879\n",
            "Epoch 28/30\n",
            "1407/1407 [==============================] - 2s 1ms/step - loss: 1.9365 - val_loss: 1.8858\n",
            "Epoch 29/30\n",
            "1407/1407 [==============================] - 2s 1ms/step - loss: 1.9294 - val_loss: 1.8863\n",
            "Epoch 30/30\n",
            "1407/1407 [==============================] - 2s 1ms/step - loss: 1.9320 - val_loss: 1.8801\n",
            "Epoch 1/30\n",
            "1407/1407 [==============================] - 3s 2ms/step - loss: 11.2414 - val_loss: 5.6304\n",
            "Epoch 2/30\n",
            "1407/1407 [==============================] - 2s 1ms/step - loss: 5.2088 - val_loss: 3.7791\n",
            "Epoch 3/30\n",
            "1407/1407 [==============================] - 2s 1ms/step - loss: 3.6953 - val_loss: 3.1998\n",
            "Epoch 4/30\n",
            "1407/1407 [==============================] - 2s 1ms/step - loss: 3.1979 - val_loss: 2.8829\n",
            "Epoch 5/30\n",
            "1407/1407 [==============================] - 2s 1ms/step - loss: 2.8831 - val_loss: 2.7220\n",
            "Epoch 6/30\n",
            "1407/1407 [==============================] - 2s 1ms/step - loss: 2.7370 - val_loss: 2.6031\n",
            "Epoch 7/30\n",
            "1407/1407 [==============================] - 2s 1ms/step - loss: 2.6401 - val_loss: 2.5349\n",
            "Epoch 8/30\n",
            "1407/1407 [==============================] - 2s 1ms/step - loss: 2.5630 - val_loss: 2.4745\n",
            "Epoch 9/30\n",
            "1407/1407 [==============================] - 2s 1ms/step - loss: 2.5109 - val_loss: 2.4481\n",
            "Epoch 10/30\n",
            "1407/1407 [==============================] - 2s 1ms/step - loss: 2.4945 - val_loss: 2.4492\n",
            "Epoch 11/30\n",
            "1407/1407 [==============================] - 2s 1ms/step - loss: 2.4815 - val_loss: 2.4246\n",
            "Epoch 12/30\n",
            "1407/1407 [==============================] - 2s 1ms/step - loss: 2.4735 - val_loss: 2.4295\n",
            "Epoch 13/30\n",
            "1407/1407 [==============================] - 2s 1ms/step - loss: 2.4640 - val_loss: 2.4248\n",
            "Epoch 14/30\n",
            "1407/1407 [==============================] - 2s 1ms/step - loss: 2.4553 - val_loss: 2.4136\n",
            "Epoch 15/30\n",
            "1407/1407 [==============================] - 2s 1ms/step - loss: 2.4601 - val_loss: 2.4169\n",
            "Epoch 16/30\n",
            "1407/1407 [==============================] - 2s 1ms/step - loss: 2.4543 - val_loss: 2.4120\n",
            "Epoch 17/30\n",
            "1407/1407 [==============================] - 2s 1ms/step - loss: 2.4404 - val_loss: 2.3656\n",
            "Epoch 18/30\n",
            "1407/1407 [==============================] - 2s 1ms/step - loss: 2.3940 - val_loss: 2.3460\n",
            "Epoch 19/30\n",
            "1407/1407 [==============================] - 2s 1ms/step - loss: 2.3905 - val_loss: 2.3494\n",
            "Epoch 20/30\n",
            "1407/1407 [==============================] - 2s 1ms/step - loss: 2.3829 - val_loss: 2.3366\n",
            "Epoch 21/30\n",
            "1407/1407 [==============================] - 2s 2ms/step - loss: 2.3813 - val_loss: 2.3418\n",
            "Epoch 22/30\n",
            "1407/1407 [==============================] - 2s 1ms/step - loss: 2.3812 - val_loss: 2.3310\n",
            "Epoch 23/30\n",
            "1407/1407 [==============================] - 2s 2ms/step - loss: 2.3757 - val_loss: 2.3256\n",
            "Epoch 24/30\n",
            "1407/1407 [==============================] - 2s 1ms/step - loss: 2.3719 - val_loss: 2.3181\n",
            "Epoch 25/30\n",
            "1407/1407 [==============================] - 2s 1ms/step - loss: 2.3724 - val_loss: 2.3417\n",
            "Epoch 26/30\n",
            "1407/1407 [==============================] - 2s 1ms/step - loss: 2.3761 - val_loss: 2.3305\n",
            "Epoch 27/30\n",
            "1407/1407 [==============================] - 2s 1ms/step - loss: 2.3703 - val_loss: 2.3384\n",
            "Epoch 28/30\n",
            "1407/1407 [==============================] - 2s 1ms/step - loss: 2.3688 - val_loss: 2.3304\n",
            "Epoch 29/30\n",
            "1407/1407 [==============================] - 2s 1ms/step - loss: 2.3651 - val_loss: 2.3171\n",
            "Epoch 30/30\n",
            "1407/1407 [==============================] - 2s 2ms/step - loss: 2.3649 - val_loss: 2.3383\n",
            "Epoch 1/30\n",
            "1407/1407 [==============================] - 3s 2ms/step - loss: 11.8283 - val_loss: 6.3988\n",
            "Epoch 2/30\n",
            "1407/1407 [==============================] - 2s 1ms/step - loss: 6.0017 - val_loss: 4.4179\n",
            "Epoch 3/30\n",
            "1407/1407 [==============================] - 2s 1ms/step - loss: 4.2583 - val_loss: 3.3752\n",
            "Epoch 4/30\n",
            "1407/1407 [==============================] - 2s 2ms/step - loss: 3.3389 - val_loss: 2.8367\n",
            "Epoch 5/30\n",
            "1407/1407 [==============================] - 2s 2ms/step - loss: 2.8517 - val_loss: 2.5608\n",
            "Epoch 6/30\n",
            "1407/1407 [==============================] - 2s 2ms/step - loss: 2.6000 - val_loss: 2.4006\n",
            "Epoch 7/30\n",
            "1407/1407 [==============================] - 2s 1ms/step - loss: 2.4560 - val_loss: 2.2999\n",
            "Epoch 8/30\n",
            "1407/1407 [==============================] - 2s 2ms/step - loss: 2.3567 - val_loss: 2.2397\n",
            "Epoch 9/30\n",
            "1407/1407 [==============================] - 2s 1ms/step - loss: 2.2957 - val_loss: 2.1907\n",
            "Epoch 10/30\n",
            "1407/1407 [==============================] - 2s 1ms/step - loss: 2.2375 - val_loss: 2.1570\n",
            "Epoch 11/30\n",
            "1407/1407 [==============================] - 2s 1ms/step - loss: 2.2073 - val_loss: 2.1288\n",
            "Epoch 12/30\n",
            "1407/1407 [==============================] - 2s 2ms/step - loss: 2.1862 - val_loss: 2.1093\n",
            "Epoch 13/30\n",
            "1407/1407 [==============================] - 2s 2ms/step - loss: 2.1621 - val_loss: 2.0922\n",
            "Epoch 14/30\n",
            "1407/1407 [==============================] - 2s 1ms/step - loss: 2.1440 - val_loss: 2.0803\n",
            "Epoch 15/30\n",
            "1407/1407 [==============================] - 2s 1ms/step - loss: 2.1316 - val_loss: 2.0666\n",
            "Epoch 16/30\n",
            "1407/1407 [==============================] - 2s 2ms/step - loss: 2.1211 - val_loss: 2.0559\n",
            "Epoch 17/30\n",
            "1407/1407 [==============================] - 2s 2ms/step - loss: 2.1092 - val_loss: 2.0455\n",
            "Epoch 18/30\n",
            "1407/1407 [==============================] - 2s 2ms/step - loss: 2.0954 - val_loss: 2.0377\n",
            "Epoch 19/30\n",
            "1407/1407 [==============================] - 2s 1ms/step - loss: 2.0877 - val_loss: 2.0314\n",
            "Epoch 20/30\n",
            "1407/1407 [==============================] - 2s 1ms/step - loss: 2.0822 - val_loss: 2.0224\n",
            "Epoch 21/30\n",
            "1407/1407 [==============================] - 2s 1ms/step - loss: 2.0690 - val_loss: 2.0145\n",
            "Epoch 22/30\n",
            "1407/1407 [==============================] - 2s 1ms/step - loss: 2.0660 - val_loss: 2.0118\n",
            "Epoch 23/30\n",
            "1407/1407 [==============================] - 2s 1ms/step - loss: 2.0590 - val_loss: 2.0072\n",
            "Epoch 24/30\n",
            "1407/1407 [==============================] - 2s 2ms/step - loss: 2.0569 - val_loss: 2.0054\n",
            "Epoch 25/30\n",
            "1407/1407 [==============================] - 2s 1ms/step - loss: 2.0447 - val_loss: 1.9939\n",
            "Epoch 26/30\n",
            "1407/1407 [==============================] - 2s 1ms/step - loss: 2.0399 - val_loss: 1.9919\n",
            "Epoch 27/30\n",
            "1407/1407 [==============================] - 2s 1ms/step - loss: 2.0430 - val_loss: 1.9909\n",
            "Epoch 28/30\n",
            "1407/1407 [==============================] - 2s 1ms/step - loss: 2.0315 - val_loss: 1.9850\n",
            "Epoch 29/30\n",
            "1407/1407 [==============================] - 2s 1ms/step - loss: 2.0298 - val_loss: 1.9854\n",
            "Epoch 30/30\n",
            "1407/1407 [==============================] - 2s 1ms/step - loss: 2.0216 - val_loss: 1.9777\n",
            "Epoch 1/30\n",
            "1407/1407 [==============================] - 3s 2ms/step - loss: 8.0029 - val_loss: 2.0961\n",
            "Epoch 2/30\n",
            "1407/1407 [==============================] - 2s 1ms/step - loss: 2.0834 - val_loss: 1.9387\n",
            "Epoch 3/30\n",
            "1407/1407 [==============================] - 2s 1ms/step - loss: 1.9727 - val_loss: 1.9195\n",
            "Epoch 4/30\n",
            "1407/1407 [==============================] - 2s 2ms/step - loss: 1.9565 - val_loss: 1.9014\n",
            "Epoch 5/30\n",
            "1407/1407 [==============================] - 2s 1ms/step - loss: 1.9495 - val_loss: 1.9010\n",
            "Epoch 6/30\n",
            "1407/1407 [==============================] - 2s 1ms/step - loss: 1.9391 - val_loss: 1.8953\n",
            "Epoch 7/30\n",
            "1407/1407 [==============================] - 2s 1ms/step - loss: 1.9434 - val_loss: 1.8868\n",
            "Epoch 8/30\n",
            "1407/1407 [==============================] - 2s 2ms/step - loss: 1.9414 - val_loss: 1.8953\n",
            "Epoch 9/30\n",
            "1407/1407 [==============================] - 2s 1ms/step - loss: 1.9348 - val_loss: 1.8942\n",
            "Epoch 10/30\n",
            "1407/1407 [==============================] - 2s 1ms/step - loss: 1.9377 - val_loss: 1.8861\n",
            "Epoch 11/30\n",
            "1407/1407 [==============================] - 2s 1ms/step - loss: 1.9330 - val_loss: 1.8814\n",
            "Epoch 12/30\n",
            "1407/1407 [==============================] - 2s 1ms/step - loss: 1.9335 - val_loss: 1.8874\n",
            "Epoch 13/30\n",
            "1407/1407 [==============================] - 2s 1ms/step - loss: 1.9296 - val_loss: 1.8789\n",
            "Epoch 14/30\n",
            "1407/1407 [==============================] - 2s 1ms/step - loss: 1.9217 - val_loss: 1.8828\n",
            "Epoch 15/30\n",
            "1407/1407 [==============================] - 2s 2ms/step - loss: 1.9288 - val_loss: 1.8791\n",
            "Epoch 16/30\n",
            "1407/1407 [==============================] - 2s 1ms/step - loss: 1.9269 - val_loss: 1.8785\n",
            "Epoch 17/30\n",
            "1407/1407 [==============================] - 2s 1ms/step - loss: 1.9218 - val_loss: 1.8765\n",
            "Epoch 18/30\n",
            "1407/1407 [==============================] - 2s 2ms/step - loss: 1.9168 - val_loss: 1.8741\n",
            "Epoch 19/30\n",
            "1407/1407 [==============================] - 2s 1ms/step - loss: 1.9171 - val_loss: 1.8724\n",
            "Epoch 20/30\n",
            "1407/1407 [==============================] - 2s 1ms/step - loss: 1.9203 - val_loss: 1.8658\n",
            "Epoch 21/30\n",
            "1407/1407 [==============================] - 2s 2ms/step - loss: 1.9158 - val_loss: 1.8636\n",
            "Epoch 22/30\n",
            "1407/1407 [==============================] - 2s 1ms/step - loss: 1.9114 - val_loss: 1.8699\n",
            "Epoch 23/30\n",
            "1407/1407 [==============================] - 2s 1ms/step - loss: 1.9128 - val_loss: 1.8635\n",
            "Epoch 24/30\n",
            "1407/1407 [==============================] - 2s 1ms/step - loss: 1.9149 - val_loss: 1.8627\n",
            "Epoch 25/30\n",
            "1407/1407 [==============================] - 2s 1ms/step - loss: 1.9103 - val_loss: 1.8580\n",
            "Epoch 26/30\n",
            "1407/1407 [==============================] - 2s 2ms/step - loss: 1.9038 - val_loss: 1.8596\n",
            "Epoch 27/30\n",
            "1407/1407 [==============================] - 2s 2ms/step - loss: 1.9019 - val_loss: 1.8652\n",
            "Epoch 28/30\n",
            "1407/1407 [==============================] - 2s 1ms/step - loss: 1.9014 - val_loss: 1.8624\n",
            "Epoch 29/30\n",
            "1407/1407 [==============================] - 2s 1ms/step - loss: 1.9045 - val_loss: 1.8601\n",
            "Epoch 30/30\n",
            "1407/1407 [==============================] - 2s 1ms/step - loss: 1.9015 - val_loss: 1.8605\n"
          ],
          "name": "stdout"
        }
      ]
    },
    {
      "cell_type": "code",
      "metadata": {
        "colab": {
          "base_uri": "https://localhost:8080/",
          "height": 465
        },
        "id": "UGMLHANdyRPL",
        "outputId": "bdea4278-e24e-4daf-cbec-19f5ff0cfa05"
      },
      "source": [
        "f = plt.figure(figsize=(10, 7))\n",
        "plt.plot(aecs[0].history.history['val_loss'], label='LeakyReLU')\n",
        "plt.plot(aecs[1].history.history['val_loss'], label='ReLU')\n",
        "plt.plot(aecs[2].history.history['val_loss'], label='tanh')\n",
        "plt.plot(aecs[3].history.history['val_loss'], label='sigmoid')\n",
        "plt.plot(aecs[4].history.history['val_loss'], label='linear')\n",
        "plt.legend(fontsize='large')\n",
        "plt.title('MSE для наивного контекстно-зависимого энкодера', size=15)\n",
        "plt.xlabel('Эпоха', size=15)\n",
        "plt.ylabel('MSE', size=15)\n",
        "plt.show()\n",
        "f.savefig('drive/MyDrive/Coursework2021/ae-bert-cont.png')"
      ],
      "execution_count": null,
      "outputs": [
        {
          "output_type": "display_data",
          "data": {
            "image/png": "[encoded data removed]",
            "text/plain": [
              "<Figure size 720x504 with 1 Axes>"
            ]
          },
          "metadata": {
            "tags": []
          }
        }
      ]
    },
    {
      "cell_type": "code",
      "metadata": {
        "colab": {
          "base_uri": "https://localhost:8080/",
          "height": 465
        },
        "id": "ZxHwLu_e0w9s",
        "outputId": "41fd24e3-e11f-4ff3-a547-44aaf353cd7a"
      },
      "source": [
        "f = plt.figure(figsize=(10, 7))\n",
        "plt.plot(aec.history.history['loss'], label='128-64')\n",
        "plt.plot(aec2.history.history['loss'], label='128-90-64')\n",
        "plt.plot(aec3.history.history['loss'], label='128-105-80-64')\n",
        "plt.legend(fontsize='xx-large')\n",
        "plt.title('MSE для stacked контекстно-зависимого энкодера', size=15)\n",
        "plt.xlabel('Эпоха', size=15)\n",
        "plt.ylabel('MSE', size=15)\n",
        "plt.show()\n",
        "f.savefig('drive/MyDrive/Coursework2021/ae-bert-cont2.png')"
      ],
      "execution_count": null,
      "outputs": [
        {
          "output_type": "display_data",
          "data": {
            "image/png": "[encoded data removed]",
            "text/plain": [
              "<Figure size 720x504 with 1 Axes>"
            ]
          },
          "metadata": {
            "tags": []
          }
        }
      ]
    },
    {
      "cell_type": "markdown",
      "metadata": {
        "id": "jcJJe_XTr6wq"
      },
      "source": [
        "# Ниже --- на оригининальных экспериментах (base_uncased, 768)"
      ]
    },
    {
      "cell_type": "markdown",
      "metadata": {
        "id": "APusw0VIJQK7"
      },
      "source": [
        "Должно быть 0."
      ]
    },
    {
      "cell_type": "code",
      "metadata": {
        "colab": {
          "base_uri": "https://localhost:8080/"
        },
        "id": "1WpXPlz02Y1g",
        "outputId": "d33c53d8-7020-409c-be2f-3622e77c0ae1"
      },
      "source": [
        "reduced_embeddings = encoder(all_embeddings)\n",
        "\n",
        "def reduce_embedding(word, autoencoder=autoencoder):\n",
        "    return encoder(get_embeddings(word)).numpy()[0]\n",
        "    # return encoder(all_embeddings[all_tokens.index(word)].reshape(1, 768)).numpy()[0]\n",
        "\n",
        "spatial.distance.cosine(reduce_embedding('king') - reduce_embedding('man') + reduce_embedding('woman'), reduce_embedding('queen'))"
      ],
      "execution_count": null,
      "outputs": [
        {
          "output_type": "execute_result",
          "data": {
            "text/plain": [
              "0.039967238903045654"
            ]
          },
          "metadata": {
            "tags": []
          },
          "execution_count": 64
        }
      ]
    },
    {
      "cell_type": "code",
      "metadata": {
        "colab": {
          "base_uri": "https://localhost:8080/"
        },
        "id": "mg4hOnXmWUEo",
        "outputId": "da353e9b-3c17-4c6e-fdf8-89a64e92b83a"
      },
      "source": [
        "spatial.distance.cosine(reduce_embedding('king') - reduce_embedding('man') + reduce_embedding('raining'), reduce_embedding('queen'))"
      ],
      "execution_count": null,
      "outputs": [
        {
          "output_type": "execute_result",
          "data": {
            "text/plain": [
              "0.15001028776168823"
            ]
          },
          "metadata": {
            "tags": []
          },
          "execution_count": 126
        }
      ]
    },
    {
      "cell_type": "markdown",
      "metadata": {
        "id": "G0ELVrC9WX5T"
      },
      "source": [
        "Должно быть 1."
      ]
    },
    {
      "cell_type": "code",
      "metadata": {
        "colab": {
          "base_uri": "https://localhost:8080/"
        },
        "id": "X8oU7Y_J4feu",
        "outputId": "6fb3595c-2b6c-42b8-f83c-b009f9acf44d"
      },
      "source": [
        "reduced_embeddings.numpy().mean(axis=0)"
      ],
      "execution_count": null,
      "outputs": [
        {
          "output_type": "execute_result",
          "data": {
            "text/plain": [
              "array([-0.01662267,  0.9999345 , -0.55297816, -0.02291703,  0.16634402,\n",
              "       -0.924784  , -0.11784021, -0.11145473,  0.17365946, -0.99895155,\n",
              "       -1.        , -1.        ,  0.9348011 ,  0.6295178 , -0.01060687,\n",
              "        0.19058064, -0.06295379,  0.09374467,  0.12911892,  0.9348011 ,\n",
              "        0.7446825 ,  0.30369976, -0.12631159, -0.9999345 ,  0.08297139,\n",
              "        0.79676825, -0.13369876, -0.09985589,  0.6179805 ,  0.3636957 ],\n",
              "      dtype=float32)"
            ]
          },
          "metadata": {
            "tags": []
          },
          "execution_count": 127
        }
      ]
    },
    {
      "cell_type": "markdown",
      "metadata": {
        "id": "j-mgKSqVWki9"
      },
      "source": [
        "Треть элементов в векторах даже не сдвинулись с нуля."
      ]
    },
    {
      "cell_type": "code",
      "metadata": {
        "colab": {
          "base_uri": "https://localhost:8080/"
        },
        "id": "j5rPBb3LD_NV",
        "outputId": "0cc05cdb-80c2-48ba-c8a4-1b3dfba75eac"
      },
      "source": [
        "# Checking property of king - man + woman = queen\n",
        "\n",
        "property_check = {}\n",
        "\n",
        "for word in ['king', 'queen', 'man', 'woman']:\n",
        "    embs = get_embeddings(f'i can see a {word} over there')\n",
        "    property_check[word] = embs[4]\n",
        "\n",
        "_a = lambda x: property_check[x]\n",
        "\n",
        "spatial.distance.cosine(_a('king') - _a('man') + _a('woman'), _a('queen'))"
      ],
      "execution_count": null,
      "outputs": [
        {
          "output_type": "execute_result",
          "data": {
            "text/plain": [
              "0.09832602739334106"
            ]
          },
          "metadata": {
            "tags": []
          },
          "execution_count": 128
        }
      ]
    },
    {
      "cell_type": "markdown",
      "metadata": {
        "id": "g3UyrwDjJT1J"
      },
      "source": [
        "# Проверяю воспроизводимость BERT\n",
        "\n",
        "Верно ли вообще, что king - man + woman = queen?"
      ]
    },
    {
      "cell_type": "code",
      "metadata": {
        "colab": {
          "base_uri": "https://localhost:8080/"
        },
        "id": "Kes9j50kJhCH",
        "outputId": "9c4ccdad-a329-4eb6-a354-7f617ad956a5"
      },
      "source": [
        "a = get_embeddings_from_last('king')\n",
        "b = get_embeddings_from_last('queen')\n",
        "np.mean((a - b) ** 2, axis=1)\n",
        "spatial.distance.cosine(a[-1], b[-1])"
      ],
      "execution_count": null,
      "outputs": [
        {
          "output_type": "execute_result",
          "data": {
            "text/plain": [
              "0.13561415672302246"
            ]
          },
          "metadata": {
            "tags": []
          },
          "execution_count": 72
        }
      ]
    },
    {
      "cell_type": "code",
      "metadata": {
        "colab": {
          "base_uri": "https://localhost:8080/"
        },
        "id": "NQ7w7BhoJktc",
        "outputId": "4ab6392e-7d24-49df-bc1e-4e9e65ff3d26"
      },
      "source": [
        "embs = []\n",
        "for word in ['boy', 'beauty', 'guy', 'woman']:\n",
        "    embs.append(get_embeddings_from_last(f'the {word} passed a law'))\n",
        "\n",
        "print('boy vs guy in same context:', cosine(embs[2][1], embs[0][1]))\n",
        "print('boy vs beauty in same context:', cosine(embs[0][1], embs[1][1]))"
      ],
      "execution_count": null,
      "outputs": [
        {
          "output_type": "stream",
          "text": [
            "boy vs guy in same context: 0.3710305690765381\n",
            "boy vs beauty in same context: 0.3971129059791565\n"
          ],
          "name": "stdout"
        }
      ]
    },
    {
      "cell_type": "code",
      "metadata": {
        "colab": {
          "base_uri": "https://localhost:8080/"
        },
        "id": "Rt9Lgd8rNd7I",
        "outputId": "c6ed7024-ecac-4f70-891b-9b7fd99a0004"
      },
      "source": [
        "embs = []\n",
        "\n",
        "print('boy vs guy in no context:', cosine(get_embeddings_from_last('guy'), get_embeddings_from_last('boy')))\n",
        "print('boy vs beauty in no context:', cosine(get_embeddings_from_last('beauty'), get_embeddings_from_last('boy')))"
      ],
      "execution_count": null,
      "outputs": [
        {
          "output_type": "stream",
          "text": [
            "boy vs guy in no context: 0.19427704811096191\n",
            "boy vs beauty in no context: 0.37730830907821655\n"
          ],
          "name": "stdout"
        }
      ]
    },
    {
      "cell_type": "code",
      "metadata": {
        "colab": {
          "base_uri": "https://localhost:8080/"
        },
        "id": "N2ItJShhNvdE",
        "outputId": "a44b2472-6f37-43f2-a72e-9305907c78f2"
      },
      "source": [
        "embs = []\n",
        "for word in ['boy', 'beauty', 'guy', 'woman']:\n",
        "    embs.append(get_embeddings_from_last(f'i ate the {word}'))\n",
        "\n",
        "print('boy vs guy in same context:', cosine(embs[2][3], embs[0][3]))\n",
        "print('boy vs beauty in same context:', cosine(embs[0][3], embs[1][3]))"
      ],
      "execution_count": null,
      "outputs": [
        {
          "output_type": "stream",
          "text": [
            "boy vs guy in same context: 0.24570775032043457\n",
            "boy vs beauty in same context: 0.3332405686378479\n"
          ],
          "name": "stdout"
        }
      ]
    },
    {
      "cell_type": "code",
      "metadata": {
        "colab": {
          "base_uri": "https://localhost:8080/"
        },
        "id": "NBihWkfdODzt",
        "outputId": "ecbb3357-e687-4a48-e707-7ed0d0efe08d"
      },
      "source": [
        "def cosine(u, v):\n",
        "    return spatial.distance.cosine(u, v), np.mean((u - v) ** 2) ** 0.5\n",
        "\n",
        "embs = {}\n",
        "\n",
        "for word in ['king', 'queen', 'man', 'woman']:\n",
        "    embs[word] = []\n",
        "    embs[word].append(get_embeddings(f'{word}'))\n",
        "    embs[word].append(get_embeddings(f'{word} is the best'))\n",
        "    embs[word].append(get_embeddings(f'we know the {word}'))\n",
        "    embs[word].append(get_embeddings(f'{word} {word}'))\n",
        "\n",
        "print('VARIOUS DISTANCES BETWEEN KING AND QUEEN:')\n",
        "print(cosine(embs['king'][0][0], embs['queen'][0][0]))\n",
        "print(cosine(embs['king'][1][0], embs['queen'][1][0]))\n",
        "print(cosine(embs['king'][2][-1], embs['queen'][2][-1]))\n",
        "print(cosine(embs['king'][3][0], embs['queen'][3][0]))\n",
        "print()\n",
        "\n",
        "print('VARIOUS DISTANCES BETWEEN KING-QUEEN+MAN AND WOMAN (SAME CONTEXT):')\n",
        "print(cosine(embs['king'][0][0] - embs['man'][0][0] + embs['woman'][0][0], embs['queen'][0][0]))\n",
        "print(cosine(embs['king'][1][0] - embs['man'][1][0] + embs['woman'][1][0], embs['queen'][1][0]))\n",
        "print(cosine(embs['king'][2][-1] - embs['man'][2][-1] + embs['woman'][2][-1], embs['queen'][2][-1]))\n",
        "print(cosine(embs['king'][3][0] - embs['man'][3][0] + embs['woman'][3][0], embs['queen'][3][0]))\n",
        "print()\n",
        "\n",
        "print('VARIOUS DISTANCES BETWEEN KING-QUEEN+MAN AND WOMAN (DIFFERENT CONTEXT):')\n",
        "print(cosine(embs['king'][0][0] - embs['man'][1][0] + embs['woman'][2][-1], embs['queen'][3][0]))\n",
        "# print(cosine(embs['king'][1][0] - embs['man'][1][0] + embs['woman'][1][0], embs['queen'][1][0]))\n",
        "# print(cosine(embs['king'][2][-1] - embs['man'][2][-1] + embs['woman'][2][-1], embs['queen'][2][-1]))\n",
        "# print(cosine(embs['king'][3][0] - embs['man'][3][0] + embs['woman'][3][0], embs['queen'][3][0]))\n",
        "print()\n",
        "\n",
        "print('NON-ZERO DISTANCES BETWEEN SAME WORDS (DEPEND ON CONTEXT)')\n",
        "for word in ['king', 'queen', 'man', 'woman']:\n",
        "    print(cosine(embs[word][0][0], embs[word][1][0]))\n",
        "    print(cosine(embs[word][1][0], embs[word][2][-1]))\n",
        "    print(cosine(embs[word][2][-1], embs[word][3][0]))\n",
        "    print(cosine(embs[word][3][0], embs[word][3][1]))\n",
        "    print(cosine(embs[word][3][0], embs[word][0][0]))\n",
        "    print()"
      ],
      "execution_count": null,
      "outputs": [
        {
          "output_type": "stream",
          "text": [
            "VARIOUS DISTANCES BETWEEN KING AND QUEEN:\n",
            "(0.11764466762542725, 1.105831019483693)\n",
            "(0.16463828086853027, 1.3402670589187504)\n",
            "(0.11030858755111694, 1.0856982180205963)\n",
            "(0.1686956286430359, 1.4168673354498114)\n",
            "\n",
            "VARIOUS DISTANCES BETWEEN KING-QUEEN+MAN AND WOMAN (SAME CONTEXT):\n",
            "(0.2166770100593567, 1.5660456292238996)\n",
            "(0.16117733716964722, 1.348344091051062)\n",
            "(0.11721783876419067, 1.1732443882994747)\n",
            "(0.2791459560394287, 2.060554627318059)\n",
            "\n",
            "VARIOUS DISTANCES BETWEEN KING-QUEEN+MAN AND WOMAN (DIFFERENT CONTEXT):\n",
            "(0.6227806210517883, 3.3543426435916883)\n",
            "\n",
            "NON-ZERO DISTANCES BETWEEN SAME WORDS (DEPEND ON CONTEXT)\n",
            "(0.4145054221153259, 2.08452658495257)\n",
            "(0.37392497062683105, 1.9949899745870912)\n",
            "(0.34623342752456665, 1.9753107019677871)\n",
            "(0.2657058835029602, 1.7919402985505226)\n",
            "(0.26635509729385376, 1.7236887633668536)\n",
            "\n",
            "(0.4855496883392334, 2.291434455435265)\n",
            "(0.44787508249282837, 2.213693579154562)\n",
            "(0.4431809186935425, 2.2443184645183987)\n",
            "(0.3137674331665039, 1.9529077027559183)\n",
            "(0.3183577060699463, 1.8935267351437375)\n",
            "\n",
            "(0.5341031551361084, 2.5665567432331104)\n",
            "(0.45843690633773804, 2.2881307430658944)\n",
            "(0.4995381832122803, 2.5174061410903126)\n",
            "(0.2896524667739868, 2.0180039671905208)\n",
            "(0.3382722735404968, 2.138814452831605)\n",
            "\n",
            "(0.416665256023407, 2.1720754407423053)\n",
            "(0.43337053060531616, 2.178946420347821)\n",
            "(0.3775777816772461, 2.123119644279564)\n",
            "(0.2566436529159546, 1.8157978310454526)\n",
            "(0.2689697742462158, 1.816743749622214)\n",
            "\n"
          ],
          "name": "stdout"
        }
      ]
    },
    {
      "cell_type": "code",
      "metadata": {
        "colab": {
          "base_uri": "https://localhost:8080/"
        },
        "id": "S_0e_a7oRQGu",
        "outputId": "21135bb2-d8ed-49c3-f96c-15667a7e1789"
      },
      "source": [
        "print('WORD GREEN IN DIFFERENT CONTEXTS')\n",
        "print(cosine(get_embeddings_from_last('green sofa')[0], get_embeddings_from_last('green chair')[0]))\n",
        "print(cosine(get_embeddings_from_last('green sofa')[0], get_embeddings_from_last('green box')[0]))\n",
        "print(cosine(get_embeddings_from_last('green box')[0], get_embeddings_from_last('light green')[1]))"
      ],
      "execution_count": null,
      "outputs": [
        {
          "output_type": "stream",
          "text": [
            "WORD GREEN IN DIFFERENT CONTEXTS\n",
            "0.12123119831085205\n",
            "0.44215917587280273\n",
            "0.6706148087978363\n"
          ],
          "name": "stdout"
        }
      ]
    },
    {
      "cell_type": "code",
      "metadata": {
        "colab": {
          "base_uri": "https://localhost:8080/"
        },
        "id": "emj1nEc0SyOs",
        "outputId": "b9d7c878-aa16-494d-81ff-03a4f15a2d75"
      },
      "source": [
        "print('WORD GREEN IN DIFFERENT CONTEXTS (sum of four hidden)')\n",
        "print(cosine(get_embeddings('green sofa')[0], get_embeddings('green chair')[0]))\n",
        "print(cosine(get_embeddings('green sofa')[0], get_embeddings('green box')[0]))\n",
        "print(cosine(get_embeddings('green box')[0], get_embeddings('light green')[1]))"
      ],
      "execution_count": null,
      "outputs": [
        {
          "output_type": "stream",
          "text": [
            "WORD GREEN IN DIFFERENT CONTEXTS (sum of four hidden)\n",
            "0.098857581615448\n",
            "0.3535335659980774\n",
            "0.48835980892181396\n"
          ],
          "name": "stdout"
        }
      ]
    },
    {
      "cell_type": "code",
      "metadata": {
        "colab": {
          "base_uri": "https://localhost:8080/"
        },
        "id": "xAAGPQyWXs4c",
        "outputId": "d436eb1b-1090-4a6f-d014-3064e8868630"
      },
      "source": [
        "def cosine(u, v):\n",
        "    return spatial.distance.cosine(u, v), np.mean((u - v) ** 2) ** 0.5\n",
        "\n",
        "embs = {}\n",
        "\n",
        "for word in ['king', 'queen', 'man', 'woman']:\n",
        "    embs[word] = []\n",
        "    embs[word].append(encoder(get_embeddings(f'{word}')).numpy()[0])\n",
        "    embs[word].append(encoder(get_embeddings(f'{word} is the best')).numpy()[0])\n",
        "    embs[word].append(encoder(get_embeddings(f'we know the {word}')).numpy()[-1])\n",
        "    embs[word].append(encoder(get_embeddings(f'{word} {word}')).numpy()[0])\n",
        "\n",
        "print('VARIOUS DISTANCES BETWEEN KING AND QUEEN:')\n",
        "print(cosine(embs['king'][0], embs['queen'][0]))\n",
        "print(cosine(embs['king'][1], embs['queen'][1]))\n",
        "print(cosine(embs['king'][2], embs['queen'][2]))\n",
        "print(cosine(embs['king'][3], embs['queen'][3]))\n",
        "print()\n",
        "\n",
        "print('VARIOUS DISTANCES BETWEEN KING-QUEEN+MAN AND WOMAN (SAME CONTEXT):')\n",
        "print(cosine(embs['king'][0] - embs['man'][0] + embs['woman'][0], embs['queen'][0]))\n",
        "print(cosine(embs['king'][1] - embs['man'][1] + embs['woman'][1], embs['queen'][1]))\n",
        "print(cosine(embs['king'][2] - embs['man'][2] + embs['woman'][2], embs['queen'][2]))\n",
        "print(cosine(embs['king'][3] - embs['man'][3] + embs['woman'][3], embs['queen'][3]))\n",
        "print()\n",
        "\n",
        "print('VARIOUS DISTANCES BETWEEN KING-QUEEN+MAN AND WOMAN (DIFFERENT CONTEXT):')\n",
        "print(cosine(embs['king'][0] - embs['man'][1] + embs['woman'][2], embs['queen'][3]))\n",
        "# print(cosine(embs['king'][1][0] - embs['man'][1][0] + embs['woman'][1][0], embs['queen'][1][0]))\n",
        "# print(cosine(embs['king'][2][-1] - embs['man'][2][-1] + embs['woman'][2][-1], embs['queen'][2][-1]))\n",
        "# print(cosine(embs['king'][3][0] - embs['man'][3][0] + embs['woman'][3][0], embs['queen'][3][0]))\n",
        "print()\n",
        "\n",
        "print('NON-ZERO DISTANCES BETWEEN SAME WORDS (DEPEND ON CONTEXT)')\n",
        "for word in ['king', 'queen', 'man', 'woman']:\n",
        "    print(cosine(embs[word][0], embs[word][1]))\n",
        "    print(cosine(embs[word][1], embs[word][2]))\n",
        "    print(cosine(embs[word][2], embs[word][3]))\n",
        "    print(cosine(embs[word][3], embs[word][3]))\n",
        "    print(cosine(embs[word][3], embs[word][0]))\n",
        "    print()"
      ],
      "execution_count": null,
      "outputs": [
        {
          "output_type": "stream",
          "text": [
            "VARIOUS DISTANCES BETWEEN KING AND QUEEN:\n",
            "(0.03471952676773071, 0.5911668249988083)\n",
            "(0.03196495771408081, 0.44152428728265025)\n",
            "(0.01817035675048828, 0.36047307475273216)\n",
            "(0.018519699573516846, 0.4409981250247325)\n",
            "\n",
            "VARIOUS DISTANCES BETWEEN KING-QUEEN+MAN AND WOMAN (SAME CONTEXT):\n",
            "(0.10986948013305664, 1.0321878734545216)\n",
            "(0.037877440452575684, 0.4812532548670496)\n",
            "(0.028219759464263916, 0.4522282672054851)\n",
            "(0.11279302835464478, 1.1085525472778879)\n",
            "\n",
            "VARIOUS DISTANCES BETWEEN KING-QUEEN+MAN AND WOMAN (DIFFERENT CONTEXT):\n",
            "(0.40068870782852173, 2.1788129248316785)\n",
            "\n",
            "NON-ZERO DISTANCES BETWEEN SAME WORDS (DEPEND ON CONTEXT)\n",
            "(0.24522197246551514, 1.3906634893341439)\n",
            "(0.13141494989395142, 0.9260694481737757)\n",
            "(0.13576346635818481, 1.0890955937746951)\n",
            "(0.0, 0.0)\n",
            "(0.17969214916229248, 1.2836428836606082)\n",
            "\n",
            "(0.27415257692337036, 1.5540259405791526)\n",
            "(0.19970154762268066, 1.1639237289150726)\n",
            "(0.22871029376983643, 1.4550715708745008)\n",
            "(0.0, 0.0)\n",
            "(0.2279752492904663, 1.5284181216206156)\n",
            "\n",
            "(0.3310208320617676, 1.8833333161728218)\n",
            "(0.19154906272888184, 1.0592195132317939)\n",
            "(0.28649431467056274, 1.56656651616414)\n",
            "(0.0, 0.0)\n",
            "(0.22596120834350586, 1.6264317880487755)\n",
            "\n",
            "(0.23180198669433594, 1.536550107467234)\n",
            "(0.14763647317886353, 0.9260728915900045)\n",
            "(0.12714910507202148, 1.1186105161695339)\n",
            "(0.0, 0.0)\n",
            "(0.1739645004272461, 1.372136341827577)\n",
            "\n"
          ],
          "name": "stdout"
        }
      ]
    },
    {
      "cell_type": "markdown",
      "metadata": {
        "id": "PM85jGsQXwS9"
      },
      "source": [
        "Выводы: значительно зависит от контекста. `king - man + woman = queen` в целом проходит проверку, но не очень хорошо и в разных ситуациях по-разному. Есть проблемы с пониманием, что же такое векторное представление BERT и надо ли его пихать в эту задачу."
      ]
    },
    {
      "cell_type": "code",
      "metadata": {
        "id": "JAJRh9uVYA2n"
      },
      "source": [
        "# Далее: \n",
        "# 1. Доделать автоенкодер (дообучить, изменить).\n",
        "# 2. Посмотреть равенства и для PCA, и для автоенкодера.\n",
        "# 3. Пробежать метриками по уменьшенным эмбеддингам.\n",
        "# 4. Обучить w2v."
      ],
      "execution_count": null,
      "outputs": []
    },
    {
      "cell_type": "markdown",
      "metadata": {
        "id": "-e6d7EjLbGAj"
      },
      "source": [
        "Ещё раз PCA"
      ]
    },
    {
      "cell_type": "code",
      "metadata": {
        "colab": {
          "base_uri": "https://localhost:8080/"
        },
        "id": "zBplrsdvbFNe",
        "outputId": "5ef25674-64e4-406d-a1d7-9182f37d3d7a"
      },
      "source": [
        "from sklearn.decomposition import PCA\n",
        "\n",
        "pca = PCA(30)\n",
        "reduced_embeddings_pca = pca.fit_transform(all_embeddings)\n",
        "reduced_embeddings_pca.shape"
      ],
      "execution_count": null,
      "outputs": [
        {
          "output_type": "execute_result",
          "data": {
            "text/plain": [
              "(30522, 30)"
            ]
          },
          "metadata": {
            "tags": []
          },
          "execution_count": 100
        }
      ]
    },
    {
      "cell_type": "code",
      "metadata": {
        "colab": {
          "base_uri": "https://localhost:8080/"
        },
        "id": "Mqh9r5BVd_sd",
        "outputId": "d16a2b07-2108-4e11-e55e-d702b98108e0"
      },
      "source": [
        "cosine(pca.transform(get_embeddings('king')) - pca.transform(get_embeddings('man')) + pca.transform(get_embeddings('woman')),\n",
        "       pca.transform(get_embeddings('queen')))"
      ],
      "execution_count": null,
      "outputs": [
        {
          "output_type": "execute_result",
          "data": {
            "text/plain": [
              "(0.5047992467880249, 4.7646149112048075)"
            ]
          },
          "metadata": {
            "tags": []
          },
          "execution_count": 129
        }
      ]
    }
  ]
}