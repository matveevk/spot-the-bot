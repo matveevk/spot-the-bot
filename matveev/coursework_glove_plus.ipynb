{
  "nbformat": 4,
  "nbformat_minor": 0,
  "metadata": {
    "colab": {
      "name": "coursework-glove_plus",
      "provenance": [],
      "collapsed_sections": [
        "SoD5sbU5Dnag"
      ],
      "toc_visible": true,
      "mount_file_id": "1CoQ82xKk0xcJwet8DHfuLMvTW3_A9CeX",
      "authorship_tag": "ABX9TyN1gtAZ6iemkkULaXgso2xj",
      "include_colab_link": true
    },
    "kernelspec": {
      "name": "python3",
      "display_name": "Python 3"
    },
    "language_info": {
      "name": "python"
    }
  },
  "cells": [
    {
      "cell_type": "markdown",
      "metadata": {
        "id": "view-in-github",
        "colab_type": "text"
      },
      "source": [
        "<a href=\"https://colab.research.google.com/github/matveevk/spot-the-bot/blob/main/matveev/coursework_glove_plus.ipynb\" target=\"_parent\"><img src=\"https://colab.research.google.com/assets/colab-badge.svg\" alt=\"Open In Colab\"/></a>"
      ]
    },
    {
      "cell_type": "code",
      "metadata": {
        "id": "yunTtXE34hEC"
      },
      "source": [
        "import gensim\n",
        "import gensim.downloader\n",
        "import matplotlib.pyplot as plt\n",
        "import numpy as np\n",
        "from collections import Counter\n",
        "from sklearn.metrics import mean_squared_error as mse\n",
        "from tqdm.notebook import tqdm\n",
        "from gensim.parsing.preprocessing import (\n",
        "    preprocess_string,\n",
        "    strip_tags,\n",
        "    strip_punctuation,\n",
        "    strip_multiple_whitespaces,\n",
        "    strip_numeric\n",
        ")\n",
        "\n",
        "import pandas as pd\n",
        "import seaborn as sns\n",
        "\n",
        "from sklearn.decomposition import IncrementalPCA    # inital reduction\n",
        "from sklearn.manifold import TSNE                   # final reduction"
      ],
      "execution_count": null,
      "outputs": []
    },
    {
      "cell_type": "code",
      "metadata": {
        "id": "p50zpX9Om5Kh"
      },
      "source": [
        ""
      ],
      "execution_count": null,
      "outputs": []
    },
    {
      "cell_type": "markdown",
      "metadata": {
        "id": "Y-R-1Kd6m5rl"
      },
      "source": [
        "# Предобученный w2v (glove)"
      ]
    },
    {
      "cell_type": "markdown",
      "metadata": {
        "id": "QmLWRdMu4nE4"
      },
      "source": [
        "## Загрузка модели + векторизирование текста"
      ]
    },
    {
      "cell_type": "code",
      "metadata": {
        "colab": {
          "base_uri": "https://localhost:8080/"
        },
        "id": "TgDDkQ5E4qPY",
        "outputId": "d66ba3d8-7a8d-42fc-85e2-00592b9445f2"
      },
      "source": [
        "list(gensim.downloader.info()['models'].keys())"
      ],
      "execution_count": null,
      "outputs": [
        {
          "output_type": "execute_result",
          "data": {
            "text/plain": [
              "['fasttext-wiki-news-subwords-300',\n",
              " 'conceptnet-numberbatch-17-06-300',\n",
              " 'word2vec-ruscorpora-300',\n",
              " 'word2vec-google-news-300',\n",
              " 'glove-wiki-gigaword-50',\n",
              " 'glove-wiki-gigaword-100',\n",
              " 'glove-wiki-gigaword-200',\n",
              " 'glove-wiki-gigaword-300',\n",
              " 'glove-twitter-25',\n",
              " 'glove-twitter-50',\n",
              " 'glove-twitter-100',\n",
              " 'glove-twitter-200',\n",
              " '__testing_word2vec-matrix-synopsis']"
            ]
          },
          "metadata": {
            "tags": []
          },
          "execution_count": 4
        }
      ]
    },
    {
      "cell_type": "code",
      "metadata": {
        "id": "sjcgEvoD5KLw",
        "colab": {
          "base_uri": "https://localhost:8080/"
        },
        "outputId": "918b25f2-d2a4-4db8-920b-e24f23e9725e"
      },
      "source": [
        "glove_vectors = gensim.downloader.load('glove-wiki-gigaword-50')"
      ],
      "execution_count": null,
      "outputs": [
        {
          "output_type": "stream",
          "text": [
            "[==================================================] 100.0% 66.0/66.0MB downloaded\n"
          ],
          "name": "stdout"
        }
      ]
    },
    {
      "cell_type": "code",
      "metadata": {
        "colab": {
          "base_uri": "https://localhost:8080/"
        },
        "id": "tZWvGm5N3qSn",
        "outputId": "d1d7f3d7-1fef-4192-826c-84c7a4ae946d"
      },
      "source": [
        "glove_vectors.most_similar(positive=['king', 'woman'], negative=['queen'])"
      ],
      "execution_count": null,
      "outputs": [
        {
          "output_type": "execute_result",
          "data": {
            "text/plain": [
              "[('man', 0.857354462146759),\n",
              " ('who', 0.8164044618606567),\n",
              " ('father', 0.8128569722175598),\n",
              " ('death', 0.7859841585159302),\n",
              " ('another', 0.7801331281661987),\n",
              " ('whose', 0.7746530175209045),\n",
              " ('old', 0.7679885029792786),\n",
              " ('victim', 0.7661791443824768),\n",
              " ('him', 0.7624204158782959),\n",
              " ('thought', 0.7570509910583496)]"
            ]
          },
          "metadata": {
            "tags": []
          },
          "execution_count": 14
        }
      ]
    },
    {
      "cell_type": "code",
      "metadata": {
        "colab": {
          "base_uri": "https://localhost:8080/"
        },
        "id": "eWfXQc628AW5",
        "outputId": "b8ef87d4-7e5f-42d5-b222-59b7def5861c"
      },
      "source": [
        "glove_vectors.most_similar(positive=['king', 'woman'], negative=['man'])"
      ],
      "execution_count": null,
      "outputs": [
        {
          "output_type": "execute_result",
          "data": {
            "text/plain": [
              "[('queen', 0.8523603677749634),\n",
              " ('throne', 0.7664334177970886),\n",
              " ('prince', 0.759214460849762),\n",
              " ('daughter', 0.7473883032798767),\n",
              " ('elizabeth', 0.7460220456123352),\n",
              " ('princess', 0.7424569725990295),\n",
              " ('kingdom', 0.7337411642074585),\n",
              " ('monarch', 0.7214490175247192),\n",
              " ('eldest', 0.7184861898422241),\n",
              " ('widow', 0.7099430561065674)]"
            ]
          },
          "metadata": {
            "tags": []
          },
          "execution_count": 15
        }
      ]
    },
    {
      "cell_type": "code",
      "metadata": {
        "colab": {
          "base_uri": "https://localhost:8080/"
        },
        "id": "dZFQ6Q0N_jXH",
        "outputId": "5d82e347-fc7a-4fea-d9c4-d598b78f488b"
      },
      "source": [
        "from gensim.test.utils import datapath\n",
        "\n",
        "results = glove_vectors.evaluate_word_analogies(datapath('questions-words.txt'))\n",
        "results[0]"
      ],
      "execution_count": null,
      "outputs": [
        {
          "output_type": "execute_result",
          "data": {
            "text/plain": [
              "0.463717540798522"
            ]
          },
          "metadata": {
            "tags": []
          },
          "execution_count": 16
        }
      ]
    },
    {
      "cell_type": "code",
      "metadata": {
        "colab": {
          "base_uri": "https://localhost:8080/"
        },
        "id": "9c4454KjEqWk",
        "outputId": "603654f5-f504-4fa2-ebc6-37052683e9bb"
      },
      "source": [
        "for i in range(1, len(results[1])):\n",
        "    y = []\n",
        "    for test in results[1][i]['correct'] + results[1][i]['incorrect']:\n",
        "        try:\n",
        "            best_outputs = [z[0] for z in glove_vectors.most_similar([test[0].lower(), test[3].lower()], [test[1].lower()])[:5]]\n",
        "            y.append(test[2].lower() in best_outputs)\n",
        "            # print(closest, test[2])\n",
        "            # y.append(closest == test[2].lower())\n",
        "        except:\n",
        "            pass\n",
        "    print(np.mean(y), len(y), results[1][i]['section'])"
      ],
      "execution_count": null,
      "outputs": [
        {
          "output_type": "stream",
          "text": [
            "0.7701149425287356 4524 capital-world\n",
            "0.24133663366336633 808 currency\n",
            "0.10903931901094446 2467 city-in-state\n",
            "0.8754940711462451 506 family\n",
            "0.2913306451612903 992 gram1-adjective-to-adverb\n",
            "0.20935960591133004 812 gram2-opposite\n",
            "0.7394894894894894 1332 gram3-comparative\n",
            "0.624777183600713 1122 gram4-superlative\n",
            "0.7007575757575758 1056 gram5-present-participle\n",
            "0.957473420888055 1599 gram6-nationality-adjective\n",
            "0.6051282051282051 1560 gram7-past-tense\n",
            "0.8085585585585585 1332 gram8-plural\n",
            "0.725287356321839 870 gram9-plural-verbs\n",
            "0.6096997690531177 19485 Total accuracy\n"
          ],
          "name": "stdout"
        }
      ]
    },
    {
      "cell_type": "code",
      "metadata": {
        "colab": {
          "base_uri": "https://localhost:8080/"
        },
        "id": "Qln9n0Nv5jrC",
        "outputId": "ec27591c-9f7e-491c-f709-963fa26e819c"
      },
      "source": [
        "glove_vectors.most_similar('moscow')"
      ],
      "execution_count": null,
      "outputs": [
        {
          "output_type": "execute_result",
          "data": {
            "text/plain": [
              "[('kiev', 0.8409875631332397),\n",
              " ('prague', 0.8244465589523315),\n",
              " ('warsaw', 0.8230167031288147),\n",
              " ('russia', 0.820088803768158),\n",
              " ('russian', 0.8137035965919495),\n",
              " ('belgrade', 0.7946885228157043),\n",
              " ('berlin', 0.7849311232566833),\n",
              " ('minsk', 0.7801254987716675),\n",
              " ('kremlin', 0.7750862836837769),\n",
              " ('tehran', 0.7637045383453369)]"
            ]
          },
          "metadata": {
            "tags": []
          },
          "execution_count": 22
        }
      ]
    },
    {
      "cell_type": "code",
      "metadata": {
        "colab": {
          "base_uri": "https://localhost:8080/"
        },
        "id": "H9vnU-RZs9BT",
        "outputId": "9f95417f-a913-403b-dff5-de3e34fda26f"
      },
      "source": [
        "vocab = list(glove_vectors.index2entity)\n",
        "X = glove_vectors.wv[vocab]"
      ],
      "execution_count": null,
      "outputs": [
        {
          "output_type": "stream",
          "text": [
            "/usr/local/lib/python3.7/dist-packages/ipykernel_launcher.py:2: DeprecationWarning: Call to deprecated `wv` (Attribute will be removed in 4.0.0, use self instead).\n",
            "  \n"
          ],
          "name": "stderr"
        }
      ]
    },
    {
      "cell_type": "code",
      "metadata": {
        "colab": {
          "base_uri": "https://localhost:8080/",
          "height": 700
        },
        "id": "3Panw8DJr8y4",
        "outputId": "afd100f3-28a4-436a-a882-f503813d48c5"
      },
      "source": [
        "tsne = TSNE(n_components=2)\n",
        "X_tsne = tsne.fit_transform(X[:2100, :])\n",
        "sns.set_style(\"white\")\n",
        "\n",
        "df = pd.DataFrame(X_tsne, index=vocab[:2100], columns=['x', 'y'])\n",
        "\n",
        "fig = plt.figure(figsize=(12, 8))\n",
        "ax = fig.add_subplot(1, 1, 1)\n",
        "\n",
        "cols = ['blue'] * len(X_tsne)\n",
        "for spec in ['king', 'queen', 'man', 'woman', 'can', 'must', 'should', 'feel', 'hurt']:\n",
        "    cols[vocab.index(spec)] = 'red'\n",
        "\n",
        "ax.scatter(df['x'], df['y'], c=cols)\n",
        "\n",
        "\n",
        "ax.annotate('king', X_tsne[vocab.index('king')], size=20, )\n",
        "ax.annotate('queen', X_tsne[vocab.index('queen')], size=20)\n",
        "ax.annotate('man', X_tsne[vocab.index('man')], size=20)\n",
        "ax.annotate('woman', X_tsne[vocab.index('woman')], size=20)\n",
        "\n",
        "# ax.annotate('brother', X_tsne[vocab.index('brother')], size=20)\n",
        "# ax.annotate('sister', X_tsne[vocab.index('sister')], size=20)\n",
        "\n",
        "ax.annotate('can', X_tsne[vocab.index('can')], size=20)\n",
        "ax.annotate('could', X_tsne[vocab.index('could')], size=20)\n",
        "ax.annotate('must', X_tsne[vocab.index('must')], size=20)\n",
        "ax.annotate('would', X_tsne[vocab.index('would')], size=20)\n",
        "\n",
        "ax.annotate('feel', X_tsne[vocab.index('feel')], size=20)\n",
        "ax.annotate('hurt', X_tsne[vocab.index('hurt')], size=20)\n",
        "\n",
        "\n",
        "# ax.annotate('cheese', X_tsne[vocab.index('cheese')], size=20)\n",
        "# ax.annotate('wine', X_tsne[vocab.index('wine')], size=20)\n",
        "for word, pos in df.iterrows():\n",
        "    if random.randint(0, 1) == 0 and False:\n",
        "        ax.annotate(word, pos)\n",
        "\n",
        "plt.title('Проекции векторов CBOW', size=20)"
      ],
      "execution_count": null,
      "outputs": [
        {
          "output_type": "error",
          "ename": "NameError",
          "evalue": "ignored",
          "traceback": [
            "\u001b[0;31m---------------------------------------------------------------------------\u001b[0m",
            "\u001b[0;31mNameError\u001b[0m                                 Traceback (most recent call last)",
            "\u001b[0;32m<ipython-input-17-f717311383e4>\u001b[0m in \u001b[0;36m<module>\u001b[0;34m()\u001b[0m\n\u001b[1;32m     35\u001b[0m \u001b[0;31m# ax.annotate('wine', X_tsne[vocab.index('wine')], size=20)\u001b[0m\u001b[0;34m\u001b[0m\u001b[0;34m\u001b[0m\u001b[0;34m\u001b[0m\u001b[0m\n\u001b[1;32m     36\u001b[0m \u001b[0;32mfor\u001b[0m \u001b[0mword\u001b[0m\u001b[0;34m,\u001b[0m \u001b[0mpos\u001b[0m \u001b[0;32min\u001b[0m \u001b[0mdf\u001b[0m\u001b[0;34m.\u001b[0m\u001b[0miterrows\u001b[0m\u001b[0;34m(\u001b[0m\u001b[0;34m)\u001b[0m\u001b[0;34m:\u001b[0m\u001b[0;34m\u001b[0m\u001b[0;34m\u001b[0m\u001b[0m\n\u001b[0;32m---> 37\u001b[0;31m     \u001b[0;32mif\u001b[0m \u001b[0mrandom\u001b[0m\u001b[0;34m.\u001b[0m\u001b[0mrandint\u001b[0m\u001b[0;34m(\u001b[0m\u001b[0;36m0\u001b[0m\u001b[0;34m,\u001b[0m \u001b[0;36m1\u001b[0m\u001b[0;34m)\u001b[0m \u001b[0;34m==\u001b[0m \u001b[0;36m0\u001b[0m \u001b[0;32mand\u001b[0m \u001b[0;32mFalse\u001b[0m\u001b[0;34m:\u001b[0m\u001b[0;34m\u001b[0m\u001b[0;34m\u001b[0m\u001b[0m\n\u001b[0m\u001b[1;32m     38\u001b[0m         \u001b[0max\u001b[0m\u001b[0;34m.\u001b[0m\u001b[0mannotate\u001b[0m\u001b[0;34m(\u001b[0m\u001b[0mword\u001b[0m\u001b[0;34m,\u001b[0m \u001b[0mpos\u001b[0m\u001b[0;34m)\u001b[0m\u001b[0;34m\u001b[0m\u001b[0;34m\u001b[0m\u001b[0m\n\u001b[1;32m     39\u001b[0m \u001b[0;34m\u001b[0m\u001b[0m\n",
            "\u001b[0;31mNameError\u001b[0m: name 'random' is not defined"
          ]
        },
        {
          "output_type": "display_data",
          "data": {
            "image/png": "[encoded data removed]",
            "text/plain": [
              "<Figure size 864x576 with 1 Axes>"
            ]
          },
          "metadata": {
            "tags": []
          }
        }
      ]
    },
    {
      "cell_type": "code",
      "metadata": {
        "id": "Tpv32j7o55qq"
      },
      "source": [
        "glove_vectors.word_vec('person')"
      ],
      "execution_count": null,
      "outputs": []
    },
    {
      "cell_type": "code",
      "metadata": {
        "id": "H7e1J_Kg6ey4"
      },
      "source": [
        "with open('drive/MyDrive/Coursework2021/sticked_file.txt', 'r') as f:\n",
        "    sentences = f.read().split('\\n')\n",
        "with open('drive/MyDrive/Coursework2021/big_eng_lstm_2000.txt', 'r') as f:\n",
        "    sentences_g = f.read().split('\\n')"
      ],
      "execution_count": null,
      "outputs": []
    },
    {
      "cell_type": "code",
      "metadata": {
        "id": "K8xqOF0QDjJX"
      },
      "source": [
        "# ПРЕПРОЦЕССИНГ ВЕКТОРОВ ДЛЯ ПРЕДЛОЖЕНИЙ РЕАЛЬНЫХ И ПРЕДЛОЖЕНИЙ СИНТЕТИЧЕСКИХ\n",
        "\n",
        "preprocessing_funcs = [\n",
        "    str.lower,\n",
        "    strip_tags,\n",
        "    strip_punctuation,\n",
        "    strip_multiple_whitespaces,\n",
        "    strip_numeric,\n",
        "    # remove_stopwords,\n",
        "]\n",
        "\n",
        "words_in_data = []\n",
        "embeddings = []\n",
        "bad_words = []\n",
        "\n",
        "words_in_data_g = []\n",
        "embeddings_g = []\n",
        "bad_words_g = []\n",
        "\n",
        "for sentence in tqdm(sentences):\n",
        "    words = preprocess_string(sentence, preprocessing_funcs)\n",
        "    for word in words:\n",
        "        try:\n",
        "            embedding = glove_vectors.word_vec(word)\n",
        "            embeddings.append(embedding)\n",
        "            words_in_data.append(word)\n",
        "        except KeyError:\n",
        "            bad_words.append(word)\n",
        "            embeddings.append(glove_vectors.word_vec('token'))\n",
        "            # print(word, '\\n', sentence, '\\n\\n')\n",
        "\n",
        "\n",
        "for sentence in tqdm(sentences_g):\n",
        "    words = preprocess_string(sentence, preprocessing_funcs)\n",
        "    for word in words:\n",
        "        try:\n",
        "            embedding = glove_vectors.word_vec(word)\n",
        "            embeddings_g.append(embedding)\n",
        "            words_in_data.append(word)\n",
        "        except KeyError:\n",
        "            bad_words_g.append(word)\n",
        "            embeddings_g.append(glove_vectors.word_vec('token'))\n",
        "            # print(word, '\\n', sentence, '\\n\\n')"
      ],
      "execution_count": null,
      "outputs": []
    },
    {
      "cell_type": "code",
      "metadata": {
        "id": "Z7RLueFQV1pW"
      },
      "source": [
        "print('ratio of bad words', len(bad_words) / len(embeddings), f'total {len(bad_words)} out of {len(embeddings)}')\n",
        "print('ratio of bad words', len(bad_words_g) / len(embeddings_g), f'total {len(bad_words_g)} out of {len(embeddings_g)}')"
      ],
      "execution_count": null,
      "outputs": []
    },
    {
      "cell_type": "code",
      "metadata": {
        "id": "5iWYPfaSMQgP"
      },
      "source": [
        "np.save('drive/MyDrive/Coursework2021/glove_embeddings_real.npy', np.asarray(embeddings[:10**6]))\n",
        "np.save('drive/MyDrive/Coursework2021/glove_embeddings_gen.npy', np.asarray(embeddings_g[:10**6]))"
      ],
      "execution_count": null,
      "outputs": []
    },
    {
      "cell_type": "code",
      "metadata": {
        "id": "OmC95eWk6P9g"
      },
      "source": [
        "train_words = words_in_data[10**6: 10**6 + 1_000_000]\n",
        "train_embeddings = np.vstack(embeddings[10**6:10**6 + 1_000_000])\n",
        "# np.save('drive/MyDrive/Coursework2021/glove_preptrain_train_embeddings.npy', train_embeddings)"
      ],
      "execution_count": null,
      "outputs": []
    },
    {
      "cell_type": "code",
      "metadata": {
        "id": "mFszU6kp9ztw"
      },
      "source": [
        "print(len(set(train_words)))\n",
        "Counter(train_words).most_common(10)"
      ],
      "execution_count": null,
      "outputs": []
    },
    {
      "cell_type": "markdown",
      "metadata": {
        "id": "wDHo7J1v4qwV"
      },
      "source": [
        "## Автоенкодер для GLOVE"
      ]
    },
    {
      "cell_type": "code",
      "metadata": {
        "id": "fmfwmPGuV9_T"
      },
      "source": [
        "from keras.layers import InputLayer, Dense\n",
        "from keras.models import Model, Sequential\n",
        "\n",
        "INPUT_DIM = 50\n",
        "OUTPUT_DIM = 16\n",
        "ACTIVATION = 'LeakyReLU'\n",
        "\n",
        "encoder = Sequential([\n",
        "    InputLayer(input_shape=(INPUT_DIM,)),\n",
        "    Dense(OUTPUT_DIM, activation=ACTIVATION)\n",
        "])\n",
        "decoder = Sequential([\n",
        "    InputLayer(input_shape=(OUTPUT_DIM,)),\n",
        "    Dense(INPUT_DIM, activation=None)\n",
        "])\n",
        "autoencoder = Model(inputs=encoder.input, outputs=decoder(encoder.output))\n",
        "autoencoder.compile(loss='mse', optimizer='adam')"
      ],
      "execution_count": null,
      "outputs": []
    },
    {
      "cell_type": "code",
      "metadata": {
        "id": "Nnty5MUk5Bl2"
      },
      "source": [
        "h = autoencoder.fit(train_embeddings, train_embeddings, batch_size=16, epochs=6, verbose=True, validation_split=0.1)\n",
        "\n",
        "print('testing')\n",
        "encoded = autoencoder(np.vstack(embeddings[:10**6]))\n",
        "print(mse(encoded, np.vstack(embeddings[:10**6])))"
      ],
      "execution_count": null,
      "outputs": []
    },
    {
      "cell_type": "markdown",
      "metadata": {
        "id": "5Bvfm4DnCtvD"
      },
      "source": [
        "## Кластеризация сэмпла"
      ]
    },
    {
      "cell_type": "markdown",
      "metadata": {
        "id": "SoD5sbU5Dnag"
      },
      "source": [
        "### Класс Уишарта и его валидации"
      ]
    },
    {
      "cell_type": "code",
      "metadata": {
        "id": "OISSM4hVCvH2"
      },
      "source": [
        "from collections import defaultdict\n",
        "import scipy\n",
        "import numpy as np\n",
        "import sys\n",
        "\n",
        "from itertools import  product\n",
        "from scipy.special import gamma\n",
        "from scipy.spatial.distance import  euclidean\n",
        "from math import sqrt\n",
        "\n",
        "from sklearn.metrics.pairwise import euclidean_distances\n",
        "from sklearn.preprocessing import LabelEncoder\n",
        "from sklearn.neighbors import KDTree\n",
        "\n",
        "from sklearn.metrics import  silhouette_score, davies_bouldin_score, calinski_harabasz_score\n",
        "\n",
        "import gc\n",
        "\n",
        "def volume(r, m):\n",
        "    return np.pi ** (m / 2) * r ** m / gamma(m / 2 + 1)\n",
        "\n",
        "def significant(cluster, h, p):\n",
        "    max_diff = max(abs(p[i] - p[j]) for i, j in product(cluster, cluster))\n",
        "\n",
        "    # print(max_diff)\n",
        "    return max_diff >= h\n",
        "\n",
        "\n",
        "class WishartClusterization:\n",
        "    def __init__(self, wishart_neighbors, significance_level):\n",
        "        self.wishart_neighbors = wishart_neighbors  # Number of neighbors\n",
        "        self.significance_level = significance_level  # Significance level\n",
        "\n",
        "    def fit(self, X):\n",
        "        kdt = KDTree(X, metric='euclidean')\n",
        "        print('KDTree has been built')\n",
        "        #add one because you are your neighb.\n",
        "        distances, neighbors = kdt.query(X, k = self.wishart_neighbors + 1, return_distance = True)\n",
        "        neighbors = neighbors[:, 1:]\n",
        "\n",
        "\n",
        "        distances = distances[:, -1]\n",
        "        print('distances')\n",
        "        print(' '.join(list(map(str, distances))))\n",
        "\n",
        "\n",
        "        indexes = np.argsort(distances)\n",
        "        print('indexes sorted')\n",
        "        print(' '.join(list(map(str, indexes))))\n",
        "\n",
        "        size, dim = X.shape\n",
        "\n",
        "        self.object_labels = np.zeros(size, dtype = int) - 1\n",
        "\n",
        "        #index in tuple\n",
        "        #min_dist, max_dist, flag_to_significant\n",
        "        self.clusters = np.array([(1., 1., 0)])\n",
        "        self.clusters_to_objects = defaultdict(list)\n",
        "        #print('Start clustering')\n",
        "        counter_to_print = 0\n",
        "        for index in indexes:\n",
        "\n",
        "            if counter_to_print % 100000 == 0:\n",
        "                print(counter_to_print)\n",
        "                print(' '.join(list(map(str, self.object_labels))), flush=True)\n",
        "\n",
        "            counter_to_print += 1\n",
        "\n",
        "            neighbors_clusters =\\\n",
        "                np.concatenate([self.object_labels[neighbors[index]], self.object_labels[neighbors[index]]])\n",
        "            unique_clusters = np.unique(neighbors_clusters).astype(int)\n",
        "            unique_clusters = unique_clusters[unique_clusters != -1]\n",
        "\n",
        "\n",
        "            if len(unique_clusters) == 0:\n",
        "                self._create_new_cluster(index, distances[index])\n",
        "            else:\n",
        "                max_cluster = unique_clusters[-1]\n",
        "                min_cluster = unique_clusters[0]\n",
        "                if max_cluster == min_cluster:\n",
        "                    if self.clusters[max_cluster][-1] < 0.5:\n",
        "                        self._add_elem_to_exist_cluster(index, distances[index], max_cluster)\n",
        "                    else:\n",
        "                        self._add_elem_to_noise(index)\n",
        "                else:\n",
        "                    my_clusters = self.clusters[unique_clusters]\n",
        "                    flags = my_clusters[:, -1]\n",
        "                    if np.min(flags) > 0.5:\n",
        "                        self._add_elem_to_noise(index)\n",
        "                    else:\n",
        "                        significan = np.power(my_clusters[:, 0], -dim) - np.power(my_clusters[:, 1], -dim)\n",
        "                        significan *= self.wishart_neighbors\n",
        "                        significan /= size\n",
        "                        significan /= np.power(np.pi, dim / 2)\n",
        "                        significan *= gamma(dim / 2 + 1)\n",
        "                        significan_index = significan >= self.significance_level\n",
        "\n",
        "                        significan_clusters = unique_clusters[significan_index]\n",
        "                        not_significan_clusters = unique_clusters[~significan_index]\n",
        "                        significan_clusters_count = len(significan_clusters)\n",
        "                        if significan_clusters_count > 1 or min_cluster == 0:\n",
        "                            self._add_elem_to_noise(index)\n",
        "                            self.clusters[significan_clusters, -1] = 1\n",
        "                            for not_sig_cluster in not_significan_clusters:\n",
        "                                if not_sig_cluster == 0:\n",
        "                                    continue\n",
        "\n",
        "                                for bad_index in self.clusters_to_objects[not_sig_cluster]:\n",
        "                                    self._add_elem_to_noise(bad_index)\n",
        "                                self.clusters_to_objects[not_sig_cluster].clear()\n",
        "                        else:\n",
        "                            for cur_cluster in unique_clusters:\n",
        "                                if cur_cluster == min_cluster:\n",
        "                                    continue\n",
        "\n",
        "                                for bad_index in self.clusters_to_objects[cur_cluster]:\n",
        "                                    self._add_elem_to_exist_cluster(bad_index, distances[bad_index], min_cluster)\n",
        "                                self.clusters_to_objects[cur_cluster].clear()\n",
        "\n",
        "                            self._add_elem_to_exist_cluster(index, distances[index], min_cluster)\n",
        "        self.labels_ = self.clean_data()\n",
        "        return self.labels_\n",
        "\n",
        "    def clean_data(self):\n",
        "        unique = np.unique(self.object_labels)\n",
        "        index = np.argsort(unique)\n",
        "        if unique[0] != 0:\n",
        "            index += 1\n",
        "        true_cluster = {unq :  index for unq, index in zip(unique, index)}\n",
        "        result = np.zeros(len(self.object_labels), dtype = int)\n",
        "        for index, unq in enumerate(self.object_labels):\n",
        "            result[index] = true_cluster[unq]\n",
        "        return result\n",
        "\n",
        "    def _add_elem_to_noise(self, index):\n",
        "        self.object_labels[index] = 0\n",
        "        self.clusters_to_objects[0].append(index)\n",
        "\n",
        "    def _create_new_cluster(self, index, dist):\n",
        "        self.object_labels[index] = len(self.clusters)\n",
        "        self.clusters_to_objects[len(self.clusters)].append(index)\n",
        "        self.clusters = np.append(self.clusters, [(dist, dist, 0)], axis = 0)\n",
        "\n",
        "    def _add_elem_to_exist_cluster(self, index, dist, cluster_label):\n",
        "        self.object_labels[index] = cluster_label\n",
        "        self.clusters_to_objects[cluster_label].append(index)\n",
        "        self.clusters[cluster_label][0] = min(self.clusters[cluster_label][0], dist)\n",
        "        self.clusters[cluster_label][1] = max(self.clusters[cluster_label][1], dist)"
      ],
      "execution_count": null,
      "outputs": []
    },
    {
      "cell_type": "code",
      "metadata": {
        "id": "kNFcvaloMgF0",
        "colab": {
          "base_uri": "https://localhost:8080/"
        },
        "outputId": "22330e22-72fa-4056-8b4f-6651324fc45d"
      },
      "source": [
        "!git clone https://github.com/jqmviegas/jqm_cvi.git\n",
        "!wget https://raw.githubusercontent.com/iphysresearch/S_Dbw_validity_index/master/S_Dbw.py"
      ],
      "execution_count": null,
      "outputs": [
        {
          "output_type": "stream",
          "text": [
            "Cloning into 'jqm_cvi'...\n",
            "remote: Enumerating objects: 92, done.\u001b[K\n",
            "remote: Total 92 (delta 0), reused 0 (delta 0), pack-reused 92\u001b[K\n",
            "Unpacking objects: 100% (92/92), done.\n",
            "--2021-06-05 18:59:39--  https://raw.githubusercontent.com/iphysresearch/S_Dbw_validity_index/master/S_Dbw.py\n",
            "Resolving raw.githubusercontent.com (raw.githubusercontent.com)... 185.199.108.133, 185.199.109.133, 185.199.110.133, ...\n",
            "Connecting to raw.githubusercontent.com (raw.githubusercontent.com)|185.199.108.133|:443... connected.\n",
            "HTTP request sent, awaiting response... 200 OK\n",
            "Length: 4235 (4.1K) [text/plain]\n",
            "Saving to: ‘S_Dbw.py’\n",
            "\n",
            "S_Dbw.py            100%[===================>]   4.14K  --.-KB/s    in 0s      \n",
            "\n",
            "2021-06-05 18:59:39 (55.6 MB/s) - ‘S_Dbw.py’ saved [4235/4235]\n",
            "\n"
          ],
          "name": "stdout"
        }
      ]
    },
    {
      "cell_type": "code",
      "metadata": {
        "id": "vgcedOerLiVb",
        "colab": {
          "base_uri": "https://localhost:8080/"
        },
        "outputId": "44d1057e-8071-4a4a-ef39-b602a24ff20f"
      },
      "source": [
        "import numpy as np\n",
        "import pandas as pd\n",
        "\n",
        "from scipy.spatial.distance import pdist, squareform\n",
        "from scipy.special import gamma\n",
        "from collections import defaultdict\n",
        "\n",
        "from sklearn import datasets\n",
        "from sklearn.preprocessing import StandardScaler\n",
        "import matplotlib.pyplot as plt\n",
        "from itertools import cycle, islice\n",
        "import seaborn as sns\n",
        "from sklearn.metrics import adjusted_rand_score, silhouette_score\n",
        "from sklearn.metrics import davies_bouldin_score, calinski_harabasz_score\n",
        "from jqm_cvi.jqmcvi import base\n",
        "from S_Dbw import S_Dbw\n",
        "from sklearn.neighbors import NearestNeighbors\n",
        "\n",
        "# utils\n",
        "def volume(r, dim):\n",
        "    \"\"\"\n",
        "    Helper function to calculate volumes of a dim-dimensional spheres with radiuses r\n",
        "    param r: radiuses of a spheres of shape (n_samples,): ndarray\n",
        "    param dim: dimensionality of a sphere: int\n",
        "\n",
        "    Returns:\n",
        "        volumes: ndarray\n",
        "    \"\"\"\n",
        "    dim_const = (np.pi ** (dim / 2)) / gamma(dim / 2 + 1)\n",
        "    return dim_const * (r ** dim)\n",
        "\n",
        "\n",
        "def significant(cluster, h, p):\n",
        "    \"\"\"\n",
        "    Helper function to tell if a cluster is significant\n",
        "    param cluster: vertices in cluster (indexed): list\n",
        "    h: height hyperparameter: double\n",
        "    p: estimated saliency for all points\n",
        "    \"\"\"\n",
        "    p_cluster = p[np.array(cluster)]\n",
        "    pw_difference = np.abs(p_cluster[:, np.newaxis] - p_cluster)\n",
        "    max_diff = pw_difference.max()\n",
        "\n",
        "    # print(max_diff)\n",
        "    return max_diff >= h\n",
        "\n",
        "\n",
        "class ClusterValidation:\n",
        "    def __init__(self, data, labels, dist='euclidean'):\n",
        "        \"\"\"\n",
        "        @param data: ndarray of shape (n_samples, n_features)\n",
        "        @param labels: ndarray of shape (n_samples,), cluster labels for each sample\n",
        "        @param dist: distance metric to use: str or callable; defaults to 'euclidean'\n",
        "        \"\"\"\n",
        "        self.data = data\n",
        "        self.labels = labels\n",
        "        self.dist = dist\n",
        "        self.num_cluster = labels.max() + 1\n",
        "        self.cluster_list = list(range(self.num_cluster))\n",
        "\n",
        "    def RMSSTD(self):\n",
        "        dof = self.data.shape[0] - self.num_cluster\n",
        "        n_features = self.data.shape[1]\n",
        "        result = 0\n",
        "        for cluster in self.cluster_list:\n",
        "            cluster_data = self.data[self.labels == cluster, :]\n",
        "            center = cluster_data.mean(axis=0)\n",
        "            result += ((cluster_data - center) ** 2).sum()\n",
        "\n",
        "        return (result / (dof * n_features)) ** (1 / 2)\n",
        "\n",
        "    def RS(self):\n",
        "        all_mean = ((self.data - self.data.mean(axis=0)) ** 2).sum()\n",
        "        part_mean = 0\n",
        "\n",
        "        for cluster in self.cluster_list:\n",
        "            cluster_data = self.data[self.labels == cluster, :]\n",
        "            center = cluster_data.mean(axis=0)\n",
        "            part_mean += ((cluster_data - center) ** 2).sum()\n",
        "\n",
        "        return (all_mean - part_mean) / all_mean\n",
        "\n",
        "    def hubert(self):\n",
        "        dist_matrix = squareform(pdist(self.data, self.dist))\n",
        "        n = self.data.shape[0]\n",
        "\n",
        "        centers = np.empty((self.num_cluster, self.data.shape[1]))\n",
        "        for cluster in self.cluster_list:\n",
        "            cluster_data = self.data[self.labels == cluster, :]\n",
        "            center = cluster_data.mean(axis=0)\n",
        "            centers[cluster] = center\n",
        "        center_dist = squareform(pdist(centers, self.dist))\n",
        "\n",
        "        result = 0\n",
        "        for i in range(n):\n",
        "            for j in range(n):\n",
        "                result += (dist_matrix[i, j] * center_dist[self.labels[i], self.labels[j]])\n",
        "        return (result * 2) / (n * (n-1)) \n",
        "\n",
        "    def CH(self):\n",
        "        return calinski_harabasz_score(self.data, self.labels)\n",
        "\n",
        "    def I_index(self):\n",
        "        all_mean = np.sqrt(((self.data - self.data.mean(axis=0)) ** 2).sum())\n",
        "        part_mean = 0\n",
        "        centers = np.empty((self.num_cluster, self.data.shape[1]))\n",
        "\n",
        "        for cluster in self.cluster_list:\n",
        "            cluster_data = self.data[self.labels == cluster, :]\n",
        "            center = cluster_data.mean(axis=0)\n",
        "            centers[cluster] = center\n",
        "            part_mean += np.sqrt(((cluster_data - center) ** 2).sum())\n",
        "        center_dist = squareform(pdist(centers, self.dist))\n",
        "\n",
        "        max_center_dist = center_dist.max()\n",
        "\n",
        "        return (all_mean * max_center_dist) / (self.num_cluster * part_mean)\n",
        "\n",
        "    def dunn(self):\n",
        "        return base.dunn_fast(self.data, self.labels)\n",
        "\n",
        "    def silhouette(self):\n",
        "        return silhouette_score(self.data, self.labels)\n",
        "\n",
        "    def davies_bouldin(self):\n",
        "        return davies_bouldin_score(self.data, self.labels)\n",
        "\n",
        "    def xie_beni(self):\n",
        "        n = self.data.shape[0]\n",
        "        part_mean = 0\n",
        "\n",
        "        centers = np.empty((self.num_cluster, self.data.shape[1]))\n",
        "        for cluster in self.cluster_list:\n",
        "            cluster_data = self.data[self.labels == cluster, :]\n",
        "            center = cluster_data.mean(axis=0)\n",
        "            centers[cluster] = center\n",
        "            part_mean += ((cluster_data - center) ** 2).sum()\n",
        "        center_dist = squareform(pdist(centers, self.dist))\n",
        "\n",
        "        center_dist = center_dist + np.diag(np.full_like(center_dist[0], center_dist.max()))\n",
        "\n",
        "        return part_mean / (n * (center_dist.min()**2))\n",
        "\n",
        "    def SD(self):\n",
        "        scat, dis = 0, 0\n",
        "\n",
        "        all_var_vector = np.var(self.data, 0)\n",
        "        all_var = np.sqrt(np.sum(all_var_vector ** 2))\n",
        "        part_var = 0\n",
        "\n",
        "        centers = np.empty((self.num_cluster, self.data.shape[1]))\n",
        "        for cluster in self.cluster_list:\n",
        "            cluster_data = self.data[self.labels == cluster, :]\n",
        "            center = cluster_data.mean(axis=0)\n",
        "            centers[cluster] = center\n",
        "            part_var_vector = np.var(cluster_data, 0)\n",
        "            part_var += np.sqrt((part_var_vector ** 2).sum())\n",
        "        center_dist = squareform(pdist(centers, self.dist))\n",
        "\n",
        "        scat = part_var / (all_var * self.num_cluster)\n",
        "\n",
        "        max_dist = center_dist.max()\n",
        "        min_dist = (center_dist + np.diag(np.full_like(center_dist[0], max_dist))).min()\n",
        "        sum_dist = np.sum(1.0 / np.sum(center_dist, axis=1))\n",
        "\n",
        "        dis = (max_dist * sum_dist) / min_dist\n",
        "\n",
        "        return scat + dis\n",
        "\n",
        "    def S_Dbw(self):\n",
        "        centers = np.empty((self.num_cluster, self.data.shape[1]))\n",
        "        for cluster in self.cluster_list:\n",
        "            cluster_data = self.data[self.labels == cluster, :]\n",
        "            center = cluster_data.mean(axis=0)\n",
        "            centers[cluster] = center\n",
        "\n",
        "        sdbw = S_Dbw(self.data, self.labels, centers)\n",
        "        return sdbw.S_Dbw_result()\n",
        "\n",
        "    def CVNN(self, n_neighbors=10):\n",
        "        com = 0\n",
        "        sep = []\n",
        "        neigh = NearestNeighbors(n_neighbors=n_neighbors)\n",
        "        neigh.fit(self.data)\n",
        "        knbrs = neigh.kneighbors(return_distance=False)\n",
        "\n",
        "        for cluster in self.cluster_list:\n",
        "            cluster_data = self.data[self.labels == cluster, :]\n",
        "            cluster_ind = np.arange(self.data.shape[0])[self.labels == cluster]\n",
        "            n_i = cluster_data.shape[0]\n",
        "            if (n_i > 1):\n",
        "                com += np.sum(pdist(cluster_data, metric=self.dist)) * 2 / (n_i * (n_i-1))\n",
        "            sep.append(np.isin(knbrs[cluster_ind], cluster_ind, invert=True).sum() / (n_i * n_neighbors))\n",
        "\n",
        "        sep = np.max(sep)\n",
        "\n",
        "        return com + sep\n",
        "\n",
        "    def run_all(self, n_neighbors=10, calc_hubert=True):\n",
        "        results = {}\n",
        "        results['rmsstd'] = self.RMSSTD()\n",
        "        results['r-squared'] = self.RS()\n",
        "        if calc_hubert:\n",
        "            results['hubert'] = self.hubert()\n",
        "        results['ch_index'] = self.CH()\n",
        "        results['i_index'] = self.I_index()\n",
        "        try:\n",
        "            results['dunn'] = self.dunn()\n",
        "        except ValueError as e:\n",
        "            print('dunn failed with')\n",
        "            print(e)\n",
        "            results['dunn'] = np.nan\n",
        "        results['silhouette'] = self.silhouette()\n",
        "        results['davies_bouldin'] = self.davies_bouldin()\n",
        "        results['xie_beni'] = self.xie_beni()\n",
        "        results['sd'] = self.SD()\n",
        "        try:\n",
        "            results['s_dbw'] = self.S_Dbw()\n",
        "        except:\n",
        "            results['s_dbw'] = np.nan\n",
        "        results['cvnn'] = self.CVNN(n_neighbors)\n",
        "\n",
        "        return results\n"
      ],
      "execution_count": null,
      "outputs": [
        {
          "output_type": "stream",
          "text": [
            "1.2260036414029734\n"
          ],
          "name": "stdout"
        },
        {
          "output_type": "stream",
          "text": [
            "/usr/local/lib/python3.7/dist-packages/sklearn/utils/deprecation.py:144: FutureWarning: The sklearn.datasets.samples_generator module is  deprecated in version 0.22 and will be removed in version 0.24. The corresponding classes / functions should instead be imported from sklearn.datasets. Anything that cannot be imported from sklearn.datasets is now part of the private API.\n",
            "  warnings.warn(message, FutureWarning)\n"
          ],
          "name": "stderr"
        }
      ]
    },
    {
      "cell_type": "code",
      "metadata": {
        "id": "1p3vMk7O5u8p"
      },
      "source": [
        "from scipy.stats import ranksums, kstest, ks_2samp\n",
        "from scipy.spatial.distance import cdist\n",
        "\n",
        "def cluster_mean_intracluster(X, y):\n",
        "    mean_intracluster_dist = []\n",
        "    for cluster_id in range(len(np.unique(y))):\n",
        "        X_cluster = X[y == cluster_id]\n",
        "        if len(X_cluster) < 2:\n",
        "            mean_intracluster_dist.append(0)\n",
        "            continue\n",
        "        cluster_dist = squareform(pdist(X_cluster))\n",
        "        n = X_cluster.shape[0]\n",
        "        mean_intracluster_dist.append(2 * cluster_dist.sum() / (n * (n - 1)))\n",
        "    return mean_intracluster_dist\n",
        "\n",
        "def cluster_max_intracluster(X, y):\n",
        "    max_intracluster_dist = []\n",
        "    for cluster_id in range(len(np.unique(y))):\n",
        "        X_cluster = X[y == cluster_id]\n",
        "        if len(X_cluster) < 2:\n",
        "            continue\n",
        "        cluster_dist = squareform(pdist(X_cluster))\n",
        "        max_intracluster_dist.append(cluster_dist.max())\n",
        "    return max_intracluster_dist\n",
        "\n",
        "def cluster_centroid_dist(X, y):\n",
        "    centroid_dist = []\n",
        "    for cluster_id in range(len(np.unique(y))):\n",
        "        X_cluster = X[y == cluster_id]\n",
        "        if len(X_cluster) < 2:\n",
        "            continue\n",
        "        centroid = np.mean(X_cluster, axis=0)\n",
        "        c_dist = cdist(X_cluster, centroid.reshape(1, -1))\n",
        "        centroid_dist.append(2 * c_dist.mean())\n",
        "    return centroid_dist\n",
        "\n",
        "def cluster_rmsstd(X, y):\n",
        "    rmsstd_centroid_dist = []\n",
        "    dof = X.shape[0] - len(np.unique(y))\n",
        "    n_feat = X.shape[1]\n",
        "    for cluster_id in range(len(np.unique(y))):\n",
        "        X_cluster = X[y == cluster_id]\n",
        "        if len(X_cluster) < 2:\n",
        "            continue\n",
        "        centroid = np.mean(X_cluster, axis=0)\n",
        "        centroid_dist = cdist(X_cluster, centroid.reshape(1, -1))\n",
        "        rmsstd_centroid_dist.append((centroid_dist.sum() / (dof * n_feat)) ** (0.5))\n",
        "\n",
        "    return rmsstd_centroid_dist\n",
        "\n",
        "def cluster_sd_scat(X, y):\n",
        "    sd_scat = []\n",
        "    all_var_vector = np.var(X, 0)\n",
        "    all_var = np.sqrt(np.sum(all_var_vector ** 2))\n",
        "    for cluster_id in range(len(np.unique(y))):\n",
        "        X_cluster = X[y == cluster_id]\n",
        "        if len(X_cluster) < 2:\n",
        "            continue\n",
        "        part_var_vector = np.var(X_cluster, 0)\n",
        "        sd_scat.append(np.sqrt((part_var_vector ** 2).sum()))\n",
        "    return sd_scat\n",
        "\n",
        "\n",
        "def cluster_silhouette(X, y):\n",
        "    result = []\n",
        "    n_clusters = len(np.unique(y))\n",
        "    for cluster_id in range(n_clusters):\n",
        "        X_cluster = X[y == cluster_id]\n",
        "        if len(X_cluster) < 2:\n",
        "            continue\n",
        "        \n",
        "        cluster_dist = squareform(pdist(X_cluster))\n",
        "        n = X_cluster.shape[0]\n",
        "        a = cluster_dist.sum(axis=1) / (n - 1)\n",
        "        # other clusters\n",
        "        b = None\n",
        "\n",
        "        for other_cluster_id in range(n_clusters):\n",
        "            if other_cluster_id == cluster_id:\n",
        "                continue\n",
        "            X_other_cluster = X[y == other_cluster_id]\n",
        "            between_cluster_dist = cdist(X_cluster, X_other_cluster)\n",
        "            mean_between = between_cluster_dist.mean(axis=1)\n",
        "\n",
        "            if b is None:\n",
        "                b = mean_between\n",
        "            else:\n",
        "                b = np.minimum(b, mean_between)\n",
        "        \n",
        "        result.append(np.mean((b - a) / np.maximum(a, b)) / n_clusters)\n",
        "\n",
        "    return result\n",
        "\n",
        "def cluster_db(X, y):\n",
        "    n_clusters = len(np.unique(y))\n",
        "    intra_dists = np.empty(n_clusters)\n",
        "    centroids = np.empty((n_clusters, len(X[0])), dtype=float)\n",
        "\n",
        "    for cluster_id in range(n_clusters):\n",
        "        X_cluster = X[y == cluster_id]\n",
        "        centroid = np.mean(X_cluster, axis=0)\n",
        "        centroids[cluster_id] = centroid\n",
        "        intra_dists[cluster_id] = np.mean(cdist(X_cluster, centroid.reshape(1, -1)))\n",
        "\n",
        "    centroid_dist = squareform(pdist(centroids))\n",
        "\n",
        "    centroid_dist[centroid_dist == 0] = np.inf\n",
        "    intra_dists_between_clusters = intra_dists[:, None] + intra_dists\n",
        "    scores = np.max(intra_dists_between_clusters / centroid_dist, axis=1)\n",
        "\n",
        "    return scores\n",
        "\n",
        "from sklearn.neighbors import NearestNeighbors\n",
        "def cluster_cvnn_sep(X, y, n_neighbors=10):\n",
        "    n_clusters = len(np.unique(y))\n",
        "    neigh = NearestNeighbors(n_neighbors=n_neighbors)\n",
        "    neigh.fit(X)\n",
        "    knbrs = neigh.kneighbors(return_distance=False)\n",
        "\n",
        "    sep = []\n",
        "\n",
        "    for cluster_id in range(n_clusters):\n",
        "        X_cluster = X[y == cluster_id]\n",
        "        cluster_ind = np.arange(X.shape[0])[y == cluster_id]\n",
        "        n_i = X_cluster.shape[0]\n",
        "        \n",
        "        sep.append(np.isin(knbrs[cluster_ind], cluster_ind, invert=True).sum() / (n_i * n_neighbors))\n",
        "\n",
        "    return sep\n",
        "\n",
        "def run_all_stat_tests(X_real, y_real, X_gen, y_gen):\n",
        "    wilcoxon_res = {}\n",
        "    ks_res = {}\n",
        "    fig, axs = plt.subplots(nrows=3, ncols=3, figsize=(15, 15))\n",
        "\n",
        "    # sizes\n",
        "    _, real_sizes = np.unique(y_real, return_counts=True)\n",
        "    _, gen_sizes = np.unique(y_gen, return_counts=True)\n",
        "    wilcoxon_res['sizes'] = ranksums(real_sizes, gen_sizes)\n",
        "    ks_res['sizes'] = ks_2samp(real_sizes, gen_sizes)\n",
        "\n",
        "    sns.kdeplot(x=real_sizes, label='real', ax=axs[0][0])\n",
        "    sns.kdeplot(x=gen_sizes, label='gen', ax=axs[0][0])\n",
        "    axs[0][0].set_title('Sizes of clusters')\n",
        "    axs[0][0].text(0.01, 0.9,\n",
        "                   'Wilcoxon pvalue = {:.4f}\\nKS pvalue = {:.4f}'.format(\n",
        "                       wilcoxon_res['sizes'].pvalue,\n",
        "                       ks_res['sizes'].pvalue),\n",
        "                   transform=axs[0][0].transAxes)\n",
        "    axs[0][0].legend()\n",
        "\n",
        "    # mean intracluster\n",
        "    stat_real = cluster_mean_intracluster(X_real, y_real)\n",
        "    stat_gen = cluster_mean_intracluster(X_gen, y_gen)\n",
        "    wilcoxon_res['mean_dist'] = ranksums(stat_real, stat_gen)\n",
        "    ks_res['mean_dist'] = ks_2samp(stat_real, stat_gen)\n",
        "\n",
        "    sns.kdeplot(x=stat_real, label='real', ax=axs[0][1])\n",
        "    sns.kdeplot(x=stat_gen, label='gen', ax=axs[0][1])\n",
        "    axs[0][1].set_title('Mean intracluster distance')\n",
        "    axs[0][1].text(0.01, 0.9,\n",
        "                   'Wilcoxon pvalue = {:.4f}\\nKS pvalue = {:.4f}'.format(\n",
        "                       wilcoxon_res['mean_dist'].pvalue,\n",
        "                       ks_res['mean_dist'].pvalue),\n",
        "                   transform=axs[0][1].transAxes)\n",
        "    axs[0][1].legend()\n",
        "\n",
        "    # max intracluster\n",
        "    stat_real = cluster_max_intracluster(X_real, y_real)\n",
        "    stat_gen = cluster_max_intracluster(X_gen, y_gen)\n",
        "    wilcoxon_res['max_dist'] = ranksums(stat_real, stat_gen)\n",
        "    ks_res['max_dist'] = ks_2samp(stat_real, stat_gen)\n",
        "\n",
        "    sns.kdeplot(x=stat_real, label='real', ax=axs[0][2])\n",
        "    sns.kdeplot(x=stat_gen, label='gen', ax=axs[0][2])\n",
        "    axs[0][2].set_title('Max intracluster distance')\n",
        "    axs[0][2].text(0.01, 0.9,\n",
        "                   'Wilcoxon pvalue = {:.4f}\\nKS pvalue = {:.4f}'.format(\n",
        "                       wilcoxon_res['max_dist'].pvalue,\n",
        "                       ks_res['max_dist'].pvalue),\n",
        "                   transform=axs[0][2].transAxes)\n",
        "    axs[0][2].legend()\n",
        "\n",
        "    # centroid dist\n",
        "    stat_real = cluster_centroid_dist(X_real, y_real)\n",
        "    stat_gen = cluster_centroid_dist(X_gen, y_gen)\n",
        "    wilcoxon_res['centroid_dist'] = ranksums(stat_real, stat_gen)\n",
        "    ks_res['centroid_dist'] = ks_2samp(stat_real, stat_gen)\n",
        "\n",
        "    sns.kdeplot(x=stat_real, label='real', ax=axs[1][0])\n",
        "    sns.kdeplot(x=stat_gen, label='gen', ax=axs[1][0])\n",
        "    axs[1][0].set_title('Centroid distance')\n",
        "    axs[1][0].text(0.01, 0.9,\n",
        "                   'Wilcoxon pvalue = {:.4f}\\nKS pvalue = {:.4f}'.format(\n",
        "                       wilcoxon_res['centroid_dist'].pvalue,\n",
        "                       ks_res['centroid_dist'].pvalue),\n",
        "                   transform=axs[1][0].transAxes)\n",
        "    axs[1][0].legend()\n",
        "\n",
        "    # rmsstd compactness\n",
        "    stat_real = cluster_rmsstd(X_real, y_real)\n",
        "    stat_gen = cluster_rmsstd(X_gen, y_gen)\n",
        "    wilcoxon_res['rmsstd'] = ranksums(stat_real, stat_gen)\n",
        "    ks_res['rmsstd'] = ks_2samp(stat_real, stat_gen)\n",
        "\n",
        "    sns.kdeplot(x=stat_real, label='real', ax=axs[1][1])\n",
        "    sns.kdeplot(x=stat_gen, label='gen', ax=axs[1][1])\n",
        "    axs[1][1].set_title('RMSSTD Compactness')\n",
        "    axs[1][1].text(0.01, 0.9,\n",
        "                   'Wilcoxon pvalue = {:.4f}\\nKS pvalue = {:.4f}'.format(\n",
        "                       wilcoxon_res['rmsstd'].pvalue,\n",
        "                       ks_res['rmsstd'].pvalue),\n",
        "                   transform=axs[1][1].transAxes)\n",
        "    axs[1][1].legend()\n",
        "\n",
        "    # sd scattering\n",
        "    stat_real = cluster_sd_scat(X_real, y_real)\n",
        "    stat_gen = cluster_sd_scat(X_gen, y_gen)\n",
        "    wilcoxon_res['sd_scat'] = ranksums(stat_real, stat_gen)\n",
        "    ks_res['sd_scat'] = ks_2samp(stat_real, stat_gen)\n",
        "\n",
        "    sns.kdeplot(x=stat_real, label='real', ax=axs[1][2])\n",
        "    sns.kdeplot(x=stat_gen, label='gen', ax=axs[1][2])\n",
        "    axs[1][2].set_title('SD scattering')\n",
        "    axs[1][2].text(0.01, 0.9,\n",
        "                   'Wilcoxon pvalue = {:.4f}\\nKS pvalue = {:.4f}'.format(\n",
        "                       wilcoxon_res['sd_scat'].pvalue,\n",
        "                       ks_res['sd_scat'].pvalue),\n",
        "                   transform=axs[1][2].transAxes)\n",
        "    axs[1][2].legend()\n",
        "\n",
        "    # silhouette index\n",
        "    stat_real = cluster_silhouette(X_real, y_real)\n",
        "    stat_gen = cluster_silhouette(X_gen, y_gen)\n",
        "    wilcoxon_res['silhouette'] = ranksums(stat_real, stat_gen)\n",
        "    ks_res['silhouette'] = ks_2samp(stat_real, stat_gen)\n",
        "\n",
        "    sns.kdeplot(x=stat_real, label='real', ax=axs[2][0])\n",
        "    sns.kdeplot(x=stat_gen, label='gen', ax=axs[2][0])\n",
        "    axs[2][0].set_title('Silhouette index')\n",
        "    axs[2][0].text(0.01, 0.9,\n",
        "                   'Wilcoxon pvalue = {:.4f}\\nKS pvalue = {:.4f}'.format(\n",
        "                       wilcoxon_res['silhouette'].pvalue,\n",
        "                       ks_res['silhouette'].pvalue),\n",
        "                   transform=axs[2][0].transAxes)\n",
        "    axs[2][0].legend()\n",
        "\n",
        "    # db cluster scores\n",
        "    stat_real = cluster_db(X_real, y_real)\n",
        "    stat_gen = cluster_db(X_gen, y_gen)\n",
        "    wilcoxon_res['db_score'] = ranksums(stat_real, stat_gen)\n",
        "    ks_res['db_score'] = ks_2samp(stat_real, stat_gen)\n",
        "\n",
        "    sns.kdeplot(x=stat_real, label='real', ax=axs[2][1])\n",
        "    sns.kdeplot(x=stat_gen, label='gen', ax=axs[2][1])\n",
        "    axs[2][1].set_title('DB cluster scores')\n",
        "    axs[2][1].text(0.01, 0.9,\n",
        "                   'Wilcoxon pvalue = {:.4f}\\nKS pvalue = {:.4f}'.format(\n",
        "                       wilcoxon_res['db_score'].pvalue,\n",
        "                       ks_res['db_score'].pvalue),\n",
        "                   transform=axs[2][1].transAxes)\n",
        "    axs[2][1].legend()\n",
        "\n",
        "    # cvnn separation\n",
        "    stat_real = cluster_cvnn_sep(X_real, y_real)\n",
        "    stat_gen = cluster_cvnn_sep(X_gen, y_gen)\n",
        "    wilcoxon_res['cvnn_sep'] = ranksums(stat_real, stat_gen)\n",
        "    ks_res['cvnn_sep'] = ks_2samp(stat_real, stat_gen)\n",
        "\n",
        "    sns.kdeplot(x=stat_real, label='real', ax=axs[2][2])\n",
        "    sns.kdeplot(x=stat_gen, label='gen', ax=axs[2][2])\n",
        "    axs[2][2].set_title('CVNN separation')\n",
        "    axs[2][2].text(0.01, 0.9,\n",
        "                   'Wilcoxon pvalue = {:.4f}\\nKS pvalue = {:.4f}'.format(\n",
        "                       wilcoxon_res['cvnn_sep'].pvalue,\n",
        "                       ks_res['cvnn_sep'].pvalue),\n",
        "                   transform=axs[2][2].transAxes)\n",
        "    axs[2][2].legend()\n",
        "\n",
        "    # plt.tight_layout()\n",
        "    plt.show()\n",
        "    return wilcoxon_res, ks_res"
      ],
      "execution_count": null,
      "outputs": []
    },
    {
      "cell_type": "markdown",
      "metadata": {
        "id": "bicuB8BPDqyU"
      },
      "source": [
        "### Результаты"
      ]
    },
    {
      "cell_type": "code",
      "metadata": {
        "id": "tAo6g-YRep0k"
      },
      "source": [
        "from sklearn.decomposition import PCA\n",
        "pca = PCA(16)\n",
        "pca.fit(embeddings[10**6:10**6 + 500_000])"
      ],
      "execution_count": null,
      "outputs": []
    },
    {
      "cell_type": "code",
      "metadata": {
        "id": "ZKuHdgqDGryU"
      },
      "source": [
        "def get_ngrams_from_vectors(X, n=3):\n",
        "    \"\"\"\n",
        "    :param X: данные (n_samples, n_features)\n",
        "    :param n: количество векторов в n-грамме\n",
        "    :return: массив уникальных n-грамм\n",
        "    \"\"\"\n",
        "    X = np.asarray(X)\n",
        "    ngrams = []\n",
        "    for i in range(len(X) - n + 1):\n",
        "        # ngrams.append(encoder(np.asarray(X[i:i + n])).numpy().flatten())\n",
        "        ngrams.append(pca.transform(np.asarray(X[i:i + n])).flatten())\n",
        "    return np.vstack(ngrams)"
      ],
      "execution_count": null,
      "outputs": []
    },
    {
      "cell_type": "code",
      "metadata": {
        "id": "PYX3PPtFRB0x"
      },
      "source": [
        "ngram_series = get_ngrams_from_vectors(embeddings[:5000])\n",
        "ngram_series.shape"
      ],
      "execution_count": null,
      "outputs": []
    },
    {
      "cell_type": "code",
      "metadata": {
        "id": "doevIXjUFqR0"
      },
      "source": [
        "wishart = WishartClusterization(2, 1)\n",
        "labels = wishart.fit(ngram_series)\n",
        "labels"
      ],
      "execution_count": null,
      "outputs": []
    },
    {
      "cell_type": "code",
      "metadata": {
        "id": "aneK8sZKSoVf"
      },
      "source": [
        "Counter(labels).most_common(15)"
      ],
      "execution_count": null,
      "outputs": []
    },
    {
      "cell_type": "code",
      "metadata": {
        "id": "MhIL1B2zwx0q"
      },
      "source": [
        "ngram_series_g = get_ngrams_from_vectors(embeddings_g[:5000])\n",
        "ngram_series_g.shape\n",
        "\n",
        "wishart_g = WishartClusterization(2, 1)\n",
        "labels_g = wishart_g.fit(ngram_series_g)\n",
        "Counter(labels_g).most_common()"
      ],
      "execution_count": null,
      "outputs": []
    },
    {
      "cell_type": "code",
      "metadata": {
        "id": "OQKuiIlHWJJO"
      },
      "source": [
        "cv_real = ClusterValidation(ngram_series_g, labels_g)\n",
        "cv_real.run_all()"
      ],
      "execution_count": null,
      "outputs": []
    },
    {
      "cell_type": "code",
      "metadata": {
        "id": "aWo7izes4NV_"
      },
      "source": [
        "fig, _, _ = run_all_stat_tests(ngram_series, labels, ngram_series_g, labels_g)"
      ],
      "execution_count": null,
      "outputs": []
    },
    {
      "cell_type": "code",
      "metadata": {
        "id": "_CLm4XBJYHNU"
      },
      "source": [
        ""
      ],
      "execution_count": null,
      "outputs": []
    },
    {
      "cell_type": "markdown",
      "metadata": {
        "id": "tzTLgA4asNAI"
      },
      "source": [
        "# Предобученный FastText"
      ]
    },
    {
      "cell_type": "code",
      "metadata": {
        "id": "yzWmmZRwsMga"
      },
      "source": [
        "fasttext_vectors = gensim.downloader.load('fasttext-wiki-news-subwords-300')"
      ],
      "execution_count": null,
      "outputs": []
    },
    {
      "cell_type": "code",
      "metadata": {
        "id": "FrJliRjTskQO"
      },
      "source": [
        "preprocessing_funcs = [\n",
        "    str.lower,\n",
        "    strip_tags,\n",
        "    strip_punctuation,\n",
        "    strip_multiple_whitespaces,\n",
        "    strip_numeric,\n",
        "    # remove_stopwords,\n",
        "]\n",
        "\n",
        "words_in_data = []\n",
        "embeddings = []\n",
        "bad_words = []\n",
        "\n",
        "for sentence in tqdm(sentences):\n",
        "    words = preprocess_string(sentence, preprocessing_funcs)\n",
        "    for word in words:\n",
        "        try:\n",
        "            embedding = fasttext_vectors.word_vec(word)\n",
        "            embeddings.append(embedding)\n",
        "            words_in_data.append(word)\n",
        "        except KeyError:\n",
        "            bad_words.append(word)\n",
        "            # embeddings.append(fasttext_vectors.word_vec('token'))"
      ],
      "execution_count": null,
      "outputs": []
    },
    {
      "cell_type": "code",
      "metadata": {
        "id": "t5pTQv5hsup7"
      },
      "source": [
        "print('ratio of bad words', len(bad_words) / len(embeddings))"
      ],
      "execution_count": null,
      "outputs": []
    },
    {
      "cell_type": "markdown",
      "metadata": {
        "id": "TFCu2XlsB2-r"
      },
      "source": [
        "## Автоенкодер для FastText"
      ]
    },
    {
      "cell_type": "code",
      "metadata": {
        "id": "jDq3Z_lbBhOl"
      },
      "source": [
        "from keras.layers import InputLayer, Dense\n",
        "from keras.models import Model, Sequential\n",
        "\n",
        "INPUT_DIM = 300\n",
        "OUTPUT_DIM = 40\n",
        "ACTIVATION = 'tanh'\n",
        "\n",
        "encoder = Sequential([\n",
        "    InputLayer(input_shape=(INPUT_DIM,)),\n",
        "    Dense(OUTPUT_DIM, activation=ACTIVATION)\n",
        "])\n",
        "decoder = Sequential([\n",
        "    InputLayer(input_shape=(OUTPUT_DIM,)),\n",
        "    Dense(INPUT_DIM, activation=None)\n",
        "])\n",
        "autoencoder = Model(inputs=encoder.input, outputs=decoder(encoder.output))\n",
        "autoencoder.compile(loss='mse', optimizer='adam')"
      ],
      "execution_count": null,
      "outputs": []
    },
    {
      "cell_type": "code",
      "metadata": {
        "id": "cTl4AX6NCGq3"
      },
      "source": [
        "train_words = words_in_data[10**6: 10**6 + 1_000_000]\n",
        "train_embeddings = np.vstack(embeddings[10**6:10**6 + 1_000_000])\n",
        "\n",
        "print(len(set(train_words)))\n",
        "Counter(train_words).most_common(10)"
      ],
      "execution_count": null,
      "outputs": []
    },
    {
      "cell_type": "code",
      "metadata": {
        "id": "o-dwYTYXB-jt"
      },
      "source": [
        "h = autoencoder.fit(train_embeddings, train_embeddings, batch_size=16, epochs=10, verbose=True, validation_split=0.1)"
      ],
      "execution_count": null,
      "outputs": []
    },
    {
      "cell_type": "markdown",
      "metadata": {
        "id": "VXXAUMkqCQe0"
      },
      "source": [
        "## Кластеризация сэмпла"
      ]
    },
    {
      "cell_type": "code",
      "metadata": {
        "id": "uNjkAjrGCP2M"
      },
      "source": [
        ""
      ],
      "execution_count": null,
      "outputs": []
    },
    {
      "cell_type": "markdown",
      "metadata": {
        "id": "5guI05qki8qB"
      },
      "source": [
        "# Кластеризация своего w2v"
      ]
    },
    {
      "cell_type": "code",
      "metadata": {
        "id": "cPqFrYsji-yL"
      },
      "source": [
        "model32_u = gensim.models.KeyedVectors.load_word2vec_format('drive/MyDrive/Coursework2021/cbow/mincnt10_window5_size32_unnormed.kv')"
      ],
      "execution_count": null,
      "outputs": []
    },
    {
      "cell_type": "code",
      "metadata": {
        "id": "uR05zAwEjBsB"
      },
      "source": [
        "sentences = []\n",
        "word_cnt = 0\n",
        "\n",
        "with open('drive/MyDrive/Coursework2021/big_eng_lstm_2000.txt', 'r') as f:\n",
        "    for line in f:\n",
        "        sentences.append(line)\n",
        "        word_cnt += len(line.split())"
      ],
      "execution_count": null,
      "outputs": []
    },
    {
      "cell_type": "code",
      "metadata": {
        "colab": {
          "base_uri": "https://localhost:8080/"
        },
        "id": "G-A9RMutj20S",
        "outputId": "0135e2e6-9189-4054-d6ad-ac8a9d9bdbbe"
      },
      "source": [
        "word_cnt"
      ],
      "execution_count": null,
      "outputs": [
        {
          "output_type": "execute_result",
          "data": {
            "text/plain": [
              "1685238"
            ]
          },
          "metadata": {
            "tags": []
          },
          "execution_count": 8
        }
      ]
    },
    {
      "cell_type": "code",
      "metadata": {
        "id": "mpxwH5V6j3vp"
      },
      "source": [
        ""
      ],
      "execution_count": null,
      "outputs": []
    }
  ]
}